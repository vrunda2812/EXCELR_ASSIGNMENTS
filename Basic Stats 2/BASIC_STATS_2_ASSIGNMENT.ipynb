{
  "nbformat": 4,
  "nbformat_minor": 0,
  "metadata": {
    "colab": {
      "provenance": []
    },
    "kernelspec": {
      "name": "python3",
      "display_name": "Python 3"
    },
    "language_info": {
      "name": "python"
    }
  },
  "cells": [
    {
      "cell_type": "markdown",
      "source": [
        "# SET 2 - Q1"
      ],
      "metadata": {
        "id": "1L8WTp-IC2km"
      }
    },
    {
      "cell_type": "code",
      "execution_count": 1,
      "metadata": {
        "id": "mu1WlYV2BSF1"
      },
      "outputs": [],
      "source": [
        "from scipy import stats\n",
        "from scipy.stats import norm\n",
        "import numpy as np"
      ]
    },
    {
      "cell_type": "code",
      "source": [
        "d =(1- stats.norm.cdf(50, 45,8))\n",
        "print('Probabilty:', d)"
      ],
      "metadata": {
        "id": "XKI2Q8WNBY6m",
        "colab": {
          "base_uri": "https://localhost:8080/"
        },
        "outputId": "b2719f5d-57bc-4c89-ab84-c8dd72d710f3"
      },
      "execution_count": 2,
      "outputs": [
        {
          "output_type": "stream",
          "name": "stdout",
          "text": [
            "Probabilty: 0.26598552904870054\n"
          ]
        }
      ]
    },
    {
      "cell_type": "markdown",
      "source": [
        "# SET 2- Q2 "
      ],
      "metadata": {
        "id": "2bKTzJ_3C7uJ"
      }
    },
    {
      "cell_type": "code",
      "source": [
        "# mean =38/// std dev = 6"
      ],
      "metadata": {
        "id": "c4-oZBHMCvuo"
      },
      "execution_count": 3,
      "outputs": []
    },
    {
      "cell_type": "code",
      "source": [
        "c = 1- stats.norm.cdf(44, 38, 6)\n",
        "print('Probabilty:', c)"
      ],
      "metadata": {
        "colab": {
          "base_uri": "https://localhost:8080/"
        },
        "id": "XCrUjhVZDrUY",
        "outputId": "38ca2eab-1d5c-4660-c724-00711106334f"
      },
      "execution_count": 4,
      "outputs": [
        {
          "output_type": "stream",
          "name": "stdout",
          "text": [
            "Probabilty: 0.15865525393145707\n"
          ]
        }
      ]
    },
    {
      "cell_type": "code",
      "source": [
        "x = stats.norm.cdf(44, 38, 6)-stats.norm.cdf(38, 38, 6)\n",
        "print('Probabilty:', x)"
      ],
      "metadata": {
        "colab": {
          "base_uri": "https://localhost:8080/"
        },
        "id": "oEilhIGaD01K",
        "outputId": "da1033c6-9f4a-45c9-99ec-ba2e23bc56d6"
      },
      "execution_count": 5,
      "outputs": [
        {
          "output_type": "stream",
          "name": "stdout",
          "text": [
            "Probabilty: 0.3413447460685429\n"
          ]
        }
      ]
    },
    {
      "cell_type": "markdown",
      "source": [
        "# SET2 - Q4"
      ],
      "metadata": {
        "id": "kXHvvaEehRV4"
      }
    },
    {
      "cell_type": "code",
      "source": [
        "norm.ppf(0.995, 100, 20)"
      ],
      "metadata": {
        "colab": {
          "base_uri": "https://localhost:8080/"
        },
        "id": "i_fopiOJEp4B",
        "outputId": "41404903-8e3d-48ad-c25c-808b138e0eab"
      },
      "execution_count": 6,
      "outputs": [
        {
          "output_type": "execute_result",
          "data": {
            "text/plain": [
              "151.516586070978"
            ]
          },
          "metadata": {},
          "execution_count": 6
        }
      ]
    },
    {
      "cell_type": "code",
      "source": [
        "norm.ppf(0.005, 100, 20)"
      ],
      "metadata": {
        "colab": {
          "base_uri": "https://localhost:8080/"
        },
        "id": "9Tzfj9ngLE3R",
        "outputId": "51b1b85e-251a-4d15-96f2-3b3c02258956"
      },
      "execution_count": 7,
      "outputs": [
        {
          "output_type": "execute_result",
          "data": {
            "text/plain": [
              "48.483413929021985"
            ]
          },
          "metadata": {},
          "execution_count": 7
        }
      ]
    },
    {
      "cell_type": "markdown",
      "source": [
        "# SET 2 - Q5"
      ],
      "metadata": {
        "id": "JJ0vnugShMHh"
      }
    },
    {
      "cell_type": "code",
      "source": [
        "Mean = 5+7\n",
        "print(Mean *45)"
      ],
      "metadata": {
        "colab": {
          "base_uri": "https://localhost:8080/"
        },
        "id": "dbS4UjsLmPuM",
        "outputId": "cf032565-9953-4d0d-8991-cf6ea921a27e"
      },
      "execution_count": 8,
      "outputs": [
        {
          "output_type": "stream",
          "name": "stdout",
          "text": [
            "540\n"
          ]
        }
      ]
    },
    {
      "cell_type": "code",
      "source": [
        "SD = np.sqrt((9)+(16))\n",
        "print(SD * 45)"
      ],
      "metadata": {
        "colab": {
          "base_uri": "https://localhost:8080/"
        },
        "id": "EUKO9D6_mfwb",
        "outputId": "3efa5fec-75fb-4c65-90d5-f9b54bf5faf8"
      },
      "execution_count": 9,
      "outputs": [
        {
          "output_type": "stream",
          "name": "stdout",
          "text": [
            "225.0\n"
          ]
        }
      ]
    },
    {
      "cell_type": "code",
      "source": [
        "stats.norm.interval(0.95,540,225)"
      ],
      "metadata": {
        "colab": {
          "base_uri": "https://localhost:8080/"
        },
        "id": "8IysQ8GPmpMq",
        "outputId": "244233c9-688a-4d7e-80a6-146c6880b7e6"
      },
      "execution_count": 10,
      "outputs": [
        {
          "output_type": "execute_result",
          "data": {
            "text/plain": [
              "(99.00810347848784, 980.9918965215122)"
            ]
          },
          "metadata": {},
          "execution_count": 10
        }
      ]
    },
    {
      "cell_type": "code",
      "source": [
        "# As the 5th Percentile is asked  TAKING Z-SCORE OF 0.05 as 1.645\n",
        "A = 540-(1.645)*225\n",
        "A"
      ],
      "metadata": {
        "colab": {
          "base_uri": "https://localhost:8080/"
        },
        "id": "Gvlsd3PJnIS_",
        "outputId": "28db2735-4739-42f6-87ec-15db40b16ede"
      },
      "execution_count": 11,
      "outputs": [
        {
          "output_type": "execute_result",
          "data": {
            "text/plain": [
              "169.875"
            ]
          },
          "metadata": {},
          "execution_count": 11
        }
      ]
    },
    {
      "cell_type": "code",
      "source": [
        "stats.norm.interval(0.95,100,50)"
      ],
      "metadata": {
        "colab": {
          "base_uri": "https://localhost:8080/"
        },
        "id": "YNj1btAArLPZ",
        "outputId": "56973d50-9c8c-48e0-f300-1e58c5b8d23e"
      },
      "execution_count": 12,
      "outputs": [
        {
          "output_type": "execute_result",
          "data": {
            "text/plain": [
              "(2.0018007729972993, 197.99819922700271)"
            ]
          },
          "metadata": {},
          "execution_count": 12
        }
      ]
    },
    {
      "cell_type": "markdown",
      "source": [
        "# SET4 - Q3"
      ],
      "metadata": {
        "id": "tisuXBmXuMdh"
      }
    },
    {
      "cell_type": "code",
      "source": [
        "import math "
      ],
      "metadata": {
        "id": "wNZnUl0cvrl8"
      },
      "execution_count": 13,
      "outputs": []
    },
    {
      "cell_type": "code",
      "source": [
        "from math import sqrt"
      ],
      "metadata": {
        "id": "mVAy-7S1vzAi"
      },
      "execution_count": 14,
      "outputs": []
    },
    {
      "cell_type": "code",
      "source": [
        "# standard error =  sd/sqrt(sample)\n",
        "SE = 40/sqrt(100)\n",
        "SE"
      ],
      "metadata": {
        "colab": {
          "base_uri": "https://localhost:8080/"
        },
        "id": "4ADoLdMNviZ1",
        "outputId": "ff33a8b8-a548-4979-8cf5-8bff466c7010"
      },
      "execution_count": 15,
      "outputs": [
        {
          "output_type": "execute_result",
          "data": {
            "text/plain": [
              "4.0"
            ]
          },
          "metadata": {},
          "execution_count": 15
        }
      ]
    },
    {
      "cell_type": "code",
      "source": [
        "stats.norm.cdf(55, 50, 4)-stats.norm.cdf(45, 50, 4)"
      ],
      "metadata": {
        "colab": {
          "base_uri": "https://localhost:8080/"
        },
        "id": "SR1dlQ8xyPqS",
        "outputId": "c247606a-4338-498c-a18d-4119b0a2a298"
      },
      "execution_count": 16,
      "outputs": [
        {
          "output_type": "execute_result",
          "data": {
            "text/plain": [
              "0.7887004526662893"
            ]
          },
          "metadata": {},
          "execution_count": 16
        }
      ]
    },
    {
      "cell_type": "code",
      "source": [
        "x = 1- (stats.norm.cdf(55, 50, 4)-stats.norm.cdf(45, 50, 4))\n",
        "print('Probabilty:', x)"
      ],
      "metadata": {
        "colab": {
          "base_uri": "https://localhost:8080/"
        },
        "id": "hhluqNHSrTaS",
        "outputId": "14fdd26b-7d89-4cfd-b792-9de86ba39415"
      },
      "execution_count": 17,
      "outputs": [
        {
          "output_type": "stream",
          "name": "stdout",
          "text": [
            "Probabilty: 0.2112995473337107\n"
          ]
        }
      ]
    },
    {
      "cell_type": "markdown",
      "source": [
        "# SET4- Q4"
      ],
      "metadata": {
        "id": "C2OteW8kx3UL"
      }
    },
    {
      "cell_type": "code",
      "source": [
        "# z = (x-mean)/ sd/sqrt(sample)\n",
        "z = (55-50)/40/sqrt(100)\n",
        "z"
      ],
      "metadata": {
        "colab": {
          "base_uri": "https://localhost:8080/"
        },
        "id": "dDSg9BorulNF",
        "outputId": "25611b9d-316d-4f2c-f970-63768c9d05ea"
      },
      "execution_count": 18,
      "outputs": [
        {
          "output_type": "execute_result",
          "data": {
            "text/plain": [
              "0.0125"
            ]
          },
          "metadata": {},
          "execution_count": 18
        }
      ]
    },
    {
      "cell_type": "code",
      "source": [
        "import math\n"
      ],
      "metadata": {
        "id": "ABAkipZ4yjUI"
      },
      "execution_count": 19,
      "outputs": []
    },
    {
      "cell_type": "code",
      "source": [
        "n = (5*1.96)/40"
      ],
      "metadata": {
        "id": "o_xIWjZOyGf6"
      },
      "execution_count": 20,
      "outputs": []
    },
    {
      "cell_type": "code",
      "source": [
        "n"
      ],
      "metadata": {
        "colab": {
          "base_uri": "https://localhost:8080/"
        },
        "id": "gzjGgiqzyqXz",
        "outputId": "0f89d8ac-daea-4c80-f23b-4b537a3ad8fb"
      },
      "execution_count": 21,
      "outputs": [
        {
          "output_type": "execute_result",
          "data": {
            "text/plain": [
              "0.24500000000000002"
            ]
          },
          "metadata": {},
          "execution_count": 21
        }
      ]
    },
    {
      "cell_type": "code",
      "source": [],
      "metadata": {
        "id": "VVI1vLy_zx82"
      },
      "execution_count": 21,
      "outputs": []
    }
  ]
}