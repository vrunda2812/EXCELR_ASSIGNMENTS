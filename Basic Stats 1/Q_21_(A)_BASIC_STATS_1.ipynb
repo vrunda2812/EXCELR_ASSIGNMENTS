{
  "nbformat": 4,
  "nbformat_minor": 0,
  "metadata": {
    "colab": {
      "provenance": []
    },
    "kernelspec": {
      "name": "python3",
      "display_name": "Python 3"
    },
    "language_info": {
      "name": "python"
    }
  },
  "cells": [
    {
      "cell_type": "code",
      "execution_count": null,
      "metadata": {
        "id": "PCsJevBQ5SuG"
      },
      "outputs": [],
      "source": [
        "from scipy import stats\n",
        "from scipy.stats import norm\n",
        "import numpy as np\n",
        "import seaborn as sns\n",
        "import pandas as pd\n",
        "import matplotlib.pyplot as plt\n",
        "import warnings\n",
        "warnings.filterwarnings('ignore')"
      ]
    },
    {
      "cell_type": "code",
      "source": [
        "cars = pd.read_csv('/content/Cars.csv')"
      ],
      "metadata": {
        "id": "uScwsiKu5Z6U"
      },
      "execution_count": null,
      "outputs": []
    },
    {
      "cell_type": "code",
      "source": [
        "print('Mean:', round(cars.MPG.mean(), 4))"
      ],
      "metadata": {
        "colab": {
          "base_uri": "https://localhost:8080/"
        },
        "id": "tDDYSSvg5hCp",
        "outputId": "8030460c-49b9-4eaf-8f16-fa7e2dbf4235"
      },
      "execution_count": null,
      "outputs": [
        {
          "output_type": "stream",
          "name": "stdout",
          "text": [
            "Mean: 34.4221\n"
          ]
        }
      ]
    },
    {
      "cell_type": "code",
      "source": [
        "print('Standard Deviation:', round(cars.MPG.std(), 5))"
      ],
      "metadata": {
        "colab": {
          "base_uri": "https://localhost:8080/"
        },
        "id": "TfQH3mSa5qcj",
        "outputId": "c8261b93-3a2a-400d-890e-09d7fe1c2ede"
      },
      "execution_count": null,
      "outputs": [
        {
          "output_type": "stream",
          "name": "stdout",
          "text": [
            "Standard Deviation: 9.13144\n"
          ]
        }
      ]
    },
    {
      "cell_type": "code",
      "source": [
        "sns.distplot(cars.MPG, label = 'Cars-MPG');\n",
        "plt.xlabel('MPG');\n",
        "plt.ylabel('Density');\n",
        "plt.legend()"
      ],
      "metadata": {
        "colab": {
          "base_uri": "https://localhost:8080/",
          "height": 296
        },
        "id": "AEncZ5rk55Yk",
        "outputId": "cc340d53-d5ac-41b0-f8c2-d4211f98f550"
      },
      "execution_count": null,
      "outputs": [
        {
          "output_type": "execute_result",
          "data": {
            "text/plain": [
              "<matplotlib.legend.Legend at 0x7efca2e14730>"
            ]
          },
          "metadata": {},
          "execution_count": 6
        },
        {
          "output_type": "display_data",
          "data": {
            "text/plain": [
              "<Figure size 432x288 with 1 Axes>"
            ],
            "image/png": "[encoded data removed]"
          },
          "metadata": {
            "needs_background": "light"
          }
        }
      ]
    },
    {
      "cell_type": "code",
      "source": [
        "plt.hist(cars['MPG'])"
      ],
      "metadata": {
        "colab": {
          "base_uri": "https://localhost:8080/",
          "height": 352
        },
        "id": "NI8w_FQ28QiO",
        "outputId": "00fd3937-3b2a-44d4-fcf3-f507578eeebd"
      },
      "execution_count": null,
      "outputs": [
        {
          "output_type": "execute_result",
          "data": {
            "text/plain": [
              "(array([ 1.,  6., 10.,  4., 10., 15., 17.,  8.,  5.,  5.]),\n",
              " array([12.10126289, 16.26120474, 20.42114659, 24.58108844, 28.74103029,\n",
              "        32.90097213, 37.06091398, 41.22085583, 45.38079768, 49.54073953,\n",
              "        53.70068138]),\n",
              " <a list of 10 Patch objects>)"
            ]
          },
          "metadata": {},
          "execution_count": 8
        },
        {
          "output_type": "display_data",
          "data": {
            "text/plain": [
              "<Figure size 432x288 with 1 Axes>"
            ],
            "image/png": "[encoded data removed]"
          },
          "metadata": {
            "needs_background": "light"
          }
        }
      ]
    },
    {
      "cell_type": "code",
      "source": [
        "fig = plt.figure()\n",
        "ax = fig.add_subplot(111)\n",
        "x = stats.loggamma.rvs(loc = cars.MPG.mean(), scale = cars.MPG.std(), c=3, size= 500, random_state=0)\n",
        "res = stats.probplot(x, dist=stats.loggamma, sparams=(2.5), plot=ax)\n",
        "plt.xlabel('MPG');\n",
        "plt.ylabel('Density');\n",
        "plt.legend()\n",
        "plt.label = 'MPG'"
      ],
      "metadata": {
        "colab": {
          "base_uri": "https://localhost:8080/",
          "height": 312
        },
        "id": "EuMIQAHU8jZD",
        "outputId": "795f03e2-825b-404a-8614-dee916fee6dd"
      },
      "execution_count": 27,
      "outputs": [
        {
          "output_type": "stream",
          "name": "stderr",
          "text": [
            "WARNING:matplotlib.legend:No handles with labels found to put in legend.\n"
          ]
        },
        {
          "output_type": "display_data",
          "data": {
            "text/plain": [
              "<Figure size 432x288 with 1 Axes>"
            ],
            "image/png": "[encoded data removed]"
          },
          "metadata": {
            "needs_background": "light"
          }
        }
      ]
    },
    {
      "cell_type": "code",
      "source": [],
      "metadata": {
        "id": "sfW5ZCOtER9f"
      },
      "execution_count": null,
      "outputs": []
    }
  ]
}