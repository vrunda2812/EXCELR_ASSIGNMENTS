{
  "nbformat": 4,
  "nbformat_minor": 0,
  "metadata": {
    "colab": {
      "provenance": []
    },
    "kernelspec": {
      "name": "python3",
      "display_name": "Python 3"
    },
    "language_info": {
      "name": "python"
    }
  },
  "cells": [
    {
      "cell_type": "code",
      "execution_count": 1,
      "metadata": {
        "id": "5mYgvp0SRNBZ"
      },
      "outputs": [],
      "source": [
        "from scipy import stats\n",
        "from scipy.stats import norm\n",
        "import numpy as np\n",
        "import seaborn as sns\n",
        "import pandas as pd\n",
        "import matplotlib.pyplot as plt\n",
        "import warnings\n",
        "warnings.filterwarnings('ignore')"
      ]
    },
    {
      "cell_type": "code",
      "source": [
        "print ('Z score for 90% Confidence Interval=', np.round(stats.norm.ppf(0.05), 4))\n"
      ],
      "metadata": {
        "colab": {
          "base_uri": "https://localhost:8080/"
        },
        "id": "Z8jcebldRZAC",
        "outputId": "0d34039a-d694-4ac2-a456-22c276152223"
      },
      "execution_count": 4,
      "outputs": [
        {
          "output_type": "stream",
          "name": "stdout",
          "text": [
            "Z score for 60% Confidence Interval= -1.6449\n"
          ]
        }
      ]
    },
    {
      "cell_type": "code",
      "source": [
        "print ('Z score for 94% Confidence Interval=', np.round(stats.norm.ppf(0.03), 4))"
      ],
      "metadata": {
        "colab": {
          "base_uri": "https://localhost:8080/"
        },
        "id": "-qeCU1nbSA7_",
        "outputId": "bd13c37c-767e-44be-a11a-e418ad01385a"
      },
      "execution_count": 5,
      "outputs": [
        {
          "output_type": "stream",
          "name": "stdout",
          "text": [
            "Z score for 94% Confidence Interval= -1.8808\n"
          ]
        }
      ]
    },
    {
      "cell_type": "code",
      "source": [
        "print ('Z score for 60% Confidence Interval=', np.round(stats.norm.ppf(0.2), 4))"
      ],
      "metadata": {
        "colab": {
          "base_uri": "https://localhost:8080/"
        },
        "id": "TBifJXRBU2zo",
        "outputId": "65325d20-6bd7-4312-956c-d0788ac5230b"
      },
      "execution_count": 6,
      "outputs": [
        {
          "output_type": "stream",
          "name": "stdout",
          "text": [
            "Z score for 60% Confidence Interval= -0.8416\n"
          ]
        }
      ]
    },
    {
      "cell_type": "code",
      "source": [],
      "metadata": {
        "id": "vYNqINoUVCss"
      },
      "execution_count": null,
      "outputs": []
    }
  ]
}