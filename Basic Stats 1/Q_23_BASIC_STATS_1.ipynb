{
  "nbformat": 4,
  "nbformat_minor": 0,
  "metadata": {
    "colab": {
      "provenance": []
    },
    "kernelspec": {
      "name": "python3",
      "display_name": "Python 3"
    },
    "language_info": {
      "name": "python"
    }
  },
  "cells": [
    {
      "cell_type": "code",
      "execution_count": 1,
      "metadata": {
        "id": "o9Gne826VgFC"
      },
      "outputs": [],
      "source": [
        "from scipy import stats\n",
        "from scipy.stats import norm\n",
        "import numpy as np\n",
        "import seaborn as sns\n",
        "import pandas as pd\n",
        "import matplotlib.pyplot as plt\n",
        "import warnings\n",
        "warnings.filterwarnings('ignore')"
      ]
    },
    {
      "cell_type": "code",
      "source": [
        "print ('T score for 95% Confidence Interval=', np.round(stats.t.ppf(0.025, df = 24), 4))"
      ],
      "metadata": {
        "colab": {
          "base_uri": "https://localhost:8080/"
        },
        "id": "RbXIw4QHVy7j",
        "outputId": "c85ebd6b-df55-46c3-c584-6144238c3312"
      },
      "execution_count": 2,
      "outputs": [
        {
          "output_type": "stream",
          "name": "stdout",
          "text": [
            "T score for 95% Confidence Interval= -2.0639\n"
          ]
        }
      ]
    },
    {
      "cell_type": "code",
      "source": [
        "print ('T score for 96% Confidence Interval=', np.round(stats.t.ppf(0.02, df = 24), 4))"
      ],
      "metadata": {
        "colab": {
          "base_uri": "https://localhost:8080/"
        },
        "id": "QXVbg1EEWM9b",
        "outputId": "6e9d8b14-2373-4828-8d87-1de09f27a750"
      },
      "execution_count": 9,
      "outputs": [
        {
          "output_type": "stream",
          "name": "stdout",
          "text": [
            "T score for 96% Confidence Interval= -2.1715\n"
          ]
        }
      ]
    },
    {
      "cell_type": "code",
      "source": [
        "print ('T score for 99% Confidence Interval=', np.round(stats.t.ppf(0.005, df = 24), 4))"
      ],
      "metadata": {
        "colab": {
          "base_uri": "https://localhost:8080/"
        },
        "id": "pnYb2JCOWctQ",
        "outputId": "394817bb-13a7-47f5-f2ba-82104a7a6b0b"
      },
      "execution_count": 8,
      "outputs": [
        {
          "output_type": "stream",
          "name": "stdout",
          "text": [
            "T score for 99% Confidence Interval= -2.7969\n"
          ]
        }
      ]
    },
    {
      "cell_type": "code",
      "source": [],
      "metadata": {
        "id": "oneAYxEQW3AX"
      },
      "execution_count": null,
      "outputs": []
    }
  ]
}