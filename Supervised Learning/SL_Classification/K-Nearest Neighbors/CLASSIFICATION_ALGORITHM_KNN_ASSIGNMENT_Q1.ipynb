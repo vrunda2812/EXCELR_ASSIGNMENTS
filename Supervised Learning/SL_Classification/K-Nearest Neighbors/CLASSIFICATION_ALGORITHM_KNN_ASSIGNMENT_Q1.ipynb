{
  "nbformat": 4,
  "nbformat_minor": 0,
  "metadata": {
    "colab": {
      "provenance": []
    },
    "kernelspec": {
      "name": "python3",
      "display_name": "Python 3"
    },
    "language_info": {
      "name": "python"
    }
  },
  "cells": [
    {
      "cell_type": "markdown",
      "source": [
        "# IMPORTING LIBRARIES"
      ],
      "metadata": {
        "id": "Ipq1z7uck-gM"
      }
    },
    {
      "cell_type": "code",
      "execution_count": 1,
      "metadata": {
        "id": "Z-ZxrMqei_sH"
      },
      "outputs": [],
      "source": [
        "import pandas as pd\n",
        "import numpy as np\n",
        "import matplotlib.pyplot as plt"
      ]
    },
    {
      "cell_type": "markdown",
      "source": [
        "# IMPORTING DATASET"
      ],
      "metadata": {
        "id": "QDKXsrvtlDMs"
      }
    },
    {
      "cell_type": "code",
      "source": [
        "dataset = pd.read_csv(\"/content/glass.csv\")"
      ],
      "metadata": {
        "id": "FOdA9AV1lE5-"
      },
      "execution_count": 2,
      "outputs": []
    },
    {
      "cell_type": "code",
      "source": [
        "dataset"
      ],
      "metadata": {
        "colab": {
          "base_uri": "https://localhost:8080/",
          "height": 423
        },
        "id": "Vsxo8zQil7vf",
        "outputId": "df5574ce-948c-4e36-f171-c862c8cdadff"
      },
      "execution_count": 3,
      "outputs": [
        {
          "output_type": "execute_result",
          "data": {
            "text/plain": [
              "          RI     Na    Mg    Al     Si     K    Ca    Ba   Fe  Type\n",
              "0    1.52101  13.64  4.49  1.10  71.78  0.06  8.75  0.00  0.0     1\n",
              "1    1.51761  13.89  3.60  1.36  72.73  0.48  7.83  0.00  0.0     1\n",
              "2    1.51618  13.53  3.55  1.54  72.99  0.39  7.78  0.00  0.0     1\n",
              "3    1.51766  13.21  3.69  1.29  72.61  0.57  8.22  0.00  0.0     1\n",
              "4    1.51742  13.27  3.62  1.24  73.08  0.55  8.07  0.00  0.0     1\n",
              "..       ...    ...   ...   ...    ...   ...   ...   ...  ...   ...\n",
              "209  1.51623  14.14  0.00  2.88  72.61  0.08  9.18  1.06  0.0     7\n",
              "210  1.51685  14.92  0.00  1.99  73.06  0.00  8.40  1.59  0.0     7\n",
              "211  1.52065  14.36  0.00  2.02  73.42  0.00  8.44  1.64  0.0     7\n",
              "212  1.51651  14.38  0.00  1.94  73.61  0.00  8.48  1.57  0.0     7\n",
              "213  1.51711  14.23  0.00  2.08  73.36  0.00  8.62  1.67  0.0     7\n",
              "\n",
              "[214 rows x 10 columns]"
            ],
            "text/html": [
              "\n",
              "  <div id=\"df-7082d56c-3cbe-491b-8647-25609808ec3d\">\n",
              "    <div class=\"colab-df-container\">\n",
              "      <div>\n",
              "<style scoped>\n",
              "    .dataframe tbody tr th:only-of-type {\n",
              "        vertical-align: middle;\n",
              "    }\n",
              "\n",
              "    .dataframe tbody tr th {\n",
              "        vertical-align: top;\n",
              "    }\n",
              "\n",
              "    .dataframe thead th {\n",
              "        text-align: right;\n",
              "    }\n",
              "</style>\n",
              "<table border=\"1\" class=\"dataframe\">\n",
              "  <thead>\n",
              "    <tr style=\"text-align: right;\">\n",
              "      <th></th>\n",
              "      <th>RI</th>\n",
              "      <th>Na</th>\n",
              "      <th>Mg</th>\n",
              "      <th>Al</th>\n",
              "      <th>Si</th>\n",
              "      <th>K</th>\n",
              "      <th>Ca</th>\n",
              "      <th>Ba</th>\n",
              "      <th>Fe</th>\n",
              "      <th>Type</th>\n",
              "    </tr>\n",
              "  </thead>\n",
              "  <tbody>\n",
              "    <tr>\n",
              "      <th>0</th>\n",
              "      <td>1.52101</td>\n",
              "      <td>13.64</td>\n",
              "      <td>4.49</td>\n",
              "      <td>1.10</td>\n",
              "      <td>71.78</td>\n",
              "      <td>0.06</td>\n",
              "      <td>8.75</td>\n",
              "      <td>0.00</td>\n",
              "      <td>0.0</td>\n",
              "      <td>1</td>\n",
              "    </tr>\n",
              "    <tr>\n",
              "      <th>1</th>\n",
              "      <td>1.51761</td>\n",
              "      <td>13.89</td>\n",
              "      <td>3.60</td>\n",
              "      <td>1.36</td>\n",
              "      <td>72.73</td>\n",
              "      <td>0.48</td>\n",
              "      <td>7.83</td>\n",
              "      <td>0.00</td>\n",
              "      <td>0.0</td>\n",
              "      <td>1</td>\n",
              "    </tr>\n",
              "    <tr>\n",
              "      <th>2</th>\n",
              "      <td>1.51618</td>\n",
              "      <td>13.53</td>\n",
              "      <td>3.55</td>\n",
              "      <td>1.54</td>\n",
              "      <td>72.99</td>\n",
              "      <td>0.39</td>\n",
              "      <td>7.78</td>\n",
              "      <td>0.00</td>\n",
              "      <td>0.0</td>\n",
              "      <td>1</td>\n",
              "    </tr>\n",
              "    <tr>\n",
              "      <th>3</th>\n",
              "      <td>1.51766</td>\n",
              "      <td>13.21</td>\n",
              "      <td>3.69</td>\n",
              "      <td>1.29</td>\n",
              "      <td>72.61</td>\n",
              "      <td>0.57</td>\n",
              "      <td>8.22</td>\n",
              "      <td>0.00</td>\n",
              "      <td>0.0</td>\n",
              "      <td>1</td>\n",
              "    </tr>\n",
              "    <tr>\n",
              "      <th>4</th>\n",
              "      <td>1.51742</td>\n",
              "      <td>13.27</td>\n",
              "      <td>3.62</td>\n",
              "      <td>1.24</td>\n",
              "      <td>73.08</td>\n",
              "      <td>0.55</td>\n",
              "      <td>8.07</td>\n",
              "      <td>0.00</td>\n",
              "      <td>0.0</td>\n",
              "      <td>1</td>\n",
              "    </tr>\n",
              "    <tr>\n",
              "      <th>...</th>\n",
              "      <td>...</td>\n",
              "      <td>...</td>\n",
              "      <td>...</td>\n",
              "      <td>...</td>\n",
              "      <td>...</td>\n",
              "      <td>...</td>\n",
              "      <td>...</td>\n",
              "      <td>...</td>\n",
              "      <td>...</td>\n",
              "      <td>...</td>\n",
              "    </tr>\n",
              "    <tr>\n",
              "      <th>209</th>\n",
              "      <td>1.51623</td>\n",
              "      <td>14.14</td>\n",
              "      <td>0.00</td>\n",
              "      <td>2.88</td>\n",
              "      <td>72.61</td>\n",
              "      <td>0.08</td>\n",
              "      <td>9.18</td>\n",
              "      <td>1.06</td>\n",
              "      <td>0.0</td>\n",
              "      <td>7</td>\n",
              "    </tr>\n",
              "    <tr>\n",
              "      <th>210</th>\n",
              "      <td>1.51685</td>\n",
              "      <td>14.92</td>\n",
              "      <td>0.00</td>\n",
              "      <td>1.99</td>\n",
              "      <td>73.06</td>\n",
              "      <td>0.00</td>\n",
              "      <td>8.40</td>\n",
              "      <td>1.59</td>\n",
              "      <td>0.0</td>\n",
              "      <td>7</td>\n",
              "    </tr>\n",
              "    <tr>\n",
              "      <th>211</th>\n",
              "      <td>1.52065</td>\n",
              "      <td>14.36</td>\n",
              "      <td>0.00</td>\n",
              "      <td>2.02</td>\n",
              "      <td>73.42</td>\n",
              "      <td>0.00</td>\n",
              "      <td>8.44</td>\n",
              "      <td>1.64</td>\n",
              "      <td>0.0</td>\n",
              "      <td>7</td>\n",
              "    </tr>\n",
              "    <tr>\n",
              "      <th>212</th>\n",
              "      <td>1.51651</td>\n",
              "      <td>14.38</td>\n",
              "      <td>0.00</td>\n",
              "      <td>1.94</td>\n",
              "      <td>73.61</td>\n",
              "      <td>0.00</td>\n",
              "      <td>8.48</td>\n",
              "      <td>1.57</td>\n",
              "      <td>0.0</td>\n",
              "      <td>7</td>\n",
              "    </tr>\n",
              "    <tr>\n",
              "      <th>213</th>\n",
              "      <td>1.51711</td>\n",
              "      <td>14.23</td>\n",
              "      <td>0.00</td>\n",
              "      <td>2.08</td>\n",
              "      <td>73.36</td>\n",
              "      <td>0.00</td>\n",
              "      <td>8.62</td>\n",
              "      <td>1.67</td>\n",
              "      <td>0.0</td>\n",
              "      <td>7</td>\n",
              "    </tr>\n",
              "  </tbody>\n",
              "</table>\n",
              "<p>214 rows × 10 columns</p>\n",
              "</div>\n",
              "      <button class=\"colab-df-convert\" onclick=\"convertToInteractive('df-7082d56c-3cbe-491b-8647-25609808ec3d')\"\n",
              "              title=\"Convert this dataframe to an interactive table.\"\n",
              "              style=\"display:none;\">\n",
              "        \n",
              "  <svg xmlns=\"http://www.w3.org/2000/svg\" height=\"24px\"viewBox=\"0 0 24 24\"\n",
              "       width=\"24px\">\n",
              "    <path d=\"M0 0h24v24H0V0z\" fill=\"none\"/>\n",
              "    <path d=\"M18.56 5.44l.94 2.06.94-2.06 2.06-.94-2.06-.94-.94-2.06-.94 2.06-2.06.94zm-11 1L8.5 8.5l.94-2.06 2.06-.94-2.06-.94L8.5 2.5l-.94 2.06-2.06.94zm10 10l.94 2.06.94-2.06 2.06-.94-2.06-.94-.94-2.06-.94 2.06-2.06.94z\"/><path d=\"M17.41 7.96l-1.37-1.37c-.4-.4-.92-.59-1.43-.59-.52 0-1.04.2-1.43.59L10.3 9.45l-7.72 7.72c-.78.78-.78 2.05 0 2.83L4 21.41c.39.39.9.59 1.41.59.51 0 1.02-.2 1.41-.59l7.78-7.78 2.81-2.81c.8-.78.8-2.07 0-2.86zM5.41 20L4 18.59l7.72-7.72 1.47 1.35L5.41 20z\"/>\n",
              "  </svg>\n",
              "      </button>\n",
              "      \n",
              "  <style>\n",
              "    .colab-df-container {\n",
              "      display:flex;\n",
              "      flex-wrap:wrap;\n",
              "      gap: 12px;\n",
              "    }\n",
              "\n",
              "    .colab-df-convert {\n",
              "      background-color: #E8F0FE;\n",
              "      border: none;\n",
              "      border-radius: 50%;\n",
              "      cursor: pointer;\n",
              "      display: none;\n",
              "      fill: #1967D2;\n",
              "      height: 32px;\n",
              "      padding: 0 0 0 0;\n",
              "      width: 32px;\n",
              "    }\n",
              "\n",
              "    .colab-df-convert:hover {\n",
              "      background-color: #E2EBFA;\n",
              "      box-shadow: 0px 1px 2px rgba(60, 64, 67, 0.3), 0px 1px 3px 1px rgba(60, 64, 67, 0.15);\n",
              "      fill: #174EA6;\n",
              "    }\n",
              "\n",
              "    [theme=dark] .colab-df-convert {\n",
              "      background-color: #3B4455;\n",
              "      fill: #D2E3FC;\n",
              "    }\n",
              "\n",
              "    [theme=dark] .colab-df-convert:hover {\n",
              "      background-color: #434B5C;\n",
              "      box-shadow: 0px 1px 3px 1px rgba(0, 0, 0, 0.15);\n",
              "      filter: drop-shadow(0px 1px 2px rgba(0, 0, 0, 0.3));\n",
              "      fill: #FFFFFF;\n",
              "    }\n",
              "  </style>\n",
              "\n",
              "      <script>\n",
              "        const buttonEl =\n",
              "          document.querySelector('#df-7082d56c-3cbe-491b-8647-25609808ec3d button.colab-df-convert');\n",
              "        buttonEl.style.display =\n",
              "          google.colab.kernel.accessAllowed ? 'block' : 'none';\n",
              "\n",
              "        async function convertToInteractive(key) {\n",
              "          const element = document.querySelector('#df-7082d56c-3cbe-491b-8647-25609808ec3d');\n",
              "          const dataTable =\n",
              "            await google.colab.kernel.invokeFunction('convertToInteractive',\n",
              "                                                     [key], {});\n",
              "          if (!dataTable) return;\n",
              "\n",
              "          const docLinkHtml = 'Like what you see? Visit the ' +\n",
              "            '<a target=\"_blank\" href=https://colab.research.google.com/notebooks/data_table.ipynb>data table notebook</a>'\n",
              "            + ' to learn more about interactive tables.';\n",
              "          element.innerHTML = '';\n",
              "          dataTable['output_type'] = 'display_data';\n",
              "          await google.colab.output.renderOutput(dataTable, element);\n",
              "          const docLink = document.createElement('div');\n",
              "          docLink.innerHTML = docLinkHtml;\n",
              "          element.appendChild(docLink);\n",
              "        }\n",
              "      </script>\n",
              "    </div>\n",
              "  </div>\n",
              "  "
            ]
          },
          "metadata": {},
          "execution_count": 3
        }
      ]
    },
    {
      "cell_type": "code",
      "source": [
        "dataset.info()"
      ],
      "metadata": {
        "id": "5zXkT7i3l-p4",
        "colab": {
          "base_uri": "https://localhost:8080/"
        },
        "outputId": "277c46d4-0c8e-45ac-fd20-b5390f29bcd5"
      },
      "execution_count": 4,
      "outputs": [
        {
          "output_type": "stream",
          "name": "stdout",
          "text": [
            "<class 'pandas.core.frame.DataFrame'>\n",
            "RangeIndex: 214 entries, 0 to 213\n",
            "Data columns (total 10 columns):\n",
            " #   Column  Non-Null Count  Dtype  \n",
            "---  ------  --------------  -----  \n",
            " 0   RI      214 non-null    float64\n",
            " 1   Na      214 non-null    float64\n",
            " 2   Mg      214 non-null    float64\n",
            " 3   Al      214 non-null    float64\n",
            " 4   Si      214 non-null    float64\n",
            " 5   K       214 non-null    float64\n",
            " 6   Ca      214 non-null    float64\n",
            " 7   Ba      214 non-null    float64\n",
            " 8   Fe      214 non-null    float64\n",
            " 9   Type    214 non-null    int64  \n",
            "dtypes: float64(9), int64(1)\n",
            "memory usage: 16.8 KB\n"
          ]
        }
      ]
    },
    {
      "cell_type": "code",
      "source": [
        "dataset.describe()"
      ],
      "metadata": {
        "colab": {
          "base_uri": "https://localhost:8080/",
          "height": 300
        },
        "id": "Wt3R31mCpbwQ",
        "outputId": "2b4500df-fce3-4da7-ae03-41457fedaf8e"
      },
      "execution_count": 5,
      "outputs": [
        {
          "output_type": "execute_result",
          "data": {
            "text/plain": [
              "               RI          Na          Mg          Al          Si           K  \\\n",
              "count  214.000000  214.000000  214.000000  214.000000  214.000000  214.000000   \n",
              "mean     1.518365   13.407850    2.684533    1.444907   72.650935    0.497056   \n",
              "std      0.003037    0.816604    1.442408    0.499270    0.774546    0.652192   \n",
              "min      1.511150   10.730000    0.000000    0.290000   69.810000    0.000000   \n",
              "25%      1.516522   12.907500    2.115000    1.190000   72.280000    0.122500   \n",
              "50%      1.517680   13.300000    3.480000    1.360000   72.790000    0.555000   \n",
              "75%      1.519157   13.825000    3.600000    1.630000   73.087500    0.610000   \n",
              "max      1.533930   17.380000    4.490000    3.500000   75.410000    6.210000   \n",
              "\n",
              "               Ca          Ba          Fe        Type  \n",
              "count  214.000000  214.000000  214.000000  214.000000  \n",
              "mean     8.956963    0.175047    0.057009    2.780374  \n",
              "std      1.423153    0.497219    0.097439    2.103739  \n",
              "min      5.430000    0.000000    0.000000    1.000000  \n",
              "25%      8.240000    0.000000    0.000000    1.000000  \n",
              "50%      8.600000    0.000000    0.000000    2.000000  \n",
              "75%      9.172500    0.000000    0.100000    3.000000  \n",
              "max     16.190000    3.150000    0.510000    7.000000  "
            ],
            "text/html": [
              "\n",
              "  <div id=\"df-f9793d14-b46f-47af-a505-4be11bcdfbcf\">\n",
              "    <div class=\"colab-df-container\">\n",
              "      <div>\n",
              "<style scoped>\n",
              "    .dataframe tbody tr th:only-of-type {\n",
              "        vertical-align: middle;\n",
              "    }\n",
              "\n",
              "    .dataframe tbody tr th {\n",
              "        vertical-align: top;\n",
              "    }\n",
              "\n",
              "    .dataframe thead th {\n",
              "        text-align: right;\n",
              "    }\n",
              "</style>\n",
              "<table border=\"1\" class=\"dataframe\">\n",
              "  <thead>\n",
              "    <tr style=\"text-align: right;\">\n",
              "      <th></th>\n",
              "      <th>RI</th>\n",
              "      <th>Na</th>\n",
              "      <th>Mg</th>\n",
              "      <th>Al</th>\n",
              "      <th>Si</th>\n",
              "      <th>K</th>\n",
              "      <th>Ca</th>\n",
              "      <th>Ba</th>\n",
              "      <th>Fe</th>\n",
              "      <th>Type</th>\n",
              "    </tr>\n",
              "  </thead>\n",
              "  <tbody>\n",
              "    <tr>\n",
              "      <th>count</th>\n",
              "      <td>214.000000</td>\n",
              "      <td>214.000000</td>\n",
              "      <td>214.000000</td>\n",
              "      <td>214.000000</td>\n",
              "      <td>214.000000</td>\n",
              "      <td>214.000000</td>\n",
              "      <td>214.000000</td>\n",
              "      <td>214.000000</td>\n",
              "      <td>214.000000</td>\n",
              "      <td>214.000000</td>\n",
              "    </tr>\n",
              "    <tr>\n",
              "      <th>mean</th>\n",
              "      <td>1.518365</td>\n",
              "      <td>13.407850</td>\n",
              "      <td>2.684533</td>\n",
              "      <td>1.444907</td>\n",
              "      <td>72.650935</td>\n",
              "      <td>0.497056</td>\n",
              "      <td>8.956963</td>\n",
              "      <td>0.175047</td>\n",
              "      <td>0.057009</td>\n",
              "      <td>2.780374</td>\n",
              "    </tr>\n",
              "    <tr>\n",
              "      <th>std</th>\n",
              "      <td>0.003037</td>\n",
              "      <td>0.816604</td>\n",
              "      <td>1.442408</td>\n",
              "      <td>0.499270</td>\n",
              "      <td>0.774546</td>\n",
              "      <td>0.652192</td>\n",
              "      <td>1.423153</td>\n",
              "      <td>0.497219</td>\n",
              "      <td>0.097439</td>\n",
              "      <td>2.103739</td>\n",
              "    </tr>\n",
              "    <tr>\n",
              "      <th>min</th>\n",
              "      <td>1.511150</td>\n",
              "      <td>10.730000</td>\n",
              "      <td>0.000000</td>\n",
              "      <td>0.290000</td>\n",
              "      <td>69.810000</td>\n",
              "      <td>0.000000</td>\n",
              "      <td>5.430000</td>\n",
              "      <td>0.000000</td>\n",
              "      <td>0.000000</td>\n",
              "      <td>1.000000</td>\n",
              "    </tr>\n",
              "    <tr>\n",
              "      <th>25%</th>\n",
              "      <td>1.516522</td>\n",
              "      <td>12.907500</td>\n",
              "      <td>2.115000</td>\n",
              "      <td>1.190000</td>\n",
              "      <td>72.280000</td>\n",
              "      <td>0.122500</td>\n",
              "      <td>8.240000</td>\n",
              "      <td>0.000000</td>\n",
              "      <td>0.000000</td>\n",
              "      <td>1.000000</td>\n",
              "    </tr>\n",
              "    <tr>\n",
              "      <th>50%</th>\n",
              "      <td>1.517680</td>\n",
              "      <td>13.300000</td>\n",
              "      <td>3.480000</td>\n",
              "      <td>1.360000</td>\n",
              "      <td>72.790000</td>\n",
              "      <td>0.555000</td>\n",
              "      <td>8.600000</td>\n",
              "      <td>0.000000</td>\n",
              "      <td>0.000000</td>\n",
              "      <td>2.000000</td>\n",
              "    </tr>\n",
              "    <tr>\n",
              "      <th>75%</th>\n",
              "      <td>1.519157</td>\n",
              "      <td>13.825000</td>\n",
              "      <td>3.600000</td>\n",
              "      <td>1.630000</td>\n",
              "      <td>73.087500</td>\n",
              "      <td>0.610000</td>\n",
              "      <td>9.172500</td>\n",
              "      <td>0.000000</td>\n",
              "      <td>0.100000</td>\n",
              "      <td>3.000000</td>\n",
              "    </tr>\n",
              "    <tr>\n",
              "      <th>max</th>\n",
              "      <td>1.533930</td>\n",
              "      <td>17.380000</td>\n",
              "      <td>4.490000</td>\n",
              "      <td>3.500000</td>\n",
              "      <td>75.410000</td>\n",
              "      <td>6.210000</td>\n",
              "      <td>16.190000</td>\n",
              "      <td>3.150000</td>\n",
              "      <td>0.510000</td>\n",
              "      <td>7.000000</td>\n",
              "    </tr>\n",
              "  </tbody>\n",
              "</table>\n",
              "</div>\n",
              "      <button class=\"colab-df-convert\" onclick=\"convertToInteractive('df-f9793d14-b46f-47af-a505-4be11bcdfbcf')\"\n",
              "              title=\"Convert this dataframe to an interactive table.\"\n",
              "              style=\"display:none;\">\n",
              "        \n",
              "  <svg xmlns=\"http://www.w3.org/2000/svg\" height=\"24px\"viewBox=\"0 0 24 24\"\n",
              "       width=\"24px\">\n",
              "    <path d=\"M0 0h24v24H0V0z\" fill=\"none\"/>\n",
              "    <path d=\"M18.56 5.44l.94 2.06.94-2.06 2.06-.94-2.06-.94-.94-2.06-.94 2.06-2.06.94zm-11 1L8.5 8.5l.94-2.06 2.06-.94-2.06-.94L8.5 2.5l-.94 2.06-2.06.94zm10 10l.94 2.06.94-2.06 2.06-.94-2.06-.94-.94-2.06-.94 2.06-2.06.94z\"/><path d=\"M17.41 7.96l-1.37-1.37c-.4-.4-.92-.59-1.43-.59-.52 0-1.04.2-1.43.59L10.3 9.45l-7.72 7.72c-.78.78-.78 2.05 0 2.83L4 21.41c.39.39.9.59 1.41.59.51 0 1.02-.2 1.41-.59l7.78-7.78 2.81-2.81c.8-.78.8-2.07 0-2.86zM5.41 20L4 18.59l7.72-7.72 1.47 1.35L5.41 20z\"/>\n",
              "  </svg>\n",
              "      </button>\n",
              "      \n",
              "  <style>\n",
              "    .colab-df-container {\n",
              "      display:flex;\n",
              "      flex-wrap:wrap;\n",
              "      gap: 12px;\n",
              "    }\n",
              "\n",
              "    .colab-df-convert {\n",
              "      background-color: #E8F0FE;\n",
              "      border: none;\n",
              "      border-radius: 50%;\n",
              "      cursor: pointer;\n",
              "      display: none;\n",
              "      fill: #1967D2;\n",
              "      height: 32px;\n",
              "      padding: 0 0 0 0;\n",
              "      width: 32px;\n",
              "    }\n",
              "\n",
              "    .colab-df-convert:hover {\n",
              "      background-color: #E2EBFA;\n",
              "      box-shadow: 0px 1px 2px rgba(60, 64, 67, 0.3), 0px 1px 3px 1px rgba(60, 64, 67, 0.15);\n",
              "      fill: #174EA6;\n",
              "    }\n",
              "\n",
              "    [theme=dark] .colab-df-convert {\n",
              "      background-color: #3B4455;\n",
              "      fill: #D2E3FC;\n",
              "    }\n",
              "\n",
              "    [theme=dark] .colab-df-convert:hover {\n",
              "      background-color: #434B5C;\n",
              "      box-shadow: 0px 1px 3px 1px rgba(0, 0, 0, 0.15);\n",
              "      filter: drop-shadow(0px 1px 2px rgba(0, 0, 0, 0.3));\n",
              "      fill: #FFFFFF;\n",
              "    }\n",
              "  </style>\n",
              "\n",
              "      <script>\n",
              "        const buttonEl =\n",
              "          document.querySelector('#df-f9793d14-b46f-47af-a505-4be11bcdfbcf button.colab-df-convert');\n",
              "        buttonEl.style.display =\n",
              "          google.colab.kernel.accessAllowed ? 'block' : 'none';\n",
              "\n",
              "        async function convertToInteractive(key) {\n",
              "          const element = document.querySelector('#df-f9793d14-b46f-47af-a505-4be11bcdfbcf');\n",
              "          const dataTable =\n",
              "            await google.colab.kernel.invokeFunction('convertToInteractive',\n",
              "                                                     [key], {});\n",
              "          if (!dataTable) return;\n",
              "\n",
              "          const docLinkHtml = 'Like what you see? Visit the ' +\n",
              "            '<a target=\"_blank\" href=https://colab.research.google.com/notebooks/data_table.ipynb>data table notebook</a>'\n",
              "            + ' to learn more about interactive tables.';\n",
              "          element.innerHTML = '';\n",
              "          dataTable['output_type'] = 'display_data';\n",
              "          await google.colab.output.renderOutput(dataTable, element);\n",
              "          const docLink = document.createElement('div');\n",
              "          docLink.innerHTML = docLinkHtml;\n",
              "          element.appendChild(docLink);\n",
              "        }\n",
              "      </script>\n",
              "    </div>\n",
              "  </div>\n",
              "  "
            ]
          },
          "metadata": {},
          "execution_count": 5
        }
      ]
    },
    {
      "cell_type": "code",
      "source": [
        "from numpy import set_printoptions\n",
        "from sklearn.feature_selection import SelectKBest\n",
        "from sklearn.feature_selection import chi2"
      ],
      "metadata": {
        "id": "fZanr8VeMbO-"
      },
      "execution_count": 6,
      "outputs": []
    },
    {
      "cell_type": "code",
      "source": [
        "array = dataset.values\n",
        "X = array[:,0:9]\n",
        "Y = array[:,-1]\n",
        "# feature extraction\n",
        "test = SelectKBest(score_func=chi2, k=4)\n",
        "fit = test.fit(X, Y)\n",
        "# summarize scores\n",
        "set_printoptions(precision=3)\n",
        "print(fit.scores_)\n",
        "features = fit.transform(X)"
      ],
      "metadata": {
        "colab": {
          "base_uri": "https://localhost:8080/"
        },
        "id": "OIx7MlyFMfYs",
        "outputId": "35bc7a0d-2c95-4213-c21e-69c853a56a99"
      },
      "execution_count": 7,
      "outputs": [
        {
          "output_type": "stream",
          "name": "stdout",
          "text": [
            "[4.818e-05 4.311e+00 1.010e+02 1.698e+01 1.104e-01 3.167e+01 3.211e+00\n",
            " 1.455e+02 2.170e+00]\n"
          ]
        }
      ]
    },
    {
      "cell_type": "code",
      "source": [
        "features"
      ],
      "metadata": {
        "colab": {
          "base_uri": "https://localhost:8080/"
        },
        "id": "Rp8-VxcSMuNW",
        "outputId": "7a95778c-b753-4244-f137-77186e0565d2"
      },
      "execution_count": 8,
      "outputs": [
        {
          "output_type": "execute_result",
          "data": {
            "text/plain": [
              "array([[4.49, 1.1 , 0.06, 0.  ],\n",
              "       [3.6 , 1.36, 0.48, 0.  ],\n",
              "       [3.55, 1.54, 0.39, 0.  ],\n",
              "       [3.69, 1.29, 0.57, 0.  ],\n",
              "       [3.62, 1.24, 0.55, 0.  ],\n",
              "       [3.61, 1.62, 0.64, 0.  ],\n",
              "       [3.6 , 1.14, 0.58, 0.  ],\n",
              "       [3.61, 1.05, 0.57, 0.  ],\n",
              "       [3.58, 1.37, 0.56, 0.  ],\n",
              "       [3.6 , 1.36, 0.57, 0.  ],\n",
              "       [3.46, 1.56, 0.67, 0.  ],\n",
              "       [3.66, 1.27, 0.6 , 0.  ],\n",
              "       [3.43, 1.4 , 0.69, 0.  ],\n",
              "       [3.56, 1.27, 0.54, 0.  ],\n",
              "       [3.59, 1.31, 0.58, 0.  ],\n",
              "       [3.54, 1.23, 0.58, 0.  ],\n",
              "       [3.67, 1.16, 0.61, 0.  ],\n",
              "       [3.85, 0.89, 0.15, 0.  ],\n",
              "       [3.73, 1.18, 0.06, 0.  ],\n",
              "       [3.54, 1.69, 0.54, 0.  ],\n",
              "       [3.55, 1.49, 0.54, 0.  ],\n",
              "       [3.75, 0.29, 0.03, 0.  ],\n",
              "       [3.62, 1.29, 0.59, 0.  ],\n",
              "       [3.57, 1.35, 0.62, 0.  ],\n",
              "       [3.5 , 1.15, 0.5 , 0.  ],\n",
              "       [3.54, 1.21, 0.65, 0.  ],\n",
              "       [3.48, 1.41, 0.59, 0.  ],\n",
              "       [3.48, 1.33, 0.56, 0.  ],\n",
              "       [3.52, 1.43, 0.57, 0.  ],\n",
              "       [3.49, 1.28, 0.6 , 0.  ],\n",
              "       [3.56, 1.3 , 0.61, 0.  ],\n",
              "       [3.5 , 1.14, 0.56, 0.  ],\n",
              "       [3.48, 1.23, 0.61, 0.09],\n",
              "       [3.47, 1.38, 0.6 , 0.  ],\n",
              "       [3.54, 1.34, 0.57, 0.  ],\n",
              "       [3.45, 1.21, 0.56, 0.  ],\n",
              "       [3.53, 1.32, 0.51, 0.11],\n",
              "       [3.48, 1.35, 0.64, 0.  ],\n",
              "       [3.82, 0.47, 0.11, 0.  ],\n",
              "       [3.82, 0.47, 0.11, 0.  ],\n",
              "       [3.5 , 1.12, 0.64, 0.  ],\n",
              "       [3.42, 1.2 , 0.59, 0.  ],\n",
              "       [3.39, 1.33, 0.59, 0.  ],\n",
              "       [3.84, 0.72, 0.17, 0.  ],\n",
              "       [3.43, 1.19, 0.62, 0.  ],\n",
              "       [3.48, 1.35, 0.55, 0.  ],\n",
              "       [3.37, 1.18, 0.57, 0.  ],\n",
              "       [3.7 , 0.71, 0.02, 0.  ],\n",
              "       [3.77, 0.79, 0.13, 0.  ],\n",
              "       [3.35, 1.23, 0.59, 0.  ],\n",
              "       [3.72, 0.51, 0.09, 0.  ],\n",
              "       [3.33, 1.28, 0.6 , 0.  ],\n",
              "       [2.87, 1.19, 0.55, 0.  ],\n",
              "       [2.84, 1.28, 0.55, 0.  ],\n",
              "       [2.81, 1.29, 0.51, 0.  ],\n",
              "       [2.71, 1.29, 0.56, 0.  ],\n",
              "       [3.47, 1.12, 0.62, 0.  ],\n",
              "       [3.48, 1.29, 0.6 , 0.  ],\n",
              "       [3.74, 1.17, 0.59, 0.  ],\n",
              "       [3.66, 1.19, 0.57, 0.  ],\n",
              "       [3.62, 1.11, 0.14, 0.  ],\n",
              "       [3.58, 1.32, 0.12, 0.69],\n",
              "       [3.86, 0.88, 0.23, 0.  ],\n",
              "       [3.81, 0.78, 0.  , 0.  ],\n",
              "       [3.74, 0.9 , 0.18, 0.  ],\n",
              "       [3.59, 1.12, 0.09, 0.  ],\n",
              "       [3.65, 0.87, 0.19, 0.  ],\n",
              "       [3.65, 0.87, 0.19, 0.  ],\n",
              "       [3.58, 0.9 , 0.23, 0.  ],\n",
              "       [3.58, 0.82, 0.12, 0.  ],\n",
              "       [3.67, 1.74, 0.16, 0.  ],\n",
              "       [3.87, 1.27, 0.54, 0.  ],\n",
              "       [3.59, 1.52, 0.67, 0.  ],\n",
              "       [3.57, 1.57, 0.61, 0.  ],\n",
              "       [3.56, 1.54, 0.72, 0.  ],\n",
              "       [3.58, 1.51, 0.69, 0.  ],\n",
              "       [3.61, 1.54, 0.66, 0.  ],\n",
              "       [3.58, 1.54, 0.61, 0.  ],\n",
              "       [3.52, 1.25, 0.37, 0.  ],\n",
              "       [3.52, 1.9 , 0.69, 0.  ],\n",
              "       [3.52, 2.12, 0.69, 0.  ],\n",
              "       [3.45, 1.43, 0.61, 0.  ],\n",
              "       [3.55, 1.25, 0.68, 0.  ],\n",
              "       [3.52, 1.55, 0.68, 0.  ],\n",
              "       [3.09, 2.08, 1.1 , 0.  ],\n",
              "       [3.58, 1.49, 0.45, 0.  ],\n",
              "       [3.49, 1.47, 0.38, 0.  ],\n",
              "       [3.49, 1.52, 0.67, 0.  ],\n",
              "       [3.5 , 1.48, 0.6 , 0.  ],\n",
              "       [3.48, 1.87, 0.63, 0.  ],\n",
              "       [3.74, 1.11, 0.64, 0.  ],\n",
              "       [3.44, 1.45, 0.44, 0.  ],\n",
              "       [3.41, 1.58, 0.07, 0.  ],\n",
              "       [3.34, 1.47, 0.39, 0.  ],\n",
              "       [3.33, 1.49, 0.67, 0.  ],\n",
              "       [3.43, 1.43, 0.51, 0.  ],\n",
              "       [3.62, 1.06, 0.64, 0.  ],\n",
              "       [3.25, 1.16, 0.62, 0.  ],\n",
              "       [2.88, 1.71, 0.73, 0.  ],\n",
              "       [2.96, 1.43, 0.6 , 0.14],\n",
              "       [2.85, 1.44, 0.57, 0.11],\n",
              "       [2.72, 1.63, 0.7 , 0.  ],\n",
              "       [2.76, 0.83, 0.35, 0.  ],\n",
              "       [3.15, 0.66, 0.08, 0.  ],\n",
              "       [2.9 , 1.17, 0.08, 0.  ],\n",
              "       [0.  , 1.88, 0.81, 0.  ],\n",
              "       [0.  , 2.1 , 0.58, 3.15],\n",
              "       [0.  , 1.  , 0.12, 0.  ],\n",
              "       [0.  , 1.  , 0.1 , 0.  ],\n",
              "       [0.  , 0.56, 0.  , 0.  ],\n",
              "       [0.  , 0.77, 0.  , 0.  ],\n",
              "       [0.  , 0.75, 0.  , 0.  ],\n",
              "       [0.  , 0.67, 0.06, 0.  ],\n",
              "       [3.83, 1.26, 0.57, 0.  ],\n",
              "       [3.97, 1.19, 0.6 , 0.  ],\n",
              "       [3.89, 1.33, 0.51, 0.  ],\n",
              "       [3.9 , 1.41, 0.55, 0.  ],\n",
              "       [3.68, 1.81, 0.64, 0.  ],\n",
              "       [3.64, 1.53, 0.65, 0.  ],\n",
              "       [3.57, 1.47, 0.64, 0.  ],\n",
              "       [3.76, 1.32, 0.58, 0.  ],\n",
              "       [3.54, 1.62, 0.64, 0.  ],\n",
              "       [3.54, 1.48, 0.56, 0.  ],\n",
              "       [3.48, 1.71, 0.62, 0.  ],\n",
              "       [3.68, 1.15, 0.54, 0.  ],\n",
              "       [3.66, 1.56, 0.58, 0.  ],\n",
              "       [3.61, 1.26, 0.56, 0.  ],\n",
              "       [2.28, 1.43, 0.49, 0.  ],\n",
              "       [2.09, 1.67, 0.53, 0.27],\n",
              "       [1.35, 1.63, 0.39, 0.  ],\n",
              "       [1.01, 1.36, 0.33, 0.  ],\n",
              "       [0.  , 1.36, 0.19, 0.  ],\n",
              "       [3.98, 1.18, 0.58, 0.  ],\n",
              "       [3.93, 1.54, 0.54, 0.  ],\n",
              "       [3.85, 1.25, 0.52, 0.  ],\n",
              "       [3.9 , 1.3 , 0.55, 0.  ],\n",
              "       [3.8 , 1.08, 0.56, 0.  ],\n",
              "       [3.62, 1.57, 0.61, 0.  ],\n",
              "       [3.52, 1.54, 0.66, 0.  ],\n",
              "       [3.56, 1.64, 0.65, 0.  ],\n",
              "       [3.54, 1.61, 0.68, 0.  ],\n",
              "       [3.63, 1.07, 0.57, 0.09],\n",
              "       [3.51, 1.44, 0.68, 0.06],\n",
              "       [3.47, 1.79, 0.66, 0.  ],\n",
              "       [3.18, 1.23, 0.58, 0.  ],\n",
              "       [3.67, 1.24, 0.62, 0.  ],\n",
              "       [3.66, 1.11, 0.11, 0.  ],\n",
              "       [3.53, 1.34, 0.56, 0.  ],\n",
              "       [3.57, 1.38, 0.56, 0.  ],\n",
              "       [3.52, 1.35, 0.57, 0.  ],\n",
              "       [3.45, 1.76, 0.6 , 0.  ],\n",
              "       [3.9 , 0.83, 0.  , 0.  ],\n",
              "       [3.65, 0.65, 0.06, 0.  ],\n",
              "       [3.4 , 1.22, 0.59, 0.  ],\n",
              "       [3.58, 1.31, 0.61, 0.  ],\n",
              "       [3.4 , 1.26, 0.52, 0.  ],\n",
              "       [3.39, 1.28, 0.52, 0.  ],\n",
              "       [3.76, 0.58, 0.11, 0.  ],\n",
              "       [3.41, 1.52, 0.58, 0.  ],\n",
              "       [3.36, 1.63, 0.57, 0.  ],\n",
              "       [3.34, 1.54, 0.56, 0.  ],\n",
              "       [3.54, 0.75, 0.16, 0.15],\n",
              "       [3.78, 0.91, 0.23, 0.  ],\n",
              "       [2.68, 3.5 , 1.68, 2.2 ],\n",
              "       [1.85, 1.86, 0.6 , 0.  ],\n",
              "       [1.88, 1.56, 0.47, 0.  ],\n",
              "       [1.71, 1.56, 0.58, 0.  ],\n",
              "       [0.  , 1.65, 0.38, 0.  ],\n",
              "       [0.  , 1.83, 0.97, 0.  ],\n",
              "       [0.  , 1.76, 0.47, 0.  ],\n",
              "       [0.  , 1.58, 0.32, 0.  ],\n",
              "       [0.  , 3.04, 6.21, 0.  ],\n",
              "       [0.  , 3.02, 6.21, 0.  ],\n",
              "       [0.  , 1.4 , 0.33, 0.  ],\n",
              "       [1.61, 2.17, 0.76, 0.24],\n",
              "       [0.33, 1.51, 0.13, 0.  ],\n",
              "       [2.39, 1.56, 0.  , 0.  ],\n",
              "       [2.41, 1.19, 0.  , 0.  ],\n",
              "       [2.24, 1.62, 0.  , 0.  ],\n",
              "       [2.19, 1.66, 0.  , 0.  ],\n",
              "       [1.74, 1.54, 0.  , 0.  ],\n",
              "       [0.78, 1.74, 0.  , 0.  ],\n",
              "       [0.  , 2.09, 0.  , 0.  ],\n",
              "       [0.  , 0.56, 0.  , 0.  ],\n",
              "       [0.  , 0.34, 0.  , 0.  ],\n",
              "       [3.2 , 1.81, 1.76, 1.19],\n",
              "       [3.26, 2.22, 1.46, 1.63],\n",
              "       [3.34, 1.23, 0.6 , 0.  ],\n",
              "       [2.2 , 2.06, 0.76, 0.  ],\n",
              "       [1.83, 1.31, 0.31, 1.68],\n",
              "       [1.78, 1.79, 0.  , 0.76],\n",
              "       [0.  , 2.38, 0.  , 0.64],\n",
              "       [0.  , 2.79, 0.04, 0.4 ],\n",
              "       [0.  , 2.  , 0.  , 1.59],\n",
              "       [0.  , 1.98, 0.  , 1.57],\n",
              "       [0.  , 2.68, 0.08, 0.61],\n",
              "       [0.  , 2.54, 0.14, 0.81],\n",
              "       [0.  , 2.34, 0.  , 0.66],\n",
              "       [0.  , 2.66, 0.04, 0.64],\n",
              "       [0.  , 2.51, 0.05, 0.53],\n",
              "       [0.  , 2.25, 0.  , 0.63],\n",
              "       [0.  , 1.19, 2.7 , 0.  ],\n",
              "       [0.  , 2.42, 0.  , 0.56],\n",
              "       [0.  , 1.99, 0.  , 1.71],\n",
              "       [0.  , 2.27, 0.  , 0.67],\n",
              "       [0.  , 1.8 , 0.  , 1.55],\n",
              "       [0.  , 1.87, 0.  , 1.38],\n",
              "       [0.  , 1.82, 1.41, 2.88],\n",
              "       [0.  , 2.74, 0.  , 0.54],\n",
              "       [0.  , 2.88, 0.08, 1.06],\n",
              "       [0.  , 1.99, 0.  , 1.59],\n",
              "       [0.  , 2.02, 0.  , 1.64],\n",
              "       [0.  , 1.94, 0.  , 1.57],\n",
              "       [0.  , 2.08, 0.  , 1.67]])"
            ]
          },
          "metadata": {},
          "execution_count": 8
        }
      ]
    },
    {
      "cell_type": "markdown",
      "source": [
        "# INDEPENDENT AND DEPENDENT VARIABLE"
      ],
      "metadata": {
        "id": "0ECtT-wTpjnw"
      }
    },
    {
      "cell_type": "code",
      "source": [
        "X = dataset.iloc[:, [2,3,5,7]].values\n",
        "y = dataset.iloc[:, -1].values"
      ],
      "metadata": {
        "id": "tWwMlbeEpeXW"
      },
      "execution_count": 9,
      "outputs": []
    },
    {
      "cell_type": "code",
      "source": [
        "X"
      ],
      "metadata": {
        "colab": {
          "base_uri": "https://localhost:8080/"
        },
        "id": "F6psW3kTp1SZ",
        "outputId": "b03399c7-c722-4d52-a8c2-0b8a630e9fe4"
      },
      "execution_count": 10,
      "outputs": [
        {
          "output_type": "execute_result",
          "data": {
            "text/plain": [
              "array([[4.49, 1.1 , 0.06, 0.  ],\n",
              "       [3.6 , 1.36, 0.48, 0.  ],\n",
              "       [3.55, 1.54, 0.39, 0.  ],\n",
              "       [3.69, 1.29, 0.57, 0.  ],\n",
              "       [3.62, 1.24, 0.55, 0.  ],\n",
              "       [3.61, 1.62, 0.64, 0.  ],\n",
              "       [3.6 , 1.14, 0.58, 0.  ],\n",
              "       [3.61, 1.05, 0.57, 0.  ],\n",
              "       [3.58, 1.37, 0.56, 0.  ],\n",
              "       [3.6 , 1.36, 0.57, 0.  ],\n",
              "       [3.46, 1.56, 0.67, 0.  ],\n",
              "       [3.66, 1.27, 0.6 , 0.  ],\n",
              "       [3.43, 1.4 , 0.69, 0.  ],\n",
              "       [3.56, 1.27, 0.54, 0.  ],\n",
              "       [3.59, 1.31, 0.58, 0.  ],\n",
              "       [3.54, 1.23, 0.58, 0.  ],\n",
              "       [3.67, 1.16, 0.61, 0.  ],\n",
              "       [3.85, 0.89, 0.15, 0.  ],\n",
              "       [3.73, 1.18, 0.06, 0.  ],\n",
              "       [3.54, 1.69, 0.54, 0.  ],\n",
              "       [3.55, 1.49, 0.54, 0.  ],\n",
              "       [3.75, 0.29, 0.03, 0.  ],\n",
              "       [3.62, 1.29, 0.59, 0.  ],\n",
              "       [3.57, 1.35, 0.62, 0.  ],\n",
              "       [3.5 , 1.15, 0.5 , 0.  ],\n",
              "       [3.54, 1.21, 0.65, 0.  ],\n",
              "       [3.48, 1.41, 0.59, 0.  ],\n",
              "       [3.48, 1.33, 0.56, 0.  ],\n",
              "       [3.52, 1.43, 0.57, 0.  ],\n",
              "       [3.49, 1.28, 0.6 , 0.  ],\n",
              "       [3.56, 1.3 , 0.61, 0.  ],\n",
              "       [3.5 , 1.14, 0.56, 0.  ],\n",
              "       [3.48, 1.23, 0.61, 0.09],\n",
              "       [3.47, 1.38, 0.6 , 0.  ],\n",
              "       [3.54, 1.34, 0.57, 0.  ],\n",
              "       [3.45, 1.21, 0.56, 0.  ],\n",
              "       [3.53, 1.32, 0.51, 0.11],\n",
              "       [3.48, 1.35, 0.64, 0.  ],\n",
              "       [3.82, 0.47, 0.11, 0.  ],\n",
              "       [3.82, 0.47, 0.11, 0.  ],\n",
              "       [3.5 , 1.12, 0.64, 0.  ],\n",
              "       [3.42, 1.2 , 0.59, 0.  ],\n",
              "       [3.39, 1.33, 0.59, 0.  ],\n",
              "       [3.84, 0.72, 0.17, 0.  ],\n",
              "       [3.43, 1.19, 0.62, 0.  ],\n",
              "       [3.48, 1.35, 0.55, 0.  ],\n",
              "       [3.37, 1.18, 0.57, 0.  ],\n",
              "       [3.7 , 0.71, 0.02, 0.  ],\n",
              "       [3.77, 0.79, 0.13, 0.  ],\n",
              "       [3.35, 1.23, 0.59, 0.  ],\n",
              "       [3.72, 0.51, 0.09, 0.  ],\n",
              "       [3.33, 1.28, 0.6 , 0.  ],\n",
              "       [2.87, 1.19, 0.55, 0.  ],\n",
              "       [2.84, 1.28, 0.55, 0.  ],\n",
              "       [2.81, 1.29, 0.51, 0.  ],\n",
              "       [2.71, 1.29, 0.56, 0.  ],\n",
              "       [3.47, 1.12, 0.62, 0.  ],\n",
              "       [3.48, 1.29, 0.6 , 0.  ],\n",
              "       [3.74, 1.17, 0.59, 0.  ],\n",
              "       [3.66, 1.19, 0.57, 0.  ],\n",
              "       [3.62, 1.11, 0.14, 0.  ],\n",
              "       [3.58, 1.32, 0.12, 0.69],\n",
              "       [3.86, 0.88, 0.23, 0.  ],\n",
              "       [3.81, 0.78, 0.  , 0.  ],\n",
              "       [3.74, 0.9 , 0.18, 0.  ],\n",
              "       [3.59, 1.12, 0.09, 0.  ],\n",
              "       [3.65, 0.87, 0.19, 0.  ],\n",
              "       [3.65, 0.87, 0.19, 0.  ],\n",
              "       [3.58, 0.9 , 0.23, 0.  ],\n",
              "       [3.58, 0.82, 0.12, 0.  ],\n",
              "       [3.67, 1.74, 0.16, 0.  ],\n",
              "       [3.87, 1.27, 0.54, 0.  ],\n",
              "       [3.59, 1.52, 0.67, 0.  ],\n",
              "       [3.57, 1.57, 0.61, 0.  ],\n",
              "       [3.56, 1.54, 0.72, 0.  ],\n",
              "       [3.58, 1.51, 0.69, 0.  ],\n",
              "       [3.61, 1.54, 0.66, 0.  ],\n",
              "       [3.58, 1.54, 0.61, 0.  ],\n",
              "       [3.52, 1.25, 0.37, 0.  ],\n",
              "       [3.52, 1.9 , 0.69, 0.  ],\n",
              "       [3.52, 2.12, 0.69, 0.  ],\n",
              "       [3.45, 1.43, 0.61, 0.  ],\n",
              "       [3.55, 1.25, 0.68, 0.  ],\n",
              "       [3.52, 1.55, 0.68, 0.  ],\n",
              "       [3.09, 2.08, 1.1 , 0.  ],\n",
              "       [3.58, 1.49, 0.45, 0.  ],\n",
              "       [3.49, 1.47, 0.38, 0.  ],\n",
              "       [3.49, 1.52, 0.67, 0.  ],\n",
              "       [3.5 , 1.48, 0.6 , 0.  ],\n",
              "       [3.48, 1.87, 0.63, 0.  ],\n",
              "       [3.74, 1.11, 0.64, 0.  ],\n",
              "       [3.44, 1.45, 0.44, 0.  ],\n",
              "       [3.41, 1.58, 0.07, 0.  ],\n",
              "       [3.34, 1.47, 0.39, 0.  ],\n",
              "       [3.33, 1.49, 0.67, 0.  ],\n",
              "       [3.43, 1.43, 0.51, 0.  ],\n",
              "       [3.62, 1.06, 0.64, 0.  ],\n",
              "       [3.25, 1.16, 0.62, 0.  ],\n",
              "       [2.88, 1.71, 0.73, 0.  ],\n",
              "       [2.96, 1.43, 0.6 , 0.14],\n",
              "       [2.85, 1.44, 0.57, 0.11],\n",
              "       [2.72, 1.63, 0.7 , 0.  ],\n",
              "       [2.76, 0.83, 0.35, 0.  ],\n",
              "       [3.15, 0.66, 0.08, 0.  ],\n",
              "       [2.9 , 1.17, 0.08, 0.  ],\n",
              "       [0.  , 1.88, 0.81, 0.  ],\n",
              "       [0.  , 2.1 , 0.58, 3.15],\n",
              "       [0.  , 1.  , 0.12, 0.  ],\n",
              "       [0.  , 1.  , 0.1 , 0.  ],\n",
              "       [0.  , 0.56, 0.  , 0.  ],\n",
              "       [0.  , 0.77, 0.  , 0.  ],\n",
              "       [0.  , 0.75, 0.  , 0.  ],\n",
              "       [0.  , 0.67, 0.06, 0.  ],\n",
              "       [3.83, 1.26, 0.57, 0.  ],\n",
              "       [3.97, 1.19, 0.6 , 0.  ],\n",
              "       [3.89, 1.33, 0.51, 0.  ],\n",
              "       [3.9 , 1.41, 0.55, 0.  ],\n",
              "       [3.68, 1.81, 0.64, 0.  ],\n",
              "       [3.64, 1.53, 0.65, 0.  ],\n",
              "       [3.57, 1.47, 0.64, 0.  ],\n",
              "       [3.76, 1.32, 0.58, 0.  ],\n",
              "       [3.54, 1.62, 0.64, 0.  ],\n",
              "       [3.54, 1.48, 0.56, 0.  ],\n",
              "       [3.48, 1.71, 0.62, 0.  ],\n",
              "       [3.68, 1.15, 0.54, 0.  ],\n",
              "       [3.66, 1.56, 0.58, 0.  ],\n",
              "       [3.61, 1.26, 0.56, 0.  ],\n",
              "       [2.28, 1.43, 0.49, 0.  ],\n",
              "       [2.09, 1.67, 0.53, 0.27],\n",
              "       [1.35, 1.63, 0.39, 0.  ],\n",
              "       [1.01, 1.36, 0.33, 0.  ],\n",
              "       [0.  , 1.36, 0.19, 0.  ],\n",
              "       [3.98, 1.18, 0.58, 0.  ],\n",
              "       [3.93, 1.54, 0.54, 0.  ],\n",
              "       [3.85, 1.25, 0.52, 0.  ],\n",
              "       [3.9 , 1.3 , 0.55, 0.  ],\n",
              "       [3.8 , 1.08, 0.56, 0.  ],\n",
              "       [3.62, 1.57, 0.61, 0.  ],\n",
              "       [3.52, 1.54, 0.66, 0.  ],\n",
              "       [3.56, 1.64, 0.65, 0.  ],\n",
              "       [3.54, 1.61, 0.68, 0.  ],\n",
              "       [3.63, 1.07, 0.57, 0.09],\n",
              "       [3.51, 1.44, 0.68, 0.06],\n",
              "       [3.47, 1.79, 0.66, 0.  ],\n",
              "       [3.18, 1.23, 0.58, 0.  ],\n",
              "       [3.67, 1.24, 0.62, 0.  ],\n",
              "       [3.66, 1.11, 0.11, 0.  ],\n",
              "       [3.53, 1.34, 0.56, 0.  ],\n",
              "       [3.57, 1.38, 0.56, 0.  ],\n",
              "       [3.52, 1.35, 0.57, 0.  ],\n",
              "       [3.45, 1.76, 0.6 , 0.  ],\n",
              "       [3.9 , 0.83, 0.  , 0.  ],\n",
              "       [3.65, 0.65, 0.06, 0.  ],\n",
              "       [3.4 , 1.22, 0.59, 0.  ],\n",
              "       [3.58, 1.31, 0.61, 0.  ],\n",
              "       [3.4 , 1.26, 0.52, 0.  ],\n",
              "       [3.39, 1.28, 0.52, 0.  ],\n",
              "       [3.76, 0.58, 0.11, 0.  ],\n",
              "       [3.41, 1.52, 0.58, 0.  ],\n",
              "       [3.36, 1.63, 0.57, 0.  ],\n",
              "       [3.34, 1.54, 0.56, 0.  ],\n",
              "       [3.54, 0.75, 0.16, 0.15],\n",
              "       [3.78, 0.91, 0.23, 0.  ],\n",
              "       [2.68, 3.5 , 1.68, 2.2 ],\n",
              "       [1.85, 1.86, 0.6 , 0.  ],\n",
              "       [1.88, 1.56, 0.47, 0.  ],\n",
              "       [1.71, 1.56, 0.58, 0.  ],\n",
              "       [0.  , 1.65, 0.38, 0.  ],\n",
              "       [0.  , 1.83, 0.97, 0.  ],\n",
              "       [0.  , 1.76, 0.47, 0.  ],\n",
              "       [0.  , 1.58, 0.32, 0.  ],\n",
              "       [0.  , 3.04, 6.21, 0.  ],\n",
              "       [0.  , 3.02, 6.21, 0.  ],\n",
              "       [0.  , 1.4 , 0.33, 0.  ],\n",
              "       [1.61, 2.17, 0.76, 0.24],\n",
              "       [0.33, 1.51, 0.13, 0.  ],\n",
              "       [2.39, 1.56, 0.  , 0.  ],\n",
              "       [2.41, 1.19, 0.  , 0.  ],\n",
              "       [2.24, 1.62, 0.  , 0.  ],\n",
              "       [2.19, 1.66, 0.  , 0.  ],\n",
              "       [1.74, 1.54, 0.  , 0.  ],\n",
              "       [0.78, 1.74, 0.  , 0.  ],\n",
              "       [0.  , 2.09, 0.  , 0.  ],\n",
              "       [0.  , 0.56, 0.  , 0.  ],\n",
              "       [0.  , 0.34, 0.  , 0.  ],\n",
              "       [3.2 , 1.81, 1.76, 1.19],\n",
              "       [3.26, 2.22, 1.46, 1.63],\n",
              "       [3.34, 1.23, 0.6 , 0.  ],\n",
              "       [2.2 , 2.06, 0.76, 0.  ],\n",
              "       [1.83, 1.31, 0.31, 1.68],\n",
              "       [1.78, 1.79, 0.  , 0.76],\n",
              "       [0.  , 2.38, 0.  , 0.64],\n",
              "       [0.  , 2.79, 0.04, 0.4 ],\n",
              "       [0.  , 2.  , 0.  , 1.59],\n",
              "       [0.  , 1.98, 0.  , 1.57],\n",
              "       [0.  , 2.68, 0.08, 0.61],\n",
              "       [0.  , 2.54, 0.14, 0.81],\n",
              "       [0.  , 2.34, 0.  , 0.66],\n",
              "       [0.  , 2.66, 0.04, 0.64],\n",
              "       [0.  , 2.51, 0.05, 0.53],\n",
              "       [0.  , 2.25, 0.  , 0.63],\n",
              "       [0.  , 1.19, 2.7 , 0.  ],\n",
              "       [0.  , 2.42, 0.  , 0.56],\n",
              "       [0.  , 1.99, 0.  , 1.71],\n",
              "       [0.  , 2.27, 0.  , 0.67],\n",
              "       [0.  , 1.8 , 0.  , 1.55],\n",
              "       [0.  , 1.87, 0.  , 1.38],\n",
              "       [0.  , 1.82, 1.41, 2.88],\n",
              "       [0.  , 2.74, 0.  , 0.54],\n",
              "       [0.  , 2.88, 0.08, 1.06],\n",
              "       [0.  , 1.99, 0.  , 1.59],\n",
              "       [0.  , 2.02, 0.  , 1.64],\n",
              "       [0.  , 1.94, 0.  , 1.57],\n",
              "       [0.  , 2.08, 0.  , 1.67]])"
            ]
          },
          "metadata": {},
          "execution_count": 10
        }
      ]
    },
    {
      "cell_type": "code",
      "source": [
        "y"
      ],
      "metadata": {
        "colab": {
          "base_uri": "https://localhost:8080/"
        },
        "id": "G4tcNjAip2aW",
        "outputId": "137cd4ff-d8f4-435f-b44c-aaa82535108a"
      },
      "execution_count": 11,
      "outputs": [
        {
          "output_type": "execute_result",
          "data": {
            "text/plain": [
              "array([1, 1, 1, 1, 1, 1, 1, 1, 1, 1, 1, 1, 1, 1, 1, 1, 1, 1, 1, 1, 1, 1,\n",
              "       1, 1, 1, 1, 1, 1, 1, 1, 1, 1, 1, 1, 1, 1, 1, 1, 1, 1, 1, 1, 1, 1,\n",
              "       1, 1, 1, 1, 1, 1, 1, 1, 1, 1, 1, 1, 1, 1, 1, 1, 1, 1, 1, 1, 1, 1,\n",
              "       1, 1, 1, 1, 2, 2, 2, 2, 2, 2, 2, 2, 2, 2, 2, 2, 2, 2, 2, 2, 2, 2,\n",
              "       2, 2, 2, 2, 2, 2, 2, 2, 2, 2, 2, 2, 2, 2, 2, 2, 2, 2, 2, 2, 2, 2,\n",
              "       2, 2, 2, 2, 2, 2, 2, 2, 2, 2, 2, 2, 2, 2, 2, 2, 2, 2, 2, 2, 2, 2,\n",
              "       2, 2, 2, 2, 2, 2, 2, 2, 2, 2, 2, 2, 2, 2, 3, 3, 3, 3, 3, 3, 3, 3,\n",
              "       3, 3, 3, 3, 3, 3, 3, 3, 3, 5, 5, 5, 5, 5, 5, 5, 5, 5, 5, 5, 5, 5,\n",
              "       6, 6, 6, 6, 6, 6, 6, 6, 6, 7, 7, 7, 7, 7, 7, 7, 7, 7, 7, 7, 7, 7,\n",
              "       7, 7, 7, 7, 7, 7, 7, 7, 7, 7, 7, 7, 7, 7, 7, 7])"
            ]
          },
          "metadata": {},
          "execution_count": 11
        }
      ]
    },
    {
      "cell_type": "markdown",
      "source": [
        "# ENCODING THE DATASET"
      ],
      "metadata": {
        "id": "ZPzErs8xgeTy"
      }
    },
    {
      "cell_type": "code",
      "source": [
        "from sklearn.preprocessing import LabelEncoder\n",
        "labelencoder_y = LabelEncoder()\n",
        "y = labelencoder_y.fit_transform(y)"
      ],
      "metadata": {
        "id": "bX-_uFTJgq_B"
      },
      "execution_count": 12,
      "outputs": []
    },
    {
      "cell_type": "markdown",
      "source": [
        "# SPLITTING THE DATASET"
      ],
      "metadata": {
        "id": "Vu4MVvALqhv9"
      }
    },
    {
      "cell_type": "code",
      "source": [
        "from sklearn.model_selection import train_test_split\n",
        "X_train, X_test, y_train, y_test = train_test_split(X, y, test_size = 0.25, random_state = 0 )"
      ],
      "metadata": {
        "id": "uR-7yPRhp3Ef"
      },
      "execution_count": 13,
      "outputs": []
    },
    {
      "cell_type": "markdown",
      "source": [
        "# ML ALGORITHM_CLASSIFICATION(KNN)"
      ],
      "metadata": {
        "id": "q-6uXh4_rC_M"
      }
    },
    {
      "cell_type": "code",
      "source": [
        "# FITTING THE MODEL\n",
        "from sklearn.neighbors import KNeighborsClassifier\n",
        "classifier = KNeighborsClassifier(n_neighbors = 5, metric = 'minkowski', p = 2)\n",
        "classifier.fit(X_train, y_train)"
      ],
      "metadata": {
        "colab": {
          "base_uri": "https://localhost:8080/",
          "height": 74
        },
        "id": "8EnspZlgq5TX",
        "outputId": "0af2e683-ae89-4d2c-b97f-c5af5c129369"
      },
      "execution_count": 14,
      "outputs": [
        {
          "output_type": "execute_result",
          "data": {
            "text/plain": [
              "KNeighborsClassifier()"
            ],
            "text/html": [
              "<style>#sk-container-id-1 {color: black;background-color: white;}#sk-container-id-1 pre{padding: 0;}#sk-container-id-1 div.sk-toggleable {background-color: white;}#sk-container-id-1 label.sk-toggleable__label {cursor: pointer;display: block;width: 100%;margin-bottom: 0;padding: 0.3em;box-sizing: border-box;text-align: center;}#sk-container-id-1 label.sk-toggleable__label-arrow:before {content: \"▸\";float: left;margin-right: 0.25em;color: #696969;}#sk-container-id-1 label.sk-toggleable__label-arrow:hover:before {color: black;}#sk-container-id-1 div.sk-estimator:hover label.sk-toggleable__label-arrow:before {color: black;}#sk-container-id-1 div.sk-toggleable__content {max-height: 0;max-width: 0;overflow: hidden;text-align: left;background-color: #f0f8ff;}#sk-container-id-1 div.sk-toggleable__content pre {margin: 0.2em;color: black;border-radius: 0.25em;background-color: #f0f8ff;}#sk-container-id-1 input.sk-toggleable__control:checked~div.sk-toggleable__content {max-height: 200px;max-width: 100%;overflow: auto;}#sk-container-id-1 input.sk-toggleable__control:checked~label.sk-toggleable__label-arrow:before {content: \"▾\";}#sk-container-id-1 div.sk-estimator input.sk-toggleable__control:checked~label.sk-toggleable__label {background-color: #d4ebff;}#sk-container-id-1 div.sk-label input.sk-toggleable__control:checked~label.sk-toggleable__label {background-color: #d4ebff;}#sk-container-id-1 input.sk-hidden--visually {border: 0;clip: rect(1px 1px 1px 1px);clip: rect(1px, 1px, 1px, 1px);height: 1px;margin: -1px;overflow: hidden;padding: 0;position: absolute;width: 1px;}#sk-container-id-1 div.sk-estimator {font-family: monospace;background-color: #f0f8ff;border: 1px dotted black;border-radius: 0.25em;box-sizing: border-box;margin-bottom: 0.5em;}#sk-container-id-1 div.sk-estimator:hover {background-color: #d4ebff;}#sk-container-id-1 div.sk-parallel-item::after {content: \"\";width: 100%;border-bottom: 1px solid gray;flex-grow: 1;}#sk-container-id-1 div.sk-label:hover label.sk-toggleable__label {background-color: #d4ebff;}#sk-container-id-1 div.sk-serial::before {content: \"\";position: absolute;border-left: 1px solid gray;box-sizing: border-box;top: 0;bottom: 0;left: 50%;z-index: 0;}#sk-container-id-1 div.sk-serial {display: flex;flex-direction: column;align-items: center;background-color: white;padding-right: 0.2em;padding-left: 0.2em;position: relative;}#sk-container-id-1 div.sk-item {position: relative;z-index: 1;}#sk-container-id-1 div.sk-parallel {display: flex;align-items: stretch;justify-content: center;background-color: white;position: relative;}#sk-container-id-1 div.sk-item::before, #sk-container-id-1 div.sk-parallel-item::before {content: \"\";position: absolute;border-left: 1px solid gray;box-sizing: border-box;top: 0;bottom: 0;left: 50%;z-index: -1;}#sk-container-id-1 div.sk-parallel-item {display: flex;flex-direction: column;z-index: 1;position: relative;background-color: white;}#sk-container-id-1 div.sk-parallel-item:first-child::after {align-self: flex-end;width: 50%;}#sk-container-id-1 div.sk-parallel-item:last-child::after {align-self: flex-start;width: 50%;}#sk-container-id-1 div.sk-parallel-item:only-child::after {width: 0;}#sk-container-id-1 div.sk-dashed-wrapped {border: 1px dashed gray;margin: 0 0.4em 0.5em 0.4em;box-sizing: border-box;padding-bottom: 0.4em;background-color: white;}#sk-container-id-1 div.sk-label label {font-family: monospace;font-weight: bold;display: inline-block;line-height: 1.2em;}#sk-container-id-1 div.sk-label-container {text-align: center;}#sk-container-id-1 div.sk-container {/* jupyter's `normalize.less` sets `[hidden] { display: none; }` but bootstrap.min.css set `[hidden] { display: none !important; }` so we also need the `!important` here to be able to override the default hidden behavior on the sphinx rendered scikit-learn.org. See: https://github.com/scikit-learn/scikit-learn/issues/21755 */display: inline-block !important;position: relative;}#sk-container-id-1 div.sk-text-repr-fallback {display: none;}</style><div id=\"sk-container-id-1\" class=\"sk-top-container\"><div class=\"sk-text-repr-fallback\"><pre>KNeighborsClassifier()</pre><b>In a Jupyter environment, please rerun this cell to show the HTML representation or trust the notebook. <br />On GitHub, the HTML representation is unable to render, please try loading this page with nbviewer.org.</b></div><div class=\"sk-container\" hidden><div class=\"sk-item\"><div class=\"sk-estimator sk-toggleable\"><input class=\"sk-toggleable__control sk-hidden--visually\" id=\"sk-estimator-id-1\" type=\"checkbox\" checked><label for=\"sk-estimator-id-1\" class=\"sk-toggleable__label sk-toggleable__label-arrow\">KNeighborsClassifier</label><div class=\"sk-toggleable__content\"><pre>KNeighborsClassifier()</pre></div></div></div></div></div>"
            ]
          },
          "metadata": {},
          "execution_count": 14
        }
      ]
    },
    {
      "cell_type": "code",
      "source": [
        "#Predicting the test \n",
        "y_pred = classifier.predict(X_test)"
      ],
      "metadata": {
        "id": "L1Rgbg7krHja"
      },
      "execution_count": 15,
      "outputs": []
    },
    {
      "cell_type": "code",
      "source": [
        "y_pred"
      ],
      "metadata": {
        "colab": {
          "base_uri": "https://localhost:8080/"
        },
        "id": "W26oxlnOrLo6",
        "outputId": "4bb81336-f0be-46d8-9383-4a4f349bff0b"
      },
      "execution_count": 16,
      "outputs": [
        {
          "output_type": "execute_result",
          "data": {
            "text/plain": [
              "array([5, 0, 1, 4, 3, 1, 0, 1, 1, 1, 0, 0, 1, 1, 1, 5, 0, 1, 0, 1, 3, 0,\n",
              "       5, 3, 0, 0, 5, 0, 1, 1, 0, 0, 1, 0, 1, 0, 0, 0, 0, 5, 5, 3, 1, 0,\n",
              "       1, 1, 0, 1, 0, 1, 0, 1, 5, 0])"
            ]
          },
          "metadata": {},
          "execution_count": 16
        }
      ]
    },
    {
      "cell_type": "markdown",
      "source": [
        "# K-FOLD CV"
      ],
      "metadata": {
        "id": "uUdXcwOyesEJ"
      }
    },
    {
      "cell_type": "code",
      "source": [
        "from sklearn.model_selection import KFold\n",
        "num_folds = 10\n",
        "kfold = KFold(n_splits=num_folds)"
      ],
      "metadata": {
        "id": "7URWFJXTPSxx"
      },
      "execution_count": 17,
      "outputs": []
    },
    {
      "cell_type": "code",
      "source": [
        "from sklearn.model_selection import cross_val_score\n",
        "accuraries = cross_val_score(estimator = classifier, X = X_test, y = y_test, cv = kfold)\n",
        "print(\"Accuracy: {:.2f} % \" .format(accuraries.mean()*100 ))\n",
        "print(\"Standard Deviation: {:.2f} % \" .format(accuraries.std()*100))"
      ],
      "metadata": {
        "colab": {
          "base_uri": "https://localhost:8080/"
        },
        "id": "r7l3rjdJPO5v",
        "outputId": "90c669f6-51ec-434f-f103-341cfcdcf958"
      },
      "execution_count": 18,
      "outputs": [
        {
          "output_type": "stream",
          "name": "stdout",
          "text": [
            "Accuracy: 56.33 % \n",
            "Standard Deviation: 20.57 % \n"
          ]
        }
      ]
    },
    {
      "cell_type": "code",
      "source": [
        "for i in range(len(accuraries)):\n",
        "  print(\"Accuracy: {:.2f} %\" .format(accuraries[i]*100))"
      ],
      "metadata": {
        "colab": {
          "base_uri": "https://localhost:8080/"
        },
        "id": "D5Xf56OM5d9K",
        "outputId": "dc1746f0-cfc8-4dfb-e2ea-d30a3179de4d"
      },
      "execution_count": 19,
      "outputs": [
        {
          "output_type": "stream",
          "name": "stdout",
          "text": [
            "Accuracy: 66.67 %\n",
            "Accuracy: 33.33 %\n",
            "Accuracy: 50.00 %\n",
            "Accuracy: 33.33 %\n",
            "Accuracy: 60.00 %\n",
            "Accuracy: 40.00 %\n",
            "Accuracy: 60.00 %\n",
            "Accuracy: 40.00 %\n",
            "Accuracy: 100.00 %\n",
            "Accuracy: 80.00 %\n"
          ]
        }
      ]
    },
    {
      "cell_type": "markdown",
      "source": [
        "# CREATING CONFUSION MATRIX"
      ],
      "metadata": {
        "id": "fpBFwXh9rPK7"
      }
    },
    {
      "cell_type": "code",
      "source": [
        "from sklearn.metrics import  confusion_matrix, accuracy_score\n",
        "cm = confusion_matrix(y_test, y_pred)\n",
        "acc = accuracy_score(y_test, y_pred)\n",
        "print(cm)\n",
        "print(acc)"
      ],
      "metadata": {
        "colab": {
          "base_uri": "https://localhost:8080/"
        },
        "id": "HItyxjxFrMrk",
        "outputId": "1f941b51-127a-4cac-fa4d-c899e310e73d"
      },
      "execution_count": 20,
      "outputs": [
        {
          "output_type": "stream",
          "name": "stdout",
          "text": [
            "[[12  2  0  0  0  0]\n",
            " [ 7 16  0  0  0  1]\n",
            " [ 3  2  0  0  0  0]\n",
            " [ 0  0  0  2  0  0]\n",
            " [ 0  0  0  1  1  0]\n",
            " [ 0  0  0  1  0  6]]\n",
            "0.6851851851851852\n"
          ]
        }
      ]
    },
    {
      "cell_type": "markdown",
      "source": [
        "# XG-BOOST"
      ],
      "metadata": {
        "id": "RaJ4_j5jfj65"
      }
    },
    {
      "cell_type": "code",
      "source": [
        "from xgboost import XGBClassifier\n",
        "model = XGBClassifier(n_estimators=90,max_depth=3)\n",
        "model.fit(X_train, y_train)"
      ],
      "metadata": {
        "colab": {
          "base_uri": "https://localhost:8080/",
          "height": 248
        },
        "id": "PC7YGQtQfnr3",
        "outputId": "5ea54578-d22b-4298-ab7c-072c2bcd7bb2"
      },
      "execution_count": 21,
      "outputs": [
        {
          "output_type": "execute_result",
          "data": {
            "text/plain": [
              "XGBClassifier(base_score=None, booster=None, callbacks=None,\n",
              "              colsample_bylevel=None, colsample_bynode=None,\n",
              "              colsample_bytree=None, early_stopping_rounds=None,\n",
              "              enable_categorical=False, eval_metric=None, feature_types=None,\n",
              "              gamma=None, gpu_id=None, grow_policy=None, importance_type=None,\n",
              "              interaction_constraints=None, learning_rate=None, max_bin=None,\n",
              "              max_cat_threshold=None, max_cat_to_onehot=None,\n",
              "              max_delta_step=None, max_depth=3, max_leaves=None,\n",
              "              min_child_weight=None, missing=nan, monotone_constraints=None,\n",
              "              n_estimators=90, n_jobs=None, num_parallel_tree=None,\n",
              "              objective='multi:softprob', predictor=None, ...)"
            ],
            "text/html": [
              "<style>#sk-container-id-2 {color: black;background-color: white;}#sk-container-id-2 pre{padding: 0;}#sk-container-id-2 div.sk-toggleable {background-color: white;}#sk-container-id-2 label.sk-toggleable__label {cursor: pointer;display: block;width: 100%;margin-bottom: 0;padding: 0.3em;box-sizing: border-box;text-align: center;}#sk-container-id-2 label.sk-toggleable__label-arrow:before {content: \"▸\";float: left;margin-right: 0.25em;color: #696969;}#sk-container-id-2 label.sk-toggleable__label-arrow:hover:before {color: black;}#sk-container-id-2 div.sk-estimator:hover label.sk-toggleable__label-arrow:before {color: black;}#sk-container-id-2 div.sk-toggleable__content {max-height: 0;max-width: 0;overflow: hidden;text-align: left;background-color: #f0f8ff;}#sk-container-id-2 div.sk-toggleable__content pre {margin: 0.2em;color: black;border-radius: 0.25em;background-color: #f0f8ff;}#sk-container-id-2 input.sk-toggleable__control:checked~div.sk-toggleable__content {max-height: 200px;max-width: 100%;overflow: auto;}#sk-container-id-2 input.sk-toggleable__control:checked~label.sk-toggleable__label-arrow:before {content: \"▾\";}#sk-container-id-2 div.sk-estimator input.sk-toggleable__control:checked~label.sk-toggleable__label {background-color: #d4ebff;}#sk-container-id-2 div.sk-label input.sk-toggleable__control:checked~label.sk-toggleable__label {background-color: #d4ebff;}#sk-container-id-2 input.sk-hidden--visually {border: 0;clip: rect(1px 1px 1px 1px);clip: rect(1px, 1px, 1px, 1px);height: 1px;margin: -1px;overflow: hidden;padding: 0;position: absolute;width: 1px;}#sk-container-id-2 div.sk-estimator {font-family: monospace;background-color: #f0f8ff;border: 1px dotted black;border-radius: 0.25em;box-sizing: border-box;margin-bottom: 0.5em;}#sk-container-id-2 div.sk-estimator:hover {background-color: #d4ebff;}#sk-container-id-2 div.sk-parallel-item::after {content: \"\";width: 100%;border-bottom: 1px solid gray;flex-grow: 1;}#sk-container-id-2 div.sk-label:hover label.sk-toggleable__label {background-color: #d4ebff;}#sk-container-id-2 div.sk-serial::before {content: \"\";position: absolute;border-left: 1px solid gray;box-sizing: border-box;top: 0;bottom: 0;left: 50%;z-index: 0;}#sk-container-id-2 div.sk-serial {display: flex;flex-direction: column;align-items: center;background-color: white;padding-right: 0.2em;padding-left: 0.2em;position: relative;}#sk-container-id-2 div.sk-item {position: relative;z-index: 1;}#sk-container-id-2 div.sk-parallel {display: flex;align-items: stretch;justify-content: center;background-color: white;position: relative;}#sk-container-id-2 div.sk-item::before, #sk-container-id-2 div.sk-parallel-item::before {content: \"\";position: absolute;border-left: 1px solid gray;box-sizing: border-box;top: 0;bottom: 0;left: 50%;z-index: -1;}#sk-container-id-2 div.sk-parallel-item {display: flex;flex-direction: column;z-index: 1;position: relative;background-color: white;}#sk-container-id-2 div.sk-parallel-item:first-child::after {align-self: flex-end;width: 50%;}#sk-container-id-2 div.sk-parallel-item:last-child::after {align-self: flex-start;width: 50%;}#sk-container-id-2 div.sk-parallel-item:only-child::after {width: 0;}#sk-container-id-2 div.sk-dashed-wrapped {border: 1px dashed gray;margin: 0 0.4em 0.5em 0.4em;box-sizing: border-box;padding-bottom: 0.4em;background-color: white;}#sk-container-id-2 div.sk-label label {font-family: monospace;font-weight: bold;display: inline-block;line-height: 1.2em;}#sk-container-id-2 div.sk-label-container {text-align: center;}#sk-container-id-2 div.sk-container {/* jupyter's `normalize.less` sets `[hidden] { display: none; }` but bootstrap.min.css set `[hidden] { display: none !important; }` so we also need the `!important` here to be able to override the default hidden behavior on the sphinx rendered scikit-learn.org. See: https://github.com/scikit-learn/scikit-learn/issues/21755 */display: inline-block !important;position: relative;}#sk-container-id-2 div.sk-text-repr-fallback {display: none;}</style><div id=\"sk-container-id-2\" class=\"sk-top-container\"><div class=\"sk-text-repr-fallback\"><pre>XGBClassifier(base_score=None, booster=None, callbacks=None,\n",
              "              colsample_bylevel=None, colsample_bynode=None,\n",
              "              colsample_bytree=None, early_stopping_rounds=None,\n",
              "              enable_categorical=False, eval_metric=None, feature_types=None,\n",
              "              gamma=None, gpu_id=None, grow_policy=None, importance_type=None,\n",
              "              interaction_constraints=None, learning_rate=None, max_bin=None,\n",
              "              max_cat_threshold=None, max_cat_to_onehot=None,\n",
              "              max_delta_step=None, max_depth=3, max_leaves=None,\n",
              "              min_child_weight=None, missing=nan, monotone_constraints=None,\n",
              "              n_estimators=90, n_jobs=None, num_parallel_tree=None,\n",
              "              objective=&#x27;multi:softprob&#x27;, predictor=None, ...)</pre><b>In a Jupyter environment, please rerun this cell to show the HTML representation or trust the notebook. <br />On GitHub, the HTML representation is unable to render, please try loading this page with nbviewer.org.</b></div><div class=\"sk-container\" hidden><div class=\"sk-item\"><div class=\"sk-estimator sk-toggleable\"><input class=\"sk-toggleable__control sk-hidden--visually\" id=\"sk-estimator-id-2\" type=\"checkbox\" checked><label for=\"sk-estimator-id-2\" class=\"sk-toggleable__label sk-toggleable__label-arrow\">XGBClassifier</label><div class=\"sk-toggleable__content\"><pre>XGBClassifier(base_score=None, booster=None, callbacks=None,\n",
              "              colsample_bylevel=None, colsample_bynode=None,\n",
              "              colsample_bytree=None, early_stopping_rounds=None,\n",
              "              enable_categorical=False, eval_metric=None, feature_types=None,\n",
              "              gamma=None, gpu_id=None, grow_policy=None, importance_type=None,\n",
              "              interaction_constraints=None, learning_rate=None, max_bin=None,\n",
              "              max_cat_threshold=None, max_cat_to_onehot=None,\n",
              "              max_delta_step=None, max_depth=3, max_leaves=None,\n",
              "              min_child_weight=None, missing=nan, monotone_constraints=None,\n",
              "              n_estimators=90, n_jobs=None, num_parallel_tree=None,\n",
              "              objective=&#x27;multi:softprob&#x27;, predictor=None, ...)</pre></div></div></div></div></div>"
            ]
          },
          "metadata": {},
          "execution_count": 21
        }
      ]
    },
    {
      "cell_type": "code",
      "source": [
        "y_pred = model.predict(X_test)\n",
        "predictions = [round(value) for value in y_pred]\n",
        "accuracy = accuracy_score(y_test, predictions)\n",
        "print(\"Accuracy: %.2f%%\" % (accuracy * 100.0))"
      ],
      "metadata": {
        "colab": {
          "base_uri": "https://localhost:8080/"
        },
        "id": "vNVHfMTgfmZ2",
        "outputId": "03241f1e-4f27-4d79-d3c2-4f05102b344c"
      },
      "execution_count": 22,
      "outputs": [
        {
          "output_type": "stream",
          "name": "stdout",
          "text": [
            "Accuracy: 66.67%\n"
          ]
        }
      ]
    },
    {
      "cell_type": "markdown",
      "source": [
        "# PREDICTING THE NEW DATA POINT"
      ],
      "metadata": {
        "id": "QP_lERs9tC02"
      }
    },
    {
      "cell_type": "code",
      "source": [
        "# PREDICTING THE NEW DATA POINT\n",
        "new_data=pd.DataFrame({\"Mg\": 13.46, \"Al\": 1.45, \"K\": 0.57, \"Ba\": 0},index=[0])\n",
        "new_data"
      ],
      "metadata": {
        "colab": {
          "base_uri": "https://localhost:8080/",
          "height": 80
        },
        "id": "MlkxZNkktCWT",
        "outputId": "3b37abb8-4ab2-48c6-83e5-d87e64052e44"
      },
      "execution_count": 23,
      "outputs": [
        {
          "output_type": "execute_result",
          "data": {
            "text/plain": [
              "      Mg    Al     K  Ba\n",
              "0  13.46  1.45  0.57   0"
            ],
            "text/html": [
              "\n",
              "  <div id=\"df-d2d1d0af-0bdb-45d0-b1b0-24dd0f6681b3\">\n",
              "    <div class=\"colab-df-container\">\n",
              "      <div>\n",
              "<style scoped>\n",
              "    .dataframe tbody tr th:only-of-type {\n",
              "        vertical-align: middle;\n",
              "    }\n",
              "\n",
              "    .dataframe tbody tr th {\n",
              "        vertical-align: top;\n",
              "    }\n",
              "\n",
              "    .dataframe thead th {\n",
              "        text-align: right;\n",
              "    }\n",
              "</style>\n",
              "<table border=\"1\" class=\"dataframe\">\n",
              "  <thead>\n",
              "    <tr style=\"text-align: right;\">\n",
              "      <th></th>\n",
              "      <th>Mg</th>\n",
              "      <th>Al</th>\n",
              "      <th>K</th>\n",
              "      <th>Ba</th>\n",
              "    </tr>\n",
              "  </thead>\n",
              "  <tbody>\n",
              "    <tr>\n",
              "      <th>0</th>\n",
              "      <td>13.46</td>\n",
              "      <td>1.45</td>\n",
              "      <td>0.57</td>\n",
              "      <td>0</td>\n",
              "    </tr>\n",
              "  </tbody>\n",
              "</table>\n",
              "</div>\n",
              "      <button class=\"colab-df-convert\" onclick=\"convertToInteractive('df-d2d1d0af-0bdb-45d0-b1b0-24dd0f6681b3')\"\n",
              "              title=\"Convert this dataframe to an interactive table.\"\n",
              "              style=\"display:none;\">\n",
              "        \n",
              "  <svg xmlns=\"http://www.w3.org/2000/svg\" height=\"24px\"viewBox=\"0 0 24 24\"\n",
              "       width=\"24px\">\n",
              "    <path d=\"M0 0h24v24H0V0z\" fill=\"none\"/>\n",
              "    <path d=\"M18.56 5.44l.94 2.06.94-2.06 2.06-.94-2.06-.94-.94-2.06-.94 2.06-2.06.94zm-11 1L8.5 8.5l.94-2.06 2.06-.94-2.06-.94L8.5 2.5l-.94 2.06-2.06.94zm10 10l.94 2.06.94-2.06 2.06-.94-2.06-.94-.94-2.06-.94 2.06-2.06.94z\"/><path d=\"M17.41 7.96l-1.37-1.37c-.4-.4-.92-.59-1.43-.59-.52 0-1.04.2-1.43.59L10.3 9.45l-7.72 7.72c-.78.78-.78 2.05 0 2.83L4 21.41c.39.39.9.59 1.41.59.51 0 1.02-.2 1.41-.59l7.78-7.78 2.81-2.81c.8-.78.8-2.07 0-2.86zM5.41 20L4 18.59l7.72-7.72 1.47 1.35L5.41 20z\"/>\n",
              "  </svg>\n",
              "      </button>\n",
              "      \n",
              "  <style>\n",
              "    .colab-df-container {\n",
              "      display:flex;\n",
              "      flex-wrap:wrap;\n",
              "      gap: 12px;\n",
              "    }\n",
              "\n",
              "    .colab-df-convert {\n",
              "      background-color: #E8F0FE;\n",
              "      border: none;\n",
              "      border-radius: 50%;\n",
              "      cursor: pointer;\n",
              "      display: none;\n",
              "      fill: #1967D2;\n",
              "      height: 32px;\n",
              "      padding: 0 0 0 0;\n",
              "      width: 32px;\n",
              "    }\n",
              "\n",
              "    .colab-df-convert:hover {\n",
              "      background-color: #E2EBFA;\n",
              "      box-shadow: 0px 1px 2px rgba(60, 64, 67, 0.3), 0px 1px 3px 1px rgba(60, 64, 67, 0.15);\n",
              "      fill: #174EA6;\n",
              "    }\n",
              "\n",
              "    [theme=dark] .colab-df-convert {\n",
              "      background-color: #3B4455;\n",
              "      fill: #D2E3FC;\n",
              "    }\n",
              "\n",
              "    [theme=dark] .colab-df-convert:hover {\n",
              "      background-color: #434B5C;\n",
              "      box-shadow: 0px 1px 3px 1px rgba(0, 0, 0, 0.15);\n",
              "      filter: drop-shadow(0px 1px 2px rgba(0, 0, 0, 0.3));\n",
              "      fill: #FFFFFF;\n",
              "    }\n",
              "  </style>\n",
              "\n",
              "      <script>\n",
              "        const buttonEl =\n",
              "          document.querySelector('#df-d2d1d0af-0bdb-45d0-b1b0-24dd0f6681b3 button.colab-df-convert');\n",
              "        buttonEl.style.display =\n",
              "          google.colab.kernel.accessAllowed ? 'block' : 'none';\n",
              "\n",
              "        async function convertToInteractive(key) {\n",
              "          const element = document.querySelector('#df-d2d1d0af-0bdb-45d0-b1b0-24dd0f6681b3');\n",
              "          const dataTable =\n",
              "            await google.colab.kernel.invokeFunction('convertToInteractive',\n",
              "                                                     [key], {});\n",
              "          if (!dataTable) return;\n",
              "\n",
              "          const docLinkHtml = 'Like what you see? Visit the ' +\n",
              "            '<a target=\"_blank\" href=https://colab.research.google.com/notebooks/data_table.ipynb>data table notebook</a>'\n",
              "            + ' to learn more about interactive tables.';\n",
              "          element.innerHTML = '';\n",
              "          dataTable['output_type'] = 'display_data';\n",
              "          await google.colab.output.renderOutput(dataTable, element);\n",
              "          const docLink = document.createElement('div');\n",
              "          docLink.innerHTML = docLinkHtml;\n",
              "          element.appendChild(docLink);\n",
              "        }\n",
              "      </script>\n",
              "    </div>\n",
              "  </div>\n",
              "  "
            ]
          },
          "metadata": {},
          "execution_count": 23
        }
      ]
    },
    {
      "cell_type": "code",
      "source": [
        "classifier.predict(new_data)"
      ],
      "metadata": {
        "colab": {
          "base_uri": "https://localhost:8080/"
        },
        "id": "S4B3WSfAz2Ae",
        "outputId": "de77b448-aef1-4ecd-d5ff-5552c71d39ec"
      },
      "execution_count": 24,
      "outputs": [
        {
          "output_type": "stream",
          "name": "stderr",
          "text": [
            "/usr/local/lib/python3.9/dist-packages/sklearn/base.py:432: UserWarning: X has feature names, but KNeighborsClassifier was fitted without feature names\n",
            "  warnings.warn(\n"
          ]
        },
        {
          "output_type": "execute_result",
          "data": {
            "text/plain": [
              "array([1])"
            ]
          },
          "metadata": {},
          "execution_count": 24
        }
      ]
    },
    {
      "cell_type": "markdown",
      "source": [
        "# MLR"
      ],
      "metadata": {
        "id": "Cuzd0Z_ifskM"
      }
    },
    {
      "cell_type": "code",
      "source": [
        "import statsmodels.api as sm \n",
        "X = np.append(arr = np.ones((214,1)).astype(int), values = X, axis = 1)"
      ],
      "metadata": {
        "id": "aoxeUYtzftbf"
      },
      "execution_count": 25,
      "outputs": []
    },
    {
      "cell_type": "code",
      "source": [
        "# BACKWARD ELIMINATION\n",
        "X_opt = X[:, [0,1,2,3]]\n",
        "X_opt = np.array(X_opt, dtype = float)\n",
        "regressor_OLS = sm.OLS(endog = y, exog = X_opt).fit()\n",
        "regressor_OLS.summary()"
      ],
      "metadata": {
        "colab": {
          "base_uri": "https://localhost:8080/",
          "height": 483
        },
        "id": "Nafnka5xfxAF",
        "outputId": "5da07a15-1a1e-4d72-d973-457b88c31289"
      },
      "execution_count": 26,
      "outputs": [
        {
          "output_type": "execute_result",
          "data": {
            "text/plain": [
              "<class 'statsmodels.iolib.summary.Summary'>\n",
              "\"\"\"\n",
              "                            OLS Regression Results                            \n",
              "==============================================================================\n",
              "Dep. Variable:                      y   R-squared:                       0.624\n",
              "Model:                            OLS   Adj. R-squared:                  0.618\n",
              "Method:                 Least Squares   F-statistic:                     116.0\n",
              "Date:                Wed, 15 Mar 2023   Prob (F-statistic):           2.57e-44\n",
              "Time:                        18:35:38   Log-Likelihood:                -313.12\n",
              "No. Observations:                 214   AIC:                             634.2\n",
              "Df Residuals:                     210   BIC:                             647.7\n",
              "Df Model:                           3                                         \n",
              "Covariance Type:            nonrobust                                         \n",
              "==============================================================================\n",
              "                 coef    std err          t      P>|t|      [0.025      0.975]\n",
              "------------------------------------------------------------------------------\n",
              "const          1.6143      0.355      4.553      0.000       0.915       2.313\n",
              "x1            -0.6471      0.058    -11.094      0.000      -0.762      -0.532\n",
              "x2             1.2831      0.178      7.198      0.000       0.932       1.635\n",
              "x3            -0.3801      0.120     -3.179      0.002      -0.616      -0.144\n",
              "==============================================================================\n",
              "Omnibus:                       36.320   Durbin-Watson:                   0.479\n",
              "Prob(Omnibus):                  0.000   Jarque-Bera (JB):               65.768\n",
              "Skew:                           0.873   Prob(JB):                     5.23e-15\n",
              "Kurtosis:                       5.080   Cond. No.                         18.8\n",
              "==============================================================================\n",
              "\n",
              "Notes:\n",
              "[1] Standard Errors assume that the covariance matrix of the errors is correctly specified.\n",
              "\"\"\""
            ],
            "text/html": [
              "<table class=\"simpletable\">\n",
              "<caption>OLS Regression Results</caption>\n",
              "<tr>\n",
              "  <th>Dep. Variable:</th>            <td>y</td>        <th>  R-squared:         </th> <td>   0.624</td>\n",
              "</tr>\n",
              "<tr>\n",
              "  <th>Model:</th>                   <td>OLS</td>       <th>  Adj. R-squared:    </th> <td>   0.618</td>\n",
              "</tr>\n",
              "<tr>\n",
              "  <th>Method:</th>             <td>Least Squares</td>  <th>  F-statistic:       </th> <td>   116.0</td>\n",
              "</tr>\n",
              "<tr>\n",
              "  <th>Date:</th>             <td>Wed, 15 Mar 2023</td> <th>  Prob (F-statistic):</th> <td>2.57e-44</td>\n",
              "</tr>\n",
              "<tr>\n",
              "  <th>Time:</th>                 <td>18:35:38</td>     <th>  Log-Likelihood:    </th> <td> -313.12</td>\n",
              "</tr>\n",
              "<tr>\n",
              "  <th>No. Observations:</th>      <td>   214</td>      <th>  AIC:               </th> <td>   634.2</td>\n",
              "</tr>\n",
              "<tr>\n",
              "  <th>Df Residuals:</th>          <td>   210</td>      <th>  BIC:               </th> <td>   647.7</td>\n",
              "</tr>\n",
              "<tr>\n",
              "  <th>Df Model:</th>              <td>     3</td>      <th>                     </th>     <td> </td>   \n",
              "</tr>\n",
              "<tr>\n",
              "  <th>Covariance Type:</th>      <td>nonrobust</td>    <th>                     </th>     <td> </td>   \n",
              "</tr>\n",
              "</table>\n",
              "<table class=\"simpletable\">\n",
              "<tr>\n",
              "    <td></td>       <th>coef</th>     <th>std err</th>      <th>t</th>      <th>P>|t|</th>  <th>[0.025</th>    <th>0.975]</th>  \n",
              "</tr>\n",
              "<tr>\n",
              "  <th>const</th> <td>    1.6143</td> <td>    0.355</td> <td>    4.553</td> <td> 0.000</td> <td>    0.915</td> <td>    2.313</td>\n",
              "</tr>\n",
              "<tr>\n",
              "  <th>x1</th>    <td>   -0.6471</td> <td>    0.058</td> <td>  -11.094</td> <td> 0.000</td> <td>   -0.762</td> <td>   -0.532</td>\n",
              "</tr>\n",
              "<tr>\n",
              "  <th>x2</th>    <td>    1.2831</td> <td>    0.178</td> <td>    7.198</td> <td> 0.000</td> <td>    0.932</td> <td>    1.635</td>\n",
              "</tr>\n",
              "<tr>\n",
              "  <th>x3</th>    <td>   -0.3801</td> <td>    0.120</td> <td>   -3.179</td> <td> 0.002</td> <td>   -0.616</td> <td>   -0.144</td>\n",
              "</tr>\n",
              "</table>\n",
              "<table class=\"simpletable\">\n",
              "<tr>\n",
              "  <th>Omnibus:</th>       <td>36.320</td> <th>  Durbin-Watson:     </th> <td>   0.479</td>\n",
              "</tr>\n",
              "<tr>\n",
              "  <th>Prob(Omnibus):</th> <td> 0.000</td> <th>  Jarque-Bera (JB):  </th> <td>  65.768</td>\n",
              "</tr>\n",
              "<tr>\n",
              "  <th>Skew:</th>          <td> 0.873</td> <th>  Prob(JB):          </th> <td>5.23e-15</td>\n",
              "</tr>\n",
              "<tr>\n",
              "  <th>Kurtosis:</th>      <td> 5.080</td> <th>  Cond. No.          </th> <td>    18.8</td>\n",
              "</tr>\n",
              "</table><br/><br/>Notes:<br/>[1] Standard Errors assume that the covariance matrix of the errors is correctly specified."
            ]
          },
          "metadata": {},
          "execution_count": 26
        }
      ]
    },
    {
      "cell_type": "code",
      "source": [
        "# INDEPENDENT AND DEPENDENT VARIABLE\n",
        "X = dataset.iloc[:, [2, 3]]\n",
        "y = dataset.iloc[:, -1]"
      ],
      "metadata": {
        "id": "dNJEtJEAgNin"
      },
      "execution_count": 27,
      "outputs": []
    },
    {
      "cell_type": "code",
      "source": [
        "# ENCODING THE CATEGORICAL DATA\n",
        "from sklearn.preprocessing import LabelEncoder\n",
        "labelencoder_y = LabelEncoder()\n",
        "y = labelencoder_y.fit_transform(y)"
      ],
      "metadata": {
        "id": "-hh-qm8jh5iQ"
      },
      "execution_count": 28,
      "outputs": []
    },
    {
      "cell_type": "code",
      "source": [
        "# SPLITTING THE DATASET\n",
        "from sklearn.model_selection import train_test_split\n",
        "X_train, X_test, y_train, y_test = train_test_split(X, y, test_size = 0.25, random_state = 0 )"
      ],
      "metadata": {
        "id": "WVc0vUKKh9Re"
      },
      "execution_count": 29,
      "outputs": []
    },
    {
      "cell_type": "code",
      "source": [
        "# FEATURE SCALING\n",
        "from sklearn.preprocessing import StandardScaler\n",
        "sc_X = StandardScaler()\n",
        "X_train = sc_X.fit_transform(X_train)\n",
        "X_test = sc_X.fit_transform(X_test)"
      ],
      "metadata": {
        "id": "CWANI-BMiysm"
      },
      "execution_count": 30,
      "outputs": []
    },
    {
      "cell_type": "code",
      "source": [
        "# FITTING THE MODEL\n",
        "from sklearn.neighbors import KNeighborsClassifier\n",
        "classifier = KNeighborsClassifier(n_neighbors = 10, metric = 'minkowski', p = 2)\n",
        "classifier.fit(X_train, y_train)"
      ],
      "metadata": {
        "colab": {
          "base_uri": "https://localhost:8080/",
          "height": 74
        },
        "id": "Z5GXpaqZiAex",
        "outputId": "5b4ee3e8-b975-496d-bc54-a6beebad814f"
      },
      "execution_count": 31,
      "outputs": [
        {
          "output_type": "execute_result",
          "data": {
            "text/plain": [
              "KNeighborsClassifier(n_neighbors=10)"
            ],
            "text/html": [
              "<style>#sk-container-id-3 {color: black;background-color: white;}#sk-container-id-3 pre{padding: 0;}#sk-container-id-3 div.sk-toggleable {background-color: white;}#sk-container-id-3 label.sk-toggleable__label {cursor: pointer;display: block;width: 100%;margin-bottom: 0;padding: 0.3em;box-sizing: border-box;text-align: center;}#sk-container-id-3 label.sk-toggleable__label-arrow:before {content: \"▸\";float: left;margin-right: 0.25em;color: #696969;}#sk-container-id-3 label.sk-toggleable__label-arrow:hover:before {color: black;}#sk-container-id-3 div.sk-estimator:hover label.sk-toggleable__label-arrow:before {color: black;}#sk-container-id-3 div.sk-toggleable__content {max-height: 0;max-width: 0;overflow: hidden;text-align: left;background-color: #f0f8ff;}#sk-container-id-3 div.sk-toggleable__content pre {margin: 0.2em;color: black;border-radius: 0.25em;background-color: #f0f8ff;}#sk-container-id-3 input.sk-toggleable__control:checked~div.sk-toggleable__content {max-height: 200px;max-width: 100%;overflow: auto;}#sk-container-id-3 input.sk-toggleable__control:checked~label.sk-toggleable__label-arrow:before {content: \"▾\";}#sk-container-id-3 div.sk-estimator input.sk-toggleable__control:checked~label.sk-toggleable__label {background-color: #d4ebff;}#sk-container-id-3 div.sk-label input.sk-toggleable__control:checked~label.sk-toggleable__label {background-color: #d4ebff;}#sk-container-id-3 input.sk-hidden--visually {border: 0;clip: rect(1px 1px 1px 1px);clip: rect(1px, 1px, 1px, 1px);height: 1px;margin: -1px;overflow: hidden;padding: 0;position: absolute;width: 1px;}#sk-container-id-3 div.sk-estimator {font-family: monospace;background-color: #f0f8ff;border: 1px dotted black;border-radius: 0.25em;box-sizing: border-box;margin-bottom: 0.5em;}#sk-container-id-3 div.sk-estimator:hover {background-color: #d4ebff;}#sk-container-id-3 div.sk-parallel-item::after {content: \"\";width: 100%;border-bottom: 1px solid gray;flex-grow: 1;}#sk-container-id-3 div.sk-label:hover label.sk-toggleable__label {background-color: #d4ebff;}#sk-container-id-3 div.sk-serial::before {content: \"\";position: absolute;border-left: 1px solid gray;box-sizing: border-box;top: 0;bottom: 0;left: 50%;z-index: 0;}#sk-container-id-3 div.sk-serial {display: flex;flex-direction: column;align-items: center;background-color: white;padding-right: 0.2em;padding-left: 0.2em;position: relative;}#sk-container-id-3 div.sk-item {position: relative;z-index: 1;}#sk-container-id-3 div.sk-parallel {display: flex;align-items: stretch;justify-content: center;background-color: white;position: relative;}#sk-container-id-3 div.sk-item::before, #sk-container-id-3 div.sk-parallel-item::before {content: \"\";position: absolute;border-left: 1px solid gray;box-sizing: border-box;top: 0;bottom: 0;left: 50%;z-index: -1;}#sk-container-id-3 div.sk-parallel-item {display: flex;flex-direction: column;z-index: 1;position: relative;background-color: white;}#sk-container-id-3 div.sk-parallel-item:first-child::after {align-self: flex-end;width: 50%;}#sk-container-id-3 div.sk-parallel-item:last-child::after {align-self: flex-start;width: 50%;}#sk-container-id-3 div.sk-parallel-item:only-child::after {width: 0;}#sk-container-id-3 div.sk-dashed-wrapped {border: 1px dashed gray;margin: 0 0.4em 0.5em 0.4em;box-sizing: border-box;padding-bottom: 0.4em;background-color: white;}#sk-container-id-3 div.sk-label label {font-family: monospace;font-weight: bold;display: inline-block;line-height: 1.2em;}#sk-container-id-3 div.sk-label-container {text-align: center;}#sk-container-id-3 div.sk-container {/* jupyter's `normalize.less` sets `[hidden] { display: none; }` but bootstrap.min.css set `[hidden] { display: none !important; }` so we also need the `!important` here to be able to override the default hidden behavior on the sphinx rendered scikit-learn.org. See: https://github.com/scikit-learn/scikit-learn/issues/21755 */display: inline-block !important;position: relative;}#sk-container-id-3 div.sk-text-repr-fallback {display: none;}</style><div id=\"sk-container-id-3\" class=\"sk-top-container\"><div class=\"sk-text-repr-fallback\"><pre>KNeighborsClassifier(n_neighbors=10)</pre><b>In a Jupyter environment, please rerun this cell to show the HTML representation or trust the notebook. <br />On GitHub, the HTML representation is unable to render, please try loading this page with nbviewer.org.</b></div><div class=\"sk-container\" hidden><div class=\"sk-item\"><div class=\"sk-estimator sk-toggleable\"><input class=\"sk-toggleable__control sk-hidden--visually\" id=\"sk-estimator-id-3\" type=\"checkbox\" checked><label for=\"sk-estimator-id-3\" class=\"sk-toggleable__label sk-toggleable__label-arrow\">KNeighborsClassifier</label><div class=\"sk-toggleable__content\"><pre>KNeighborsClassifier(n_neighbors=10)</pre></div></div></div></div></div>"
            ]
          },
          "metadata": {},
          "execution_count": 31
        }
      ]
    },
    {
      "cell_type": "code",
      "source": [
        "#Predicting the test \n",
        "y_pred = classifier.predict(X_test)\n",
        "y_pred"
      ],
      "metadata": {
        "colab": {
          "base_uri": "https://localhost:8080/"
        },
        "id": "sHwdDAekiDzq",
        "outputId": "33a0917a-6524-4e77-d002-4de855049549"
      },
      "execution_count": 32,
      "outputs": [
        {
          "output_type": "execute_result",
          "data": {
            "text/plain": [
              "array([5, 0, 1, 1, 3, 1, 0, 1, 1, 1, 0, 0, 1, 1, 1, 5, 0, 0, 0, 1, 5, 0,\n",
              "       5, 1, 0, 0, 5, 0, 1, 1, 0, 0, 1, 0, 0, 0, 0, 0, 0, 5, 5, 1, 1, 0,\n",
              "       1, 1, 0, 1, 0, 1, 0, 1, 5, 0])"
            ]
          },
          "metadata": {},
          "execution_count": 32
        }
      ]
    },
    {
      "cell_type": "code",
      "source": [
        "# MEASURING THE ACCURACY\n",
        "from sklearn.metrics import  confusion_matrix, accuracy_score\n",
        "cm = confusion_matrix(y_test, y_pred)\n",
        "acc = accuracy_score(y_test, y_pred)\n",
        "print(cm)\n",
        "print(acc)"
      ],
      "metadata": {
        "colab": {
          "base_uri": "https://localhost:8080/"
        },
        "id": "zDl6qB61iGNd",
        "outputId": "db3b9c33-37ab-42b0-b0be-783ba8757418"
      },
      "execution_count": 33,
      "outputs": [
        {
          "output_type": "stream",
          "name": "stdout",
          "text": [
            "[[13  1  0  0  0  0]\n",
            " [ 8 15  0  0  0  1]\n",
            " [ 3  2  0  0  0  0]\n",
            " [ 0  0  0  1  0  1]\n",
            " [ 0  2  0  0  0  0]\n",
            " [ 0  1  0  0  0  6]]\n",
            "0.6481481481481481\n"
          ]
        }
      ]
    },
    {
      "cell_type": "code",
      "source": [
        "# Visualizing the test set results\n",
        "from matplotlib.colors import ListedColormap\n",
        "X_set, y_set = X_test, y_test\n",
        "X1, X2 = np.meshgrid(np.arange(start = X_set[:, 0].min() - 1, stop = X_set[:, 0].max() + 1, step = 0.01),\n",
        "                     np.arange(start = X_set[:, 1].min() - 1, stop = X_set[:, 1].max() + 1, step = 0.01))\n",
        "plt.contourf(X1, X2, classifier.predict(np.array([X1.ravel(), X2.ravel()]).T).reshape(X1.shape),\n",
        "             alpha = 0.75, cmap = ListedColormap(('yellow', 'green')))\n",
        "plt.xlim(X1.min(), X1.max())\n",
        "plt.ylim(X2.min(), X2.max())\n",
        "for i, j in enumerate(np.unique(y_set)):\n",
        "  plt.scatter(X_set[y_set == j, 0], X_set[y_set == j, 1],\n",
        "              c= ListedColormap(('yellow', 'green'))(i), label= j)\n",
        "plt.title('KNN Classification(Test set)')\n",
        "plt.xlabel('Mg')\n",
        "plt.ylabel('Al')\n",
        "plt.legend()\n",
        "plt.show()"
      ],
      "metadata": {
        "colab": {
          "base_uri": "https://localhost:8080/",
          "height": 424
        },
        "id": "Tv70Y2uriIVM",
        "outputId": "fe847ff6-d825-4796-bee0-d7dc9d692df0"
      },
      "execution_count": 34,
      "outputs": [
        {
          "output_type": "stream",
          "name": "stderr",
          "text": [
            "WARNING:matplotlib.axes._axes:*c* argument looks like a single numeric RGB or RGBA sequence, which should be avoided as value-mapping will have precedence in case its length matches with *x* & *y*.  Please use the *color* keyword-argument or provide a 2D array with a single row if you intend to specify the same RGB or RGBA value for all points.\n",
            "WARNING:matplotlib.axes._axes:*c* argument looks like a single numeric RGB or RGBA sequence, which should be avoided as value-mapping will have precedence in case its length matches with *x* & *y*.  Please use the *color* keyword-argument or provide a 2D array with a single row if you intend to specify the same RGB or RGBA value for all points.\n",
            "WARNING:matplotlib.axes._axes:*c* argument looks like a single numeric RGB or RGBA sequence, which should be avoided as value-mapping will have precedence in case its length matches with *x* & *y*.  Please use the *color* keyword-argument or provide a 2D array with a single row if you intend to specify the same RGB or RGBA value for all points.\n",
            "WARNING:matplotlib.axes._axes:*c* argument looks like a single numeric RGB or RGBA sequence, which should be avoided as value-mapping will have precedence in case its length matches with *x* & *y*.  Please use the *color* keyword-argument or provide a 2D array with a single row if you intend to specify the same RGB or RGBA value for all points.\n",
            "WARNING:matplotlib.axes._axes:*c* argument looks like a single numeric RGB or RGBA sequence, which should be avoided as value-mapping will have precedence in case its length matches with *x* & *y*.  Please use the *color* keyword-argument or provide a 2D array with a single row if you intend to specify the same RGB or RGBA value for all points.\n",
            "WARNING:matplotlib.axes._axes:*c* argument looks like a single numeric RGB or RGBA sequence, which should be avoided as value-mapping will have precedence in case its length matches with *x* & *y*.  Please use the *color* keyword-argument or provide a 2D array with a single row if you intend to specify the same RGB or RGBA value for all points.\n"
          ]
        },
        {
          "output_type": "display_data",
          "data": {
            "text/plain": [
              "<Figure size 432x288 with 1 Axes>"
            ],
            "image/png": "[encoded data removed]"
          },
          "metadata": {
            "needs_background": "light"
          }
        }
      ]
    },
    {
      "cell_type": "code",
      "source": [
        "#Visualizing the train set results\n",
        "from matplotlib.colors import ListedColormap\n",
        "X_set, y_set = X_train, y_train\n",
        "X1, X2 = np.meshgrid(np.arange(start = X_set[:, 0].min() - 1, stop = X_set[:, 0].max() + 1, step = 0.01),\n",
        "                     np.arange(start = X_set[:, 1].min() - 1, stop = X_set[:, 1].max() + 1, step = 0.01))\n",
        "plt.contourf(X1, X2, classifier.predict(np.array([X1.ravel(), X2.ravel()]).T).reshape(X1.shape),\n",
        "             alpha = 0.75, cmap = ListedColormap(('yellow', 'green')))\n",
        "plt.xlim(X1.min(), X1.max())\n",
        "plt.ylim(X2.min(), X2.max())\n",
        "for i, j in enumerate(np.unique(y_set)):\n",
        "  plt.scatter(X_set[y_set == j, 0], X_set[y_set == j, 1],\n",
        "              c= ListedColormap(('yellow', 'green'))(i), label= j)\n",
        "plt.title('KNN Classification(Training set)')\n",
        "plt.xlabel('Mg')\n",
        "plt.ylabel('Al')\n",
        "plt.legend()\n",
        "plt.show()\n"
      ],
      "metadata": {
        "colab": {
          "base_uri": "https://localhost:8080/",
          "height": 424
        },
        "id": "hwkZhTzqiN6M",
        "outputId": "311b0c9b-cfbc-4ea1-bee3-1d5dbb4398bd"
      },
      "execution_count": 35,
      "outputs": [
        {
          "output_type": "stream",
          "name": "stderr",
          "text": [
            "WARNING:matplotlib.axes._axes:*c* argument looks like a single numeric RGB or RGBA sequence, which should be avoided as value-mapping will have precedence in case its length matches with *x* & *y*.  Please use the *color* keyword-argument or provide a 2D array with a single row if you intend to specify the same RGB or RGBA value for all points.\n",
            "WARNING:matplotlib.axes._axes:*c* argument looks like a single numeric RGB or RGBA sequence, which should be avoided as value-mapping will have precedence in case its length matches with *x* & *y*.  Please use the *color* keyword-argument or provide a 2D array with a single row if you intend to specify the same RGB or RGBA value for all points.\n",
            "WARNING:matplotlib.axes._axes:*c* argument looks like a single numeric RGB or RGBA sequence, which should be avoided as value-mapping will have precedence in case its length matches with *x* & *y*.  Please use the *color* keyword-argument or provide a 2D array with a single row if you intend to specify the same RGB or RGBA value for all points.\n",
            "WARNING:matplotlib.axes._axes:*c* argument looks like a single numeric RGB or RGBA sequence, which should be avoided as value-mapping will have precedence in case its length matches with *x* & *y*.  Please use the *color* keyword-argument or provide a 2D array with a single row if you intend to specify the same RGB or RGBA value for all points.\n",
            "WARNING:matplotlib.axes._axes:*c* argument looks like a single numeric RGB or RGBA sequence, which should be avoided as value-mapping will have precedence in case its length matches with *x* & *y*.  Please use the *color* keyword-argument or provide a 2D array with a single row if you intend to specify the same RGB or RGBA value for all points.\n",
            "WARNING:matplotlib.axes._axes:*c* argument looks like a single numeric RGB or RGBA sequence, which should be avoided as value-mapping will have precedence in case its length matches with *x* & *y*.  Please use the *color* keyword-argument or provide a 2D array with a single row if you intend to specify the same RGB or RGBA value for all points.\n"
          ]
        },
        {
          "output_type": "display_data",
          "data": {
            "text/plain": [
              "<Figure size 432x288 with 1 Axes>"
            ],
            "image/png": "[encoded data removed]"
          },
          "metadata": {
            "needs_background": "light"
          }
        }
      ]
    },
    {
      "cell_type": "code",
      "source": [],
      "metadata": {
        "id": "fsBUjqDyi5F1"
      },
      "execution_count": 35,
      "outputs": []
    }
  ]
}