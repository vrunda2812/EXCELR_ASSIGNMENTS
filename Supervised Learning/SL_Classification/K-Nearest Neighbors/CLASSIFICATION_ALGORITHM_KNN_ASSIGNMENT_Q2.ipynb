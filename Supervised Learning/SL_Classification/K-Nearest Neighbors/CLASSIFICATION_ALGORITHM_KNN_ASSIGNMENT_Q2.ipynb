{
  "nbformat": 4,
  "nbformat_minor": 0,
  "metadata": {
    "colab": {
      "provenance": []
    },
    "kernelspec": {
      "name": "python3",
      "display_name": "Python 3"
    },
    "language_info": {
      "name": "python"
    }
  },
  "cells": [
    {
      "cell_type": "markdown",
      "source": [
        "# IMPORTING LIBRARIES"
      ],
      "metadata": {
        "id": "BtT-20WpKKKG"
      }
    },
    {
      "cell_type": "code",
      "execution_count": 1,
      "metadata": {
        "id": "4-5oM9_BJ6ml"
      },
      "outputs": [],
      "source": [
        "import pandas as pd\n",
        "import numpy as np\n",
        "import matplotlib.pyplot as plt"
      ]
    },
    {
      "cell_type": "markdown",
      "source": [
        "# IMPORTING DATASET"
      ],
      "metadata": {
        "id": "YWXKBOkKKSU2"
      }
    },
    {
      "cell_type": "code",
      "source": [
        "dataset = pd.read_csv(\"/content/Zoo.csv\")"
      ],
      "metadata": {
        "id": "PVxdVVFQKR6s"
      },
      "execution_count": 2,
      "outputs": []
    },
    {
      "cell_type": "code",
      "source": [
        "dataset"
      ],
      "metadata": {
        "colab": {
          "base_uri": "https://localhost:8080/",
          "height": 485
        },
        "id": "DjlNjMQlKf3D",
        "outputId": "303336c6-81f6-4d86-e610-0b51f9cbcc11"
      },
      "execution_count": 3,
      "outputs": [
        {
          "output_type": "execute_result",
          "data": {
            "text/plain": [
              "    animal name  hair  feathers  eggs  milk  airborne  aquatic  predator  \\\n",
              "0      aardvark     1         0     0     1         0        0         1   \n",
              "1      antelope     1         0     0     1         0        0         0   \n",
              "2          bass     0         0     1     0         0        1         1   \n",
              "3          bear     1         0     0     1         0        0         1   \n",
              "4          boar     1         0     0     1         0        0         1   \n",
              "..          ...   ...       ...   ...   ...       ...      ...       ...   \n",
              "96      wallaby     1         0     0     1         0        0         0   \n",
              "97         wasp     1         0     1     0         1        0         0   \n",
              "98         wolf     1         0     0     1         0        0         1   \n",
              "99         worm     0         0     1     0         0        0         0   \n",
              "100        wren     0         1     1     0         1        0         0   \n",
              "\n",
              "     toothed  backbone  breathes  venomous  fins  legs  tail  domestic  \\\n",
              "0          1         1         1         0     0     4     0         0   \n",
              "1          1         1         1         0     0     4     1         0   \n",
              "2          1         1         0         0     1     0     1         0   \n",
              "3          1         1         1         0     0     4     0         0   \n",
              "4          1         1         1         0     0     4     1         0   \n",
              "..       ...       ...       ...       ...   ...   ...   ...       ...   \n",
              "96         1         1         1         0     0     2     1         0   \n",
              "97         0         0         1         1     0     6     0         0   \n",
              "98         1         1         1         0     0     4     1         0   \n",
              "99         0         0         1         0     0     0     0         0   \n",
              "100        0         1         1         0     0     2     1         0   \n",
              "\n",
              "     catsize  type  \n",
              "0          1     1  \n",
              "1          1     1  \n",
              "2          0     4  \n",
              "3          1     1  \n",
              "4          1     1  \n",
              "..       ...   ...  \n",
              "96         1     1  \n",
              "97         0     6  \n",
              "98         1     1  \n",
              "99         0     7  \n",
              "100        0     2  \n",
              "\n",
              "[101 rows x 18 columns]"
            ],
            "text/html": [
              "\n",
              "  <div id=\"df-1015f42b-d793-4ba4-9f15-c1ff2646d154\">\n",
              "    <div class=\"colab-df-container\">\n",
              "      <div>\n",
              "<style scoped>\n",
              "    .dataframe tbody tr th:only-of-type {\n",
              "        vertical-align: middle;\n",
              "    }\n",
              "\n",
              "    .dataframe tbody tr th {\n",
              "        vertical-align: top;\n",
              "    }\n",
              "\n",
              "    .dataframe thead th {\n",
              "        text-align: right;\n",
              "    }\n",
              "</style>\n",
              "<table border=\"1\" class=\"dataframe\">\n",
              "  <thead>\n",
              "    <tr style=\"text-align: right;\">\n",
              "      <th></th>\n",
              "      <th>animal name</th>\n",
              "      <th>hair</th>\n",
              "      <th>feathers</th>\n",
              "      <th>eggs</th>\n",
              "      <th>milk</th>\n",
              "      <th>airborne</th>\n",
              "      <th>aquatic</th>\n",
              "      <th>predator</th>\n",
              "      <th>toothed</th>\n",
              "      <th>backbone</th>\n",
              "      <th>breathes</th>\n",
              "      <th>venomous</th>\n",
              "      <th>fins</th>\n",
              "      <th>legs</th>\n",
              "      <th>tail</th>\n",
              "      <th>domestic</th>\n",
              "      <th>catsize</th>\n",
              "      <th>type</th>\n",
              "    </tr>\n",
              "  </thead>\n",
              "  <tbody>\n",
              "    <tr>\n",
              "      <th>0</th>\n",
              "      <td>aardvark</td>\n",
              "      <td>1</td>\n",
              "      <td>0</td>\n",
              "      <td>0</td>\n",
              "      <td>1</td>\n",
              "      <td>0</td>\n",
              "      <td>0</td>\n",
              "      <td>1</td>\n",
              "      <td>1</td>\n",
              "      <td>1</td>\n",
              "      <td>1</td>\n",
              "      <td>0</td>\n",
              "      <td>0</td>\n",
              "      <td>4</td>\n",
              "      <td>0</td>\n",
              "      <td>0</td>\n",
              "      <td>1</td>\n",
              "      <td>1</td>\n",
              "    </tr>\n",
              "    <tr>\n",
              "      <th>1</th>\n",
              "      <td>antelope</td>\n",
              "      <td>1</td>\n",
              "      <td>0</td>\n",
              "      <td>0</td>\n",
              "      <td>1</td>\n",
              "      <td>0</td>\n",
              "      <td>0</td>\n",
              "      <td>0</td>\n",
              "      <td>1</td>\n",
              "      <td>1</td>\n",
              "      <td>1</td>\n",
              "      <td>0</td>\n",
              "      <td>0</td>\n",
              "      <td>4</td>\n",
              "      <td>1</td>\n",
              "      <td>0</td>\n",
              "      <td>1</td>\n",
              "      <td>1</td>\n",
              "    </tr>\n",
              "    <tr>\n",
              "      <th>2</th>\n",
              "      <td>bass</td>\n",
              "      <td>0</td>\n",
              "      <td>0</td>\n",
              "      <td>1</td>\n",
              "      <td>0</td>\n",
              "      <td>0</td>\n",
              "      <td>1</td>\n",
              "      <td>1</td>\n",
              "      <td>1</td>\n",
              "      <td>1</td>\n",
              "      <td>0</td>\n",
              "      <td>0</td>\n",
              "      <td>1</td>\n",
              "      <td>0</td>\n",
              "      <td>1</td>\n",
              "      <td>0</td>\n",
              "      <td>0</td>\n",
              "      <td>4</td>\n",
              "    </tr>\n",
              "    <tr>\n",
              "      <th>3</th>\n",
              "      <td>bear</td>\n",
              "      <td>1</td>\n",
              "      <td>0</td>\n",
              "      <td>0</td>\n",
              "      <td>1</td>\n",
              "      <td>0</td>\n",
              "      <td>0</td>\n",
              "      <td>1</td>\n",
              "      <td>1</td>\n",
              "      <td>1</td>\n",
              "      <td>1</td>\n",
              "      <td>0</td>\n",
              "      <td>0</td>\n",
              "      <td>4</td>\n",
              "      <td>0</td>\n",
              "      <td>0</td>\n",
              "      <td>1</td>\n",
              "      <td>1</td>\n",
              "    </tr>\n",
              "    <tr>\n",
              "      <th>4</th>\n",
              "      <td>boar</td>\n",
              "      <td>1</td>\n",
              "      <td>0</td>\n",
              "      <td>0</td>\n",
              "      <td>1</td>\n",
              "      <td>0</td>\n",
              "      <td>0</td>\n",
              "      <td>1</td>\n",
              "      <td>1</td>\n",
              "      <td>1</td>\n",
              "      <td>1</td>\n",
              "      <td>0</td>\n",
              "      <td>0</td>\n",
              "      <td>4</td>\n",
              "      <td>1</td>\n",
              "      <td>0</td>\n",
              "      <td>1</td>\n",
              "      <td>1</td>\n",
              "    </tr>\n",
              "    <tr>\n",
              "      <th>...</th>\n",
              "      <td>...</td>\n",
              "      <td>...</td>\n",
              "      <td>...</td>\n",
              "      <td>...</td>\n",
              "      <td>...</td>\n",
              "      <td>...</td>\n",
              "      <td>...</td>\n",
              "      <td>...</td>\n",
              "      <td>...</td>\n",
              "      <td>...</td>\n",
              "      <td>...</td>\n",
              "      <td>...</td>\n",
              "      <td>...</td>\n",
              "      <td>...</td>\n",
              "      <td>...</td>\n",
              "      <td>...</td>\n",
              "      <td>...</td>\n",
              "      <td>...</td>\n",
              "    </tr>\n",
              "    <tr>\n",
              "      <th>96</th>\n",
              "      <td>wallaby</td>\n",
              "      <td>1</td>\n",
              "      <td>0</td>\n",
              "      <td>0</td>\n",
              "      <td>1</td>\n",
              "      <td>0</td>\n",
              "      <td>0</td>\n",
              "      <td>0</td>\n",
              "      <td>1</td>\n",
              "      <td>1</td>\n",
              "      <td>1</td>\n",
              "      <td>0</td>\n",
              "      <td>0</td>\n",
              "      <td>2</td>\n",
              "      <td>1</td>\n",
              "      <td>0</td>\n",
              "      <td>1</td>\n",
              "      <td>1</td>\n",
              "    </tr>\n",
              "    <tr>\n",
              "      <th>97</th>\n",
              "      <td>wasp</td>\n",
              "      <td>1</td>\n",
              "      <td>0</td>\n",
              "      <td>1</td>\n",
              "      <td>0</td>\n",
              "      <td>1</td>\n",
              "      <td>0</td>\n",
              "      <td>0</td>\n",
              "      <td>0</td>\n",
              "      <td>0</td>\n",
              "      <td>1</td>\n",
              "      <td>1</td>\n",
              "      <td>0</td>\n",
              "      <td>6</td>\n",
              "      <td>0</td>\n",
              "      <td>0</td>\n",
              "      <td>0</td>\n",
              "      <td>6</td>\n",
              "    </tr>\n",
              "    <tr>\n",
              "      <th>98</th>\n",
              "      <td>wolf</td>\n",
              "      <td>1</td>\n",
              "      <td>0</td>\n",
              "      <td>0</td>\n",
              "      <td>1</td>\n",
              "      <td>0</td>\n",
              "      <td>0</td>\n",
              "      <td>1</td>\n",
              "      <td>1</td>\n",
              "      <td>1</td>\n",
              "      <td>1</td>\n",
              "      <td>0</td>\n",
              "      <td>0</td>\n",
              "      <td>4</td>\n",
              "      <td>1</td>\n",
              "      <td>0</td>\n",
              "      <td>1</td>\n",
              "      <td>1</td>\n",
              "    </tr>\n",
              "    <tr>\n",
              "      <th>99</th>\n",
              "      <td>worm</td>\n",
              "      <td>0</td>\n",
              "      <td>0</td>\n",
              "      <td>1</td>\n",
              "      <td>0</td>\n",
              "      <td>0</td>\n",
              "      <td>0</td>\n",
              "      <td>0</td>\n",
              "      <td>0</td>\n",
              "      <td>0</td>\n",
              "      <td>1</td>\n",
              "      <td>0</td>\n",
              "      <td>0</td>\n",
              "      <td>0</td>\n",
              "      <td>0</td>\n",
              "      <td>0</td>\n",
              "      <td>0</td>\n",
              "      <td>7</td>\n",
              "    </tr>\n",
              "    <tr>\n",
              "      <th>100</th>\n",
              "      <td>wren</td>\n",
              "      <td>0</td>\n",
              "      <td>1</td>\n",
              "      <td>1</td>\n",
              "      <td>0</td>\n",
              "      <td>1</td>\n",
              "      <td>0</td>\n",
              "      <td>0</td>\n",
              "      <td>0</td>\n",
              "      <td>1</td>\n",
              "      <td>1</td>\n",
              "      <td>0</td>\n",
              "      <td>0</td>\n",
              "      <td>2</td>\n",
              "      <td>1</td>\n",
              "      <td>0</td>\n",
              "      <td>0</td>\n",
              "      <td>2</td>\n",
              "    </tr>\n",
              "  </tbody>\n",
              "</table>\n",
              "<p>101 rows × 18 columns</p>\n",
              "</div>\n",
              "      <button class=\"colab-df-convert\" onclick=\"convertToInteractive('df-1015f42b-d793-4ba4-9f15-c1ff2646d154')\"\n",
              "              title=\"Convert this dataframe to an interactive table.\"\n",
              "              style=\"display:none;\">\n",
              "        \n",
              "  <svg xmlns=\"http://www.w3.org/2000/svg\" height=\"24px\"viewBox=\"0 0 24 24\"\n",
              "       width=\"24px\">\n",
              "    <path d=\"M0 0h24v24H0V0z\" fill=\"none\"/>\n",
              "    <path d=\"M18.56 5.44l.94 2.06.94-2.06 2.06-.94-2.06-.94-.94-2.06-.94 2.06-2.06.94zm-11 1L8.5 8.5l.94-2.06 2.06-.94-2.06-.94L8.5 2.5l-.94 2.06-2.06.94zm10 10l.94 2.06.94-2.06 2.06-.94-2.06-.94-.94-2.06-.94 2.06-2.06.94z\"/><path d=\"M17.41 7.96l-1.37-1.37c-.4-.4-.92-.59-1.43-.59-.52 0-1.04.2-1.43.59L10.3 9.45l-7.72 7.72c-.78.78-.78 2.05 0 2.83L4 21.41c.39.39.9.59 1.41.59.51 0 1.02-.2 1.41-.59l7.78-7.78 2.81-2.81c.8-.78.8-2.07 0-2.86zM5.41 20L4 18.59l7.72-7.72 1.47 1.35L5.41 20z\"/>\n",
              "  </svg>\n",
              "      </button>\n",
              "      \n",
              "  <style>\n",
              "    .colab-df-container {\n",
              "      display:flex;\n",
              "      flex-wrap:wrap;\n",
              "      gap: 12px;\n",
              "    }\n",
              "\n",
              "    .colab-df-convert {\n",
              "      background-color: #E8F0FE;\n",
              "      border: none;\n",
              "      border-radius: 50%;\n",
              "      cursor: pointer;\n",
              "      display: none;\n",
              "      fill: #1967D2;\n",
              "      height: 32px;\n",
              "      padding: 0 0 0 0;\n",
              "      width: 32px;\n",
              "    }\n",
              "\n",
              "    .colab-df-convert:hover {\n",
              "      background-color: #E2EBFA;\n",
              "      box-shadow: 0px 1px 2px rgba(60, 64, 67, 0.3), 0px 1px 3px 1px rgba(60, 64, 67, 0.15);\n",
              "      fill: #174EA6;\n",
              "    }\n",
              "\n",
              "    [theme=dark] .colab-df-convert {\n",
              "      background-color: #3B4455;\n",
              "      fill: #D2E3FC;\n",
              "    }\n",
              "\n",
              "    [theme=dark] .colab-df-convert:hover {\n",
              "      background-color: #434B5C;\n",
              "      box-shadow: 0px 1px 3px 1px rgba(0, 0, 0, 0.15);\n",
              "      filter: drop-shadow(0px 1px 2px rgba(0, 0, 0, 0.3));\n",
              "      fill: #FFFFFF;\n",
              "    }\n",
              "  </style>\n",
              "\n",
              "      <script>\n",
              "        const buttonEl =\n",
              "          document.querySelector('#df-1015f42b-d793-4ba4-9f15-c1ff2646d154 button.colab-df-convert');\n",
              "        buttonEl.style.display =\n",
              "          google.colab.kernel.accessAllowed ? 'block' : 'none';\n",
              "\n",
              "        async function convertToInteractive(key) {\n",
              "          const element = document.querySelector('#df-1015f42b-d793-4ba4-9f15-c1ff2646d154');\n",
              "          const dataTable =\n",
              "            await google.colab.kernel.invokeFunction('convertToInteractive',\n",
              "                                                     [key], {});\n",
              "          if (!dataTable) return;\n",
              "\n",
              "          const docLinkHtml = 'Like what you see? Visit the ' +\n",
              "            '<a target=\"_blank\" href=https://colab.research.google.com/notebooks/data_table.ipynb>data table notebook</a>'\n",
              "            + ' to learn more about interactive tables.';\n",
              "          element.innerHTML = '';\n",
              "          dataTable['output_type'] = 'display_data';\n",
              "          await google.colab.output.renderOutput(dataTable, element);\n",
              "          const docLink = document.createElement('div');\n",
              "          docLink.innerHTML = docLinkHtml;\n",
              "          element.appendChild(docLink);\n",
              "        }\n",
              "      </script>\n",
              "    </div>\n",
              "  </div>\n",
              "  "
            ]
          },
          "metadata": {},
          "execution_count": 3
        }
      ]
    },
    {
      "cell_type": "code",
      "source": [
        "dataset.describe()"
      ],
      "metadata": {
        "colab": {
          "base_uri": "https://localhost:8080/",
          "height": 364
        },
        "id": "h-dOqz3ZKhQ1",
        "outputId": "d1b75c87-a966-49a0-9e8c-9f9d9cdb6eeb"
      },
      "execution_count": 4,
      "outputs": [
        {
          "output_type": "execute_result",
          "data": {
            "text/plain": [
              "             hair    feathers        eggs        milk    airborne     aquatic  \\\n",
              "count  101.000000  101.000000  101.000000  101.000000  101.000000  101.000000   \n",
              "mean     0.425743    0.198020    0.584158    0.405941    0.237624    0.356436   \n",
              "std      0.496921    0.400495    0.495325    0.493522    0.427750    0.481335   \n",
              "min      0.000000    0.000000    0.000000    0.000000    0.000000    0.000000   \n",
              "25%      0.000000    0.000000    0.000000    0.000000    0.000000    0.000000   \n",
              "50%      0.000000    0.000000    1.000000    0.000000    0.000000    0.000000   \n",
              "75%      1.000000    0.000000    1.000000    1.000000    0.000000    1.000000   \n",
              "max      1.000000    1.000000    1.000000    1.000000    1.000000    1.000000   \n",
              "\n",
              "         predator     toothed    backbone    breathes    venomous        fins  \\\n",
              "count  101.000000  101.000000  101.000000  101.000000  101.000000  101.000000   \n",
              "mean     0.554455    0.603960    0.821782    0.792079    0.079208    0.168317   \n",
              "std      0.499505    0.491512    0.384605    0.407844    0.271410    0.376013   \n",
              "min      0.000000    0.000000    0.000000    0.000000    0.000000    0.000000   \n",
              "25%      0.000000    0.000000    1.000000    1.000000    0.000000    0.000000   \n",
              "50%      1.000000    1.000000    1.000000    1.000000    0.000000    0.000000   \n",
              "75%      1.000000    1.000000    1.000000    1.000000    0.000000    0.000000   \n",
              "max      1.000000    1.000000    1.000000    1.000000    1.000000    1.000000   \n",
              "\n",
              "             legs        tail    domestic     catsize        type  \n",
              "count  101.000000  101.000000  101.000000  101.000000  101.000000  \n",
              "mean     2.841584    0.742574    0.128713    0.435644    2.831683  \n",
              "std      2.033385    0.439397    0.336552    0.498314    2.102709  \n",
              "min      0.000000    0.000000    0.000000    0.000000    1.000000  \n",
              "25%      2.000000    0.000000    0.000000    0.000000    1.000000  \n",
              "50%      4.000000    1.000000    0.000000    0.000000    2.000000  \n",
              "75%      4.000000    1.000000    0.000000    1.000000    4.000000  \n",
              "max      8.000000    1.000000    1.000000    1.000000    7.000000  "
            ],
            "text/html": [
              "\n",
              "  <div id=\"df-eb824c12-8ba0-45a1-b637-21c3a4d01ef9\">\n",
              "    <div class=\"colab-df-container\">\n",
              "      <div>\n",
              "<style scoped>\n",
              "    .dataframe tbody tr th:only-of-type {\n",
              "        vertical-align: middle;\n",
              "    }\n",
              "\n",
              "    .dataframe tbody tr th {\n",
              "        vertical-align: top;\n",
              "    }\n",
              "\n",
              "    .dataframe thead th {\n",
              "        text-align: right;\n",
              "    }\n",
              "</style>\n",
              "<table border=\"1\" class=\"dataframe\">\n",
              "  <thead>\n",
              "    <tr style=\"text-align: right;\">\n",
              "      <th></th>\n",
              "      <th>hair</th>\n",
              "      <th>feathers</th>\n",
              "      <th>eggs</th>\n",
              "      <th>milk</th>\n",
              "      <th>airborne</th>\n",
              "      <th>aquatic</th>\n",
              "      <th>predator</th>\n",
              "      <th>toothed</th>\n",
              "      <th>backbone</th>\n",
              "      <th>breathes</th>\n",
              "      <th>venomous</th>\n",
              "      <th>fins</th>\n",
              "      <th>legs</th>\n",
              "      <th>tail</th>\n",
              "      <th>domestic</th>\n",
              "      <th>catsize</th>\n",
              "      <th>type</th>\n",
              "    </tr>\n",
              "  </thead>\n",
              "  <tbody>\n",
              "    <tr>\n",
              "      <th>count</th>\n",
              "      <td>101.000000</td>\n",
              "      <td>101.000000</td>\n",
              "      <td>101.000000</td>\n",
              "      <td>101.000000</td>\n",
              "      <td>101.000000</td>\n",
              "      <td>101.000000</td>\n",
              "      <td>101.000000</td>\n",
              "      <td>101.000000</td>\n",
              "      <td>101.000000</td>\n",
              "      <td>101.000000</td>\n",
              "      <td>101.000000</td>\n",
              "      <td>101.000000</td>\n",
              "      <td>101.000000</td>\n",
              "      <td>101.000000</td>\n",
              "      <td>101.000000</td>\n",
              "      <td>101.000000</td>\n",
              "      <td>101.000000</td>\n",
              "    </tr>\n",
              "    <tr>\n",
              "      <th>mean</th>\n",
              "      <td>0.425743</td>\n",
              "      <td>0.198020</td>\n",
              "      <td>0.584158</td>\n",
              "      <td>0.405941</td>\n",
              "      <td>0.237624</td>\n",
              "      <td>0.356436</td>\n",
              "      <td>0.554455</td>\n",
              "      <td>0.603960</td>\n",
              "      <td>0.821782</td>\n",
              "      <td>0.792079</td>\n",
              "      <td>0.079208</td>\n",
              "      <td>0.168317</td>\n",
              "      <td>2.841584</td>\n",
              "      <td>0.742574</td>\n",
              "      <td>0.128713</td>\n",
              "      <td>0.435644</td>\n",
              "      <td>2.831683</td>\n",
              "    </tr>\n",
              "    <tr>\n",
              "      <th>std</th>\n",
              "      <td>0.496921</td>\n",
              "      <td>0.400495</td>\n",
              "      <td>0.495325</td>\n",
              "      <td>0.493522</td>\n",
              "      <td>0.427750</td>\n",
              "      <td>0.481335</td>\n",
              "      <td>0.499505</td>\n",
              "      <td>0.491512</td>\n",
              "      <td>0.384605</td>\n",
              "      <td>0.407844</td>\n",
              "      <td>0.271410</td>\n",
              "      <td>0.376013</td>\n",
              "      <td>2.033385</td>\n",
              "      <td>0.439397</td>\n",
              "      <td>0.336552</td>\n",
              "      <td>0.498314</td>\n",
              "      <td>2.102709</td>\n",
              "    </tr>\n",
              "    <tr>\n",
              "      <th>min</th>\n",
              "      <td>0.000000</td>\n",
              "      <td>0.000000</td>\n",
              "      <td>0.000000</td>\n",
              "      <td>0.000000</td>\n",
              "      <td>0.000000</td>\n",
              "      <td>0.000000</td>\n",
              "      <td>0.000000</td>\n",
              "      <td>0.000000</td>\n",
              "      <td>0.000000</td>\n",
              "      <td>0.000000</td>\n",
              "      <td>0.000000</td>\n",
              "      <td>0.000000</td>\n",
              "      <td>0.000000</td>\n",
              "      <td>0.000000</td>\n",
              "      <td>0.000000</td>\n",
              "      <td>0.000000</td>\n",
              "      <td>1.000000</td>\n",
              "    </tr>\n",
              "    <tr>\n",
              "      <th>25%</th>\n",
              "      <td>0.000000</td>\n",
              "      <td>0.000000</td>\n",
              "      <td>0.000000</td>\n",
              "      <td>0.000000</td>\n",
              "      <td>0.000000</td>\n",
              "      <td>0.000000</td>\n",
              "      <td>0.000000</td>\n",
              "      <td>0.000000</td>\n",
              "      <td>1.000000</td>\n",
              "      <td>1.000000</td>\n",
              "      <td>0.000000</td>\n",
              "      <td>0.000000</td>\n",
              "      <td>2.000000</td>\n",
              "      <td>0.000000</td>\n",
              "      <td>0.000000</td>\n",
              "      <td>0.000000</td>\n",
              "      <td>1.000000</td>\n",
              "    </tr>\n",
              "    <tr>\n",
              "      <th>50%</th>\n",
              "      <td>0.000000</td>\n",
              "      <td>0.000000</td>\n",
              "      <td>1.000000</td>\n",
              "      <td>0.000000</td>\n",
              "      <td>0.000000</td>\n",
              "      <td>0.000000</td>\n",
              "      <td>1.000000</td>\n",
              "      <td>1.000000</td>\n",
              "      <td>1.000000</td>\n",
              "      <td>1.000000</td>\n",
              "      <td>0.000000</td>\n",
              "      <td>0.000000</td>\n",
              "      <td>4.000000</td>\n",
              "      <td>1.000000</td>\n",
              "      <td>0.000000</td>\n",
              "      <td>0.000000</td>\n",
              "      <td>2.000000</td>\n",
              "    </tr>\n",
              "    <tr>\n",
              "      <th>75%</th>\n",
              "      <td>1.000000</td>\n",
              "      <td>0.000000</td>\n",
              "      <td>1.000000</td>\n",
              "      <td>1.000000</td>\n",
              "      <td>0.000000</td>\n",
              "      <td>1.000000</td>\n",
              "      <td>1.000000</td>\n",
              "      <td>1.000000</td>\n",
              "      <td>1.000000</td>\n",
              "      <td>1.000000</td>\n",
              "      <td>0.000000</td>\n",
              "      <td>0.000000</td>\n",
              "      <td>4.000000</td>\n",
              "      <td>1.000000</td>\n",
              "      <td>0.000000</td>\n",
              "      <td>1.000000</td>\n",
              "      <td>4.000000</td>\n",
              "    </tr>\n",
              "    <tr>\n",
              "      <th>max</th>\n",
              "      <td>1.000000</td>\n",
              "      <td>1.000000</td>\n",
              "      <td>1.000000</td>\n",
              "      <td>1.000000</td>\n",
              "      <td>1.000000</td>\n",
              "      <td>1.000000</td>\n",
              "      <td>1.000000</td>\n",
              "      <td>1.000000</td>\n",
              "      <td>1.000000</td>\n",
              "      <td>1.000000</td>\n",
              "      <td>1.000000</td>\n",
              "      <td>1.000000</td>\n",
              "      <td>8.000000</td>\n",
              "      <td>1.000000</td>\n",
              "      <td>1.000000</td>\n",
              "      <td>1.000000</td>\n",
              "      <td>7.000000</td>\n",
              "    </tr>\n",
              "  </tbody>\n",
              "</table>\n",
              "</div>\n",
              "      <button class=\"colab-df-convert\" onclick=\"convertToInteractive('df-eb824c12-8ba0-45a1-b637-21c3a4d01ef9')\"\n",
              "              title=\"Convert this dataframe to an interactive table.\"\n",
              "              style=\"display:none;\">\n",
              "        \n",
              "  <svg xmlns=\"http://www.w3.org/2000/svg\" height=\"24px\"viewBox=\"0 0 24 24\"\n",
              "       width=\"24px\">\n",
              "    <path d=\"M0 0h24v24H0V0z\" fill=\"none\"/>\n",
              "    <path d=\"M18.56 5.44l.94 2.06.94-2.06 2.06-.94-2.06-.94-.94-2.06-.94 2.06-2.06.94zm-11 1L8.5 8.5l.94-2.06 2.06-.94-2.06-.94L8.5 2.5l-.94 2.06-2.06.94zm10 10l.94 2.06.94-2.06 2.06-.94-2.06-.94-.94-2.06-.94 2.06-2.06.94z\"/><path d=\"M17.41 7.96l-1.37-1.37c-.4-.4-.92-.59-1.43-.59-.52 0-1.04.2-1.43.59L10.3 9.45l-7.72 7.72c-.78.78-.78 2.05 0 2.83L4 21.41c.39.39.9.59 1.41.59.51 0 1.02-.2 1.41-.59l7.78-7.78 2.81-2.81c.8-.78.8-2.07 0-2.86zM5.41 20L4 18.59l7.72-7.72 1.47 1.35L5.41 20z\"/>\n",
              "  </svg>\n",
              "      </button>\n",
              "      \n",
              "  <style>\n",
              "    .colab-df-container {\n",
              "      display:flex;\n",
              "      flex-wrap:wrap;\n",
              "      gap: 12px;\n",
              "    }\n",
              "\n",
              "    .colab-df-convert {\n",
              "      background-color: #E8F0FE;\n",
              "      border: none;\n",
              "      border-radius: 50%;\n",
              "      cursor: pointer;\n",
              "      display: none;\n",
              "      fill: #1967D2;\n",
              "      height: 32px;\n",
              "      padding: 0 0 0 0;\n",
              "      width: 32px;\n",
              "    }\n",
              "\n",
              "    .colab-df-convert:hover {\n",
              "      background-color: #E2EBFA;\n",
              "      box-shadow: 0px 1px 2px rgba(60, 64, 67, 0.3), 0px 1px 3px 1px rgba(60, 64, 67, 0.15);\n",
              "      fill: #174EA6;\n",
              "    }\n",
              "\n",
              "    [theme=dark] .colab-df-convert {\n",
              "      background-color: #3B4455;\n",
              "      fill: #D2E3FC;\n",
              "    }\n",
              "\n",
              "    [theme=dark] .colab-df-convert:hover {\n",
              "      background-color: #434B5C;\n",
              "      box-shadow: 0px 1px 3px 1px rgba(0, 0, 0, 0.15);\n",
              "      filter: drop-shadow(0px 1px 2px rgba(0, 0, 0, 0.3));\n",
              "      fill: #FFFFFF;\n",
              "    }\n",
              "  </style>\n",
              "\n",
              "      <script>\n",
              "        const buttonEl =\n",
              "          document.querySelector('#df-eb824c12-8ba0-45a1-b637-21c3a4d01ef9 button.colab-df-convert');\n",
              "        buttonEl.style.display =\n",
              "          google.colab.kernel.accessAllowed ? 'block' : 'none';\n",
              "\n",
              "        async function convertToInteractive(key) {\n",
              "          const element = document.querySelector('#df-eb824c12-8ba0-45a1-b637-21c3a4d01ef9');\n",
              "          const dataTable =\n",
              "            await google.colab.kernel.invokeFunction('convertToInteractive',\n",
              "                                                     [key], {});\n",
              "          if (!dataTable) return;\n",
              "\n",
              "          const docLinkHtml = 'Like what you see? Visit the ' +\n",
              "            '<a target=\"_blank\" href=https://colab.research.google.com/notebooks/data_table.ipynb>data table notebook</a>'\n",
              "            + ' to learn more about interactive tables.';\n",
              "          element.innerHTML = '';\n",
              "          dataTable['output_type'] = 'display_data';\n",
              "          await google.colab.output.renderOutput(dataTable, element);\n",
              "          const docLink = document.createElement('div');\n",
              "          docLink.innerHTML = docLinkHtml;\n",
              "          element.appendChild(docLink);\n",
              "        }\n",
              "      </script>\n",
              "    </div>\n",
              "  </div>\n",
              "  "
            ]
          },
          "metadata": {},
          "execution_count": 4
        }
      ]
    },
    {
      "cell_type": "code",
      "source": [
        "dataset.head()"
      ],
      "metadata": {
        "colab": {
          "base_uri": "https://localhost:8080/",
          "height": 250
        },
        "id": "yCjO6WDRKlyY",
        "outputId": "b71cf2a4-9991-4b4d-af1a-d2054b6b357f"
      },
      "execution_count": 5,
      "outputs": [
        {
          "output_type": "execute_result",
          "data": {
            "text/plain": [
              "  animal name  hair  feathers  eggs  milk  airborne  aquatic  predator  \\\n",
              "0    aardvark     1         0     0     1         0        0         1   \n",
              "1    antelope     1         0     0     1         0        0         0   \n",
              "2        bass     0         0     1     0         0        1         1   \n",
              "3        bear     1         0     0     1         0        0         1   \n",
              "4        boar     1         0     0     1         0        0         1   \n",
              "\n",
              "   toothed  backbone  breathes  venomous  fins  legs  tail  domestic  catsize  \\\n",
              "0        1         1         1         0     0     4     0         0        1   \n",
              "1        1         1         1         0     0     4     1         0        1   \n",
              "2        1         1         0         0     1     0     1         0        0   \n",
              "3        1         1         1         0     0     4     0         0        1   \n",
              "4        1         1         1         0     0     4     1         0        1   \n",
              "\n",
              "   type  \n",
              "0     1  \n",
              "1     1  \n",
              "2     4  \n",
              "3     1  \n",
              "4     1  "
            ],
            "text/html": [
              "\n",
              "  <div id=\"df-258fe472-681b-4467-b75c-f07cdd5bf081\">\n",
              "    <div class=\"colab-df-container\">\n",
              "      <div>\n",
              "<style scoped>\n",
              "    .dataframe tbody tr th:only-of-type {\n",
              "        vertical-align: middle;\n",
              "    }\n",
              "\n",
              "    .dataframe tbody tr th {\n",
              "        vertical-align: top;\n",
              "    }\n",
              "\n",
              "    .dataframe thead th {\n",
              "        text-align: right;\n",
              "    }\n",
              "</style>\n",
              "<table border=\"1\" class=\"dataframe\">\n",
              "  <thead>\n",
              "    <tr style=\"text-align: right;\">\n",
              "      <th></th>\n",
              "      <th>animal name</th>\n",
              "      <th>hair</th>\n",
              "      <th>feathers</th>\n",
              "      <th>eggs</th>\n",
              "      <th>milk</th>\n",
              "      <th>airborne</th>\n",
              "      <th>aquatic</th>\n",
              "      <th>predator</th>\n",
              "      <th>toothed</th>\n",
              "      <th>backbone</th>\n",
              "      <th>breathes</th>\n",
              "      <th>venomous</th>\n",
              "      <th>fins</th>\n",
              "      <th>legs</th>\n",
              "      <th>tail</th>\n",
              "      <th>domestic</th>\n",
              "      <th>catsize</th>\n",
              "      <th>type</th>\n",
              "    </tr>\n",
              "  </thead>\n",
              "  <tbody>\n",
              "    <tr>\n",
              "      <th>0</th>\n",
              "      <td>aardvark</td>\n",
              "      <td>1</td>\n",
              "      <td>0</td>\n",
              "      <td>0</td>\n",
              "      <td>1</td>\n",
              "      <td>0</td>\n",
              "      <td>0</td>\n",
              "      <td>1</td>\n",
              "      <td>1</td>\n",
              "      <td>1</td>\n",
              "      <td>1</td>\n",
              "      <td>0</td>\n",
              "      <td>0</td>\n",
              "      <td>4</td>\n",
              "      <td>0</td>\n",
              "      <td>0</td>\n",
              "      <td>1</td>\n",
              "      <td>1</td>\n",
              "    </tr>\n",
              "    <tr>\n",
              "      <th>1</th>\n",
              "      <td>antelope</td>\n",
              "      <td>1</td>\n",
              "      <td>0</td>\n",
              "      <td>0</td>\n",
              "      <td>1</td>\n",
              "      <td>0</td>\n",
              "      <td>0</td>\n",
              "      <td>0</td>\n",
              "      <td>1</td>\n",
              "      <td>1</td>\n",
              "      <td>1</td>\n",
              "      <td>0</td>\n",
              "      <td>0</td>\n",
              "      <td>4</td>\n",
              "      <td>1</td>\n",
              "      <td>0</td>\n",
              "      <td>1</td>\n",
              "      <td>1</td>\n",
              "    </tr>\n",
              "    <tr>\n",
              "      <th>2</th>\n",
              "      <td>bass</td>\n",
              "      <td>0</td>\n",
              "      <td>0</td>\n",
              "      <td>1</td>\n",
              "      <td>0</td>\n",
              "      <td>0</td>\n",
              "      <td>1</td>\n",
              "      <td>1</td>\n",
              "      <td>1</td>\n",
              "      <td>1</td>\n",
              "      <td>0</td>\n",
              "      <td>0</td>\n",
              "      <td>1</td>\n",
              "      <td>0</td>\n",
              "      <td>1</td>\n",
              "      <td>0</td>\n",
              "      <td>0</td>\n",
              "      <td>4</td>\n",
              "    </tr>\n",
              "    <tr>\n",
              "      <th>3</th>\n",
              "      <td>bear</td>\n",
              "      <td>1</td>\n",
              "      <td>0</td>\n",
              "      <td>0</td>\n",
              "      <td>1</td>\n",
              "      <td>0</td>\n",
              "      <td>0</td>\n",
              "      <td>1</td>\n",
              "      <td>1</td>\n",
              "      <td>1</td>\n",
              "      <td>1</td>\n",
              "      <td>0</td>\n",
              "      <td>0</td>\n",
              "      <td>4</td>\n",
              "      <td>0</td>\n",
              "      <td>0</td>\n",
              "      <td>1</td>\n",
              "      <td>1</td>\n",
              "    </tr>\n",
              "    <tr>\n",
              "      <th>4</th>\n",
              "      <td>boar</td>\n",
              "      <td>1</td>\n",
              "      <td>0</td>\n",
              "      <td>0</td>\n",
              "      <td>1</td>\n",
              "      <td>0</td>\n",
              "      <td>0</td>\n",
              "      <td>1</td>\n",
              "      <td>1</td>\n",
              "      <td>1</td>\n",
              "      <td>1</td>\n",
              "      <td>0</td>\n",
              "      <td>0</td>\n",
              "      <td>4</td>\n",
              "      <td>1</td>\n",
              "      <td>0</td>\n",
              "      <td>1</td>\n",
              "      <td>1</td>\n",
              "    </tr>\n",
              "  </tbody>\n",
              "</table>\n",
              "</div>\n",
              "      <button class=\"colab-df-convert\" onclick=\"convertToInteractive('df-258fe472-681b-4467-b75c-f07cdd5bf081')\"\n",
              "              title=\"Convert this dataframe to an interactive table.\"\n",
              "              style=\"display:none;\">\n",
              "        \n",
              "  <svg xmlns=\"http://www.w3.org/2000/svg\" height=\"24px\"viewBox=\"0 0 24 24\"\n",
              "       width=\"24px\">\n",
              "    <path d=\"M0 0h24v24H0V0z\" fill=\"none\"/>\n",
              "    <path d=\"M18.56 5.44l.94 2.06.94-2.06 2.06-.94-2.06-.94-.94-2.06-.94 2.06-2.06.94zm-11 1L8.5 8.5l.94-2.06 2.06-.94-2.06-.94L8.5 2.5l-.94 2.06-2.06.94zm10 10l.94 2.06.94-2.06 2.06-.94-2.06-.94-.94-2.06-.94 2.06-2.06.94z\"/><path d=\"M17.41 7.96l-1.37-1.37c-.4-.4-.92-.59-1.43-.59-.52 0-1.04.2-1.43.59L10.3 9.45l-7.72 7.72c-.78.78-.78 2.05 0 2.83L4 21.41c.39.39.9.59 1.41.59.51 0 1.02-.2 1.41-.59l7.78-7.78 2.81-2.81c.8-.78.8-2.07 0-2.86zM5.41 20L4 18.59l7.72-7.72 1.47 1.35L5.41 20z\"/>\n",
              "  </svg>\n",
              "      </button>\n",
              "      \n",
              "  <style>\n",
              "    .colab-df-container {\n",
              "      display:flex;\n",
              "      flex-wrap:wrap;\n",
              "      gap: 12px;\n",
              "    }\n",
              "\n",
              "    .colab-df-convert {\n",
              "      background-color: #E8F0FE;\n",
              "      border: none;\n",
              "      border-radius: 50%;\n",
              "      cursor: pointer;\n",
              "      display: none;\n",
              "      fill: #1967D2;\n",
              "      height: 32px;\n",
              "      padding: 0 0 0 0;\n",
              "      width: 32px;\n",
              "    }\n",
              "\n",
              "    .colab-df-convert:hover {\n",
              "      background-color: #E2EBFA;\n",
              "      box-shadow: 0px 1px 2px rgba(60, 64, 67, 0.3), 0px 1px 3px 1px rgba(60, 64, 67, 0.15);\n",
              "      fill: #174EA6;\n",
              "    }\n",
              "\n",
              "    [theme=dark] .colab-df-convert {\n",
              "      background-color: #3B4455;\n",
              "      fill: #D2E3FC;\n",
              "    }\n",
              "\n",
              "    [theme=dark] .colab-df-convert:hover {\n",
              "      background-color: #434B5C;\n",
              "      box-shadow: 0px 1px 3px 1px rgba(0, 0, 0, 0.15);\n",
              "      filter: drop-shadow(0px 1px 2px rgba(0, 0, 0, 0.3));\n",
              "      fill: #FFFFFF;\n",
              "    }\n",
              "  </style>\n",
              "\n",
              "      <script>\n",
              "        const buttonEl =\n",
              "          document.querySelector('#df-258fe472-681b-4467-b75c-f07cdd5bf081 button.colab-df-convert');\n",
              "        buttonEl.style.display =\n",
              "          google.colab.kernel.accessAllowed ? 'block' : 'none';\n",
              "\n",
              "        async function convertToInteractive(key) {\n",
              "          const element = document.querySelector('#df-258fe472-681b-4467-b75c-f07cdd5bf081');\n",
              "          const dataTable =\n",
              "            await google.colab.kernel.invokeFunction('convertToInteractive',\n",
              "                                                     [key], {});\n",
              "          if (!dataTable) return;\n",
              "\n",
              "          const docLinkHtml = 'Like what you see? Visit the ' +\n",
              "            '<a target=\"_blank\" href=https://colab.research.google.com/notebooks/data_table.ipynb>data table notebook</a>'\n",
              "            + ' to learn more about interactive tables.';\n",
              "          element.innerHTML = '';\n",
              "          dataTable['output_type'] = 'display_data';\n",
              "          await google.colab.output.renderOutput(dataTable, element);\n",
              "          const docLink = document.createElement('div');\n",
              "          docLink.innerHTML = docLinkHtml;\n",
              "          element.appendChild(docLink);\n",
              "        }\n",
              "      </script>\n",
              "    </div>\n",
              "  </div>\n",
              "  "
            ]
          },
          "metadata": {},
          "execution_count": 5
        }
      ]
    },
    {
      "cell_type": "code",
      "source": [
        "dataset.info()"
      ],
      "metadata": {
        "colab": {
          "base_uri": "https://localhost:8080/"
        },
        "id": "uDby5azPKmzN",
        "outputId": "6156dccf-66b2-48fd-e2e1-692e81759f03"
      },
      "execution_count": 6,
      "outputs": [
        {
          "output_type": "stream",
          "name": "stdout",
          "text": [
            "<class 'pandas.core.frame.DataFrame'>\n",
            "RangeIndex: 101 entries, 0 to 100\n",
            "Data columns (total 18 columns):\n",
            " #   Column       Non-Null Count  Dtype \n",
            "---  ------       --------------  ----- \n",
            " 0   animal name  101 non-null    object\n",
            " 1   hair         101 non-null    int64 \n",
            " 2   feathers     101 non-null    int64 \n",
            " 3   eggs         101 non-null    int64 \n",
            " 4   milk         101 non-null    int64 \n",
            " 5   airborne     101 non-null    int64 \n",
            " 6   aquatic      101 non-null    int64 \n",
            " 7   predator     101 non-null    int64 \n",
            " 8   toothed      101 non-null    int64 \n",
            " 9   backbone     101 non-null    int64 \n",
            " 10  breathes     101 non-null    int64 \n",
            " 11  venomous     101 non-null    int64 \n",
            " 12  fins         101 non-null    int64 \n",
            " 13  legs         101 non-null    int64 \n",
            " 14  tail         101 non-null    int64 \n",
            " 15  domestic     101 non-null    int64 \n",
            " 16  catsize      101 non-null    int64 \n",
            " 17  type         101 non-null    int64 \n",
            "dtypes: int64(17), object(1)\n",
            "memory usage: 14.3+ KB\n"
          ]
        }
      ]
    },
    {
      "cell_type": "markdown",
      "source": [
        "# FEATURE SELECTION"
      ],
      "metadata": {
        "id": "iiAbFpI9R883"
      }
    },
    {
      "cell_type": "code",
      "source": [
        "from numpy import set_printoptions\n",
        "from sklearn.feature_selection import SelectKBest\n",
        "from sklearn.feature_selection import chi2"
      ],
      "metadata": {
        "id": "4_-axNYLKOlh"
      },
      "execution_count": 7,
      "outputs": []
    },
    {
      "cell_type": "code",
      "source": [
        "array = dataset.values\n",
        "X = array[:,1:17]\n",
        "Y = array[:,-1]\n",
        "# feature extraction\n",
        "test = SelectKBest(score_func=chi2, k=3)\n",
        "Y=Y.astype('int64')\n",
        "fit = test.fit(X, Y)\n",
        "# summarize scores\n",
        "set_printoptions(precision=3)\n",
        "print(fit.scores_)\n",
        "features = fit.transform(X)"
      ],
      "metadata": {
        "colab": {
          "base_uri": "https://localhost:8080/"
        },
        "id": "nUVx6mBzKpcc",
        "outputId": "3407c161-d03d-4497-b424-5e7308313d42"
      },
      "execution_count": 8,
      "outputs": [
        {
          "output_type": "stream",
          "name": "stdout",
          "text": [
            "[48.834 81.    37.42  60.    49.215 29.869  5.431 37.06  18.    17.339\n",
            " 17.59  62.554 81.171 16.88   4.193 20.976]\n"
          ]
        }
      ]
    },
    {
      "cell_type": "code",
      "source": [
        "features"
      ],
      "metadata": {
        "colab": {
          "base_uri": "https://localhost:8080/"
        },
        "id": "KhJn-BIOK-ct",
        "outputId": "ec178f64-e333-418f-a9bb-395f50bd4732"
      },
      "execution_count": 9,
      "outputs": [
        {
          "output_type": "execute_result",
          "data": {
            "text/plain": [
              "array([[0, 0, 4],\n",
              "       [0, 0, 4],\n",
              "       [0, 1, 0],\n",
              "       [0, 0, 4],\n",
              "       [0, 0, 4],\n",
              "       [0, 0, 4],\n",
              "       [0, 0, 4],\n",
              "       [0, 1, 0],\n",
              "       [0, 1, 0],\n",
              "       [0, 0, 4],\n",
              "       [0, 0, 4],\n",
              "       [1, 0, 2],\n",
              "       [0, 1, 0],\n",
              "       [0, 0, 0],\n",
              "       [0, 0, 4],\n",
              "       [0, 0, 6],\n",
              "       [1, 0, 2],\n",
              "       [0, 0, 4],\n",
              "       [0, 1, 0],\n",
              "       [0, 1, 0],\n",
              "       [1, 0, 2],\n",
              "       [1, 0, 2],\n",
              "       [0, 0, 4],\n",
              "       [1, 0, 2],\n",
              "       [0, 0, 6],\n",
              "       [0, 0, 4],\n",
              "       [0, 0, 4],\n",
              "       [0, 0, 2],\n",
              "       [0, 0, 4],\n",
              "       [0, 0, 2],\n",
              "       [0, 0, 6],\n",
              "       [0, 0, 4],\n",
              "       [0, 0, 2],\n",
              "       [1, 0, 2],\n",
              "       [0, 1, 0],\n",
              "       [0, 0, 4],\n",
              "       [0, 0, 4],\n",
              "       [1, 0, 2],\n",
              "       [0, 1, 0],\n",
              "       [0, 0, 6],\n",
              "       [0, 0, 6],\n",
              "       [1, 0, 2],\n",
              "       [0, 0, 6],\n",
              "       [1, 0, 2],\n",
              "       [0, 0, 4],\n",
              "       [0, 0, 4],\n",
              "       [0, 0, 6],\n",
              "       [0, 0, 4],\n",
              "       [0, 0, 4],\n",
              "       [0, 0, 4],\n",
              "       [0, 0, 4],\n",
              "       [0, 0, 6],\n",
              "       [0, 0, 4],\n",
              "       [0, 0, 8],\n",
              "       [0, 0, 4],\n",
              "       [0, 0, 4],\n",
              "       [1, 0, 2],\n",
              "       [1, 0, 2],\n",
              "       [1, 0, 2],\n",
              "       [1, 0, 2],\n",
              "       [0, 1, 0],\n",
              "       [0, 1, 0],\n",
              "       [0, 0, 0],\n",
              "       [0, 0, 4],\n",
              "       [0, 0, 4],\n",
              "       [0, 0, 4],\n",
              "       [0, 1, 0],\n",
              "       [0, 0, 4],\n",
              "       [0, 0, 4],\n",
              "       [0, 0, 4],\n",
              "       [0, 0, 4],\n",
              "       [1, 0, 2],\n",
              "       [0, 0, 8],\n",
              "       [0, 1, 0],\n",
              "       [0, 1, 0],\n",
              "       [0, 1, 2],\n",
              "       [0, 0, 0],\n",
              "       [0, 0, 0],\n",
              "       [1, 0, 2],\n",
              "       [1, 0, 2],\n",
              "       [0, 0, 0],\n",
              "       [0, 0, 0],\n",
              "       [0, 1, 0],\n",
              "       [1, 0, 2],\n",
              "       [0, 0, 2],\n",
              "       [0, 0, 5],\n",
              "       [0, 1, 0],\n",
              "       [1, 0, 2],\n",
              "       [0, 0, 6],\n",
              "       [0, 0, 4],\n",
              "       [0, 0, 4],\n",
              "       [0, 0, 4],\n",
              "       [0, 1, 0],\n",
              "       [0, 0, 2],\n",
              "       [0, 0, 4],\n",
              "       [1, 0, 2],\n",
              "       [0, 0, 2],\n",
              "       [0, 0, 6],\n",
              "       [0, 0, 4],\n",
              "       [0, 0, 0],\n",
              "       [1, 0, 2]], dtype=object)"
            ]
          },
          "metadata": {},
          "execution_count": 9
        }
      ]
    },
    {
      "cell_type": "markdown",
      "source": [
        "# INDEPENDENT AND DEPENDENT VARIABLES"
      ],
      "metadata": {
        "id": "5nod8fb9KwsF"
      }
    },
    {
      "cell_type": "code",
      "source": [
        "X = dataset.iloc[:, [2,3,5,6,11,12,13]].values\n",
        "y = dataset.iloc[:, -1].values"
      ],
      "metadata": {
        "id": "RLuv7nCfKn7y"
      },
      "execution_count": 10,
      "outputs": []
    },
    {
      "cell_type": "code",
      "source": [
        "X"
      ],
      "metadata": {
        "colab": {
          "base_uri": "https://localhost:8080/"
        },
        "id": "XiH_s07IK8W3",
        "outputId": "c24fe769-3952-45ee-c680-4f554613852a"
      },
      "execution_count": 11,
      "outputs": [
        {
          "output_type": "execute_result",
          "data": {
            "text/plain": [
              "array([[0, 0, 0, 0, 0, 0, 4],\n",
              "       [0, 0, 0, 0, 0, 0, 4],\n",
              "       [0, 1, 0, 1, 0, 1, 0],\n",
              "       [0, 0, 0, 0, 0, 0, 4],\n",
              "       [0, 0, 0, 0, 0, 0, 4],\n",
              "       [0, 0, 0, 0, 0, 0, 4],\n",
              "       [0, 0, 0, 0, 0, 0, 4],\n",
              "       [0, 1, 0, 1, 0, 1, 0],\n",
              "       [0, 1, 0, 1, 0, 1, 0],\n",
              "       [0, 0, 0, 0, 0, 0, 4],\n",
              "       [0, 0, 0, 0, 0, 0, 4],\n",
              "       [1, 1, 1, 0, 0, 0, 2],\n",
              "       [0, 1, 0, 1, 0, 1, 0],\n",
              "       [0, 1, 0, 0, 0, 0, 0],\n",
              "       [0, 1, 0, 1, 0, 0, 4],\n",
              "       [0, 1, 0, 1, 0, 0, 6],\n",
              "       [1, 1, 1, 0, 0, 0, 2],\n",
              "       [0, 0, 0, 0, 0, 0, 4],\n",
              "       [0, 1, 0, 1, 0, 1, 0],\n",
              "       [0, 0, 0, 1, 0, 1, 0],\n",
              "       [1, 1, 1, 0, 0, 0, 2],\n",
              "       [1, 1, 1, 1, 0, 0, 2],\n",
              "       [0, 0, 0, 0, 0, 0, 4],\n",
              "       [1, 1, 1, 0, 0, 0, 2],\n",
              "       [0, 1, 0, 0, 0, 0, 6],\n",
              "       [0, 1, 0, 1, 0, 0, 4],\n",
              "       [0, 1, 0, 1, 1, 0, 4],\n",
              "       [0, 0, 1, 0, 0, 0, 2],\n",
              "       [0, 0, 0, 0, 0, 0, 4],\n",
              "       [0, 0, 0, 0, 0, 0, 2],\n",
              "       [0, 1, 1, 0, 0, 0, 6],\n",
              "       [0, 0, 0, 0, 0, 0, 4],\n",
              "       [0, 0, 0, 0, 0, 0, 2],\n",
              "       [1, 1, 1, 1, 0, 0, 2],\n",
              "       [0, 1, 0, 1, 0, 1, 0],\n",
              "       [0, 0, 0, 0, 0, 0, 4],\n",
              "       [0, 0, 0, 0, 0, 0, 4],\n",
              "       [1, 1, 1, 0, 0, 0, 2],\n",
              "       [0, 1, 0, 1, 0, 1, 0],\n",
              "       [0, 1, 1, 0, 1, 0, 6],\n",
              "       [0, 1, 1, 0, 0, 0, 6],\n",
              "       [1, 1, 0, 0, 0, 0, 2],\n",
              "       [0, 1, 1, 0, 0, 0, 6],\n",
              "       [1, 1, 1, 0, 0, 0, 2],\n",
              "       [0, 0, 0, 0, 0, 0, 4],\n",
              "       [0, 0, 0, 0, 0, 0, 4],\n",
              "       [0, 1, 0, 1, 0, 0, 6],\n",
              "       [0, 0, 0, 0, 0, 0, 4],\n",
              "       [0, 0, 0, 1, 0, 0, 4],\n",
              "       [0, 0, 0, 0, 0, 0, 4],\n",
              "       [0, 0, 0, 0, 0, 0, 4],\n",
              "       [0, 1, 1, 0, 0, 0, 6],\n",
              "       [0, 1, 0, 1, 0, 0, 4],\n",
              "       [0, 1, 0, 1, 0, 0, 8],\n",
              "       [0, 0, 0, 0, 0, 0, 4],\n",
              "       [0, 0, 0, 0, 0, 0, 4],\n",
              "       [1, 1, 0, 0, 0, 0, 2],\n",
              "       [1, 1, 1, 0, 0, 0, 2],\n",
              "       [1, 1, 0, 1, 0, 0, 2],\n",
              "       [1, 1, 1, 0, 0, 0, 2],\n",
              "       [0, 1, 0, 1, 0, 1, 0],\n",
              "       [0, 1, 0, 1, 0, 1, 0],\n",
              "       [0, 1, 0, 0, 1, 0, 0],\n",
              "       [0, 1, 0, 1, 0, 0, 4],\n",
              "       [0, 0, 0, 0, 0, 0, 4],\n",
              "       [0, 0, 0, 0, 0, 0, 4],\n",
              "       [0, 0, 0, 1, 0, 1, 0],\n",
              "       [0, 0, 0, 0, 0, 0, 4],\n",
              "       [0, 0, 0, 0, 0, 0, 4],\n",
              "       [0, 0, 0, 0, 0, 0, 4],\n",
              "       [0, 0, 0, 0, 0, 0, 4],\n",
              "       [1, 1, 0, 0, 0, 0, 2],\n",
              "       [0, 0, 0, 0, 1, 0, 8],\n",
              "       [0, 1, 0, 1, 0, 1, 0],\n",
              "       [0, 0, 0, 1, 0, 1, 0],\n",
              "       [0, 0, 0, 1, 0, 1, 2],\n",
              "       [0, 0, 0, 1, 1, 0, 0],\n",
              "       [0, 1, 0, 1, 1, 0, 0],\n",
              "       [1, 1, 1, 1, 0, 0, 2],\n",
              "       [1, 1, 1, 1, 0, 0, 2],\n",
              "       [0, 1, 0, 0, 0, 0, 0],\n",
              "       [0, 1, 0, 0, 0, 0, 0],\n",
              "       [0, 1, 0, 1, 0, 1, 0],\n",
              "       [1, 1, 1, 0, 0, 0, 2],\n",
              "       [0, 0, 0, 0, 0, 0, 2],\n",
              "       [0, 1, 0, 1, 0, 0, 5],\n",
              "       [0, 1, 0, 1, 1, 1, 0],\n",
              "       [1, 1, 1, 1, 0, 0, 2],\n",
              "       [0, 1, 0, 0, 0, 0, 6],\n",
              "       [0, 1, 0, 1, 0, 0, 4],\n",
              "       [0, 1, 0, 0, 0, 0, 4],\n",
              "       [0, 1, 0, 0, 0, 0, 4],\n",
              "       [0, 1, 0, 1, 0, 1, 0],\n",
              "       [0, 0, 1, 0, 0, 0, 2],\n",
              "       [0, 0, 0, 0, 0, 0, 4],\n",
              "       [1, 1, 1, 0, 0, 0, 2],\n",
              "       [0, 0, 0, 0, 0, 0, 2],\n",
              "       [0, 1, 1, 0, 1, 0, 6],\n",
              "       [0, 0, 0, 0, 0, 0, 4],\n",
              "       [0, 1, 0, 0, 0, 0, 0],\n",
              "       [1, 1, 1, 0, 0, 0, 2]])"
            ]
          },
          "metadata": {},
          "execution_count": 11
        }
      ]
    },
    {
      "cell_type": "code",
      "source": [
        "y"
      ],
      "metadata": {
        "colab": {
          "base_uri": "https://localhost:8080/"
        },
        "id": "N3Mg8JrtK9Ig",
        "outputId": "767f1534-896a-4bfe-c0d9-0146337ac981"
      },
      "execution_count": 12,
      "outputs": [
        {
          "output_type": "execute_result",
          "data": {
            "text/plain": [
              "array([1, 1, 4, 1, 1, 1, 1, 4, 4, 1, 1, 2, 4, 7, 7, 7, 2, 1, 4, 1, 2, 2,\n",
              "       1, 2, 6, 5, 5, 1, 1, 1, 6, 1, 1, 2, 4, 1, 1, 2, 4, 6, 6, 2, 6, 2,\n",
              "       1, 1, 7, 1, 1, 1, 1, 6, 5, 7, 1, 1, 2, 2, 2, 2, 4, 4, 3, 1, 1, 1,\n",
              "       1, 1, 1, 1, 1, 2, 7, 4, 1, 1, 3, 7, 2, 2, 3, 7, 4, 2, 1, 7, 4, 2,\n",
              "       6, 5, 3, 3, 4, 1, 1, 2, 1, 6, 1, 7, 2])"
            ]
          },
          "metadata": {},
          "execution_count": 12
        }
      ]
    },
    {
      "cell_type": "markdown",
      "source": [
        "# ENCODIING THE DATA"
      ],
      "metadata": {
        "id": "Zep4YHdRNLjt"
      }
    },
    {
      "cell_type": "code",
      "source": [
        "from sklearn.preprocessing import LabelEncoder\n",
        "labelencoder_y = LabelEncoder()\n",
        "y = labelencoder_y.fit_transform(y)"
      ],
      "metadata": {
        "id": "FB05pa2oNGYF"
      },
      "execution_count": 13,
      "outputs": []
    },
    {
      "cell_type": "code",
      "source": [
        "y"
      ],
      "metadata": {
        "colab": {
          "base_uri": "https://localhost:8080/"
        },
        "id": "40bt-zRTNsv6",
        "outputId": "1e965689-fd20-4e10-f372-0553956aa57b"
      },
      "execution_count": 14,
      "outputs": [
        {
          "output_type": "execute_result",
          "data": {
            "text/plain": [
              "array([0, 0, 3, 0, 0, 0, 0, 3, 3, 0, 0, 1, 3, 6, 6, 6, 1, 0, 3, 0, 1, 1,\n",
              "       0, 1, 5, 4, 4, 0, 0, 0, 5, 0, 0, 1, 3, 0, 0, 1, 3, 5, 5, 1, 5, 1,\n",
              "       0, 0, 6, 0, 0, 0, 0, 5, 4, 6, 0, 0, 1, 1, 1, 1, 3, 3, 2, 0, 0, 0,\n",
              "       0, 0, 0, 0, 0, 1, 6, 3, 0, 0, 2, 6, 1, 1, 2, 6, 3, 1, 0, 6, 3, 1,\n",
              "       5, 4, 2, 2, 3, 0, 0, 1, 0, 5, 0, 6, 1])"
            ]
          },
          "metadata": {},
          "execution_count": 14
        }
      ]
    },
    {
      "cell_type": "markdown",
      "source": [
        "# SPLITTING THE DATASET"
      ],
      "metadata": {
        "id": "9WHZv81mLSzi"
      }
    },
    {
      "cell_type": "code",
      "source": [
        "from sklearn.model_selection import train_test_split\n",
        "X_train, X_test, y_train, y_test = train_test_split(X, y, test_size = 0.25, random_state = 0)"
      ],
      "metadata": {
        "id": "TkVJxsaRK9ky"
      },
      "execution_count": 15,
      "outputs": []
    },
    {
      "cell_type": "code",
      "source": [
        "X_train"
      ],
      "metadata": {
        "colab": {
          "base_uri": "https://localhost:8080/"
        },
        "id": "qC2WAAIyLXj1",
        "outputId": "706302ed-36ed-4bec-c2bf-7d5111e98e04"
      },
      "execution_count": 16,
      "outputs": [
        {
          "output_type": "execute_result",
          "data": {
            "text/plain": [
              "array([[0, 0, 0, 0, 0, 0, 4],\n",
              "       [1, 1, 1, 0, 0, 0, 2],\n",
              "       [0, 1, 0, 1, 0, 1, 0],\n",
              "       [0, 0, 0, 1, 1, 0, 0],\n",
              "       [0, 1, 0, 1, 0, 1, 0],\n",
              "       [0, 1, 0, 0, 0, 0, 0],\n",
              "       [0, 1, 0, 0, 0, 0, 4],\n",
              "       [0, 0, 0, 0, 0, 0, 4],\n",
              "       [0, 1, 1, 0, 0, 0, 6],\n",
              "       [0, 0, 1, 0, 0, 0, 2],\n",
              "       [0, 1, 0, 1, 0, 1, 0],\n",
              "       [1, 1, 0, 0, 0, 0, 2],\n",
              "       [0, 1, 0, 1, 0, 0, 4],\n",
              "       [0, 0, 0, 1, 0, 1, 0],\n",
              "       [0, 0, 0, 0, 0, 0, 4],\n",
              "       [0, 1, 0, 1, 0, 1, 0],\n",
              "       [0, 1, 1, 0, 0, 0, 6],\n",
              "       [1, 1, 0, 0, 0, 0, 2],\n",
              "       [0, 0, 0, 0, 0, 0, 4],\n",
              "       [0, 1, 0, 1, 0, 0, 6],\n",
              "       [0, 0, 0, 0, 0, 0, 4],\n",
              "       [0, 1, 1, 0, 0, 0, 6],\n",
              "       [0, 1, 0, 1, 0, 1, 0],\n",
              "       [0, 0, 0, 0, 0, 0, 4],\n",
              "       [0, 1, 0, 1, 0, 1, 0],\n",
              "       [1, 1, 1, 0, 0, 0, 2],\n",
              "       [0, 0, 0, 0, 0, 0, 4],\n",
              "       [0, 1, 0, 1, 0, 1, 0],\n",
              "       [0, 0, 0, 0, 0, 0, 4],\n",
              "       [0, 0, 0, 0, 0, 0, 4],\n",
              "       [1, 1, 1, 0, 0, 0, 2],\n",
              "       [0, 0, 0, 0, 0, 0, 4],\n",
              "       [1, 1, 1, 0, 0, 0, 2],\n",
              "       [0, 1, 0, 1, 0, 0, 4],\n",
              "       [0, 0, 0, 0, 0, 0, 4],\n",
              "       [0, 0, 0, 0, 0, 0, 4],\n",
              "       [0, 0, 0, 1, 0, 1, 0],\n",
              "       [1, 1, 1, 0, 0, 0, 2],\n",
              "       [1, 1, 1, 1, 0, 0, 2],\n",
              "       [0, 1, 0, 1, 0, 0, 5],\n",
              "       [0, 0, 0, 0, 0, 0, 2],\n",
              "       [0, 0, 0, 0, 0, 0, 2],\n",
              "       [0, 1, 0, 1, 0, 0, 4],\n",
              "       [0, 1, 0, 0, 0, 0, 4],\n",
              "       [0, 0, 0, 1, 0, 1, 0],\n",
              "       [0, 0, 0, 0, 0, 0, 2],\n",
              "       [0, 0, 0, 0, 0, 0, 4],\n",
              "       [0, 0, 0, 0, 0, 0, 4],\n",
              "       [0, 1, 0, 0, 0, 0, 0],\n",
              "       [0, 0, 0, 0, 0, 0, 4],\n",
              "       [1, 1, 1, 0, 0, 0, 2],\n",
              "       [1, 1, 1, 0, 0, 0, 2],\n",
              "       [0, 0, 0, 0, 1, 0, 8],\n",
              "       [0, 1, 0, 1, 1, 0, 0],\n",
              "       [0, 1, 0, 1, 0, 0, 4],\n",
              "       [1, 1, 1, 0, 0, 0, 2],\n",
              "       [0, 1, 0, 0, 0, 0, 0],\n",
              "       [0, 1, 0, 1, 0, 0, 6],\n",
              "       [0, 1, 1, 0, 1, 0, 6],\n",
              "       [0, 0, 0, 0, 0, 0, 4],\n",
              "       [1, 1, 0, 1, 0, 0, 2],\n",
              "       [0, 1, 0, 1, 0, 1, 0],\n",
              "       [0, 1, 0, 1, 0, 0, 4],\n",
              "       [0, 1, 0, 0, 0, 0, 6],\n",
              "       [0, 0, 0, 0, 0, 0, 4],\n",
              "       [1, 1, 1, 1, 0, 0, 2],\n",
              "       [0, 0, 0, 0, 0, 0, 4],\n",
              "       [1, 1, 1, 1, 0, 0, 2],\n",
              "       [1, 1, 1, 0, 0, 0, 2],\n",
              "       [0, 0, 0, 0, 0, 0, 4],\n",
              "       [0, 1, 1, 0, 1, 0, 6],\n",
              "       [0, 0, 0, 0, 0, 0, 4],\n",
              "       [0, 0, 0, 0, 0, 0, 4],\n",
              "       [0, 0, 0, 0, 0, 0, 4],\n",
              "       [0, 0, 0, 0, 0, 0, 4]])"
            ]
          },
          "metadata": {},
          "execution_count": 16
        }
      ]
    },
    {
      "cell_type": "code",
      "source": [
        "X_test"
      ],
      "metadata": {
        "colab": {
          "base_uri": "https://localhost:8080/"
        },
        "id": "Bb1KxxNvLYeM",
        "outputId": "7f09bd4e-ca37-4470-9a78-0cf45801a7ae"
      },
      "execution_count": 17,
      "outputs": [
        {
          "output_type": "execute_result",
          "data": {
            "text/plain": [
              "array([[0, 1, 0, 1, 1, 0, 4],\n",
              "       [0, 1, 0, 1, 1, 1, 0],\n",
              "       [0, 1, 0, 1, 0, 1, 0],\n",
              "       [0, 0, 0, 0, 0, 0, 4],\n",
              "       [0, 0, 0, 1, 0, 1, 2],\n",
              "       [0, 0, 0, 0, 0, 0, 4],\n",
              "       [1, 1, 1, 0, 0, 0, 2],\n",
              "       [0, 1, 0, 1, 0, 1, 0],\n",
              "       [0, 0, 0, 0, 0, 0, 4],\n",
              "       [0, 0, 0, 0, 0, 0, 2],\n",
              "       [0, 1, 0, 1, 0, 0, 8],\n",
              "       [0, 0, 1, 0, 0, 0, 2],\n",
              "       [1, 1, 1, 1, 0, 0, 2],\n",
              "       [0, 1, 0, 0, 0, 0, 0],\n",
              "       [0, 1, 0, 1, 0, 1, 0],\n",
              "       [0, 1, 1, 0, 0, 0, 6],\n",
              "       [0, 0, 0, 0, 0, 0, 4],\n",
              "       [0, 1, 0, 0, 0, 0, 6],\n",
              "       [1, 1, 1, 1, 0, 0, 2],\n",
              "       [0, 1, 0, 1, 0, 1, 0],\n",
              "       [1, 1, 1, 0, 0, 0, 2],\n",
              "       [0, 1, 0, 0, 1, 0, 0],\n",
              "       [0, 0, 0, 0, 0, 0, 4],\n",
              "       [1, 1, 0, 0, 0, 0, 2],\n",
              "       [0, 0, 0, 0, 0, 0, 4],\n",
              "       [0, 0, 0, 1, 0, 0, 4]])"
            ]
          },
          "metadata": {},
          "execution_count": 17
        }
      ]
    },
    {
      "cell_type": "code",
      "source": [
        "y_train"
      ],
      "metadata": {
        "colab": {
          "base_uri": "https://localhost:8080/"
        },
        "id": "cmz8ys7vLZvi",
        "outputId": "ec6737f3-e953-4c9e-d6c2-f028d39735db"
      },
      "execution_count": 18,
      "outputs": [
        {
          "output_type": "execute_result",
          "data": {
            "text/plain": [
              "array([0, 1, 3, 2, 3, 2, 2, 0, 5, 0, 3, 1, 0, 0, 0, 3, 5, 1, 0, 6, 0, 5,\n",
              "       3, 0, 3, 1, 0, 3, 0, 0, 1, 0, 1, 4, 0, 0, 0, 1, 1, 6, 0, 0, 6, 2,\n",
              "       0, 0, 0, 0, 6, 0, 1, 1, 6, 6, 4, 1, 6, 6, 5, 0, 1, 3, 4, 5, 0, 1,\n",
              "       0, 1, 1, 0, 5, 0, 0, 0, 0])"
            ]
          },
          "metadata": {},
          "execution_count": 18
        }
      ]
    },
    {
      "cell_type": "code",
      "source": [
        "y_test"
      ],
      "metadata": {
        "colab": {
          "base_uri": "https://localhost:8080/"
        },
        "id": "5OZWkNi2LaqC",
        "outputId": "04597bc7-99dd-42fb-dfc3-458acc4374f2"
      },
      "execution_count": 19,
      "outputs": [
        {
          "output_type": "execute_result",
          "data": {
            "text/plain": [
              "array([4, 3, 3, 0, 0, 0, 1, 3, 0, 0, 6, 0, 1, 6, 3, 5, 0, 5, 1, 3, 1, 2,\n",
              "       0, 1, 0, 0])"
            ]
          },
          "metadata": {},
          "execution_count": 19
        }
      ]
    },
    {
      "cell_type": "markdown",
      "source": [
        "# FEATURE SCALING"
      ],
      "metadata": {
        "id": "Q19Hibq8SV-A"
      }
    },
    {
      "cell_type": "code",
      "source": [
        "from sklearn.preprocessing import StandardScaler\n",
        "sc_X = StandardScaler()\n",
        "X_train = sc_X.fit_transform(X_train)\n",
        "X_test = sc_X.fit_transform(X_test)"
      ],
      "metadata": {
        "id": "JttRJg4dSYDx"
      },
      "execution_count": 20,
      "outputs": []
    },
    {
      "cell_type": "markdown",
      "source": [
        "# ML ALGORITHM-CLASSIFICATION(K-NEAREST NEIGHBORS)"
      ],
      "metadata": {
        "id": "-mEFX_SfL7QW"
      }
    },
    {
      "cell_type": "code",
      "source": [
        "# FITTING THE MODEL\n",
        "from sklearn.neighbors import KNeighborsClassifier\n",
        "classifier = KNeighborsClassifier(n_neighbors =5, metric = 'minkowski', p = 2)\n",
        "classifier.fit(X_train, y_train)"
      ],
      "metadata": {
        "colab": {
          "base_uri": "https://localhost:8080/",
          "height": 74
        },
        "id": "YyHPg2skLcV1",
        "outputId": "10d211fd-4932-4955-a441-e4b4a1155ac9"
      },
      "execution_count": 59,
      "outputs": [
        {
          "output_type": "execute_result",
          "data": {
            "text/plain": [
              "KNeighborsClassifier()"
            ],
            "text/html": [
              "<style>#sk-container-id-7 {color: black;background-color: white;}#sk-container-id-7 pre{padding: 0;}#sk-container-id-7 div.sk-toggleable {background-color: white;}#sk-container-id-7 label.sk-toggleable__label {cursor: pointer;display: block;width: 100%;margin-bottom: 0;padding: 0.3em;box-sizing: border-box;text-align: center;}#sk-container-id-7 label.sk-toggleable__label-arrow:before {content: \"▸\";float: left;margin-right: 0.25em;color: #696969;}#sk-container-id-7 label.sk-toggleable__label-arrow:hover:before {color: black;}#sk-container-id-7 div.sk-estimator:hover label.sk-toggleable__label-arrow:before {color: black;}#sk-container-id-7 div.sk-toggleable__content {max-height: 0;max-width: 0;overflow: hidden;text-align: left;background-color: #f0f8ff;}#sk-container-id-7 div.sk-toggleable__content pre {margin: 0.2em;color: black;border-radius: 0.25em;background-color: #f0f8ff;}#sk-container-id-7 input.sk-toggleable__control:checked~div.sk-toggleable__content {max-height: 200px;max-width: 100%;overflow: auto;}#sk-container-id-7 input.sk-toggleable__control:checked~label.sk-toggleable__label-arrow:before {content: \"▾\";}#sk-container-id-7 div.sk-estimator input.sk-toggleable__control:checked~label.sk-toggleable__label {background-color: #d4ebff;}#sk-container-id-7 div.sk-label input.sk-toggleable__control:checked~label.sk-toggleable__label {background-color: #d4ebff;}#sk-container-id-7 input.sk-hidden--visually {border: 0;clip: rect(1px 1px 1px 1px);clip: rect(1px, 1px, 1px, 1px);height: 1px;margin: -1px;overflow: hidden;padding: 0;position: absolute;width: 1px;}#sk-container-id-7 div.sk-estimator {font-family: monospace;background-color: #f0f8ff;border: 1px dotted black;border-radius: 0.25em;box-sizing: border-box;margin-bottom: 0.5em;}#sk-container-id-7 div.sk-estimator:hover {background-color: #d4ebff;}#sk-container-id-7 div.sk-parallel-item::after {content: \"\";width: 100%;border-bottom: 1px solid gray;flex-grow: 1;}#sk-container-id-7 div.sk-label:hover label.sk-toggleable__label {background-color: #d4ebff;}#sk-container-id-7 div.sk-serial::before {content: \"\";position: absolute;border-left: 1px solid gray;box-sizing: border-box;top: 0;bottom: 0;left: 50%;z-index: 0;}#sk-container-id-7 div.sk-serial {display: flex;flex-direction: column;align-items: center;background-color: white;padding-right: 0.2em;padding-left: 0.2em;position: relative;}#sk-container-id-7 div.sk-item {position: relative;z-index: 1;}#sk-container-id-7 div.sk-parallel {display: flex;align-items: stretch;justify-content: center;background-color: white;position: relative;}#sk-container-id-7 div.sk-item::before, #sk-container-id-7 div.sk-parallel-item::before {content: \"\";position: absolute;border-left: 1px solid gray;box-sizing: border-box;top: 0;bottom: 0;left: 50%;z-index: -1;}#sk-container-id-7 div.sk-parallel-item {display: flex;flex-direction: column;z-index: 1;position: relative;background-color: white;}#sk-container-id-7 div.sk-parallel-item:first-child::after {align-self: flex-end;width: 50%;}#sk-container-id-7 div.sk-parallel-item:last-child::after {align-self: flex-start;width: 50%;}#sk-container-id-7 div.sk-parallel-item:only-child::after {width: 0;}#sk-container-id-7 div.sk-dashed-wrapped {border: 1px dashed gray;margin: 0 0.4em 0.5em 0.4em;box-sizing: border-box;padding-bottom: 0.4em;background-color: white;}#sk-container-id-7 div.sk-label label {font-family: monospace;font-weight: bold;display: inline-block;line-height: 1.2em;}#sk-container-id-7 div.sk-label-container {text-align: center;}#sk-container-id-7 div.sk-container {/* jupyter's `normalize.less` sets `[hidden] { display: none; }` but bootstrap.min.css set `[hidden] { display: none !important; }` so we also need the `!important` here to be able to override the default hidden behavior on the sphinx rendered scikit-learn.org. See: https://github.com/scikit-learn/scikit-learn/issues/21755 */display: inline-block !important;position: relative;}#sk-container-id-7 div.sk-text-repr-fallback {display: none;}</style><div id=\"sk-container-id-7\" class=\"sk-top-container\"><div class=\"sk-text-repr-fallback\"><pre>KNeighborsClassifier()</pre><b>In a Jupyter environment, please rerun this cell to show the HTML representation or trust the notebook. <br />On GitHub, the HTML representation is unable to render, please try loading this page with nbviewer.org.</b></div><div class=\"sk-container\" hidden><div class=\"sk-item\"><div class=\"sk-estimator sk-toggleable\"><input class=\"sk-toggleable__control sk-hidden--visually\" id=\"sk-estimator-id-11\" type=\"checkbox\" checked><label for=\"sk-estimator-id-11\" class=\"sk-toggleable__label sk-toggleable__label-arrow\">KNeighborsClassifier</label><div class=\"sk-toggleable__content\"><pre>KNeighborsClassifier()</pre></div></div></div></div></div>"
            ]
          },
          "metadata": {},
          "execution_count": 59
        }
      ]
    },
    {
      "cell_type": "code",
      "source": [
        "#Predicting the test \n",
        "y_pred = classifier.predict(X_test)\n",
        "y_pred"
      ],
      "metadata": {
        "colab": {
          "base_uri": "https://localhost:8080/"
        },
        "id": "nTalKPqEMCxJ",
        "outputId": "7b84bb48-7466-4d73-bab8-413ff09fbde1"
      },
      "execution_count": 60,
      "outputs": [
        {
          "output_type": "execute_result",
          "data": {
            "text/plain": [
              "array([4, 3, 3, 0, 0, 0, 1, 3, 0, 0, 6, 0, 1, 2, 3, 5, 0, 0, 1, 3, 1, 6,\n",
              "       0, 1, 0, 0])"
            ]
          },
          "metadata": {},
          "execution_count": 60
        }
      ]
    },
    {
      "cell_type": "markdown",
      "source": [
        "# K-FOLD CV"
      ],
      "metadata": {
        "id": "Eg315edlPe8H"
      }
    },
    {
      "cell_type": "code",
      "source": [
        "from sklearn.model_selection import KFold\n",
        "num_folds = 10\n",
        "kfold = KFold(n_splits=num_folds)"
      ],
      "metadata": {
        "id": "2eIQaZL243Ci"
      },
      "execution_count": 61,
      "outputs": []
    },
    {
      "cell_type": "code",
      "source": [
        "from sklearn.model_selection import cross_val_score\n",
        "accuraries = cross_val_score(estimator = classifier, X = X_test, y = y_test, cv = kfold)\n",
        "print(\"Accuracy: {:.2f} % \" .format(accuraries.mean()*100 ))\n",
        "print(\"Standard Deviation: {:.2f} % \" .format(accuraries.std()*100))"
      ],
      "metadata": {
        "id": "OUpcuS8C44MP",
        "colab": {
          "base_uri": "https://localhost:8080/"
        },
        "outputId": "6bf18ff9-bbfe-407a-c57b-10979f650715"
      },
      "execution_count": 62,
      "outputs": [
        {
          "output_type": "stream",
          "name": "stdout",
          "text": [
            "Accuracy: 75.00 % \n",
            "Standard Deviation: 22.67 % \n"
          ]
        }
      ]
    },
    {
      "cell_type": "code",
      "source": [
        "for i in range(len(accuraries)):\n",
        "  print(\"Accuracy: {:.2f} %\" .format(accuraries[i]*100))"
      ],
      "metadata": {
        "id": "9nRgNFVH5hqG",
        "colab": {
          "base_uri": "https://localhost:8080/"
        },
        "outputId": "a4406c8f-e81c-4071-a142-e25194c9ed09"
      },
      "execution_count": 63,
      "outputs": [
        {
          "output_type": "stream",
          "name": "stdout",
          "text": [
            "Accuracy: 66.67 %\n",
            "Accuracy: 66.67 %\n",
            "Accuracy: 100.00 %\n",
            "Accuracy: 66.67 %\n",
            "Accuracy: 66.67 %\n",
            "Accuracy: 33.33 %\n",
            "Accuracy: 100.00 %\n",
            "Accuracy: 50.00 %\n",
            "Accuracy: 100.00 %\n",
            "Accuracy: 100.00 %\n"
          ]
        }
      ]
    },
    {
      "cell_type": "markdown",
      "source": [
        "# MAKING CONFUSION MATRIX"
      ],
      "metadata": {
        "id": "n4dLuEguMIvA"
      }
    },
    {
      "cell_type": "code",
      "source": [
        "from sklearn.metrics import  confusion_matrix, accuracy_score, mean_squared_error\n",
        "cm = confusion_matrix(y_test, y_pred)\n",
        "acc = accuracy_score(y_test, y_pred)\n",
        "print(cm)\n",
        "print(acc)"
      ],
      "metadata": {
        "colab": {
          "base_uri": "https://localhost:8080/"
        },
        "id": "WrLYmGfZMGAX",
        "outputId": "0fa995fc-78bb-443b-9634-bd248b7386cd"
      },
      "execution_count": 64,
      "outputs": [
        {
          "output_type": "stream",
          "name": "stdout",
          "text": [
            "[[10  0  0  0  0  0  0]\n",
            " [ 0  5  0  0  0  0  0]\n",
            " [ 0  0  0  0  0  0  1]\n",
            " [ 0  0  0  5  0  0  0]\n",
            " [ 0  0  0  0  1  0  0]\n",
            " [ 1  0  0  0  0  1  0]\n",
            " [ 0  0  1  0  0  0  1]]\n",
            "0.8846153846153846\n"
          ]
        }
      ]
    },
    {
      "cell_type": "markdown",
      "source": [
        "# XG BOOST"
      ],
      "metadata": {
        "id": "aoUE8vlBNz87"
      }
    },
    {
      "cell_type": "code",
      "source": [
        "from xgboost import XGBClassifier"
      ],
      "metadata": {
        "id": "6Idm08hsQOKs"
      },
      "execution_count": 58,
      "outputs": []
    },
    {
      "cell_type": "code",
      "source": [
        "model = XGBClassifier(n_estimators=90,max_depth=3)\n",
        "model.fit(X_train, y_train)"
      ],
      "metadata": {
        "colab": {
          "base_uri": "https://localhost:8080/",
          "height": 248
        },
        "id": "HzAc472dMfe7",
        "outputId": "f3cc8fe5-d4c7-45b1-b3dd-acb3883372d3"
      },
      "execution_count": 40,
      "outputs": [
        {
          "output_type": "execute_result",
          "data": {
            "text/plain": [
              "XGBClassifier(base_score=None, booster=None, callbacks=None,\n",
              "              colsample_bylevel=None, colsample_bynode=None,\n",
              "              colsample_bytree=None, early_stopping_rounds=None,\n",
              "              enable_categorical=False, eval_metric=None, feature_types=None,\n",
              "              gamma=None, gpu_id=None, grow_policy=None, importance_type=None,\n",
              "              interaction_constraints=None, learning_rate=None, max_bin=None,\n",
              "              max_cat_threshold=None, max_cat_to_onehot=None,\n",
              "              max_delta_step=None, max_depth=3, max_leaves=None,\n",
              "              min_child_weight=None, missing=nan, monotone_constraints=None,\n",
              "              n_estimators=90, n_jobs=None, num_parallel_tree=None,\n",
              "              objective='multi:softprob', predictor=None, ...)"
            ],
            "text/html": [
              "<style>#sk-container-id-4 {color: black;background-color: white;}#sk-container-id-4 pre{padding: 0;}#sk-container-id-4 div.sk-toggleable {background-color: white;}#sk-container-id-4 label.sk-toggleable__label {cursor: pointer;display: block;width: 100%;margin-bottom: 0;padding: 0.3em;box-sizing: border-box;text-align: center;}#sk-container-id-4 label.sk-toggleable__label-arrow:before {content: \"▸\";float: left;margin-right: 0.25em;color: #696969;}#sk-container-id-4 label.sk-toggleable__label-arrow:hover:before {color: black;}#sk-container-id-4 div.sk-estimator:hover label.sk-toggleable__label-arrow:before {color: black;}#sk-container-id-4 div.sk-toggleable__content {max-height: 0;max-width: 0;overflow: hidden;text-align: left;background-color: #f0f8ff;}#sk-container-id-4 div.sk-toggleable__content pre {margin: 0.2em;color: black;border-radius: 0.25em;background-color: #f0f8ff;}#sk-container-id-4 input.sk-toggleable__control:checked~div.sk-toggleable__content {max-height: 200px;max-width: 100%;overflow: auto;}#sk-container-id-4 input.sk-toggleable__control:checked~label.sk-toggleable__label-arrow:before {content: \"▾\";}#sk-container-id-4 div.sk-estimator input.sk-toggleable__control:checked~label.sk-toggleable__label {background-color: #d4ebff;}#sk-container-id-4 div.sk-label input.sk-toggleable__control:checked~label.sk-toggleable__label {background-color: #d4ebff;}#sk-container-id-4 input.sk-hidden--visually {border: 0;clip: rect(1px 1px 1px 1px);clip: rect(1px, 1px, 1px, 1px);height: 1px;margin: -1px;overflow: hidden;padding: 0;position: absolute;width: 1px;}#sk-container-id-4 div.sk-estimator {font-family: monospace;background-color: #f0f8ff;border: 1px dotted black;border-radius: 0.25em;box-sizing: border-box;margin-bottom: 0.5em;}#sk-container-id-4 div.sk-estimator:hover {background-color: #d4ebff;}#sk-container-id-4 div.sk-parallel-item::after {content: \"\";width: 100%;border-bottom: 1px solid gray;flex-grow: 1;}#sk-container-id-4 div.sk-label:hover label.sk-toggleable__label {background-color: #d4ebff;}#sk-container-id-4 div.sk-serial::before {content: \"\";position: absolute;border-left: 1px solid gray;box-sizing: border-box;top: 0;bottom: 0;left: 50%;z-index: 0;}#sk-container-id-4 div.sk-serial {display: flex;flex-direction: column;align-items: center;background-color: white;padding-right: 0.2em;padding-left: 0.2em;position: relative;}#sk-container-id-4 div.sk-item {position: relative;z-index: 1;}#sk-container-id-4 div.sk-parallel {display: flex;align-items: stretch;justify-content: center;background-color: white;position: relative;}#sk-container-id-4 div.sk-item::before, #sk-container-id-4 div.sk-parallel-item::before {content: \"\";position: absolute;border-left: 1px solid gray;box-sizing: border-box;top: 0;bottom: 0;left: 50%;z-index: -1;}#sk-container-id-4 div.sk-parallel-item {display: flex;flex-direction: column;z-index: 1;position: relative;background-color: white;}#sk-container-id-4 div.sk-parallel-item:first-child::after {align-self: flex-end;width: 50%;}#sk-container-id-4 div.sk-parallel-item:last-child::after {align-self: flex-start;width: 50%;}#sk-container-id-4 div.sk-parallel-item:only-child::after {width: 0;}#sk-container-id-4 div.sk-dashed-wrapped {border: 1px dashed gray;margin: 0 0.4em 0.5em 0.4em;box-sizing: border-box;padding-bottom: 0.4em;background-color: white;}#sk-container-id-4 div.sk-label label {font-family: monospace;font-weight: bold;display: inline-block;line-height: 1.2em;}#sk-container-id-4 div.sk-label-container {text-align: center;}#sk-container-id-4 div.sk-container {/* jupyter's `normalize.less` sets `[hidden] { display: none; }` but bootstrap.min.css set `[hidden] { display: none !important; }` so we also need the `!important` here to be able to override the default hidden behavior on the sphinx rendered scikit-learn.org. See: https://github.com/scikit-learn/scikit-learn/issues/21755 */display: inline-block !important;position: relative;}#sk-container-id-4 div.sk-text-repr-fallback {display: none;}</style><div id=\"sk-container-id-4\" class=\"sk-top-container\"><div class=\"sk-text-repr-fallback\"><pre>XGBClassifier(base_score=None, booster=None, callbacks=None,\n",
              "              colsample_bylevel=None, colsample_bynode=None,\n",
              "              colsample_bytree=None, early_stopping_rounds=None,\n",
              "              enable_categorical=False, eval_metric=None, feature_types=None,\n",
              "              gamma=None, gpu_id=None, grow_policy=None, importance_type=None,\n",
              "              interaction_constraints=None, learning_rate=None, max_bin=None,\n",
              "              max_cat_threshold=None, max_cat_to_onehot=None,\n",
              "              max_delta_step=None, max_depth=3, max_leaves=None,\n",
              "              min_child_weight=None, missing=nan, monotone_constraints=None,\n",
              "              n_estimators=90, n_jobs=None, num_parallel_tree=None,\n",
              "              objective=&#x27;multi:softprob&#x27;, predictor=None, ...)</pre><b>In a Jupyter environment, please rerun this cell to show the HTML representation or trust the notebook. <br />On GitHub, the HTML representation is unable to render, please try loading this page with nbviewer.org.</b></div><div class=\"sk-container\" hidden><div class=\"sk-item\"><div class=\"sk-estimator sk-toggleable\"><input class=\"sk-toggleable__control sk-hidden--visually\" id=\"sk-estimator-id-6\" type=\"checkbox\" checked><label for=\"sk-estimator-id-6\" class=\"sk-toggleable__label sk-toggleable__label-arrow\">XGBClassifier</label><div class=\"sk-toggleable__content\"><pre>XGBClassifier(base_score=None, booster=None, callbacks=None,\n",
              "              colsample_bylevel=None, colsample_bynode=None,\n",
              "              colsample_bytree=None, early_stopping_rounds=None,\n",
              "              enable_categorical=False, eval_metric=None, feature_types=None,\n",
              "              gamma=None, gpu_id=None, grow_policy=None, importance_type=None,\n",
              "              interaction_constraints=None, learning_rate=None, max_bin=None,\n",
              "              max_cat_threshold=None, max_cat_to_onehot=None,\n",
              "              max_delta_step=None, max_depth=3, max_leaves=None,\n",
              "              min_child_weight=None, missing=nan, monotone_constraints=None,\n",
              "              n_estimators=90, n_jobs=None, num_parallel_tree=None,\n",
              "              objective=&#x27;multi:softprob&#x27;, predictor=None, ...)</pre></div></div></div></div></div>"
            ]
          },
          "metadata": {},
          "execution_count": 40
        }
      ]
    },
    {
      "cell_type": "code",
      "source": [
        "y_pred = model.predict(X_test)\n",
        "predictions = [round(value) for value in y_pred]"
      ],
      "metadata": {
        "id": "sLOmj295NZv4"
      },
      "execution_count": 41,
      "outputs": []
    },
    {
      "cell_type": "code",
      "source": [
        "accuracy = accuracy_score(y_test, predictions)\n",
        "print(\"Accuracy: %.2f%%\" % (accuracy * 100.0))"
      ],
      "metadata": {
        "colab": {
          "base_uri": "https://localhost:8080/"
        },
        "id": "yFUfSlKQNd0j",
        "outputId": "8cf93ddd-fd66-4cf9-dac7-a9743a02c712"
      },
      "execution_count": 42,
      "outputs": [
        {
          "output_type": "stream",
          "name": "stdout",
          "text": [
            "Accuracy: 92.31%\n"
          ]
        }
      ]
    },
    {
      "cell_type": "code",
      "source": [
        " # PREDICTING THE NEW DATA POINT\n",
        " new_data=pd.DataFrame({\"feathers\": 1, \"eggs\": 0, \"airborne\": 0, \"aquatic\": 0, \"venomous\": 0, \"fins\": 1, \"legs\": 0}, index=[0])\n",
        " new_data"
      ],
      "metadata": {
        "id": "WJmoAQDcML8W",
        "colab": {
          "base_uri": "https://localhost:8080/",
          "height": 80
        },
        "outputId": "7a1b8cf1-9e68-4c10-dead-e6dc69cc714f"
      },
      "execution_count": 43,
      "outputs": [
        {
          "output_type": "execute_result",
          "data": {
            "text/plain": [
              "   feathers  eggs  airborne  aquatic  venomous  fins  legs\n",
              "0         1     0         0        0         0     1     0"
            ],
            "text/html": [
              "\n",
              "  <div id=\"df-1e3e51e4-5b03-4465-8ee6-9f4b7f663021\">\n",
              "    <div class=\"colab-df-container\">\n",
              "      <div>\n",
              "<style scoped>\n",
              "    .dataframe tbody tr th:only-of-type {\n",
              "        vertical-align: middle;\n",
              "    }\n",
              "\n",
              "    .dataframe tbody tr th {\n",
              "        vertical-align: top;\n",
              "    }\n",
              "\n",
              "    .dataframe thead th {\n",
              "        text-align: right;\n",
              "    }\n",
              "</style>\n",
              "<table border=\"1\" class=\"dataframe\">\n",
              "  <thead>\n",
              "    <tr style=\"text-align: right;\">\n",
              "      <th></th>\n",
              "      <th>feathers</th>\n",
              "      <th>eggs</th>\n",
              "      <th>airborne</th>\n",
              "      <th>aquatic</th>\n",
              "      <th>venomous</th>\n",
              "      <th>fins</th>\n",
              "      <th>legs</th>\n",
              "    </tr>\n",
              "  </thead>\n",
              "  <tbody>\n",
              "    <tr>\n",
              "      <th>0</th>\n",
              "      <td>1</td>\n",
              "      <td>0</td>\n",
              "      <td>0</td>\n",
              "      <td>0</td>\n",
              "      <td>0</td>\n",
              "      <td>1</td>\n",
              "      <td>0</td>\n",
              "    </tr>\n",
              "  </tbody>\n",
              "</table>\n",
              "</div>\n",
              "      <button class=\"colab-df-convert\" onclick=\"convertToInteractive('df-1e3e51e4-5b03-4465-8ee6-9f4b7f663021')\"\n",
              "              title=\"Convert this dataframe to an interactive table.\"\n",
              "              style=\"display:none;\">\n",
              "        \n",
              "  <svg xmlns=\"http://www.w3.org/2000/svg\" height=\"24px\"viewBox=\"0 0 24 24\"\n",
              "       width=\"24px\">\n",
              "    <path d=\"M0 0h24v24H0V0z\" fill=\"none\"/>\n",
              "    <path d=\"M18.56 5.44l.94 2.06.94-2.06 2.06-.94-2.06-.94-.94-2.06-.94 2.06-2.06.94zm-11 1L8.5 8.5l.94-2.06 2.06-.94-2.06-.94L8.5 2.5l-.94 2.06-2.06.94zm10 10l.94 2.06.94-2.06 2.06-.94-2.06-.94-.94-2.06-.94 2.06-2.06.94z\"/><path d=\"M17.41 7.96l-1.37-1.37c-.4-.4-.92-.59-1.43-.59-.52 0-1.04.2-1.43.59L10.3 9.45l-7.72 7.72c-.78.78-.78 2.05 0 2.83L4 21.41c.39.39.9.59 1.41.59.51 0 1.02-.2 1.41-.59l7.78-7.78 2.81-2.81c.8-.78.8-2.07 0-2.86zM5.41 20L4 18.59l7.72-7.72 1.47 1.35L5.41 20z\"/>\n",
              "  </svg>\n",
              "      </button>\n",
              "      \n",
              "  <style>\n",
              "    .colab-df-container {\n",
              "      display:flex;\n",
              "      flex-wrap:wrap;\n",
              "      gap: 12px;\n",
              "    }\n",
              "\n",
              "    .colab-df-convert {\n",
              "      background-color: #E8F0FE;\n",
              "      border: none;\n",
              "      border-radius: 50%;\n",
              "      cursor: pointer;\n",
              "      display: none;\n",
              "      fill: #1967D2;\n",
              "      height: 32px;\n",
              "      padding: 0 0 0 0;\n",
              "      width: 32px;\n",
              "    }\n",
              "\n",
              "    .colab-df-convert:hover {\n",
              "      background-color: #E2EBFA;\n",
              "      box-shadow: 0px 1px 2px rgba(60, 64, 67, 0.3), 0px 1px 3px 1px rgba(60, 64, 67, 0.15);\n",
              "      fill: #174EA6;\n",
              "    }\n",
              "\n",
              "    [theme=dark] .colab-df-convert {\n",
              "      background-color: #3B4455;\n",
              "      fill: #D2E3FC;\n",
              "    }\n",
              "\n",
              "    [theme=dark] .colab-df-convert:hover {\n",
              "      background-color: #434B5C;\n",
              "      box-shadow: 0px 1px 3px 1px rgba(0, 0, 0, 0.15);\n",
              "      filter: drop-shadow(0px 1px 2px rgba(0, 0, 0, 0.3));\n",
              "      fill: #FFFFFF;\n",
              "    }\n",
              "  </style>\n",
              "\n",
              "      <script>\n",
              "        const buttonEl =\n",
              "          document.querySelector('#df-1e3e51e4-5b03-4465-8ee6-9f4b7f663021 button.colab-df-convert');\n",
              "        buttonEl.style.display =\n",
              "          google.colab.kernel.accessAllowed ? 'block' : 'none';\n",
              "\n",
              "        async function convertToInteractive(key) {\n",
              "          const element = document.querySelector('#df-1e3e51e4-5b03-4465-8ee6-9f4b7f663021');\n",
              "          const dataTable =\n",
              "            await google.colab.kernel.invokeFunction('convertToInteractive',\n",
              "                                                     [key], {});\n",
              "          if (!dataTable) return;\n",
              "\n",
              "          const docLinkHtml = 'Like what you see? Visit the ' +\n",
              "            '<a target=\"_blank\" href=https://colab.research.google.com/notebooks/data_table.ipynb>data table notebook</a>'\n",
              "            + ' to learn more about interactive tables.';\n",
              "          element.innerHTML = '';\n",
              "          dataTable['output_type'] = 'display_data';\n",
              "          await google.colab.output.renderOutput(dataTable, element);\n",
              "          const docLink = document.createElement('div');\n",
              "          docLink.innerHTML = docLinkHtml;\n",
              "          element.appendChild(docLink);\n",
              "        }\n",
              "      </script>\n",
              "    </div>\n",
              "  </div>\n",
              "  "
            ]
          },
          "metadata": {},
          "execution_count": 43
        }
      ]
    },
    {
      "cell_type": "code",
      "source": [
        "classifier.predict(new_data)"
      ],
      "metadata": {
        "colab": {
          "base_uri": "https://localhost:8080/"
        },
        "id": "u9XgQ8gAhLA7",
        "outputId": "346aa154-917e-4f02-af80-7a2430b4cb36"
      },
      "execution_count": 44,
      "outputs": [
        {
          "output_type": "stream",
          "name": "stderr",
          "text": [
            "/usr/local/lib/python3.9/dist-packages/sklearn/base.py:432: UserWarning: X has feature names, but KNeighborsClassifier was fitted without feature names\n",
            "  warnings.warn(\n"
          ]
        },
        {
          "output_type": "execute_result",
          "data": {
            "text/plain": [
              "array([1])"
            ]
          },
          "metadata": {},
          "execution_count": 44
        }
      ]
    },
    {
      "cell_type": "markdown",
      "source": [
        "# GRID SEARCH CV"
      ],
      "metadata": {
        "id": "o0pCSY4lV6q6"
      }
    },
    {
      "cell_type": "code",
      "source": [
        "from sklearn.model_selection import GridSearchCV\n",
        "parameters = {\"n_neighbors\": range(1, 50)}\n",
        "gridsearch = GridSearchCV(KNeighborsClassifier(), parameters)\n",
        "gridsearch.fit(X_train, y_train)\n",
        "GridSearchCV(estimator=KNeighborsClassifier(),\n",
        "             param_grid={'n_neighbors': range(1, 50),\n",
        "                        'type': ['eggs', 'legs']})"
      ],
      "metadata": {
        "colab": {
          "base_uri": "https://localhost:8080/",
          "height": 173
        },
        "id": "e9PhK0l2V9Hj",
        "outputId": "1811d95f-1ddf-451f-c192-52c44d963fe0"
      },
      "execution_count": 45,
      "outputs": [
        {
          "output_type": "stream",
          "name": "stderr",
          "text": [
            "/usr/local/lib/python3.9/dist-packages/sklearn/model_selection/_split.py:700: UserWarning: The least populated class in y has only 3 members, which is less than n_splits=5.\n",
            "  warnings.warn(\n"
          ]
        },
        {
          "output_type": "execute_result",
          "data": {
            "text/plain": [
              "GridSearchCV(estimator=KNeighborsClassifier(),\n",
              "             param_grid={'n_neighbors': range(1, 50), 'type': ['eggs', 'legs']})"
            ],
            "text/html": [
              "<style>#sk-container-id-5 {color: black;background-color: white;}#sk-container-id-5 pre{padding: 0;}#sk-container-id-5 div.sk-toggleable {background-color: white;}#sk-container-id-5 label.sk-toggleable__label {cursor: pointer;display: block;width: 100%;margin-bottom: 0;padding: 0.3em;box-sizing: border-box;text-align: center;}#sk-container-id-5 label.sk-toggleable__label-arrow:before {content: \"▸\";float: left;margin-right: 0.25em;color: #696969;}#sk-container-id-5 label.sk-toggleable__label-arrow:hover:before {color: black;}#sk-container-id-5 div.sk-estimator:hover label.sk-toggleable__label-arrow:before {color: black;}#sk-container-id-5 div.sk-toggleable__content {max-height: 0;max-width: 0;overflow: hidden;text-align: left;background-color: #f0f8ff;}#sk-container-id-5 div.sk-toggleable__content pre {margin: 0.2em;color: black;border-radius: 0.25em;background-color: #f0f8ff;}#sk-container-id-5 input.sk-toggleable__control:checked~div.sk-toggleable__content {max-height: 200px;max-width: 100%;overflow: auto;}#sk-container-id-5 input.sk-toggleable__control:checked~label.sk-toggleable__label-arrow:before {content: \"▾\";}#sk-container-id-5 div.sk-estimator input.sk-toggleable__control:checked~label.sk-toggleable__label {background-color: #d4ebff;}#sk-container-id-5 div.sk-label input.sk-toggleable__control:checked~label.sk-toggleable__label {background-color: #d4ebff;}#sk-container-id-5 input.sk-hidden--visually {border: 0;clip: rect(1px 1px 1px 1px);clip: rect(1px, 1px, 1px, 1px);height: 1px;margin: -1px;overflow: hidden;padding: 0;position: absolute;width: 1px;}#sk-container-id-5 div.sk-estimator {font-family: monospace;background-color: #f0f8ff;border: 1px dotted black;border-radius: 0.25em;box-sizing: border-box;margin-bottom: 0.5em;}#sk-container-id-5 div.sk-estimator:hover {background-color: #d4ebff;}#sk-container-id-5 div.sk-parallel-item::after {content: \"\";width: 100%;border-bottom: 1px solid gray;flex-grow: 1;}#sk-container-id-5 div.sk-label:hover label.sk-toggleable__label {background-color: #d4ebff;}#sk-container-id-5 div.sk-serial::before {content: \"\";position: absolute;border-left: 1px solid gray;box-sizing: border-box;top: 0;bottom: 0;left: 50%;z-index: 0;}#sk-container-id-5 div.sk-serial {display: flex;flex-direction: column;align-items: center;background-color: white;padding-right: 0.2em;padding-left: 0.2em;position: relative;}#sk-container-id-5 div.sk-item {position: relative;z-index: 1;}#sk-container-id-5 div.sk-parallel {display: flex;align-items: stretch;justify-content: center;background-color: white;position: relative;}#sk-container-id-5 div.sk-item::before, #sk-container-id-5 div.sk-parallel-item::before {content: \"\";position: absolute;border-left: 1px solid gray;box-sizing: border-box;top: 0;bottom: 0;left: 50%;z-index: -1;}#sk-container-id-5 div.sk-parallel-item {display: flex;flex-direction: column;z-index: 1;position: relative;background-color: white;}#sk-container-id-5 div.sk-parallel-item:first-child::after {align-self: flex-end;width: 50%;}#sk-container-id-5 div.sk-parallel-item:last-child::after {align-self: flex-start;width: 50%;}#sk-container-id-5 div.sk-parallel-item:only-child::after {width: 0;}#sk-container-id-5 div.sk-dashed-wrapped {border: 1px dashed gray;margin: 0 0.4em 0.5em 0.4em;box-sizing: border-box;padding-bottom: 0.4em;background-color: white;}#sk-container-id-5 div.sk-label label {font-family: monospace;font-weight: bold;display: inline-block;line-height: 1.2em;}#sk-container-id-5 div.sk-label-container {text-align: center;}#sk-container-id-5 div.sk-container {/* jupyter's `normalize.less` sets `[hidden] { display: none; }` but bootstrap.min.css set `[hidden] { display: none !important; }` so we also need the `!important` here to be able to override the default hidden behavior on the sphinx rendered scikit-learn.org. See: https://github.com/scikit-learn/scikit-learn/issues/21755 */display: inline-block !important;position: relative;}#sk-container-id-5 div.sk-text-repr-fallback {display: none;}</style><div id=\"sk-container-id-5\" class=\"sk-top-container\"><div class=\"sk-text-repr-fallback\"><pre>GridSearchCV(estimator=KNeighborsClassifier(),\n",
              "             param_grid={&#x27;n_neighbors&#x27;: range(1, 50), &#x27;type&#x27;: [&#x27;eggs&#x27;, &#x27;legs&#x27;]})</pre><b>In a Jupyter environment, please rerun this cell to show the HTML representation or trust the notebook. <br />On GitHub, the HTML representation is unable to render, please try loading this page with nbviewer.org.</b></div><div class=\"sk-container\" hidden><div class=\"sk-item sk-dashed-wrapped\"><div class=\"sk-label-container\"><div class=\"sk-label sk-toggleable\"><input class=\"sk-toggleable__control sk-hidden--visually\" id=\"sk-estimator-id-7\" type=\"checkbox\" ><label for=\"sk-estimator-id-7\" class=\"sk-toggleable__label sk-toggleable__label-arrow\">GridSearchCV</label><div class=\"sk-toggleable__content\"><pre>GridSearchCV(estimator=KNeighborsClassifier(),\n",
              "             param_grid={&#x27;n_neighbors&#x27;: range(1, 50), &#x27;type&#x27;: [&#x27;eggs&#x27;, &#x27;legs&#x27;]})</pre></div></div></div><div class=\"sk-parallel\"><div class=\"sk-parallel-item\"><div class=\"sk-item\"><div class=\"sk-label-container\"><div class=\"sk-label sk-toggleable\"><input class=\"sk-toggleable__control sk-hidden--visually\" id=\"sk-estimator-id-8\" type=\"checkbox\" ><label for=\"sk-estimator-id-8\" class=\"sk-toggleable__label sk-toggleable__label-arrow\">estimator: KNeighborsClassifier</label><div class=\"sk-toggleable__content\"><pre>KNeighborsClassifier()</pre></div></div></div><div class=\"sk-serial\"><div class=\"sk-item\"><div class=\"sk-estimator sk-toggleable\"><input class=\"sk-toggleable__control sk-hidden--visually\" id=\"sk-estimator-id-9\" type=\"checkbox\" ><label for=\"sk-estimator-id-9\" class=\"sk-toggleable__label sk-toggleable__label-arrow\">KNeighborsClassifier</label><div class=\"sk-toggleable__content\"><pre>KNeighborsClassifier()</pre></div></div></div></div></div></div></div></div></div></div>"
            ]
          },
          "metadata": {},
          "execution_count": 45
        }
      ]
    },
    {
      "cell_type": "code",
      "source": [
        "from math import sqrt"
      ],
      "metadata": {
        "id": "vssfd_8GZezX"
      },
      "execution_count": 47,
      "outputs": []
    },
    {
      "cell_type": "code",
      "source": [
        "gridsearch.best_params_\n",
        "{'n_neighbors': 25, 'eggs': 'legs'}\n",
        "test_preds_grid = gridsearch.predict(X_test)\n",
        "test_mse = mean_squared_error(y_test, test_preds_grid)\n",
        "test_rmse = sqrt(test_mse)\n",
        "test_rmse"
      ],
      "metadata": {
        "colab": {
          "base_uri": "https://localhost:8080/"
        },
        "id": "Kx61E9liZJnf",
        "outputId": "8bbbb03b-11a9-4e0a-a63a-a3da57e7a346"
      },
      "execution_count": 48,
      "outputs": [
        {
          "output_type": "execute_result",
          "data": {
            "text/plain": [
              "1.3155870289605438"
            ]
          },
          "metadata": {},
          "execution_count": 48
        }
      ]
    },
    {
      "cell_type": "code",
      "source": [
        "gridsearch.best_params_\n",
        "{'n_neighbors': 25, 'type': 'eggs'}"
      ],
      "metadata": {
        "colab": {
          "base_uri": "https://localhost:8080/"
        },
        "id": "mp0LxeVkWOjS",
        "outputId": "782619e5-966b-437f-e23c-adbdd011c18b"
      },
      "execution_count": 49,
      "outputs": [
        {
          "output_type": "execute_result",
          "data": {
            "text/plain": [
              "{'n_neighbors': 25, 'type': 'eggs'}"
            ]
          },
          "metadata": {},
          "execution_count": 49
        }
      ]
    },
    {
      "cell_type": "markdown",
      "source": [
        "# MLR"
      ],
      "metadata": {
        "id": "H5Q0Kw4FSiyZ"
      }
    },
    {
      "cell_type": "code",
      "source": [
        "import statsmodels.api as sm \n",
        "X = np.append(arr = np.ones((101,1)).astype(int), values = X, axis = 1)"
      ],
      "metadata": {
        "id": "WxifO5VNMSFE"
      },
      "execution_count": 65,
      "outputs": []
    },
    {
      "cell_type": "code",
      "source": [
        "# BACKWARD ELIMINATION\n",
        "X_opt = X[:, [0,1,2,3,4,5,6]]\n",
        "X_opt = np.array(X_opt, dtype = float)\n",
        "regressor_OLS = sm.OLS(endog = y, exog = X_opt).fit()\n",
        "regressor_OLS.summary()"
      ],
      "metadata": {
        "colab": {
          "base_uri": "https://localhost:8080/",
          "height": 546
        },
        "id": "pcyiZ42COAW2",
        "outputId": "e334d30e-e7f4-4e54-b561-91cb99ca458f"
      },
      "execution_count": 66,
      "outputs": [
        {
          "output_type": "execute_result",
          "data": {
            "text/plain": [
              "<class 'statsmodels.iolib.summary.Summary'>\n",
              "\"\"\"\n",
              "                            OLS Regression Results                            \n",
              "==============================================================================\n",
              "Dep. Variable:                      y   R-squared:                       0.770\n",
              "Model:                            OLS   Adj. R-squared:                  0.755\n",
              "Method:                 Least Squares   F-statistic:                     52.42\n",
              "Date:                Wed, 15 Mar 2023   Prob (F-statistic):           7.22e-28\n",
              "Time:                        17:56:49   Log-Likelihood:                -143.68\n",
              "No. Observations:                 101   AIC:                             301.4\n",
              "Df Residuals:                      94   BIC:                             319.7\n",
              "Df Model:                           6                                         \n",
              "Covariance Type:            nonrobust                                         \n",
              "==============================================================================\n",
              "                 coef    std err          t      P>|t|      [0.025      0.975]\n",
              "------------------------------------------------------------------------------\n",
              "const          0.1960      0.168      1.169      0.245      -0.137       0.529\n",
              "x1            -3.3825      0.373     -9.075      0.000      -4.122      -2.642\n",
              "x2             3.8217      0.270     14.178      0.000       3.286       4.357\n",
              "x3             0.3144      0.342      0.920      0.360      -0.364       0.993\n",
              "x4             0.3774      0.299      1.263      0.210      -0.216       0.971\n",
              "x5             0.9526      0.401      2.374      0.020       0.156       1.749\n",
              "x6            -1.2579      0.362     -3.472      0.001      -1.977      -0.538\n",
              "==============================================================================\n",
              "Omnibus:                       27.568   Durbin-Watson:                   1.592\n",
              "Prob(Omnibus):                  0.000   Jarque-Bera (JB):              280.708\n",
              "Skew:                           0.220   Prob(JB):                     1.11e-61\n",
              "Kurtosis:                      11.155   Cond. No.                         6.32\n",
              "==============================================================================\n",
              "\n",
              "Notes:\n",
              "[1] Standard Errors assume that the covariance matrix of the errors is correctly specified.\n",
              "\"\"\""
            ],
            "text/html": [
              "<table class=\"simpletable\">\n",
              "<caption>OLS Regression Results</caption>\n",
              "<tr>\n",
              "  <th>Dep. Variable:</th>            <td>y</td>        <th>  R-squared:         </th> <td>   0.770</td>\n",
              "</tr>\n",
              "<tr>\n",
              "  <th>Model:</th>                   <td>OLS</td>       <th>  Adj. R-squared:    </th> <td>   0.755</td>\n",
              "</tr>\n",
              "<tr>\n",
              "  <th>Method:</th>             <td>Least Squares</td>  <th>  F-statistic:       </th> <td>   52.42</td>\n",
              "</tr>\n",
              "<tr>\n",
              "  <th>Date:</th>             <td>Wed, 15 Mar 2023</td> <th>  Prob (F-statistic):</th> <td>7.22e-28</td>\n",
              "</tr>\n",
              "<tr>\n",
              "  <th>Time:</th>                 <td>17:56:49</td>     <th>  Log-Likelihood:    </th> <td> -143.68</td>\n",
              "</tr>\n",
              "<tr>\n",
              "  <th>No. Observations:</th>      <td>   101</td>      <th>  AIC:               </th> <td>   301.4</td>\n",
              "</tr>\n",
              "<tr>\n",
              "  <th>Df Residuals:</th>          <td>    94</td>      <th>  BIC:               </th> <td>   319.7</td>\n",
              "</tr>\n",
              "<tr>\n",
              "  <th>Df Model:</th>              <td>     6</td>      <th>                     </th>     <td> </td>   \n",
              "</tr>\n",
              "<tr>\n",
              "  <th>Covariance Type:</th>      <td>nonrobust</td>    <th>                     </th>     <td> </td>   \n",
              "</tr>\n",
              "</table>\n",
              "<table class=\"simpletable\">\n",
              "<tr>\n",
              "    <td></td>       <th>coef</th>     <th>std err</th>      <th>t</th>      <th>P>|t|</th>  <th>[0.025</th>    <th>0.975]</th>  \n",
              "</tr>\n",
              "<tr>\n",
              "  <th>const</th> <td>    0.1960</td> <td>    0.168</td> <td>    1.169</td> <td> 0.245</td> <td>   -0.137</td> <td>    0.529</td>\n",
              "</tr>\n",
              "<tr>\n",
              "  <th>x1</th>    <td>   -3.3825</td> <td>    0.373</td> <td>   -9.075</td> <td> 0.000</td> <td>   -4.122</td> <td>   -2.642</td>\n",
              "</tr>\n",
              "<tr>\n",
              "  <th>x2</th>    <td>    3.8217</td> <td>    0.270</td> <td>   14.178</td> <td> 0.000</td> <td>    3.286</td> <td>    4.357</td>\n",
              "</tr>\n",
              "<tr>\n",
              "  <th>x3</th>    <td>    0.3144</td> <td>    0.342</td> <td>    0.920</td> <td> 0.360</td> <td>   -0.364</td> <td>    0.993</td>\n",
              "</tr>\n",
              "<tr>\n",
              "  <th>x4</th>    <td>    0.3774</td> <td>    0.299</td> <td>    1.263</td> <td> 0.210</td> <td>   -0.216</td> <td>    0.971</td>\n",
              "</tr>\n",
              "<tr>\n",
              "  <th>x5</th>    <td>    0.9526</td> <td>    0.401</td> <td>    2.374</td> <td> 0.020</td> <td>    0.156</td> <td>    1.749</td>\n",
              "</tr>\n",
              "<tr>\n",
              "  <th>x6</th>    <td>   -1.2579</td> <td>    0.362</td> <td>   -3.472</td> <td> 0.001</td> <td>   -1.977</td> <td>   -0.538</td>\n",
              "</tr>\n",
              "</table>\n",
              "<table class=\"simpletable\">\n",
              "<tr>\n",
              "  <th>Omnibus:</th>       <td>27.568</td> <th>  Durbin-Watson:     </th> <td>   1.592</td>\n",
              "</tr>\n",
              "<tr>\n",
              "  <th>Prob(Omnibus):</th> <td> 0.000</td> <th>  Jarque-Bera (JB):  </th> <td> 280.708</td>\n",
              "</tr>\n",
              "<tr>\n",
              "  <th>Skew:</th>          <td> 0.220</td> <th>  Prob(JB):          </th> <td>1.11e-61</td>\n",
              "</tr>\n",
              "<tr>\n",
              "  <th>Kurtosis:</th>      <td>11.155</td> <th>  Cond. No.          </th> <td>    6.32</td>\n",
              "</tr>\n",
              "</table><br/><br/>Notes:<br/>[1] Standard Errors assume that the covariance matrix of the errors is correctly specified."
            ]
          },
          "metadata": {},
          "execution_count": 66
        }
      ]
    },
    {
      "cell_type": "code",
      "source": [
        "X_opt = X[:, [1,2,5,6]]\n",
        "X_opt = np.array(X_opt, dtype = float)\n",
        "regressor_OLS = sm.OLS(endog = y, exog = X_opt).fit()\n",
        "regressor_OLS.summary()"
      ],
      "metadata": {
        "colab": {
          "base_uri": "https://localhost:8080/",
          "height": 501
        },
        "id": "Swe_wTLiOGkv",
        "outputId": "2b819d11-7194-4b33-9487-bb4115c998f1"
      },
      "execution_count": 67,
      "outputs": [
        {
          "output_type": "execute_result",
          "data": {
            "text/plain": [
              "<class 'statsmodels.iolib.summary.Summary'>\n",
              "\"\"\"\n",
              "                                 OLS Regression Results                                \n",
              "=======================================================================================\n",
              "Dep. Variable:                      y   R-squared (uncentered):                   0.864\n",
              "Model:                            OLS   Adj. R-squared (uncentered):              0.858\n",
              "Method:                 Least Squares   F-statistic:                              154.0\n",
              "Date:                Wed, 15 Mar 2023   Prob (F-statistic):                    4.15e-41\n",
              "Time:                        17:56:49   Log-Likelihood:                         -145.88\n",
              "No. Observations:                 101   AIC:                                      299.8\n",
              "Df Residuals:                      97   BIC:                                      310.2\n",
              "Df Model:                           4                                                  \n",
              "Covariance Type:            nonrobust                                                  \n",
              "==============================================================================\n",
              "                 coef    std err          t      P>|t|      [0.025      0.975]\n",
              "------------------------------------------------------------------------------\n",
              "x1            -3.1759      0.312    -10.168      0.000      -3.796      -2.556\n",
              "x2             4.1759      0.207     20.190      0.000       3.765       4.586\n",
              "x3             1.1137      0.396      2.815      0.006       0.328       1.899\n",
              "x4            -0.9647      0.296     -3.262      0.002      -1.552      -0.378\n",
              "==============================================================================\n",
              "Omnibus:                       25.280   Durbin-Watson:                   1.626\n",
              "Prob(Omnibus):                  0.000   Jarque-Bera (JB):              237.320\n",
              "Skew:                          -0.009   Prob(JB):                     2.93e-52\n",
              "Kurtosis:                      10.509   Cond. No.                         3.53\n",
              "==============================================================================\n",
              "\n",
              "Notes:\n",
              "[1] R² is computed without centering (uncentered) since the model does not contain a constant.\n",
              "[2] Standard Errors assume that the covariance matrix of the errors is correctly specified.\n",
              "\"\"\""
            ],
            "text/html": [
              "<table class=\"simpletable\">\n",
              "<caption>OLS Regression Results</caption>\n",
              "<tr>\n",
              "  <th>Dep. Variable:</th>            <td>y</td>        <th>  R-squared (uncentered):</th>      <td>   0.864</td>\n",
              "</tr>\n",
              "<tr>\n",
              "  <th>Model:</th>                   <td>OLS</td>       <th>  Adj. R-squared (uncentered):</th> <td>   0.858</td>\n",
              "</tr>\n",
              "<tr>\n",
              "  <th>Method:</th>             <td>Least Squares</td>  <th>  F-statistic:       </th>          <td>   154.0</td>\n",
              "</tr>\n",
              "<tr>\n",
              "  <th>Date:</th>             <td>Wed, 15 Mar 2023</td> <th>  Prob (F-statistic):</th>          <td>4.15e-41</td>\n",
              "</tr>\n",
              "<tr>\n",
              "  <th>Time:</th>                 <td>17:56:49</td>     <th>  Log-Likelihood:    </th>          <td> -145.88</td>\n",
              "</tr>\n",
              "<tr>\n",
              "  <th>No. Observations:</th>      <td>   101</td>      <th>  AIC:               </th>          <td>   299.8</td>\n",
              "</tr>\n",
              "<tr>\n",
              "  <th>Df Residuals:</th>          <td>    97</td>      <th>  BIC:               </th>          <td>   310.2</td>\n",
              "</tr>\n",
              "<tr>\n",
              "  <th>Df Model:</th>              <td>     4</td>      <th>                     </th>              <td> </td>   \n",
              "</tr>\n",
              "<tr>\n",
              "  <th>Covariance Type:</th>      <td>nonrobust</td>    <th>                     </th>              <td> </td>   \n",
              "</tr>\n",
              "</table>\n",
              "<table class=\"simpletable\">\n",
              "<tr>\n",
              "   <td></td>     <th>coef</th>     <th>std err</th>      <th>t</th>      <th>P>|t|</th>  <th>[0.025</th>    <th>0.975]</th>  \n",
              "</tr>\n",
              "<tr>\n",
              "  <th>x1</th> <td>   -3.1759</td> <td>    0.312</td> <td>  -10.168</td> <td> 0.000</td> <td>   -3.796</td> <td>   -2.556</td>\n",
              "</tr>\n",
              "<tr>\n",
              "  <th>x2</th> <td>    4.1759</td> <td>    0.207</td> <td>   20.190</td> <td> 0.000</td> <td>    3.765</td> <td>    4.586</td>\n",
              "</tr>\n",
              "<tr>\n",
              "  <th>x3</th> <td>    1.1137</td> <td>    0.396</td> <td>    2.815</td> <td> 0.006</td> <td>    0.328</td> <td>    1.899</td>\n",
              "</tr>\n",
              "<tr>\n",
              "  <th>x4</th> <td>   -0.9647</td> <td>    0.296</td> <td>   -3.262</td> <td> 0.002</td> <td>   -1.552</td> <td>   -0.378</td>\n",
              "</tr>\n",
              "</table>\n",
              "<table class=\"simpletable\">\n",
              "<tr>\n",
              "  <th>Omnibus:</th>       <td>25.280</td> <th>  Durbin-Watson:     </th> <td>   1.626</td>\n",
              "</tr>\n",
              "<tr>\n",
              "  <th>Prob(Omnibus):</th> <td> 0.000</td> <th>  Jarque-Bera (JB):  </th> <td> 237.320</td>\n",
              "</tr>\n",
              "<tr>\n",
              "  <th>Skew:</th>          <td>-0.009</td> <th>  Prob(JB):          </th> <td>2.93e-52</td>\n",
              "</tr>\n",
              "<tr>\n",
              "  <th>Kurtosis:</th>      <td>10.509</td> <th>  Cond. No.          </th> <td>    3.53</td>\n",
              "</tr>\n",
              "</table><br/><br/>Notes:<br/>[1] R² is computed without centering (uncentered) since the model does not contain a constant.<br/>[2] Standard Errors assume that the covariance matrix of the errors is correctly specified."
            ]
          },
          "metadata": {},
          "execution_count": 67
        }
      ]
    },
    {
      "cell_type": "code",
      "source": [
        "X_opt = X[:, [1,2,6]]\n",
        "X_opt = np.array(X_opt, dtype = float)\n",
        "regressor_OLS = sm.OLS(endog = y, exog = X_opt).fit()\n",
        "regressor_OLS.summary()"
      ],
      "metadata": {
        "colab": {
          "base_uri": "https://localhost:8080/",
          "height": 480
        },
        "id": "o8wWHgP4OYr6",
        "outputId": "1e60f660-2f38-4deb-f4cf-971cf9752eb1"
      },
      "execution_count": 68,
      "outputs": [
        {
          "output_type": "execute_result",
          "data": {
            "text/plain": [
              "<class 'statsmodels.iolib.summary.Summary'>\n",
              "\"\"\"\n",
              "                                 OLS Regression Results                                \n",
              "=======================================================================================\n",
              "Dep. Variable:                      y   R-squared (uncentered):                   0.853\n",
              "Model:                            OLS   Adj. R-squared (uncentered):              0.848\n",
              "Method:                 Least Squares   F-statistic:                              189.3\n",
              "Date:                Wed, 15 Mar 2023   Prob (F-statistic):                    1.23e-40\n",
              "Time:                        17:56:49   Log-Likelihood:                         -149.84\n",
              "No. Observations:                 101   AIC:                                      305.7\n",
              "Df Residuals:                      98   BIC:                                      313.5\n",
              "Df Model:                           3                                                  \n",
              "Covariance Type:            nonrobust                                                  \n",
              "==============================================================================\n",
              "                 coef    std err          t      P>|t|      [0.025      0.975]\n",
              "------------------------------------------------------------------------------\n",
              "x1            -3.3765      0.315    -10.731      0.000      -4.001      -2.752\n",
              "x2             4.3765      0.201     21.784      0.000       3.978       4.775\n",
              "x3            -1.0526      0.304     -3.459      0.001      -1.656      -0.449\n",
              "==============================================================================\n",
              "Omnibus:                       41.129   Durbin-Watson:                   1.628\n",
              "Prob(Omnibus):                  0.000   Jarque-Bera (JB):              546.177\n",
              "Skew:                           0.745   Prob(JB):                    2.51e-119\n",
              "Kurtosis:                      14.294   Cond. No.                         3.00\n",
              "==============================================================================\n",
              "\n",
              "Notes:\n",
              "[1] R² is computed without centering (uncentered) since the model does not contain a constant.\n",
              "[2] Standard Errors assume that the covariance matrix of the errors is correctly specified.\n",
              "\"\"\""
            ],
            "text/html": [
              "<table class=\"simpletable\">\n",
              "<caption>OLS Regression Results</caption>\n",
              "<tr>\n",
              "  <th>Dep. Variable:</th>            <td>y</td>        <th>  R-squared (uncentered):</th>      <td>   0.853</td>\n",
              "</tr>\n",
              "<tr>\n",
              "  <th>Model:</th>                   <td>OLS</td>       <th>  Adj. R-squared (uncentered):</th> <td>   0.848</td>\n",
              "</tr>\n",
              "<tr>\n",
              "  <th>Method:</th>             <td>Least Squares</td>  <th>  F-statistic:       </th>          <td>   189.3</td>\n",
              "</tr>\n",
              "<tr>\n",
              "  <th>Date:</th>             <td>Wed, 15 Mar 2023</td> <th>  Prob (F-statistic):</th>          <td>1.23e-40</td>\n",
              "</tr>\n",
              "<tr>\n",
              "  <th>Time:</th>                 <td>17:56:49</td>     <th>  Log-Likelihood:    </th>          <td> -149.84</td>\n",
              "</tr>\n",
              "<tr>\n",
              "  <th>No. Observations:</th>      <td>   101</td>      <th>  AIC:               </th>          <td>   305.7</td>\n",
              "</tr>\n",
              "<tr>\n",
              "  <th>Df Residuals:</th>          <td>    98</td>      <th>  BIC:               </th>          <td>   313.5</td>\n",
              "</tr>\n",
              "<tr>\n",
              "  <th>Df Model:</th>              <td>     3</td>      <th>                     </th>              <td> </td>   \n",
              "</tr>\n",
              "<tr>\n",
              "  <th>Covariance Type:</th>      <td>nonrobust</td>    <th>                     </th>              <td> </td>   \n",
              "</tr>\n",
              "</table>\n",
              "<table class=\"simpletable\">\n",
              "<tr>\n",
              "   <td></td>     <th>coef</th>     <th>std err</th>      <th>t</th>      <th>P>|t|</th>  <th>[0.025</th>    <th>0.975]</th>  \n",
              "</tr>\n",
              "<tr>\n",
              "  <th>x1</th> <td>   -3.3765</td> <td>    0.315</td> <td>  -10.731</td> <td> 0.000</td> <td>   -4.001</td> <td>   -2.752</td>\n",
              "</tr>\n",
              "<tr>\n",
              "  <th>x2</th> <td>    4.3765</td> <td>    0.201</td> <td>   21.784</td> <td> 0.000</td> <td>    3.978</td> <td>    4.775</td>\n",
              "</tr>\n",
              "<tr>\n",
              "  <th>x3</th> <td>   -1.0526</td> <td>    0.304</td> <td>   -3.459</td> <td> 0.001</td> <td>   -1.656</td> <td>   -0.449</td>\n",
              "</tr>\n",
              "</table>\n",
              "<table class=\"simpletable\">\n",
              "<tr>\n",
              "  <th>Omnibus:</th>       <td>41.129</td> <th>  Durbin-Watson:     </th> <td>   1.628</td> \n",
              "</tr>\n",
              "<tr>\n",
              "  <th>Prob(Omnibus):</th> <td> 0.000</td> <th>  Jarque-Bera (JB):  </th> <td> 546.177</td> \n",
              "</tr>\n",
              "<tr>\n",
              "  <th>Skew:</th>          <td> 0.745</td> <th>  Prob(JB):          </th> <td>2.51e-119</td>\n",
              "</tr>\n",
              "<tr>\n",
              "  <th>Kurtosis:</th>      <td>14.294</td> <th>  Cond. No.          </th> <td>    3.00</td> \n",
              "</tr>\n",
              "</table><br/><br/>Notes:<br/>[1] R² is computed without centering (uncentered) since the model does not contain a constant.<br/>[2] Standard Errors assume that the covariance matrix of the errors is correctly specified."
            ]
          },
          "metadata": {},
          "execution_count": 68
        }
      ]
    },
    {
      "cell_type": "code",
      "source": [
        "X = dataset.iloc[:, [5, 13]]\n",
        "y = dataset.iloc[:, -1]"
      ],
      "metadata": {
        "id": "Xon6B-RfOh1f"
      },
      "execution_count": 69,
      "outputs": []
    },
    {
      "cell_type": "code",
      "source": [
        "# ENCODING THE CATEGORICAL DATA\n",
        "from sklearn.preprocessing import LabelEncoder\n",
        "labelencoder_y = LabelEncoder()\n",
        "y = labelencoder_y.fit_transform(y)"
      ],
      "metadata": {
        "id": "gLL1yMY5PTKv"
      },
      "execution_count": 70,
      "outputs": []
    },
    {
      "cell_type": "code",
      "source": [
        "# SPLITTING THE DATASET\n",
        "from sklearn.model_selection import train_test_split\n",
        "X_train, X_test, y_train, y_test = train_test_split(X, y, test_size = 0.25, random_state = 0 )"
      ],
      "metadata": {
        "id": "XqVrmXnAPWLl"
      },
      "execution_count": 71,
      "outputs": []
    },
    {
      "cell_type": "code",
      "source": [
        "# FEATURE SCALING\n",
        "from sklearn.preprocessing import StandardScaler\n",
        "sc_X = StandardScaler()\n",
        "X_train = sc_X.fit_transform(X_train)\n",
        "X_test = sc_X.fit_transform(X_test)"
      ],
      "metadata": {
        "id": "-q1f0J3LPYtI"
      },
      "execution_count": 72,
      "outputs": []
    },
    {
      "cell_type": "code",
      "source": [
        "# FITTING THE MODEL\n",
        "from sklearn.neighbors import KNeighborsClassifier\n",
        "classifier = KNeighborsClassifier(n_neighbors = 10, metric = 'minkowski', p = 2)\n",
        "classifier.fit(X_train, y_train)"
      ],
      "metadata": {
        "colab": {
          "base_uri": "https://localhost:8080/",
          "height": 74
        },
        "id": "Mu3FgUNvPbWl",
        "outputId": "833c5065-203d-4d09-b289-cc1b94e5a66b"
      },
      "execution_count": 73,
      "outputs": [
        {
          "output_type": "execute_result",
          "data": {
            "text/plain": [
              "KNeighborsClassifier(n_neighbors=10)"
            ],
            "text/html": [
              "<style>#sk-container-id-8 {color: black;background-color: white;}#sk-container-id-8 pre{padding: 0;}#sk-container-id-8 div.sk-toggleable {background-color: white;}#sk-container-id-8 label.sk-toggleable__label {cursor: pointer;display: block;width: 100%;margin-bottom: 0;padding: 0.3em;box-sizing: border-box;text-align: center;}#sk-container-id-8 label.sk-toggleable__label-arrow:before {content: \"▸\";float: left;margin-right: 0.25em;color: #696969;}#sk-container-id-8 label.sk-toggleable__label-arrow:hover:before {color: black;}#sk-container-id-8 div.sk-estimator:hover label.sk-toggleable__label-arrow:before {color: black;}#sk-container-id-8 div.sk-toggleable__content {max-height: 0;max-width: 0;overflow: hidden;text-align: left;background-color: #f0f8ff;}#sk-container-id-8 div.sk-toggleable__content pre {margin: 0.2em;color: black;border-radius: 0.25em;background-color: #f0f8ff;}#sk-container-id-8 input.sk-toggleable__control:checked~div.sk-toggleable__content {max-height: 200px;max-width: 100%;overflow: auto;}#sk-container-id-8 input.sk-toggleable__control:checked~label.sk-toggleable__label-arrow:before {content: \"▾\";}#sk-container-id-8 div.sk-estimator input.sk-toggleable__control:checked~label.sk-toggleable__label {background-color: #d4ebff;}#sk-container-id-8 div.sk-label input.sk-toggleable__control:checked~label.sk-toggleable__label {background-color: #d4ebff;}#sk-container-id-8 input.sk-hidden--visually {border: 0;clip: rect(1px 1px 1px 1px);clip: rect(1px, 1px, 1px, 1px);height: 1px;margin: -1px;overflow: hidden;padding: 0;position: absolute;width: 1px;}#sk-container-id-8 div.sk-estimator {font-family: monospace;background-color: #f0f8ff;border: 1px dotted black;border-radius: 0.25em;box-sizing: border-box;margin-bottom: 0.5em;}#sk-container-id-8 div.sk-estimator:hover {background-color: #d4ebff;}#sk-container-id-8 div.sk-parallel-item::after {content: \"\";width: 100%;border-bottom: 1px solid gray;flex-grow: 1;}#sk-container-id-8 div.sk-label:hover label.sk-toggleable__label {background-color: #d4ebff;}#sk-container-id-8 div.sk-serial::before {content: \"\";position: absolute;border-left: 1px solid gray;box-sizing: border-box;top: 0;bottom: 0;left: 50%;z-index: 0;}#sk-container-id-8 div.sk-serial {display: flex;flex-direction: column;align-items: center;background-color: white;padding-right: 0.2em;padding-left: 0.2em;position: relative;}#sk-container-id-8 div.sk-item {position: relative;z-index: 1;}#sk-container-id-8 div.sk-parallel {display: flex;align-items: stretch;justify-content: center;background-color: white;position: relative;}#sk-container-id-8 div.sk-item::before, #sk-container-id-8 div.sk-parallel-item::before {content: \"\";position: absolute;border-left: 1px solid gray;box-sizing: border-box;top: 0;bottom: 0;left: 50%;z-index: -1;}#sk-container-id-8 div.sk-parallel-item {display: flex;flex-direction: column;z-index: 1;position: relative;background-color: white;}#sk-container-id-8 div.sk-parallel-item:first-child::after {align-self: flex-end;width: 50%;}#sk-container-id-8 div.sk-parallel-item:last-child::after {align-self: flex-start;width: 50%;}#sk-container-id-8 div.sk-parallel-item:only-child::after {width: 0;}#sk-container-id-8 div.sk-dashed-wrapped {border: 1px dashed gray;margin: 0 0.4em 0.5em 0.4em;box-sizing: border-box;padding-bottom: 0.4em;background-color: white;}#sk-container-id-8 div.sk-label label {font-family: monospace;font-weight: bold;display: inline-block;line-height: 1.2em;}#sk-container-id-8 div.sk-label-container {text-align: center;}#sk-container-id-8 div.sk-container {/* jupyter's `normalize.less` sets `[hidden] { display: none; }` but bootstrap.min.css set `[hidden] { display: none !important; }` so we also need the `!important` here to be able to override the default hidden behavior on the sphinx rendered scikit-learn.org. See: https://github.com/scikit-learn/scikit-learn/issues/21755 */display: inline-block !important;position: relative;}#sk-container-id-8 div.sk-text-repr-fallback {display: none;}</style><div id=\"sk-container-id-8\" class=\"sk-top-container\"><div class=\"sk-text-repr-fallback\"><pre>KNeighborsClassifier(n_neighbors=10)</pre><b>In a Jupyter environment, please rerun this cell to show the HTML representation or trust the notebook. <br />On GitHub, the HTML representation is unable to render, please try loading this page with nbviewer.org.</b></div><div class=\"sk-container\" hidden><div class=\"sk-item\"><div class=\"sk-estimator sk-toggleable\"><input class=\"sk-toggleable__control sk-hidden--visually\" id=\"sk-estimator-id-12\" type=\"checkbox\" checked><label for=\"sk-estimator-id-12\" class=\"sk-toggleable__label sk-toggleable__label-arrow\">KNeighborsClassifier</label><div class=\"sk-toggleable__content\"><pre>KNeighborsClassifier(n_neighbors=10)</pre></div></div></div></div></div>"
            ]
          },
          "metadata": {},
          "execution_count": 73
        }
      ]
    },
    {
      "cell_type": "code",
      "source": [
        "#Predicting the test \n",
        "y_pred = classifier.predict(X_test)\n",
        "y_pred"
      ],
      "metadata": {
        "colab": {
          "base_uri": "https://localhost:8080/"
        },
        "id": "z_H3C0eZPpXq",
        "outputId": "cb339429-59b2-4ca9-9a1f-3bb9422b7a1e"
      },
      "execution_count": 74,
      "outputs": [
        {
          "output_type": "execute_result",
          "data": {
            "text/plain": [
              "array([0, 3, 3, 0, 0, 0, 1, 3, 0, 0, 6, 1, 1, 3, 3, 5, 0, 6, 1, 3, 1, 3,\n",
              "       0, 0, 0, 0])"
            ]
          },
          "metadata": {},
          "execution_count": 74
        }
      ]
    },
    {
      "cell_type": "code",
      "source": [
        "# MEASURING THE ACCURACY\n",
        "from sklearn.metrics import  confusion_matrix, accuracy_score\n",
        "cm = confusion_matrix(y_test, y_pred)\n",
        "acc = accuracy_score(y_test, y_pred)\n",
        "print(cm)\n",
        "print(acc)"
      ],
      "metadata": {
        "colab": {
          "base_uri": "https://localhost:8080/"
        },
        "id": "Qhvwam0EPt06",
        "outputId": "550ccf56-0915-495c-adc4-9db3e44f6c8c"
      },
      "execution_count": 75,
      "outputs": [
        {
          "output_type": "stream",
          "name": "stdout",
          "text": [
            "[[9 1 0 0 0 0 0]\n",
            " [1 4 0 0 0 0 0]\n",
            " [0 0 0 1 0 0 0]\n",
            " [0 0 0 5 0 0 0]\n",
            " [1 0 0 0 0 0 0]\n",
            " [0 0 0 0 0 1 1]\n",
            " [0 0 0 1 0 0 1]]\n",
            "0.7692307692307693\n"
          ]
        }
      ]
    },
    {
      "cell_type": "markdown",
      "source": [
        "#### DATA VISUALIZATIONS"
      ],
      "metadata": {
        "id": "o_ti6mboPzem"
      }
    },
    {
      "cell_type": "code",
      "source": [
        "# Visualizing the test set results\n",
        "from matplotlib.colors import ListedColormap\n",
        "X_set, y_set = X_test, y_test\n",
        "X1, X2 = np.meshgrid(np.arange(start = X_set[:, 0].min() - 1, stop = X_set[:, 0].max() + 1, step = 0.01),\n",
        "                     np.arange(start = X_set[:, 1].min() - 1, stop = X_set[:, 1].max() + 1, step = 0.01))\n",
        "plt.contourf(X1, X2, classifier.predict(np.array([X1.ravel(), X2.ravel()]).T).reshape(X1.shape),\n",
        "             alpha = 0.75, cmap = ListedColormap(('yellow', 'green')))\n",
        "plt.xlim(X1.min(), X1.max())\n",
        "plt.ylim(X2.min(), X2.max())\n",
        "for i, j in enumerate(np.unique(y_set)):\n",
        "  plt.scatter(X_set[y_set == j, 0], X_set[y_set == j, 1],\n",
        "              c= ListedColormap(('yellow', 'green'))(i), label= j)\n",
        "plt.title('KNN Classification(Test set)')\n",
        "plt.xlabel('eggs')\n",
        "plt.ylabel('legs')\n",
        "plt.legend()\n",
        "plt.show()"
      ],
      "metadata": {
        "colab": {
          "base_uri": "https://localhost:8080/",
          "height": 442
        },
        "id": "aOsF2vHdPv25",
        "outputId": "60513e11-7b28-4b3c-9f31-e881227d851d"
      },
      "execution_count": 76,
      "outputs": [
        {
          "output_type": "stream",
          "name": "stderr",
          "text": [
            "WARNING:matplotlib.axes._axes:*c* argument looks like a single numeric RGB or RGBA sequence, which should be avoided as value-mapping will have precedence in case its length matches with *x* & *y*.  Please use the *color* keyword-argument or provide a 2D array with a single row if you intend to specify the same RGB or RGBA value for all points.\n",
            "WARNING:matplotlib.axes._axes:*c* argument looks like a single numeric RGB or RGBA sequence, which should be avoided as value-mapping will have precedence in case its length matches with *x* & *y*.  Please use the *color* keyword-argument or provide a 2D array with a single row if you intend to specify the same RGB or RGBA value for all points.\n",
            "WARNING:matplotlib.axes._axes:*c* argument looks like a single numeric RGB or RGBA sequence, which should be avoided as value-mapping will have precedence in case its length matches with *x* & *y*.  Please use the *color* keyword-argument or provide a 2D array with a single row if you intend to specify the same RGB or RGBA value for all points.\n",
            "WARNING:matplotlib.axes._axes:*c* argument looks like a single numeric RGB or RGBA sequence, which should be avoided as value-mapping will have precedence in case its length matches with *x* & *y*.  Please use the *color* keyword-argument or provide a 2D array with a single row if you intend to specify the same RGB or RGBA value for all points.\n",
            "WARNING:matplotlib.axes._axes:*c* argument looks like a single numeric RGB or RGBA sequence, which should be avoided as value-mapping will have precedence in case its length matches with *x* & *y*.  Please use the *color* keyword-argument or provide a 2D array with a single row if you intend to specify the same RGB or RGBA value for all points.\n",
            "WARNING:matplotlib.axes._axes:*c* argument looks like a single numeric RGB or RGBA sequence, which should be avoided as value-mapping will have precedence in case its length matches with *x* & *y*.  Please use the *color* keyword-argument or provide a 2D array with a single row if you intend to specify the same RGB or RGBA value for all points.\n",
            "WARNING:matplotlib.axes._axes:*c* argument looks like a single numeric RGB or RGBA sequence, which should be avoided as value-mapping will have precedence in case its length matches with *x* & *y*.  Please use the *color* keyword-argument or provide a 2D array with a single row if you intend to specify the same RGB or RGBA value for all points.\n"
          ]
        },
        {
          "output_type": "display_data",
          "data": {
            "text/plain": [
              "<Figure size 432x288 with 1 Axes>"
            ],
            "image/png": "[encoded data removed]"
          },
          "metadata": {
            "needs_background": "light"
          }
        }
      ]
    },
    {
      "cell_type": "code",
      "source": [
        "#Visualizing the train set results\n",
        "from matplotlib.colors import ListedColormap\n",
        "X_set, y_set = X_train, y_train\n",
        "X1, X2 = np.meshgrid(np.arange(start = X_set[:, 0].min() - 1, stop = X_set[:, 0].max() + 1, step = 0.01),\n",
        "                     np.arange(start = X_set[:, 1].min() - 1, stop = X_set[:, 1].max() + 1, step = 0.01))\n",
        "plt.contourf(X1, X2, classifier.predict(np.array([X1.ravel(), X2.ravel()]).T).reshape(X1.shape),\n",
        "             alpha = 0.75, cmap = ListedColormap(('yellow', 'green')))\n",
        "plt.xlim(X1.min(), X1.max())\n",
        "plt.ylim(X2.min(), X2.max())\n",
        "for i, j in enumerate(np.unique(y_set)):\n",
        "  plt.scatter(X_set[y_set == j, 0], X_set[y_set == j, 1],\n",
        "              c= ListedColormap(('yellow', 'green'))(i), label= j)\n",
        "plt.title('KNN Classification(Training set)')\n",
        "plt.xlabel('eggs')\n",
        "plt.ylabel('legs')\n",
        "plt.legend()\n",
        "plt.show()"
      ],
      "metadata": {
        "colab": {
          "base_uri": "https://localhost:8080/",
          "height": 424
        },
        "id": "VQOSQUEHP5vg",
        "outputId": "1885c9c6-f734-43cf-a54b-6f904e80ce22"
      },
      "execution_count": 77,
      "outputs": [
        {
          "output_type": "stream",
          "name": "stderr",
          "text": [
            "WARNING:matplotlib.axes._axes:*c* argument looks like a single numeric RGB or RGBA sequence, which should be avoided as value-mapping will have precedence in case its length matches with *x* & *y*.  Please use the *color* keyword-argument or provide a 2D array with a single row if you intend to specify the same RGB or RGBA value for all points.\n",
            "WARNING:matplotlib.axes._axes:*c* argument looks like a single numeric RGB or RGBA sequence, which should be avoided as value-mapping will have precedence in case its length matches with *x* & *y*.  Please use the *color* keyword-argument or provide a 2D array with a single row if you intend to specify the same RGB or RGBA value for all points.\n",
            "WARNING:matplotlib.axes._axes:*c* argument looks like a single numeric RGB or RGBA sequence, which should be avoided as value-mapping will have precedence in case its length matches with *x* & *y*.  Please use the *color* keyword-argument or provide a 2D array with a single row if you intend to specify the same RGB or RGBA value for all points.\n",
            "WARNING:matplotlib.axes._axes:*c* argument looks like a single numeric RGB or RGBA sequence, which should be avoided as value-mapping will have precedence in case its length matches with *x* & *y*.  Please use the *color* keyword-argument or provide a 2D array with a single row if you intend to specify the same RGB or RGBA value for all points.\n",
            "WARNING:matplotlib.axes._axes:*c* argument looks like a single numeric RGB or RGBA sequence, which should be avoided as value-mapping will have precedence in case its length matches with *x* & *y*.  Please use the *color* keyword-argument or provide a 2D array with a single row if you intend to specify the same RGB or RGBA value for all points.\n",
            "WARNING:matplotlib.axes._axes:*c* argument looks like a single numeric RGB or RGBA sequence, which should be avoided as value-mapping will have precedence in case its length matches with *x* & *y*.  Please use the *color* keyword-argument or provide a 2D array with a single row if you intend to specify the same RGB or RGBA value for all points.\n"
          ]
        },
        {
          "output_type": "display_data",
          "data": {
            "text/plain": [
              "<Figure size 432x288 with 1 Axes>"
            ],
            "image/png": "[encoded data removed]"
          },
          "metadata": {
            "needs_background": "light"
          }
        }
      ]
    }
  ]
}