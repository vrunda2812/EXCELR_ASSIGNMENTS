{
  "nbformat": 4,
  "nbformat_minor": 0,
  "metadata": {
    "colab": {
      "provenance": []
    },
    "kernelspec": {
      "name": "python3",
      "display_name": "Python 3"
    },
    "language_info": {
      "name": "python"
    }
  },
  "cells": [
    {
      "cell_type": "markdown",
      "source": [
        "# IMPORTING LIBRARIES"
      ],
      "metadata": {
        "id": "cOLj2OBbk9Ba"
      }
    },
    {
      "cell_type": "code",
      "execution_count": 1,
      "metadata": {
        "id": "V31lRkB6kxon"
      },
      "outputs": [],
      "source": [
        "import pandas as pd\n",
        "import numpy as np\n",
        "import matplotlib.pyplot as plt\n",
        "import seaborn as sns"
      ]
    },
    {
      "cell_type": "markdown",
      "source": [
        "# IMPORTING DATASET"
      ],
      "metadata": {
        "id": "dAcx70iHlPei"
      }
    },
    {
      "cell_type": "code",
      "source": [
        "dataset = pd.read_csv(\"/content/forestfires.csv\")"
      ],
      "metadata": {
        "id": "3IRGtO4ylAWc"
      },
      "execution_count": 2,
      "outputs": []
    },
    {
      "cell_type": "code",
      "source": [
        "dataset"
      ],
      "metadata": {
        "colab": {
          "base_uri": "https://localhost:8080/",
          "height": 423
        },
        "id": "KjJuMj4BuDL0",
        "outputId": "19bade05-c8c8-4684-ee4b-7ded46a32f2b"
      },
      "execution_count": 3,
      "outputs": [
        {
          "output_type": "execute_result",
          "data": {
            "text/plain": [
              "    month  day  FFMC    DMC     DC   ISI  temp  RH  wind  rain  ...  monthfeb  \\\n",
              "0     mar  fri  86.2   26.2   94.3   5.1   8.2  51   6.7   0.0  ...         0   \n",
              "1     oct  tue  90.6   35.4  669.1   6.7  18.0  33   0.9   0.0  ...         0   \n",
              "2     oct  sat  90.6   43.7  686.9   6.7  14.6  33   1.3   0.0  ...         0   \n",
              "3     mar  fri  91.7   33.3   77.5   9.0   8.3  97   4.0   0.2  ...         0   \n",
              "4     mar  sun  89.3   51.3  102.2   9.6  11.4  99   1.8   0.0  ...         0   \n",
              "..    ...  ...   ...    ...    ...   ...   ...  ..   ...   ...  ...       ...   \n",
              "512   aug  sun  81.6   56.7  665.6   1.9  27.8  32   2.7   0.0  ...         0   \n",
              "513   aug  sun  81.6   56.7  665.6   1.9  21.9  71   5.8   0.0  ...         0   \n",
              "514   aug  sun  81.6   56.7  665.6   1.9  21.2  70   6.7   0.0  ...         0   \n",
              "515   aug  sat  94.4  146.0  614.7  11.3  25.6  42   4.0   0.0  ...         0   \n",
              "516   nov  tue  79.5    3.0  106.7   1.1  11.8  31   4.5   0.0  ...         0   \n",
              "\n",
              "     monthjan  monthjul  monthjun  monthmar  monthmay  monthnov  monthoct  \\\n",
              "0           0         0         0         1         0         0         0   \n",
              "1           0         0         0         0         0         0         1   \n",
              "2           0         0         0         0         0         0         1   \n",
              "3           0         0         0         1         0         0         0   \n",
              "4           0         0         0         1         0         0         0   \n",
              "..        ...       ...       ...       ...       ...       ...       ...   \n",
              "512         0         0         0         0         0         0         0   \n",
              "513         0         0         0         0         0         0         0   \n",
              "514         0         0         0         0         0         0         0   \n",
              "515         0         0         0         0         0         0         0   \n",
              "516         0         0         0         0         0         1         0   \n",
              "\n",
              "     monthsep  size_category  \n",
              "0           0          small  \n",
              "1           0          small  \n",
              "2           0          small  \n",
              "3           0          small  \n",
              "4           0          small  \n",
              "..        ...            ...  \n",
              "512         0          large  \n",
              "513         0          large  \n",
              "514         0          large  \n",
              "515         0          small  \n",
              "516         0          small  \n",
              "\n",
              "[517 rows x 31 columns]"
            ],
            "text/html": [
              "\n",
              "  <div id=\"df-aa251727-f754-48d3-91da-6d6f94dd014c\">\n",
              "    <div class=\"colab-df-container\">\n",
              "      <div>\n",
              "<style scoped>\n",
              "    .dataframe tbody tr th:only-of-type {\n",
              "        vertical-align: middle;\n",
              "    }\n",
              "\n",
              "    .dataframe tbody tr th {\n",
              "        vertical-align: top;\n",
              "    }\n",
              "\n",
              "    .dataframe thead th {\n",
              "        text-align: right;\n",
              "    }\n",
              "</style>\n",
              "<table border=\"1\" class=\"dataframe\">\n",
              "  <thead>\n",
              "    <tr style=\"text-align: right;\">\n",
              "      <th></th>\n",
              "      <th>month</th>\n",
              "      <th>day</th>\n",
              "      <th>FFMC</th>\n",
              "      <th>DMC</th>\n",
              "      <th>DC</th>\n",
              "      <th>ISI</th>\n",
              "      <th>temp</th>\n",
              "      <th>RH</th>\n",
              "      <th>wind</th>\n",
              "      <th>rain</th>\n",
              "      <th>...</th>\n",
              "      <th>monthfeb</th>\n",
              "      <th>monthjan</th>\n",
              "      <th>monthjul</th>\n",
              "      <th>monthjun</th>\n",
              "      <th>monthmar</th>\n",
              "      <th>monthmay</th>\n",
              "      <th>monthnov</th>\n",
              "      <th>monthoct</th>\n",
              "      <th>monthsep</th>\n",
              "      <th>size_category</th>\n",
              "    </tr>\n",
              "  </thead>\n",
              "  <tbody>\n",
              "    <tr>\n",
              "      <th>0</th>\n",
              "      <td>mar</td>\n",
              "      <td>fri</td>\n",
              "      <td>86.2</td>\n",
              "      <td>26.2</td>\n",
              "      <td>94.3</td>\n",
              "      <td>5.1</td>\n",
              "      <td>8.2</td>\n",
              "      <td>51</td>\n",
              "      <td>6.7</td>\n",
              "      <td>0.0</td>\n",
              "      <td>...</td>\n",
              "      <td>0</td>\n",
              "      <td>0</td>\n",
              "      <td>0</td>\n",
              "      <td>0</td>\n",
              "      <td>1</td>\n",
              "      <td>0</td>\n",
              "      <td>0</td>\n",
              "      <td>0</td>\n",
              "      <td>0</td>\n",
              "      <td>small</td>\n",
              "    </tr>\n",
              "    <tr>\n",
              "      <th>1</th>\n",
              "      <td>oct</td>\n",
              "      <td>tue</td>\n",
              "      <td>90.6</td>\n",
              "      <td>35.4</td>\n",
              "      <td>669.1</td>\n",
              "      <td>6.7</td>\n",
              "      <td>18.0</td>\n",
              "      <td>33</td>\n",
              "      <td>0.9</td>\n",
              "      <td>0.0</td>\n",
              "      <td>...</td>\n",
              "      <td>0</td>\n",
              "      <td>0</td>\n",
              "      <td>0</td>\n",
              "      <td>0</td>\n",
              "      <td>0</td>\n",
              "      <td>0</td>\n",
              "      <td>0</td>\n",
              "      <td>1</td>\n",
              "      <td>0</td>\n",
              "      <td>small</td>\n",
              "    </tr>\n",
              "    <tr>\n",
              "      <th>2</th>\n",
              "      <td>oct</td>\n",
              "      <td>sat</td>\n",
              "      <td>90.6</td>\n",
              "      <td>43.7</td>\n",
              "      <td>686.9</td>\n",
              "      <td>6.7</td>\n",
              "      <td>14.6</td>\n",
              "      <td>33</td>\n",
              "      <td>1.3</td>\n",
              "      <td>0.0</td>\n",
              "      <td>...</td>\n",
              "      <td>0</td>\n",
              "      <td>0</td>\n",
              "      <td>0</td>\n",
              "      <td>0</td>\n",
              "      <td>0</td>\n",
              "      <td>0</td>\n",
              "      <td>0</td>\n",
              "      <td>1</td>\n",
              "      <td>0</td>\n",
              "      <td>small</td>\n",
              "    </tr>\n",
              "    <tr>\n",
              "      <th>3</th>\n",
              "      <td>mar</td>\n",
              "      <td>fri</td>\n",
              "      <td>91.7</td>\n",
              "      <td>33.3</td>\n",
              "      <td>77.5</td>\n",
              "      <td>9.0</td>\n",
              "      <td>8.3</td>\n",
              "      <td>97</td>\n",
              "      <td>4.0</td>\n",
              "      <td>0.2</td>\n",
              "      <td>...</td>\n",
              "      <td>0</td>\n",
              "      <td>0</td>\n",
              "      <td>0</td>\n",
              "      <td>0</td>\n",
              "      <td>1</td>\n",
              "      <td>0</td>\n",
              "      <td>0</td>\n",
              "      <td>0</td>\n",
              "      <td>0</td>\n",
              "      <td>small</td>\n",
              "    </tr>\n",
              "    <tr>\n",
              "      <th>4</th>\n",
              "      <td>mar</td>\n",
              "      <td>sun</td>\n",
              "      <td>89.3</td>\n",
              "      <td>51.3</td>\n",
              "      <td>102.2</td>\n",
              "      <td>9.6</td>\n",
              "      <td>11.4</td>\n",
              "      <td>99</td>\n",
              "      <td>1.8</td>\n",
              "      <td>0.0</td>\n",
              "      <td>...</td>\n",
              "      <td>0</td>\n",
              "      <td>0</td>\n",
              "      <td>0</td>\n",
              "      <td>0</td>\n",
              "      <td>1</td>\n",
              "      <td>0</td>\n",
              "      <td>0</td>\n",
              "      <td>0</td>\n",
              "      <td>0</td>\n",
              "      <td>small</td>\n",
              "    </tr>\n",
              "    <tr>\n",
              "      <th>...</th>\n",
              "      <td>...</td>\n",
              "      <td>...</td>\n",
              "      <td>...</td>\n",
              "      <td>...</td>\n",
              "      <td>...</td>\n",
              "      <td>...</td>\n",
              "      <td>...</td>\n",
              "      <td>...</td>\n",
              "      <td>...</td>\n",
              "      <td>...</td>\n",
              "      <td>...</td>\n",
              "      <td>...</td>\n",
              "      <td>...</td>\n",
              "      <td>...</td>\n",
              "      <td>...</td>\n",
              "      <td>...</td>\n",
              "      <td>...</td>\n",
              "      <td>...</td>\n",
              "      <td>...</td>\n",
              "      <td>...</td>\n",
              "      <td>...</td>\n",
              "    </tr>\n",
              "    <tr>\n",
              "      <th>512</th>\n",
              "      <td>aug</td>\n",
              "      <td>sun</td>\n",
              "      <td>81.6</td>\n",
              "      <td>56.7</td>\n",
              "      <td>665.6</td>\n",
              "      <td>1.9</td>\n",
              "      <td>27.8</td>\n",
              "      <td>32</td>\n",
              "      <td>2.7</td>\n",
              "      <td>0.0</td>\n",
              "      <td>...</td>\n",
              "      <td>0</td>\n",
              "      <td>0</td>\n",
              "      <td>0</td>\n",
              "      <td>0</td>\n",
              "      <td>0</td>\n",
              "      <td>0</td>\n",
              "      <td>0</td>\n",
              "      <td>0</td>\n",
              "      <td>0</td>\n",
              "      <td>large</td>\n",
              "    </tr>\n",
              "    <tr>\n",
              "      <th>513</th>\n",
              "      <td>aug</td>\n",
              "      <td>sun</td>\n",
              "      <td>81.6</td>\n",
              "      <td>56.7</td>\n",
              "      <td>665.6</td>\n",
              "      <td>1.9</td>\n",
              "      <td>21.9</td>\n",
              "      <td>71</td>\n",
              "      <td>5.8</td>\n",
              "      <td>0.0</td>\n",
              "      <td>...</td>\n",
              "      <td>0</td>\n",
              "      <td>0</td>\n",
              "      <td>0</td>\n",
              "      <td>0</td>\n",
              "      <td>0</td>\n",
              "      <td>0</td>\n",
              "      <td>0</td>\n",
              "      <td>0</td>\n",
              "      <td>0</td>\n",
              "      <td>large</td>\n",
              "    </tr>\n",
              "    <tr>\n",
              "      <th>514</th>\n",
              "      <td>aug</td>\n",
              "      <td>sun</td>\n",
              "      <td>81.6</td>\n",
              "      <td>56.7</td>\n",
              "      <td>665.6</td>\n",
              "      <td>1.9</td>\n",
              "      <td>21.2</td>\n",
              "      <td>70</td>\n",
              "      <td>6.7</td>\n",
              "      <td>0.0</td>\n",
              "      <td>...</td>\n",
              "      <td>0</td>\n",
              "      <td>0</td>\n",
              "      <td>0</td>\n",
              "      <td>0</td>\n",
              "      <td>0</td>\n",
              "      <td>0</td>\n",
              "      <td>0</td>\n",
              "      <td>0</td>\n",
              "      <td>0</td>\n",
              "      <td>large</td>\n",
              "    </tr>\n",
              "    <tr>\n",
              "      <th>515</th>\n",
              "      <td>aug</td>\n",
              "      <td>sat</td>\n",
              "      <td>94.4</td>\n",
              "      <td>146.0</td>\n",
              "      <td>614.7</td>\n",
              "      <td>11.3</td>\n",
              "      <td>25.6</td>\n",
              "      <td>42</td>\n",
              "      <td>4.0</td>\n",
              "      <td>0.0</td>\n",
              "      <td>...</td>\n",
              "      <td>0</td>\n",
              "      <td>0</td>\n",
              "      <td>0</td>\n",
              "      <td>0</td>\n",
              "      <td>0</td>\n",
              "      <td>0</td>\n",
              "      <td>0</td>\n",
              "      <td>0</td>\n",
              "      <td>0</td>\n",
              "      <td>small</td>\n",
              "    </tr>\n",
              "    <tr>\n",
              "      <th>516</th>\n",
              "      <td>nov</td>\n",
              "      <td>tue</td>\n",
              "      <td>79.5</td>\n",
              "      <td>3.0</td>\n",
              "      <td>106.7</td>\n",
              "      <td>1.1</td>\n",
              "      <td>11.8</td>\n",
              "      <td>31</td>\n",
              "      <td>4.5</td>\n",
              "      <td>0.0</td>\n",
              "      <td>...</td>\n",
              "      <td>0</td>\n",
              "      <td>0</td>\n",
              "      <td>0</td>\n",
              "      <td>0</td>\n",
              "      <td>0</td>\n",
              "      <td>0</td>\n",
              "      <td>1</td>\n",
              "      <td>0</td>\n",
              "      <td>0</td>\n",
              "      <td>small</td>\n",
              "    </tr>\n",
              "  </tbody>\n",
              "</table>\n",
              "<p>517 rows × 31 columns</p>\n",
              "</div>\n",
              "      <button class=\"colab-df-convert\" onclick=\"convertToInteractive('df-aa251727-f754-48d3-91da-6d6f94dd014c')\"\n",
              "              title=\"Convert this dataframe to an interactive table.\"\n",
              "              style=\"display:none;\">\n",
              "        \n",
              "  <svg xmlns=\"http://www.w3.org/2000/svg\" height=\"24px\"viewBox=\"0 0 24 24\"\n",
              "       width=\"24px\">\n",
              "    <path d=\"M0 0h24v24H0V0z\" fill=\"none\"/>\n",
              "    <path d=\"M18.56 5.44l.94 2.06.94-2.06 2.06-.94-2.06-.94-.94-2.06-.94 2.06-2.06.94zm-11 1L8.5 8.5l.94-2.06 2.06-.94-2.06-.94L8.5 2.5l-.94 2.06-2.06.94zm10 10l.94 2.06.94-2.06 2.06-.94-2.06-.94-.94-2.06-.94 2.06-2.06.94z\"/><path d=\"M17.41 7.96l-1.37-1.37c-.4-.4-.92-.59-1.43-.59-.52 0-1.04.2-1.43.59L10.3 9.45l-7.72 7.72c-.78.78-.78 2.05 0 2.83L4 21.41c.39.39.9.59 1.41.59.51 0 1.02-.2 1.41-.59l7.78-7.78 2.81-2.81c.8-.78.8-2.07 0-2.86zM5.41 20L4 18.59l7.72-7.72 1.47 1.35L5.41 20z\"/>\n",
              "  </svg>\n",
              "      </button>\n",
              "      \n",
              "  <style>\n",
              "    .colab-df-container {\n",
              "      display:flex;\n",
              "      flex-wrap:wrap;\n",
              "      gap: 12px;\n",
              "    }\n",
              "\n",
              "    .colab-df-convert {\n",
              "      background-color: #E8F0FE;\n",
              "      border: none;\n",
              "      border-radius: 50%;\n",
              "      cursor: pointer;\n",
              "      display: none;\n",
              "      fill: #1967D2;\n",
              "      height: 32px;\n",
              "      padding: 0 0 0 0;\n",
              "      width: 32px;\n",
              "    }\n",
              "\n",
              "    .colab-df-convert:hover {\n",
              "      background-color: #E2EBFA;\n",
              "      box-shadow: 0px 1px 2px rgba(60, 64, 67, 0.3), 0px 1px 3px 1px rgba(60, 64, 67, 0.15);\n",
              "      fill: #174EA6;\n",
              "    }\n",
              "\n",
              "    [theme=dark] .colab-df-convert {\n",
              "      background-color: #3B4455;\n",
              "      fill: #D2E3FC;\n",
              "    }\n",
              "\n",
              "    [theme=dark] .colab-df-convert:hover {\n",
              "      background-color: #434B5C;\n",
              "      box-shadow: 0px 1px 3px 1px rgba(0, 0, 0, 0.15);\n",
              "      filter: drop-shadow(0px 1px 2px rgba(0, 0, 0, 0.3));\n",
              "      fill: #FFFFFF;\n",
              "    }\n",
              "  </style>\n",
              "\n",
              "      <script>\n",
              "        const buttonEl =\n",
              "          document.querySelector('#df-aa251727-f754-48d3-91da-6d6f94dd014c button.colab-df-convert');\n",
              "        buttonEl.style.display =\n",
              "          google.colab.kernel.accessAllowed ? 'block' : 'none';\n",
              "\n",
              "        async function convertToInteractive(key) {\n",
              "          const element = document.querySelector('#df-aa251727-f754-48d3-91da-6d6f94dd014c');\n",
              "          const dataTable =\n",
              "            await google.colab.kernel.invokeFunction('convertToInteractive',\n",
              "                                                     [key], {});\n",
              "          if (!dataTable) return;\n",
              "\n",
              "          const docLinkHtml = 'Like what you see? Visit the ' +\n",
              "            '<a target=\"_blank\" href=https://colab.research.google.com/notebooks/data_table.ipynb>data table notebook</a>'\n",
              "            + ' to learn more about interactive tables.';\n",
              "          element.innerHTML = '';\n",
              "          dataTable['output_type'] = 'display_data';\n",
              "          await google.colab.output.renderOutput(dataTable, element);\n",
              "          const docLink = document.createElement('div');\n",
              "          docLink.innerHTML = docLinkHtml;\n",
              "          element.appendChild(docLink);\n",
              "        }\n",
              "      </script>\n",
              "    </div>\n",
              "  </div>\n",
              "  "
            ]
          },
          "metadata": {},
          "execution_count": 3
        }
      ]
    },
    {
      "cell_type": "code",
      "source": [
        "dataset.info()"
      ],
      "metadata": {
        "colab": {
          "base_uri": "https://localhost:8080/"
        },
        "id": "HhedX0ZtuD8x",
        "outputId": "f6634bde-8bf4-4363-b335-36ff9fee9474"
      },
      "execution_count": 4,
      "outputs": [
        {
          "output_type": "stream",
          "name": "stdout",
          "text": [
            "<class 'pandas.core.frame.DataFrame'>\n",
            "RangeIndex: 517 entries, 0 to 516\n",
            "Data columns (total 31 columns):\n",
            " #   Column         Non-Null Count  Dtype  \n",
            "---  ------         --------------  -----  \n",
            " 0   month          517 non-null    object \n",
            " 1   day            517 non-null    object \n",
            " 2   FFMC           517 non-null    float64\n",
            " 3   DMC            517 non-null    float64\n",
            " 4   DC             517 non-null    float64\n",
            " 5   ISI            517 non-null    float64\n",
            " 6   temp           517 non-null    float64\n",
            " 7   RH             517 non-null    int64  \n",
            " 8   wind           517 non-null    float64\n",
            " 9   rain           517 non-null    float64\n",
            " 10  area           517 non-null    float64\n",
            " 11  dayfri         517 non-null    int64  \n",
            " 12  daymon         517 non-null    int64  \n",
            " 13  daysat         517 non-null    int64  \n",
            " 14  daysun         517 non-null    int64  \n",
            " 15  daythu         517 non-null    int64  \n",
            " 16  daytue         517 non-null    int64  \n",
            " 17  daywed         517 non-null    int64  \n",
            " 18  monthapr       517 non-null    int64  \n",
            " 19  monthaug       517 non-null    int64  \n",
            " 20  monthdec       517 non-null    int64  \n",
            " 21  monthfeb       517 non-null    int64  \n",
            " 22  monthjan       517 non-null    int64  \n",
            " 23  monthjul       517 non-null    int64  \n",
            " 24  monthjun       517 non-null    int64  \n",
            " 25  monthmar       517 non-null    int64  \n",
            " 26  monthmay       517 non-null    int64  \n",
            " 27  monthnov       517 non-null    int64  \n",
            " 28  monthoct       517 non-null    int64  \n",
            " 29  monthsep       517 non-null    int64  \n",
            " 30  size_category  517 non-null    object \n",
            "dtypes: float64(8), int64(20), object(3)\n",
            "memory usage: 125.3+ KB\n"
          ]
        }
      ]
    },
    {
      "cell_type": "code",
      "source": [
        "dataset.describe()"
      ],
      "metadata": {
        "colab": {
          "base_uri": "https://localhost:8080/",
          "height": 393
        },
        "id": "hfxpDp_muLwQ",
        "outputId": "75e407ca-3bc5-4c6c-ed77-41fc311649c7"
      },
      "execution_count": 5,
      "outputs": [
        {
          "output_type": "execute_result",
          "data": {
            "text/plain": [
              "             FFMC         DMC          DC         ISI        temp          RH  \\\n",
              "count  517.000000  517.000000  517.000000  517.000000  517.000000  517.000000   \n",
              "mean    90.644681  110.872340  547.940039    9.021663   18.889168   44.288201   \n",
              "std      5.520111   64.046482  248.066192    4.559477    5.806625   16.317469   \n",
              "min     18.700000    1.100000    7.900000    0.000000    2.200000   15.000000   \n",
              "25%     90.200000   68.600000  437.700000    6.500000   15.500000   33.000000   \n",
              "50%     91.600000  108.300000  664.200000    8.400000   19.300000   42.000000   \n",
              "75%     92.900000  142.400000  713.900000   10.800000   22.800000   53.000000   \n",
              "max     96.200000  291.300000  860.600000   56.100000   33.300000  100.000000   \n",
              "\n",
              "             wind        rain         area      dayfri  ...    monthdec  \\\n",
              "count  517.000000  517.000000   517.000000  517.000000  ...  517.000000   \n",
              "mean     4.017602    0.021663    12.847292    0.164410  ...    0.017408   \n",
              "std      1.791653    0.295959    63.655818    0.371006  ...    0.130913   \n",
              "min      0.400000    0.000000     0.000000    0.000000  ...    0.000000   \n",
              "25%      2.700000    0.000000     0.000000    0.000000  ...    0.000000   \n",
              "50%      4.000000    0.000000     0.520000    0.000000  ...    0.000000   \n",
              "75%      4.900000    0.000000     6.570000    0.000000  ...    0.000000   \n",
              "max      9.400000    6.400000  1090.840000    1.000000  ...    1.000000   \n",
              "\n",
              "         monthfeb    monthjan    monthjul    monthjun    monthmar    monthmay  \\\n",
              "count  517.000000  517.000000  517.000000  517.000000  517.000000  517.000000   \n",
              "mean     0.038685    0.003868    0.061896    0.032882    0.104449    0.003868   \n",
              "std      0.193029    0.062137    0.241199    0.178500    0.306138    0.062137   \n",
              "min      0.000000    0.000000    0.000000    0.000000    0.000000    0.000000   \n",
              "25%      0.000000    0.000000    0.000000    0.000000    0.000000    0.000000   \n",
              "50%      0.000000    0.000000    0.000000    0.000000    0.000000    0.000000   \n",
              "75%      0.000000    0.000000    0.000000    0.000000    0.000000    0.000000   \n",
              "max      1.000000    1.000000    1.000000    1.000000    1.000000    1.000000   \n",
              "\n",
              "         monthnov    monthoct    monthsep  \n",
              "count  517.000000  517.000000  517.000000  \n",
              "mean     0.001934    0.029014    0.332689  \n",
              "std      0.043980    0.168007    0.471632  \n",
              "min      0.000000    0.000000    0.000000  \n",
              "25%      0.000000    0.000000    0.000000  \n",
              "50%      0.000000    0.000000    0.000000  \n",
              "75%      0.000000    0.000000    1.000000  \n",
              "max      1.000000    1.000000    1.000000  \n",
              "\n",
              "[8 rows x 28 columns]"
            ],
            "text/html": [
              "\n",
              "  <div id=\"df-3a38eebd-c53a-446e-822a-debb55981dff\">\n",
              "    <div class=\"colab-df-container\">\n",
              "      <div>\n",
              "<style scoped>\n",
              "    .dataframe tbody tr th:only-of-type {\n",
              "        vertical-align: middle;\n",
              "    }\n",
              "\n",
              "    .dataframe tbody tr th {\n",
              "        vertical-align: top;\n",
              "    }\n",
              "\n",
              "    .dataframe thead th {\n",
              "        text-align: right;\n",
              "    }\n",
              "</style>\n",
              "<table border=\"1\" class=\"dataframe\">\n",
              "  <thead>\n",
              "    <tr style=\"text-align: right;\">\n",
              "      <th></th>\n",
              "      <th>FFMC</th>\n",
              "      <th>DMC</th>\n",
              "      <th>DC</th>\n",
              "      <th>ISI</th>\n",
              "      <th>temp</th>\n",
              "      <th>RH</th>\n",
              "      <th>wind</th>\n",
              "      <th>rain</th>\n",
              "      <th>area</th>\n",
              "      <th>dayfri</th>\n",
              "      <th>...</th>\n",
              "      <th>monthdec</th>\n",
              "      <th>monthfeb</th>\n",
              "      <th>monthjan</th>\n",
              "      <th>monthjul</th>\n",
              "      <th>monthjun</th>\n",
              "      <th>monthmar</th>\n",
              "      <th>monthmay</th>\n",
              "      <th>monthnov</th>\n",
              "      <th>monthoct</th>\n",
              "      <th>monthsep</th>\n",
              "    </tr>\n",
              "  </thead>\n",
              "  <tbody>\n",
              "    <tr>\n",
              "      <th>count</th>\n",
              "      <td>517.000000</td>\n",
              "      <td>517.000000</td>\n",
              "      <td>517.000000</td>\n",
              "      <td>517.000000</td>\n",
              "      <td>517.000000</td>\n",
              "      <td>517.000000</td>\n",
              "      <td>517.000000</td>\n",
              "      <td>517.000000</td>\n",
              "      <td>517.000000</td>\n",
              "      <td>517.000000</td>\n",
              "      <td>...</td>\n",
              "      <td>517.000000</td>\n",
              "      <td>517.000000</td>\n",
              "      <td>517.000000</td>\n",
              "      <td>517.000000</td>\n",
              "      <td>517.000000</td>\n",
              "      <td>517.000000</td>\n",
              "      <td>517.000000</td>\n",
              "      <td>517.000000</td>\n",
              "      <td>517.000000</td>\n",
              "      <td>517.000000</td>\n",
              "    </tr>\n",
              "    <tr>\n",
              "      <th>mean</th>\n",
              "      <td>90.644681</td>\n",
              "      <td>110.872340</td>\n",
              "      <td>547.940039</td>\n",
              "      <td>9.021663</td>\n",
              "      <td>18.889168</td>\n",
              "      <td>44.288201</td>\n",
              "      <td>4.017602</td>\n",
              "      <td>0.021663</td>\n",
              "      <td>12.847292</td>\n",
              "      <td>0.164410</td>\n",
              "      <td>...</td>\n",
              "      <td>0.017408</td>\n",
              "      <td>0.038685</td>\n",
              "      <td>0.003868</td>\n",
              "      <td>0.061896</td>\n",
              "      <td>0.032882</td>\n",
              "      <td>0.104449</td>\n",
              "      <td>0.003868</td>\n",
              "      <td>0.001934</td>\n",
              "      <td>0.029014</td>\n",
              "      <td>0.332689</td>\n",
              "    </tr>\n",
              "    <tr>\n",
              "      <th>std</th>\n",
              "      <td>5.520111</td>\n",
              "      <td>64.046482</td>\n",
              "      <td>248.066192</td>\n",
              "      <td>4.559477</td>\n",
              "      <td>5.806625</td>\n",
              "      <td>16.317469</td>\n",
              "      <td>1.791653</td>\n",
              "      <td>0.295959</td>\n",
              "      <td>63.655818</td>\n",
              "      <td>0.371006</td>\n",
              "      <td>...</td>\n",
              "      <td>0.130913</td>\n",
              "      <td>0.193029</td>\n",
              "      <td>0.062137</td>\n",
              "      <td>0.241199</td>\n",
              "      <td>0.178500</td>\n",
              "      <td>0.306138</td>\n",
              "      <td>0.062137</td>\n",
              "      <td>0.043980</td>\n",
              "      <td>0.168007</td>\n",
              "      <td>0.471632</td>\n",
              "    </tr>\n",
              "    <tr>\n",
              "      <th>min</th>\n",
              "      <td>18.700000</td>\n",
              "      <td>1.100000</td>\n",
              "      <td>7.900000</td>\n",
              "      <td>0.000000</td>\n",
              "      <td>2.200000</td>\n",
              "      <td>15.000000</td>\n",
              "      <td>0.400000</td>\n",
              "      <td>0.000000</td>\n",
              "      <td>0.000000</td>\n",
              "      <td>0.000000</td>\n",
              "      <td>...</td>\n",
              "      <td>0.000000</td>\n",
              "      <td>0.000000</td>\n",
              "      <td>0.000000</td>\n",
              "      <td>0.000000</td>\n",
              "      <td>0.000000</td>\n",
              "      <td>0.000000</td>\n",
              "      <td>0.000000</td>\n",
              "      <td>0.000000</td>\n",
              "      <td>0.000000</td>\n",
              "      <td>0.000000</td>\n",
              "    </tr>\n",
              "    <tr>\n",
              "      <th>25%</th>\n",
              "      <td>90.200000</td>\n",
              "      <td>68.600000</td>\n",
              "      <td>437.700000</td>\n",
              "      <td>6.500000</td>\n",
              "      <td>15.500000</td>\n",
              "      <td>33.000000</td>\n",
              "      <td>2.700000</td>\n",
              "      <td>0.000000</td>\n",
              "      <td>0.000000</td>\n",
              "      <td>0.000000</td>\n",
              "      <td>...</td>\n",
              "      <td>0.000000</td>\n",
              "      <td>0.000000</td>\n",
              "      <td>0.000000</td>\n",
              "      <td>0.000000</td>\n",
              "      <td>0.000000</td>\n",
              "      <td>0.000000</td>\n",
              "      <td>0.000000</td>\n",
              "      <td>0.000000</td>\n",
              "      <td>0.000000</td>\n",
              "      <td>0.000000</td>\n",
              "    </tr>\n",
              "    <tr>\n",
              "      <th>50%</th>\n",
              "      <td>91.600000</td>\n",
              "      <td>108.300000</td>\n",
              "      <td>664.200000</td>\n",
              "      <td>8.400000</td>\n",
              "      <td>19.300000</td>\n",
              "      <td>42.000000</td>\n",
              "      <td>4.000000</td>\n",
              "      <td>0.000000</td>\n",
              "      <td>0.520000</td>\n",
              "      <td>0.000000</td>\n",
              "      <td>...</td>\n",
              "      <td>0.000000</td>\n",
              "      <td>0.000000</td>\n",
              "      <td>0.000000</td>\n",
              "      <td>0.000000</td>\n",
              "      <td>0.000000</td>\n",
              "      <td>0.000000</td>\n",
              "      <td>0.000000</td>\n",
              "      <td>0.000000</td>\n",
              "      <td>0.000000</td>\n",
              "      <td>0.000000</td>\n",
              "    </tr>\n",
              "    <tr>\n",
              "      <th>75%</th>\n",
              "      <td>92.900000</td>\n",
              "      <td>142.400000</td>\n",
              "      <td>713.900000</td>\n",
              "      <td>10.800000</td>\n",
              "      <td>22.800000</td>\n",
              "      <td>53.000000</td>\n",
              "      <td>4.900000</td>\n",
              "      <td>0.000000</td>\n",
              "      <td>6.570000</td>\n",
              "      <td>0.000000</td>\n",
              "      <td>...</td>\n",
              "      <td>0.000000</td>\n",
              "      <td>0.000000</td>\n",
              "      <td>0.000000</td>\n",
              "      <td>0.000000</td>\n",
              "      <td>0.000000</td>\n",
              "      <td>0.000000</td>\n",
              "      <td>0.000000</td>\n",
              "      <td>0.000000</td>\n",
              "      <td>0.000000</td>\n",
              "      <td>1.000000</td>\n",
              "    </tr>\n",
              "    <tr>\n",
              "      <th>max</th>\n",
              "      <td>96.200000</td>\n",
              "      <td>291.300000</td>\n",
              "      <td>860.600000</td>\n",
              "      <td>56.100000</td>\n",
              "      <td>33.300000</td>\n",
              "      <td>100.000000</td>\n",
              "      <td>9.400000</td>\n",
              "      <td>6.400000</td>\n",
              "      <td>1090.840000</td>\n",
              "      <td>1.000000</td>\n",
              "      <td>...</td>\n",
              "      <td>1.000000</td>\n",
              "      <td>1.000000</td>\n",
              "      <td>1.000000</td>\n",
              "      <td>1.000000</td>\n",
              "      <td>1.000000</td>\n",
              "      <td>1.000000</td>\n",
              "      <td>1.000000</td>\n",
              "      <td>1.000000</td>\n",
              "      <td>1.000000</td>\n",
              "      <td>1.000000</td>\n",
              "    </tr>\n",
              "  </tbody>\n",
              "</table>\n",
              "<p>8 rows × 28 columns</p>\n",
              "</div>\n",
              "      <button class=\"colab-df-convert\" onclick=\"convertToInteractive('df-3a38eebd-c53a-446e-822a-debb55981dff')\"\n",
              "              title=\"Convert this dataframe to an interactive table.\"\n",
              "              style=\"display:none;\">\n",
              "        \n",
              "  <svg xmlns=\"http://www.w3.org/2000/svg\" height=\"24px\"viewBox=\"0 0 24 24\"\n",
              "       width=\"24px\">\n",
              "    <path d=\"M0 0h24v24H0V0z\" fill=\"none\"/>\n",
              "    <path d=\"M18.56 5.44l.94 2.06.94-2.06 2.06-.94-2.06-.94-.94-2.06-.94 2.06-2.06.94zm-11 1L8.5 8.5l.94-2.06 2.06-.94-2.06-.94L8.5 2.5l-.94 2.06-2.06.94zm10 10l.94 2.06.94-2.06 2.06-.94-2.06-.94-.94-2.06-.94 2.06-2.06.94z\"/><path d=\"M17.41 7.96l-1.37-1.37c-.4-.4-.92-.59-1.43-.59-.52 0-1.04.2-1.43.59L10.3 9.45l-7.72 7.72c-.78.78-.78 2.05 0 2.83L4 21.41c.39.39.9.59 1.41.59.51 0 1.02-.2 1.41-.59l7.78-7.78 2.81-2.81c.8-.78.8-2.07 0-2.86zM5.41 20L4 18.59l7.72-7.72 1.47 1.35L5.41 20z\"/>\n",
              "  </svg>\n",
              "      </button>\n",
              "      \n",
              "  <style>\n",
              "    .colab-df-container {\n",
              "      display:flex;\n",
              "      flex-wrap:wrap;\n",
              "      gap: 12px;\n",
              "    }\n",
              "\n",
              "    .colab-df-convert {\n",
              "      background-color: #E8F0FE;\n",
              "      border: none;\n",
              "      border-radius: 50%;\n",
              "      cursor: pointer;\n",
              "      display: none;\n",
              "      fill: #1967D2;\n",
              "      height: 32px;\n",
              "      padding: 0 0 0 0;\n",
              "      width: 32px;\n",
              "    }\n",
              "\n",
              "    .colab-df-convert:hover {\n",
              "      background-color: #E2EBFA;\n",
              "      box-shadow: 0px 1px 2px rgba(60, 64, 67, 0.3), 0px 1px 3px 1px rgba(60, 64, 67, 0.15);\n",
              "      fill: #174EA6;\n",
              "    }\n",
              "\n",
              "    [theme=dark] .colab-df-convert {\n",
              "      background-color: #3B4455;\n",
              "      fill: #D2E3FC;\n",
              "    }\n",
              "\n",
              "    [theme=dark] .colab-df-convert:hover {\n",
              "      background-color: #434B5C;\n",
              "      box-shadow: 0px 1px 3px 1px rgba(0, 0, 0, 0.15);\n",
              "      filter: drop-shadow(0px 1px 2px rgba(0, 0, 0, 0.3));\n",
              "      fill: #FFFFFF;\n",
              "    }\n",
              "  </style>\n",
              "\n",
              "      <script>\n",
              "        const buttonEl =\n",
              "          document.querySelector('#df-3a38eebd-c53a-446e-822a-debb55981dff button.colab-df-convert');\n",
              "        buttonEl.style.display =\n",
              "          google.colab.kernel.accessAllowed ? 'block' : 'none';\n",
              "\n",
              "        async function convertToInteractive(key) {\n",
              "          const element = document.querySelector('#df-3a38eebd-c53a-446e-822a-debb55981dff');\n",
              "          const dataTable =\n",
              "            await google.colab.kernel.invokeFunction('convertToInteractive',\n",
              "                                                     [key], {});\n",
              "          if (!dataTable) return;\n",
              "\n",
              "          const docLinkHtml = 'Like what you see? Visit the ' +\n",
              "            '<a target=\"_blank\" href=https://colab.research.google.com/notebooks/data_table.ipynb>data table notebook</a>'\n",
              "            + ' to learn more about interactive tables.';\n",
              "          element.innerHTML = '';\n",
              "          dataTable['output_type'] = 'display_data';\n",
              "          await google.colab.output.renderOutput(dataTable, element);\n",
              "          const docLink = document.createElement('div');\n",
              "          docLink.innerHTML = docLinkHtml;\n",
              "          element.appendChild(docLink);\n",
              "        }\n",
              "      </script>\n",
              "    </div>\n",
              "  </div>\n",
              "  "
            ]
          },
          "metadata": {},
          "execution_count": 5
        }
      ]
    },
    {
      "cell_type": "markdown",
      "source": [
        "# FEATURE SELECTION"
      ],
      "metadata": {
        "id": "RgWJs0VGMwQ7"
      }
    },
    {
      "cell_type": "code",
      "source": [
        "from numpy import set_printoptions\n",
        "from sklearn.feature_selection import SelectKBest\n",
        "from sklearn.feature_selection import chi2"
      ],
      "metadata": {
        "id": "tv3DTSoIvLRU"
      },
      "execution_count": 6,
      "outputs": []
    },
    {
      "cell_type": "code",
      "source": [
        "array = dataset.values\n",
        "X = array[:,2:30]\n",
        "Y = array[:,-1]\n",
        "# feature extraction\n",
        "test = SelectKBest(score_func=chi2, k=4)\n",
        "fit = test.fit(X, Y)\n",
        "# summarize scores\n",
        "set_printoptions(precision=3)\n",
        "print(fit.scores_)\n",
        "features = fit.transform(X)\n"
      ],
      "metadata": {
        "colab": {
          "base_uri": "https://localhost:8080/"
        },
        "id": "Kovka0b4vSXj",
        "outputId": "5654b5dd-20ee-4cd7-9b57-786365d9f371"
      },
      "execution_count": 7,
      "outputs": [
        {
          "output_type": "stream",
          "name": "stdout",
          "text": [
            "[8.443e-02 2.301e+01 2.187e+01 9.054e-02 3.339e-02 6.350e+00 1.441e+00\n",
            " 5.216e+00 1.577e+04 2.055e-01 5.513e-02 7.066e-01 1.139e-01 9.643e-01\n",
            " 6.201e-01 2.172e-01 9.958e-02 1.157e+00 1.760e+01 9.867e-02 7.354e-01\n",
            " 2.499e-02 7.382e-01 5.975e-01 5.436e-01 3.677e-01 3.667e-04 6.691e-01]\n"
          ]
        }
      ]
    },
    {
      "cell_type": "code",
      "source": [
        "features"
      ],
      "metadata": {
        "colab": {
          "base_uri": "https://localhost:8080/"
        },
        "id": "J6xi3sgJvcgN",
        "outputId": "88f296da-2045-4a8f-a185-dfec8d67746e"
      },
      "execution_count": 8,
      "outputs": [
        {
          "output_type": "execute_result",
          "data": {
            "text/plain": [
              "array([[26.2, 94.3, 0.0, 0],\n",
              "       [35.4, 669.1, 0.0, 0],\n",
              "       [43.7, 686.9, 0.0, 0],\n",
              "       ...,\n",
              "       [56.7, 665.6, 11.16, 0],\n",
              "       [146.0, 614.7, 0.0, 0],\n",
              "       [3.0, 106.7, 0.0, 0]], dtype=object)"
            ]
          },
          "metadata": {},
          "execution_count": 8
        }
      ]
    },
    {
      "cell_type": "markdown",
      "source": [
        "# INDEPENDENT AND DEPENDENT VARIABLE"
      ],
      "metadata": {
        "id": "yivLBNOAyiNG"
      }
    },
    {
      "cell_type": "code",
      "source": [
        "X = dataset.iloc[:, [3,4, 10, 12, 17, 18, 20, 21, 22, 23, 24, 26, 29]].values\n",
        "y = dataset.iloc[:, -1].values"
      ],
      "metadata": {
        "id": "KIRRVFwDv7lV"
      },
      "execution_count": 9,
      "outputs": []
    },
    {
      "cell_type": "code",
      "source": [
        "X"
      ],
      "metadata": {
        "colab": {
          "base_uri": "https://localhost:8080/"
        },
        "id": "YXcSqUtjytkU",
        "outputId": "5ac8e330-11e4-4967-e595-febd1d10c211"
      },
      "execution_count": 10,
      "outputs": [
        {
          "output_type": "execute_result",
          "data": {
            "text/plain": [
              "array([[ 26.2 ,  94.3 ,   0.  , ...,   0.  ,   0.  ,   0.  ],\n",
              "       [ 35.4 , 669.1 ,   0.  , ...,   0.  ,   0.  ,   0.  ],\n",
              "       [ 43.7 , 686.9 ,   0.  , ...,   0.  ,   0.  ,   0.  ],\n",
              "       ...,\n",
              "       [ 56.7 , 665.6 ,  11.16, ...,   0.  ,   0.  ,   0.  ],\n",
              "       [146.  , 614.7 ,   0.  , ...,   0.  ,   0.  ,   0.  ],\n",
              "       [  3.  , 106.7 ,   0.  , ...,   0.  ,   0.  ,   0.  ]])"
            ]
          },
          "metadata": {},
          "execution_count": 10
        }
      ]
    },
    {
      "cell_type": "code",
      "source": [
        "y"
      ],
      "metadata": {
        "colab": {
          "base_uri": "https://localhost:8080/"
        },
        "id": "-0O9GGNWyvN0",
        "outputId": "6c2a6e06-ed57-4afe-f7ba-d55ee66175ea"
      },
      "execution_count": 11,
      "outputs": [
        {
          "output_type": "execute_result",
          "data": {
            "text/plain": [
              "array(['small', 'small', 'small', 'small', 'small', 'small', 'small',\n",
              "       'small', 'small', 'small', 'small', 'small', 'small', 'small',\n",
              "       'small', 'small', 'small', 'small', 'small', 'small', 'small',\n",
              "       'small', 'small', 'small', 'small', 'small', 'small', 'small',\n",
              "       'small', 'small', 'small', 'small', 'small', 'small', 'small',\n",
              "       'small', 'small', 'small', 'small', 'small', 'small', 'small',\n",
              "       'small', 'small', 'small', 'small', 'small', 'small', 'small',\n",
              "       'small', 'small', 'small', 'small', 'small', 'small', 'small',\n",
              "       'small', 'small', 'small', 'small', 'small', 'small', 'small',\n",
              "       'small', 'small', 'small', 'small', 'small', 'small', 'small',\n",
              "       'small', 'small', 'small', 'small', 'small', 'small', 'small',\n",
              "       'small', 'small', 'small', 'small', 'small', 'small', 'small',\n",
              "       'small', 'small', 'small', 'small', 'small', 'small', 'small',\n",
              "       'small', 'small', 'small', 'small', 'small', 'small', 'small',\n",
              "       'small', 'small', 'small', 'small', 'small', 'small', 'small',\n",
              "       'small', 'small', 'small', 'small', 'small', 'small', 'small',\n",
              "       'small', 'small', 'small', 'small', 'small', 'small', 'small',\n",
              "       'small', 'small', 'small', 'small', 'small', 'small', 'small',\n",
              "       'small', 'small', 'small', 'small', 'small', 'small', 'small',\n",
              "       'small', 'small', 'small', 'small', 'small', 'small', 'small',\n",
              "       'small', 'small', 'small', 'small', 'small', 'small', 'small',\n",
              "       'small', 'small', 'small', 'small', 'small', 'small', 'small',\n",
              "       'small', 'small', 'small', 'small', 'small', 'small', 'small',\n",
              "       'small', 'small', 'small', 'small', 'small', 'small', 'small',\n",
              "       'small', 'small', 'small', 'small', 'small', 'small', 'small',\n",
              "       'small', 'small', 'small', 'small', 'small', 'small', 'small',\n",
              "       'large', 'large', 'large', 'large', 'large', 'large', 'large',\n",
              "       'large', 'large', 'large', 'large', 'large', 'large', 'large',\n",
              "       'large', 'large', 'large', 'large', 'large', 'large', 'large',\n",
              "       'large', 'large', 'large', 'large', 'large', 'large', 'large',\n",
              "       'large', 'large', 'large', 'large', 'large', 'large', 'large',\n",
              "       'large', 'large', 'large', 'large', 'large', 'large', 'large',\n",
              "       'large', 'large', 'large', 'large', 'large', 'large', 'large',\n",
              "       'large', 'large', 'large', 'large', 'large', 'large', 'large',\n",
              "       'large', 'small', 'small', 'small', 'large', 'small', 'small',\n",
              "       'small', 'small', 'small', 'small', 'small', 'small', 'small',\n",
              "       'small', 'small', 'large', 'small', 'large', 'small', 'small',\n",
              "       'small', 'large', 'small', 'small', 'small', 'large', 'small',\n",
              "       'small', 'small', 'small', 'small', 'small', 'large', 'small',\n",
              "       'large', 'large', 'small', 'large', 'large', 'large', 'large',\n",
              "       'large', 'large', 'small', 'small', 'large', 'small', 'small',\n",
              "       'small', 'small', 'small', 'small', 'large', 'small', 'large',\n",
              "       'large', 'small', 'small', 'small', 'small', 'small', 'small',\n",
              "       'small', 'small', 'small', 'small', 'small', 'small', 'small',\n",
              "       'small', 'small', 'small', 'large', 'small', 'small', 'small',\n",
              "       'small', 'small', 'small', 'small', 'small', 'large', 'large',\n",
              "       'small', 'small', 'small', 'small', 'small', 'small', 'small',\n",
              "       'small', 'large', 'large', 'large', 'small', 'small', 'small',\n",
              "       'small', 'large', 'large', 'small', 'small', 'small', 'small',\n",
              "       'small', 'large', 'small', 'large', 'small', 'small', 'small',\n",
              "       'small', 'large', 'small', 'small', 'small', 'large', 'small',\n",
              "       'small', 'small', 'large', 'small', 'small', 'small', 'small',\n",
              "       'small', 'large', 'small', 'small', 'large', 'small', 'large',\n",
              "       'small', 'small', 'small', 'large', 'large', 'small', 'large',\n",
              "       'small', 'small', 'large', 'large', 'small', 'large', 'large',\n",
              "       'large', 'large', 'small', 'large', 'small', 'large', 'large',\n",
              "       'large', 'small', 'small', 'large', 'small', 'small', 'small',\n",
              "       'small', 'large', 'small', 'small', 'small', 'large', 'small',\n",
              "       'small', 'small', 'large', 'small', 'small', 'small', 'small',\n",
              "       'small', 'small', 'large', 'large', 'small', 'small', 'small',\n",
              "       'large', 'small', 'large', 'small', 'small', 'small', 'small',\n",
              "       'small', 'small', 'small', 'small', 'large', 'small', 'large',\n",
              "       'small', 'small', 'small', 'small', 'large', 'small', 'small',\n",
              "       'small', 'small', 'small', 'large', 'small', 'small', 'small',\n",
              "       'small', 'small', 'large', 'large', 'small', 'small', 'small',\n",
              "       'small', 'small', 'large', 'small', 'small', 'small', 'small',\n",
              "       'small', 'small', 'small', 'large', 'small', 'small', 'large',\n",
              "       'large', 'small', 'large', 'small', 'large', 'large', 'small',\n",
              "       'small', 'large', 'small', 'large', 'small', 'small', 'small',\n",
              "       'small', 'large', 'small', 'small', 'large', 'large', 'small',\n",
              "       'small', 'small', 'small', 'large', 'large', 'small', 'small',\n",
              "       'large', 'large', 'large', 'small', 'small', 'small', 'small',\n",
              "       'large', 'small', 'small', 'small', 'small', 'small', 'small',\n",
              "       'small', 'large', 'large', 'large', 'small', 'small'], dtype=object)"
            ]
          },
          "metadata": {},
          "execution_count": 11
        }
      ]
    },
    {
      "cell_type": "markdown",
      "source": [
        "# ENCODING THE CATEGORICAL DATA"
      ],
      "metadata": {
        "id": "9AMvQSp90HWB"
      }
    },
    {
      "cell_type": "code",
      "source": [
        "from sklearn.preprocessing import LabelEncoder\n",
        "labelencoder_y = LabelEncoder()\n",
        "y = labelencoder_y.fit_transform(y)"
      ],
      "metadata": {
        "id": "4TGDCl16yvl5"
      },
      "execution_count": 12,
      "outputs": []
    },
    {
      "cell_type": "code",
      "source": [
        "y"
      ],
      "metadata": {
        "colab": {
          "base_uri": "https://localhost:8080/"
        },
        "id": "CiSKHtpTzppM",
        "outputId": "c082448f-165e-4df3-dd91-86ccf28f7e24"
      },
      "execution_count": 13,
      "outputs": [
        {
          "output_type": "execute_result",
          "data": {
            "text/plain": [
              "array([1, 1, 1, 1, 1, 1, 1, 1, 1, 1, 1, 1, 1, 1, 1, 1, 1, 1, 1, 1, 1, 1,\n",
              "       1, 1, 1, 1, 1, 1, 1, 1, 1, 1, 1, 1, 1, 1, 1, 1, 1, 1, 1, 1, 1, 1,\n",
              "       1, 1, 1, 1, 1, 1, 1, 1, 1, 1, 1, 1, 1, 1, 1, 1, 1, 1, 1, 1, 1, 1,\n",
              "       1, 1, 1, 1, 1, 1, 1, 1, 1, 1, 1, 1, 1, 1, 1, 1, 1, 1, 1, 1, 1, 1,\n",
              "       1, 1, 1, 1, 1, 1, 1, 1, 1, 1, 1, 1, 1, 1, 1, 1, 1, 1, 1, 1, 1, 1,\n",
              "       1, 1, 1, 1, 1, 1, 1, 1, 1, 1, 1, 1, 1, 1, 1, 1, 1, 1, 1, 1, 1, 1,\n",
              "       1, 1, 1, 1, 1, 1, 1, 1, 1, 1, 1, 1, 1, 1, 1, 1, 1, 1, 1, 1, 1, 1,\n",
              "       1, 1, 1, 1, 1, 1, 1, 1, 1, 1, 1, 1, 1, 1, 1, 1, 1, 1, 1, 1, 1, 1,\n",
              "       1, 1, 1, 1, 1, 1, 0, 0, 0, 0, 0, 0, 0, 0, 0, 0, 0, 0, 0, 0, 0, 0,\n",
              "       0, 0, 0, 0, 0, 0, 0, 0, 0, 0, 0, 0, 0, 0, 0, 0, 0, 0, 0, 0, 0, 0,\n",
              "       0, 0, 0, 0, 0, 0, 0, 0, 0, 0, 0, 0, 0, 0, 0, 0, 0, 0, 0, 1, 1, 1,\n",
              "       0, 1, 1, 1, 1, 1, 1, 1, 1, 1, 1, 1, 0, 1, 0, 1, 1, 1, 0, 1, 1, 1,\n",
              "       0, 1, 1, 1, 1, 1, 1, 0, 1, 0, 0, 1, 0, 0, 0, 0, 0, 0, 1, 1, 0, 1,\n",
              "       1, 1, 1, 1, 1, 0, 1, 0, 0, 1, 1, 1, 1, 1, 1, 1, 1, 1, 1, 1, 1, 1,\n",
              "       1, 1, 1, 0, 1, 1, 1, 1, 1, 1, 1, 1, 0, 0, 1, 1, 1, 1, 1, 1, 1, 1,\n",
              "       0, 0, 0, 1, 1, 1, 1, 0, 0, 1, 1, 1, 1, 1, 0, 1, 0, 1, 1, 1, 1, 0,\n",
              "       1, 1, 1, 0, 1, 1, 1, 0, 1, 1, 1, 1, 1, 0, 1, 1, 0, 1, 0, 1, 1, 1,\n",
              "       0, 0, 1, 0, 1, 1, 0, 0, 1, 0, 0, 0, 0, 1, 0, 1, 0, 0, 0, 1, 1, 0,\n",
              "       1, 1, 1, 1, 0, 1, 1, 1, 0, 1, 1, 1, 0, 1, 1, 1, 1, 1, 1, 0, 0, 1,\n",
              "       1, 1, 0, 1, 0, 1, 1, 1, 1, 1, 1, 1, 1, 0, 1, 0, 1, 1, 1, 1, 0, 1,\n",
              "       1, 1, 1, 1, 0, 1, 1, 1, 1, 1, 0, 0, 1, 1, 1, 1, 1, 0, 1, 1, 1, 1,\n",
              "       1, 1, 1, 0, 1, 1, 0, 0, 1, 0, 1, 0, 0, 1, 1, 0, 1, 0, 1, 1, 1, 1,\n",
              "       0, 1, 1, 0, 0, 1, 1, 1, 1, 0, 0, 1, 1, 0, 0, 0, 1, 1, 1, 1, 0, 1,\n",
              "       1, 1, 1, 1, 1, 1, 0, 0, 0, 1, 1])"
            ]
          },
          "metadata": {},
          "execution_count": 13
        }
      ]
    },
    {
      "cell_type": "markdown",
      "source": [
        "# SPLITTING THE DATASET"
      ],
      "metadata": {
        "id": "q39O7P000O0o"
      }
    },
    {
      "cell_type": "code",
      "source": [
        "from sklearn.model_selection import train_test_split\n",
        "X_train, X_test, y_train, y_test = train_test_split(X, y, test_size = 0.25, random_state = 0 )"
      ],
      "metadata": {
        "id": "vjQRTxN6zqjP"
      },
      "execution_count": 14,
      "outputs": []
    },
    {
      "cell_type": "code",
      "source": [
        "X_train"
      ],
      "metadata": {
        "colab": {
          "base_uri": "https://localhost:8080/"
        },
        "id": "JfcnsGyxRcbU",
        "outputId": "61aee9c7-4eed-4822-efa1-19bb02e55ef9"
      },
      "execution_count": 15,
      "outputs": [
        {
          "output_type": "execute_result",
          "data": {
            "text/plain": [
              "array([[3.000e+00, 1.067e+02, 0.000e+00, ..., 0.000e+00, 0.000e+00,\n",
              "        0.000e+00],\n",
              "       [1.080e+02, 5.298e+02, 6.100e-01, ..., 0.000e+00, 0.000e+00,\n",
              "        0.000e+00],\n",
              "       [8.510e+01, 6.923e+02, 0.000e+00, ..., 0.000e+00, 0.000e+00,\n",
              "        1.000e+00],\n",
              "       ...,\n",
              "       [8.800e+01, 6.986e+02, 0.000e+00, ..., 0.000e+00, 0.000e+00,\n",
              "        1.000e+00],\n",
              "       [1.220e+02, 7.897e+02, 8.120e+00, ..., 0.000e+00, 0.000e+00,\n",
              "        1.000e+00],\n",
              "       [1.083e+02, 6.471e+02, 8.710e+00, ..., 0.000e+00, 0.000e+00,\n",
              "        0.000e+00]])"
            ]
          },
          "metadata": {},
          "execution_count": 15
        }
      ]
    },
    {
      "cell_type": "code",
      "source": [
        "X_test"
      ],
      "metadata": {
        "colab": {
          "base_uri": "https://localhost:8080/"
        },
        "id": "vbh9PVHoRdtV",
        "outputId": "f4d335ab-e193-46e5-9d30-ba6bcd64b6be"
      },
      "execution_count": 16,
      "outputs": [
        {
          "output_type": "execute_result",
          "data": {
            "text/plain": [
              "array([[ 52.2 , 103.8 ,  27.35, ...,   0.  ,   0.  ,   0.  ],\n",
              "       [ 84.7 , 376.6 ,   0.  , ...,   0.  ,   0.  ,   0.  ],\n",
              "       [130.1 , 807.1 ,   2.18, ...,   0.  ,   0.  ,   1.  ],\n",
              "       ...,\n",
              "       [266.2 , 803.3 ,   0.  , ...,   0.  ,   0.  ,   0.  ],\n",
              "       [ 17.2 ,  43.5 ,   0.  , ...,   0.  ,   0.  ,   0.  ],\n",
              "       [ 94.1 , 232.1 ,   0.  , ...,   1.  ,   0.  ,   0.  ]])"
            ]
          },
          "metadata": {},
          "execution_count": 16
        }
      ]
    },
    {
      "cell_type": "markdown",
      "source": [
        "# FEATURE SCALING"
      ],
      "metadata": {
        "id": "bl7VzbnSDXon"
      }
    },
    {
      "cell_type": "code",
      "source": [
        "from sklearn.preprocessing import StandardScaler\n",
        "sc_X = StandardScaler()\n",
        "X_train = sc_X.fit_transform(X_train)\n",
        "X_test = sc_X.fit_transform(X_test)"
      ],
      "metadata": {
        "id": "xyJtMe30Cy8W"
      },
      "execution_count": 17,
      "outputs": []
    },
    {
      "cell_type": "code",
      "source": [
        "X_train "
      ],
      "metadata": {
        "colab": {
          "base_uri": "https://localhost:8080/"
        },
        "id": "TrzZpMj3Rop8",
        "outputId": "ece5c150-be96-4610-ab8c-534178587cc1"
      },
      "execution_count": 18,
      "outputs": [
        {
          "output_type": "execute_result",
          "data": {
            "text/plain": [
              "array([[-1.682, -1.744, -0.227, ..., -0.179, -0.072, -0.683],\n",
              "       [-0.048, -0.049, -0.213, ..., -0.179, -0.072, -0.683],\n",
              "       [-0.404,  0.602, -0.227, ..., -0.179, -0.072,  1.465],\n",
              "       ...,\n",
              "       [-0.359,  0.627, -0.227, ..., -0.179, -0.072,  1.465],\n",
              "       [ 0.17 ,  0.992, -0.049, ..., -0.179, -0.072,  1.465],\n",
              "       [-0.043,  0.421, -0.036, ..., -0.179, -0.072, -0.683]])"
            ]
          },
          "metadata": {},
          "execution_count": 18
        }
      ]
    },
    {
      "cell_type": "code",
      "source": [
        "X_test"
      ],
      "metadata": {
        "colab": {
          "base_uri": "https://localhost:8080/"
        },
        "id": "qNtDJeHmRqA0",
        "outputId": "42a4f57f-c4c4-4dd5-f5d3-5c72cccce718"
      },
      "execution_count": 19,
      "outputs": [
        {
          "output_type": "execute_result",
          "data": {
            "text/plain": [
              "array([[-0.918, -1.911,  0.072, ..., -0.2  ,  0.   , -0.778],\n",
              "       [-0.404, -0.782, -0.205, ..., -0.2  ,  0.   , -0.778],\n",
              "       [ 0.314,  1.   , -0.183, ..., -0.2  ,  0.   ,  1.286],\n",
              "       ...,\n",
              "       [ 2.466,  0.984, -0.205, ..., -0.2  ,  0.   , -0.778],\n",
              "       [-1.472, -2.161, -0.205, ..., -0.2  ,  0.   , -0.778],\n",
              "       [-0.256, -1.38 , -0.205, ...,  5.   ,  0.   , -0.778]])"
            ]
          },
          "metadata": {},
          "execution_count": 19
        }
      ]
    },
    {
      "cell_type": "markdown",
      "source": [
        "# ML_ALGORITHM"
      ],
      "metadata": {
        "id": "cq-p8PMb0ny2"
      }
    },
    {
      "cell_type": "code",
      "source": [
        "# FITTING THE MODEL\n",
        "from sklearn.svm import SVC\n",
        "classifier = SVC(kernel = 'rbf', random_state = 0)\n",
        "classifier.fit(X_train, y_train)"
      ],
      "metadata": {
        "colab": {
          "base_uri": "https://localhost:8080/",
          "height": 74
        },
        "id": "bJF2Ssm00Sww",
        "outputId": "7dac2f28-97fa-49d7-cd9b-5b285e8be9cd"
      },
      "execution_count": 20,
      "outputs": [
        {
          "output_type": "execute_result",
          "data": {
            "text/plain": [
              "SVC(random_state=0)"
            ],
            "text/html": [
              "<style>#sk-container-id-1 {color: black;background-color: white;}#sk-container-id-1 pre{padding: 0;}#sk-container-id-1 div.sk-toggleable {background-color: white;}#sk-container-id-1 label.sk-toggleable__label {cursor: pointer;display: block;width: 100%;margin-bottom: 0;padding: 0.3em;box-sizing: border-box;text-align: center;}#sk-container-id-1 label.sk-toggleable__label-arrow:before {content: \"▸\";float: left;margin-right: 0.25em;color: #696969;}#sk-container-id-1 label.sk-toggleable__label-arrow:hover:before {color: black;}#sk-container-id-1 div.sk-estimator:hover label.sk-toggleable__label-arrow:before {color: black;}#sk-container-id-1 div.sk-toggleable__content {max-height: 0;max-width: 0;overflow: hidden;text-align: left;background-color: #f0f8ff;}#sk-container-id-1 div.sk-toggleable__content pre {margin: 0.2em;color: black;border-radius: 0.25em;background-color: #f0f8ff;}#sk-container-id-1 input.sk-toggleable__control:checked~div.sk-toggleable__content {max-height: 200px;max-width: 100%;overflow: auto;}#sk-container-id-1 input.sk-toggleable__control:checked~label.sk-toggleable__label-arrow:before {content: \"▾\";}#sk-container-id-1 div.sk-estimator input.sk-toggleable__control:checked~label.sk-toggleable__label {background-color: #d4ebff;}#sk-container-id-1 div.sk-label input.sk-toggleable__control:checked~label.sk-toggleable__label {background-color: #d4ebff;}#sk-container-id-1 input.sk-hidden--visually {border: 0;clip: rect(1px 1px 1px 1px);clip: rect(1px, 1px, 1px, 1px);height: 1px;margin: -1px;overflow: hidden;padding: 0;position: absolute;width: 1px;}#sk-container-id-1 div.sk-estimator {font-family: monospace;background-color: #f0f8ff;border: 1px dotted black;border-radius: 0.25em;box-sizing: border-box;margin-bottom: 0.5em;}#sk-container-id-1 div.sk-estimator:hover {background-color: #d4ebff;}#sk-container-id-1 div.sk-parallel-item::after {content: \"\";width: 100%;border-bottom: 1px solid gray;flex-grow: 1;}#sk-container-id-1 div.sk-label:hover label.sk-toggleable__label {background-color: #d4ebff;}#sk-container-id-1 div.sk-serial::before {content: \"\";position: absolute;border-left: 1px solid gray;box-sizing: border-box;top: 0;bottom: 0;left: 50%;z-index: 0;}#sk-container-id-1 div.sk-serial {display: flex;flex-direction: column;align-items: center;background-color: white;padding-right: 0.2em;padding-left: 0.2em;position: relative;}#sk-container-id-1 div.sk-item {position: relative;z-index: 1;}#sk-container-id-1 div.sk-parallel {display: flex;align-items: stretch;justify-content: center;background-color: white;position: relative;}#sk-container-id-1 div.sk-item::before, #sk-container-id-1 div.sk-parallel-item::before {content: \"\";position: absolute;border-left: 1px solid gray;box-sizing: border-box;top: 0;bottom: 0;left: 50%;z-index: -1;}#sk-container-id-1 div.sk-parallel-item {display: flex;flex-direction: column;z-index: 1;position: relative;background-color: white;}#sk-container-id-1 div.sk-parallel-item:first-child::after {align-self: flex-end;width: 50%;}#sk-container-id-1 div.sk-parallel-item:last-child::after {align-self: flex-start;width: 50%;}#sk-container-id-1 div.sk-parallel-item:only-child::after {width: 0;}#sk-container-id-1 div.sk-dashed-wrapped {border: 1px dashed gray;margin: 0 0.4em 0.5em 0.4em;box-sizing: border-box;padding-bottom: 0.4em;background-color: white;}#sk-container-id-1 div.sk-label label {font-family: monospace;font-weight: bold;display: inline-block;line-height: 1.2em;}#sk-container-id-1 div.sk-label-container {text-align: center;}#sk-container-id-1 div.sk-container {/* jupyter's `normalize.less` sets `[hidden] { display: none; }` but bootstrap.min.css set `[hidden] { display: none !important; }` so we also need the `!important` here to be able to override the default hidden behavior on the sphinx rendered scikit-learn.org. See: https://github.com/scikit-learn/scikit-learn/issues/21755 */display: inline-block !important;position: relative;}#sk-container-id-1 div.sk-text-repr-fallback {display: none;}</style><div id=\"sk-container-id-1\" class=\"sk-top-container\"><div class=\"sk-text-repr-fallback\"><pre>SVC(random_state=0)</pre><b>In a Jupyter environment, please rerun this cell to show the HTML representation or trust the notebook. <br />On GitHub, the HTML representation is unable to render, please try loading this page with nbviewer.org.</b></div><div class=\"sk-container\" hidden><div class=\"sk-item\"><div class=\"sk-estimator sk-toggleable\"><input class=\"sk-toggleable__control sk-hidden--visually\" id=\"sk-estimator-id-1\" type=\"checkbox\" checked><label for=\"sk-estimator-id-1\" class=\"sk-toggleable__label sk-toggleable__label-arrow\">SVC</label><div class=\"sk-toggleable__content\"><pre>SVC(random_state=0)</pre></div></div></div></div></div>"
            ]
          },
          "metadata": {},
          "execution_count": 20
        }
      ]
    },
    {
      "cell_type": "code",
      "source": [
        "#Predicting the test \n",
        "y_pred = classifier.predict(X_test)"
      ],
      "metadata": {
        "id": "Oer9WfYx0sjQ"
      },
      "execution_count": 21,
      "outputs": []
    },
    {
      "cell_type": "code",
      "source": [
        "y_pred"
      ],
      "metadata": {
        "colab": {
          "base_uri": "https://localhost:8080/"
        },
        "id": "pfvy4zsN2SJe",
        "outputId": "5a6474e5-3745-4ae5-c443-c4521ee3ace1"
      },
      "execution_count": 22,
      "outputs": [
        {
          "output_type": "execute_result",
          "data": {
            "text/plain": [
              "array([1, 1, 1, 0, 1, 1, 1, 1, 1, 1, 1, 1, 1, 1, 1, 1, 1, 0, 1, 1, 1, 1,\n",
              "       1, 1, 0, 1, 1, 1, 1, 1, 1, 1, 1, 1, 1, 0, 1, 1, 1, 1, 0, 1, 1, 1,\n",
              "       1, 1, 1, 1, 1, 1, 1, 1, 1, 1, 1, 1, 1, 1, 1, 1, 1, 1, 1, 0, 1, 0,\n",
              "       1, 1, 1, 0, 1, 1, 1, 1, 1, 1, 1, 1, 1, 1, 1, 1, 1, 1, 1, 1, 1, 1,\n",
              "       1, 1, 1, 0, 1, 1, 1, 1, 1, 1, 1, 1, 1, 1, 1, 1, 1, 1, 0, 1, 0, 1,\n",
              "       1, 1, 1, 1, 1, 1, 1, 1, 1, 1, 1, 1, 1, 1, 1, 1, 1, 1, 1, 1])"
            ]
          },
          "metadata": {},
          "execution_count": 22
        }
      ]
    },
    {
      "cell_type": "markdown",
      "source": [
        "# K-FOLD CV"
      ],
      "metadata": {
        "id": "nQrCujSW8cga"
      }
    },
    {
      "cell_type": "code",
      "source": [
        "from sklearn.model_selection import KFold\n",
        "num_folds = 10\n",
        "kfold = KFold(n_splits=num_folds)"
      ],
      "metadata": {
        "id": "iO3C9Zyc8bPd"
      },
      "execution_count": 23,
      "outputs": []
    },
    {
      "cell_type": "code",
      "source": [
        "from sklearn.model_selection import cross_val_score\n",
        "accuraries = cross_val_score(estimator = classifier, X = X_test, y = y_test, cv = kfold)\n",
        "print(\"Accuracy: {:.2f} % \" .format(accuraries.mean()*100 ))\n",
        "print(\"Standard Deviation: {:.2f} % \" .format(accuraries.std()*100))"
      ],
      "metadata": {
        "colab": {
          "base_uri": "https://localhost:8080/"
        },
        "id": "52UhFsn98jrf",
        "outputId": "9321e301-9e3a-44f5-8c2a-6e6f26eca785"
      },
      "execution_count": 24,
      "outputs": [
        {
          "output_type": "stream",
          "name": "stdout",
          "text": [
            "Accuracy: 73.08 % \n",
            "Standard Deviation: 15.86 % \n"
          ]
        }
      ]
    },
    {
      "cell_type": "markdown",
      "source": [
        "# MAKING THE CONFUSION MATRIX"
      ],
      "metadata": {
        "id": "nWKqD3Pc2Xdl"
      }
    },
    {
      "cell_type": "code",
      "source": [
        "from sklearn.metrics import  confusion_matrix, accuracy_score\n",
        "cm = confusion_matrix(y_test, y_pred)\n",
        "acc = accuracy_score(y_test, y_pred)\n",
        "print(cm)\n",
        "print(acc)"
      ],
      "metadata": {
        "colab": {
          "base_uri": "https://localhost:8080/"
        },
        "id": "mo-ZIn-i2Tbc",
        "outputId": "d9ea756d-e19a-4dec-f80f-c9c1748dd36c"
      },
      "execution_count": 25,
      "outputs": [
        {
          "output_type": "stream",
          "name": "stdout",
          "text": [
            "[[11 26]\n",
            " [ 0 93]]\n",
            "0.8\n"
          ]
        }
      ]
    },
    {
      "cell_type": "markdown",
      "source": [
        "# XG BOOST"
      ],
      "metadata": {
        "id": "xKZsA2-78_iR"
      }
    },
    {
      "cell_type": "code",
      "source": [
        "from xgboost import XGBClassifier"
      ],
      "metadata": {
        "id": "YPETwjsP6Xel"
      },
      "execution_count": 26,
      "outputs": []
    },
    {
      "cell_type": "code",
      "source": [
        "model = XGBClassifier(n_estimators=90,max_depth=3)\n",
        "model.fit(X_train, y_train)"
      ],
      "metadata": {
        "colab": {
          "base_uri": "https://localhost:8080/",
          "height": 248
        },
        "id": "L23Au7NV6VHf",
        "outputId": "49d48ffb-992c-4e4d-80e1-9eb52fee0b88"
      },
      "execution_count": 27,
      "outputs": [
        {
          "output_type": "execute_result",
          "data": {
            "text/plain": [
              "XGBClassifier(base_score=None, booster=None, callbacks=None,\n",
              "              colsample_bylevel=None, colsample_bynode=None,\n",
              "              colsample_bytree=None, early_stopping_rounds=None,\n",
              "              enable_categorical=False, eval_metric=None, feature_types=None,\n",
              "              gamma=None, gpu_id=None, grow_policy=None, importance_type=None,\n",
              "              interaction_constraints=None, learning_rate=None, max_bin=None,\n",
              "              max_cat_threshold=None, max_cat_to_onehot=None,\n",
              "              max_delta_step=None, max_depth=3, max_leaves=None,\n",
              "              min_child_weight=None, missing=nan, monotone_constraints=None,\n",
              "              n_estimators=90, n_jobs=None, num_parallel_tree=None,\n",
              "              predictor=None, random_state=None, ...)"
            ],
            "text/html": [
              "<style>#sk-container-id-2 {color: black;background-color: white;}#sk-container-id-2 pre{padding: 0;}#sk-container-id-2 div.sk-toggleable {background-color: white;}#sk-container-id-2 label.sk-toggleable__label {cursor: pointer;display: block;width: 100%;margin-bottom: 0;padding: 0.3em;box-sizing: border-box;text-align: center;}#sk-container-id-2 label.sk-toggleable__label-arrow:before {content: \"▸\";float: left;margin-right: 0.25em;color: #696969;}#sk-container-id-2 label.sk-toggleable__label-arrow:hover:before {color: black;}#sk-container-id-2 div.sk-estimator:hover label.sk-toggleable__label-arrow:before {color: black;}#sk-container-id-2 div.sk-toggleable__content {max-height: 0;max-width: 0;overflow: hidden;text-align: left;background-color: #f0f8ff;}#sk-container-id-2 div.sk-toggleable__content pre {margin: 0.2em;color: black;border-radius: 0.25em;background-color: #f0f8ff;}#sk-container-id-2 input.sk-toggleable__control:checked~div.sk-toggleable__content {max-height: 200px;max-width: 100%;overflow: auto;}#sk-container-id-2 input.sk-toggleable__control:checked~label.sk-toggleable__label-arrow:before {content: \"▾\";}#sk-container-id-2 div.sk-estimator input.sk-toggleable__control:checked~label.sk-toggleable__label {background-color: #d4ebff;}#sk-container-id-2 div.sk-label input.sk-toggleable__control:checked~label.sk-toggleable__label {background-color: #d4ebff;}#sk-container-id-2 input.sk-hidden--visually {border: 0;clip: rect(1px 1px 1px 1px);clip: rect(1px, 1px, 1px, 1px);height: 1px;margin: -1px;overflow: hidden;padding: 0;position: absolute;width: 1px;}#sk-container-id-2 div.sk-estimator {font-family: monospace;background-color: #f0f8ff;border: 1px dotted black;border-radius: 0.25em;box-sizing: border-box;margin-bottom: 0.5em;}#sk-container-id-2 div.sk-estimator:hover {background-color: #d4ebff;}#sk-container-id-2 div.sk-parallel-item::after {content: \"\";width: 100%;border-bottom: 1px solid gray;flex-grow: 1;}#sk-container-id-2 div.sk-label:hover label.sk-toggleable__label {background-color: #d4ebff;}#sk-container-id-2 div.sk-serial::before {content: \"\";position: absolute;border-left: 1px solid gray;box-sizing: border-box;top: 0;bottom: 0;left: 50%;z-index: 0;}#sk-container-id-2 div.sk-serial {display: flex;flex-direction: column;align-items: center;background-color: white;padding-right: 0.2em;padding-left: 0.2em;position: relative;}#sk-container-id-2 div.sk-item {position: relative;z-index: 1;}#sk-container-id-2 div.sk-parallel {display: flex;align-items: stretch;justify-content: center;background-color: white;position: relative;}#sk-container-id-2 div.sk-item::before, #sk-container-id-2 div.sk-parallel-item::before {content: \"\";position: absolute;border-left: 1px solid gray;box-sizing: border-box;top: 0;bottom: 0;left: 50%;z-index: -1;}#sk-container-id-2 div.sk-parallel-item {display: flex;flex-direction: column;z-index: 1;position: relative;background-color: white;}#sk-container-id-2 div.sk-parallel-item:first-child::after {align-self: flex-end;width: 50%;}#sk-container-id-2 div.sk-parallel-item:last-child::after {align-self: flex-start;width: 50%;}#sk-container-id-2 div.sk-parallel-item:only-child::after {width: 0;}#sk-container-id-2 div.sk-dashed-wrapped {border: 1px dashed gray;margin: 0 0.4em 0.5em 0.4em;box-sizing: border-box;padding-bottom: 0.4em;background-color: white;}#sk-container-id-2 div.sk-label label {font-family: monospace;font-weight: bold;display: inline-block;line-height: 1.2em;}#sk-container-id-2 div.sk-label-container {text-align: center;}#sk-container-id-2 div.sk-container {/* jupyter's `normalize.less` sets `[hidden] { display: none; }` but bootstrap.min.css set `[hidden] { display: none !important; }` so we also need the `!important` here to be able to override the default hidden behavior on the sphinx rendered scikit-learn.org. See: https://github.com/scikit-learn/scikit-learn/issues/21755 */display: inline-block !important;position: relative;}#sk-container-id-2 div.sk-text-repr-fallback {display: none;}</style><div id=\"sk-container-id-2\" class=\"sk-top-container\"><div class=\"sk-text-repr-fallback\"><pre>XGBClassifier(base_score=None, booster=None, callbacks=None,\n",
              "              colsample_bylevel=None, colsample_bynode=None,\n",
              "              colsample_bytree=None, early_stopping_rounds=None,\n",
              "              enable_categorical=False, eval_metric=None, feature_types=None,\n",
              "              gamma=None, gpu_id=None, grow_policy=None, importance_type=None,\n",
              "              interaction_constraints=None, learning_rate=None, max_bin=None,\n",
              "              max_cat_threshold=None, max_cat_to_onehot=None,\n",
              "              max_delta_step=None, max_depth=3, max_leaves=None,\n",
              "              min_child_weight=None, missing=nan, monotone_constraints=None,\n",
              "              n_estimators=90, n_jobs=None, num_parallel_tree=None,\n",
              "              predictor=None, random_state=None, ...)</pre><b>In a Jupyter environment, please rerun this cell to show the HTML representation or trust the notebook. <br />On GitHub, the HTML representation is unable to render, please try loading this page with nbviewer.org.</b></div><div class=\"sk-container\" hidden><div class=\"sk-item\"><div class=\"sk-estimator sk-toggleable\"><input class=\"sk-toggleable__control sk-hidden--visually\" id=\"sk-estimator-id-2\" type=\"checkbox\" checked><label for=\"sk-estimator-id-2\" class=\"sk-toggleable__label sk-toggleable__label-arrow\">XGBClassifier</label><div class=\"sk-toggleable__content\"><pre>XGBClassifier(base_score=None, booster=None, callbacks=None,\n",
              "              colsample_bylevel=None, colsample_bynode=None,\n",
              "              colsample_bytree=None, early_stopping_rounds=None,\n",
              "              enable_categorical=False, eval_metric=None, feature_types=None,\n",
              "              gamma=None, gpu_id=None, grow_policy=None, importance_type=None,\n",
              "              interaction_constraints=None, learning_rate=None, max_bin=None,\n",
              "              max_cat_threshold=None, max_cat_to_onehot=None,\n",
              "              max_delta_step=None, max_depth=3, max_leaves=None,\n",
              "              min_child_weight=None, missing=nan, monotone_constraints=None,\n",
              "              n_estimators=90, n_jobs=None, num_parallel_tree=None,\n",
              "              predictor=None, random_state=None, ...)</pre></div></div></div></div></div>"
            ]
          },
          "metadata": {},
          "execution_count": 27
        }
      ]
    },
    {
      "cell_type": "code",
      "source": [
        "y_pred = model.predict(X_test)\n",
        "predictions = [round(value) for value in y_pred]"
      ],
      "metadata": {
        "id": "Vj2kfSv-6r2I"
      },
      "execution_count": 28,
      "outputs": []
    },
    {
      "cell_type": "code",
      "source": [
        "accuracy = accuracy_score(y_test, predictions)\n",
        "print(\"Accuracy: %.2f%%\" % (accuracy * 100.0))"
      ],
      "metadata": {
        "colab": {
          "base_uri": "https://localhost:8080/"
        },
        "id": "znz3IiAF6uX4",
        "outputId": "f2445e83-ebbb-45cb-a881-570909105c3d"
      },
      "execution_count": 29,
      "outputs": [
        {
          "output_type": "stream",
          "name": "stdout",
          "text": [
            "Accuracy: 92.31%\n"
          ]
        }
      ]
    },
    {
      "cell_type": "code",
      "source": [
        "# PREDICTING THE NEW DATA POINT\n",
        "new_data=pd.DataFrame({\"DMC\": 22.4, \"DC\": 94.3, \"area\": 0, \"daymon\": 1, \"daywed\": 0, \"monthapr\": 0, \"monthdec\": 0, \"monthfeb\": 0, \"monthjan\": 0, \"monthjul\": 0, \"monthjun\": 0, \"monthmay\": 0, \"monthsep\":0},index=[0])\n",
        "new_data"
      ],
      "metadata": {
        "colab": {
          "base_uri": "https://localhost:8080/",
          "height": 80
        },
        "id": "sZTCXIJpJu5g",
        "outputId": "fbcdf199-0725-4e85-f742-2aa0b57feae0"
      },
      "execution_count": 30,
      "outputs": [
        {
          "output_type": "execute_result",
          "data": {
            "text/plain": [
              "    DMC    DC  area  daymon  daywed  monthapr  monthdec  monthfeb  monthjan  \\\n",
              "0  22.4  94.3     0       1       0         0         0         0         0   \n",
              "\n",
              "   monthjul  monthjun  monthmay  monthsep  \n",
              "0         0         0         0         0  "
            ],
            "text/html": [
              "\n",
              "  <div id=\"df-434f0726-c7f5-48b0-9c62-f499624f3b7c\">\n",
              "    <div class=\"colab-df-container\">\n",
              "      <div>\n",
              "<style scoped>\n",
              "    .dataframe tbody tr th:only-of-type {\n",
              "        vertical-align: middle;\n",
              "    }\n",
              "\n",
              "    .dataframe tbody tr th {\n",
              "        vertical-align: top;\n",
              "    }\n",
              "\n",
              "    .dataframe thead th {\n",
              "        text-align: right;\n",
              "    }\n",
              "</style>\n",
              "<table border=\"1\" class=\"dataframe\">\n",
              "  <thead>\n",
              "    <tr style=\"text-align: right;\">\n",
              "      <th></th>\n",
              "      <th>DMC</th>\n",
              "      <th>DC</th>\n",
              "      <th>area</th>\n",
              "      <th>daymon</th>\n",
              "      <th>daywed</th>\n",
              "      <th>monthapr</th>\n",
              "      <th>monthdec</th>\n",
              "      <th>monthfeb</th>\n",
              "      <th>monthjan</th>\n",
              "      <th>monthjul</th>\n",
              "      <th>monthjun</th>\n",
              "      <th>monthmay</th>\n",
              "      <th>monthsep</th>\n",
              "    </tr>\n",
              "  </thead>\n",
              "  <tbody>\n",
              "    <tr>\n",
              "      <th>0</th>\n",
              "      <td>22.4</td>\n",
              "      <td>94.3</td>\n",
              "      <td>0</td>\n",
              "      <td>1</td>\n",
              "      <td>0</td>\n",
              "      <td>0</td>\n",
              "      <td>0</td>\n",
              "      <td>0</td>\n",
              "      <td>0</td>\n",
              "      <td>0</td>\n",
              "      <td>0</td>\n",
              "      <td>0</td>\n",
              "      <td>0</td>\n",
              "    </tr>\n",
              "  </tbody>\n",
              "</table>\n",
              "</div>\n",
              "      <button class=\"colab-df-convert\" onclick=\"convertToInteractive('df-434f0726-c7f5-48b0-9c62-f499624f3b7c')\"\n",
              "              title=\"Convert this dataframe to an interactive table.\"\n",
              "              style=\"display:none;\">\n",
              "        \n",
              "  <svg xmlns=\"http://www.w3.org/2000/svg\" height=\"24px\"viewBox=\"0 0 24 24\"\n",
              "       width=\"24px\">\n",
              "    <path d=\"M0 0h24v24H0V0z\" fill=\"none\"/>\n",
              "    <path d=\"M18.56 5.44l.94 2.06.94-2.06 2.06-.94-2.06-.94-.94-2.06-.94 2.06-2.06.94zm-11 1L8.5 8.5l.94-2.06 2.06-.94-2.06-.94L8.5 2.5l-.94 2.06-2.06.94zm10 10l.94 2.06.94-2.06 2.06-.94-2.06-.94-.94-2.06-.94 2.06-2.06.94z\"/><path d=\"M17.41 7.96l-1.37-1.37c-.4-.4-.92-.59-1.43-.59-.52 0-1.04.2-1.43.59L10.3 9.45l-7.72 7.72c-.78.78-.78 2.05 0 2.83L4 21.41c.39.39.9.59 1.41.59.51 0 1.02-.2 1.41-.59l7.78-7.78 2.81-2.81c.8-.78.8-2.07 0-2.86zM5.41 20L4 18.59l7.72-7.72 1.47 1.35L5.41 20z\"/>\n",
              "  </svg>\n",
              "      </button>\n",
              "      \n",
              "  <style>\n",
              "    .colab-df-container {\n",
              "      display:flex;\n",
              "      flex-wrap:wrap;\n",
              "      gap: 12px;\n",
              "    }\n",
              "\n",
              "    .colab-df-convert {\n",
              "      background-color: #E8F0FE;\n",
              "      border: none;\n",
              "      border-radius: 50%;\n",
              "      cursor: pointer;\n",
              "      display: none;\n",
              "      fill: #1967D2;\n",
              "      height: 32px;\n",
              "      padding: 0 0 0 0;\n",
              "      width: 32px;\n",
              "    }\n",
              "\n",
              "    .colab-df-convert:hover {\n",
              "      background-color: #E2EBFA;\n",
              "      box-shadow: 0px 1px 2px rgba(60, 64, 67, 0.3), 0px 1px 3px 1px rgba(60, 64, 67, 0.15);\n",
              "      fill: #174EA6;\n",
              "    }\n",
              "\n",
              "    [theme=dark] .colab-df-convert {\n",
              "      background-color: #3B4455;\n",
              "      fill: #D2E3FC;\n",
              "    }\n",
              "\n",
              "    [theme=dark] .colab-df-convert:hover {\n",
              "      background-color: #434B5C;\n",
              "      box-shadow: 0px 1px 3px 1px rgba(0, 0, 0, 0.15);\n",
              "      filter: drop-shadow(0px 1px 2px rgba(0, 0, 0, 0.3));\n",
              "      fill: #FFFFFF;\n",
              "    }\n",
              "  </style>\n",
              "\n",
              "      <script>\n",
              "        const buttonEl =\n",
              "          document.querySelector('#df-434f0726-c7f5-48b0-9c62-f499624f3b7c button.colab-df-convert');\n",
              "        buttonEl.style.display =\n",
              "          google.colab.kernel.accessAllowed ? 'block' : 'none';\n",
              "\n",
              "        async function convertToInteractive(key) {\n",
              "          const element = document.querySelector('#df-434f0726-c7f5-48b0-9c62-f499624f3b7c');\n",
              "          const dataTable =\n",
              "            await google.colab.kernel.invokeFunction('convertToInteractive',\n",
              "                                                     [key], {});\n",
              "          if (!dataTable) return;\n",
              "\n",
              "          const docLinkHtml = 'Like what you see? Visit the ' +\n",
              "            '<a target=\"_blank\" href=https://colab.research.google.com/notebooks/data_table.ipynb>data table notebook</a>'\n",
              "            + ' to learn more about interactive tables.';\n",
              "          element.innerHTML = '';\n",
              "          dataTable['output_type'] = 'display_data';\n",
              "          await google.colab.output.renderOutput(dataTable, element);\n",
              "          const docLink = document.createElement('div');\n",
              "          docLink.innerHTML = docLinkHtml;\n",
              "          element.appendChild(docLink);\n",
              "        }\n",
              "      </script>\n",
              "    </div>\n",
              "  </div>\n",
              "  "
            ]
          },
          "metadata": {},
          "execution_count": 30
        }
      ]
    },
    {
      "cell_type": "code",
      "source": [
        "classifier.predict(new_data)"
      ],
      "metadata": {
        "colab": {
          "base_uri": "https://localhost:8080/"
        },
        "id": "T-sdekYIJxpa",
        "outputId": "e112cca2-85f1-4730-e51f-713e586ccb0d"
      },
      "execution_count": 31,
      "outputs": [
        {
          "output_type": "stream",
          "name": "stderr",
          "text": [
            "/usr/local/lib/python3.9/dist-packages/sklearn/base.py:413: UserWarning: X has feature names, but SVC was fitted without feature names\n",
            "  warnings.warn(\n"
          ]
        },
        {
          "output_type": "execute_result",
          "data": {
            "text/plain": [
              "array([1])"
            ]
          },
          "metadata": {},
          "execution_count": 31
        }
      ]
    },
    {
      "cell_type": "markdown",
      "source": [
        "#  MLR"
      ],
      "metadata": {
        "id": "HjAvTkRx6uxy"
      }
    },
    {
      "cell_type": "code",
      "source": [
        "import statsmodels.api as sm \n",
        "X = np.append(arr = np.ones((517,1)).astype(int), values = X, axis = 1)"
      ],
      "metadata": {
        "id": "86unLXSe2Z4E"
      },
      "execution_count": 32,
      "outputs": []
    },
    {
      "cell_type": "code",
      "source": [
        "# BACKWARD ELIMINATION\n",
        "X_opt = X[:, [0,1,2,3,4,5,6,7,8,9,10,11,12]]\n",
        "X_opt = np.array(X_opt, dtype = float)\n",
        "regressor_OLS = sm.OLS(endog = y, exog = X_opt).fit()\n",
        "regressor_OLS.summary()"
      ],
      "metadata": {
        "colab": {
          "base_uri": "https://localhost:8080/",
          "height": 705
        },
        "id": "1K8WZ3eV2uWt",
        "outputId": "9606c81b-6b17-4307-97d6-e2016bbf8ca3"
      },
      "execution_count": 33,
      "outputs": [
        {
          "output_type": "execute_result",
          "data": {
            "text/plain": [
              "<class 'statsmodels.iolib.summary.Summary'>\n",
              "\"\"\"\n",
              "                            OLS Regression Results                            \n",
              "==============================================================================\n",
              "Dep. Variable:                      y   R-squared:                       0.139\n",
              "Model:                            OLS   Adj. R-squared:                  0.118\n",
              "Method:                 Least Squares   F-statistic:                     6.778\n",
              "Date:                Mon, 13 Mar 2023   Prob (F-statistic):           2.24e-11\n",
              "Time:                        18:50:55   Log-Likelihood:                -274.41\n",
              "No. Observations:                 517   AIC:                             574.8\n",
              "Df Residuals:                     504   BIC:                             630.0\n",
              "Df Model:                          12                                         \n",
              "Covariance Type:            nonrobust                                         \n",
              "==============================================================================\n",
              "                 coef    std err          t      P>|t|      [0.025      0.975]\n",
              "------------------------------------------------------------------------------\n",
              "const          0.8160      0.061     13.337      0.000       0.696       0.936\n",
              "x1            -0.0004      0.000     -0.993      0.321      -0.001       0.000\n",
              "x2         -7.109e-06      0.000     -0.062      0.950      -0.000       0.000\n",
              "x3            -0.0021      0.000     -7.377      0.000      -0.003      -0.002\n",
              "x4             0.0295      0.054      0.551      0.582      -0.076       0.135\n",
              "x5             0.0294      0.061      0.485      0.628      -0.090       0.149\n",
              "x6            -0.0191      0.150     -0.127      0.899      -0.313       0.275\n",
              "x7            -0.6799      0.144     -4.707      0.000      -0.964      -0.396\n",
              "x8            -0.1043      0.108     -0.963      0.336      -0.317       0.108\n",
              "x9             0.1856      0.300      0.620      0.536      -0.403       0.774\n",
              "x10           -0.0257      0.078     -0.329      0.742      -0.179       0.128\n",
              "x11            0.0491      0.108      0.457      0.648      -0.162       0.260\n",
              "x12           -0.2636      0.299     -0.880      0.379      -0.852       0.325\n",
              "==============================================================================\n",
              "Omnibus:                       62.012   Durbin-Watson:                   1.154\n",
              "Prob(Omnibus):                  0.000   Jarque-Bera (JB):               82.590\n",
              "Skew:                          -0.972   Prob(JB):                     1.16e-18\n",
              "Kurtosis:                       2.771   Cond. No.                     1.02e+04\n",
              "==============================================================================\n",
              "\n",
              "Notes:\n",
              "[1] Standard Errors assume that the covariance matrix of the errors is correctly specified.\n",
              "[2] The condition number is large, 1.02e+04. This might indicate that there are\n",
              "strong multicollinearity or other numerical problems.\n",
              "\"\"\""
            ],
            "text/html": [
              "<table class=\"simpletable\">\n",
              "<caption>OLS Regression Results</caption>\n",
              "<tr>\n",
              "  <th>Dep. Variable:</th>            <td>y</td>        <th>  R-squared:         </th> <td>   0.139</td>\n",
              "</tr>\n",
              "<tr>\n",
              "  <th>Model:</th>                   <td>OLS</td>       <th>  Adj. R-squared:    </th> <td>   0.118</td>\n",
              "</tr>\n",
              "<tr>\n",
              "  <th>Method:</th>             <td>Least Squares</td>  <th>  F-statistic:       </th> <td>   6.778</td>\n",
              "</tr>\n",
              "<tr>\n",
              "  <th>Date:</th>             <td>Mon, 13 Mar 2023</td> <th>  Prob (F-statistic):</th> <td>2.24e-11</td>\n",
              "</tr>\n",
              "<tr>\n",
              "  <th>Time:</th>                 <td>18:50:55</td>     <th>  Log-Likelihood:    </th> <td> -274.41</td>\n",
              "</tr>\n",
              "<tr>\n",
              "  <th>No. Observations:</th>      <td>   517</td>      <th>  AIC:               </th> <td>   574.8</td>\n",
              "</tr>\n",
              "<tr>\n",
              "  <th>Df Residuals:</th>          <td>   504</td>      <th>  BIC:               </th> <td>   630.0</td>\n",
              "</tr>\n",
              "<tr>\n",
              "  <th>Df Model:</th>              <td>    12</td>      <th>                     </th>     <td> </td>   \n",
              "</tr>\n",
              "<tr>\n",
              "  <th>Covariance Type:</th>      <td>nonrobust</td>    <th>                     </th>     <td> </td>   \n",
              "</tr>\n",
              "</table>\n",
              "<table class=\"simpletable\">\n",
              "<tr>\n",
              "    <td></td>       <th>coef</th>     <th>std err</th>      <th>t</th>      <th>P>|t|</th>  <th>[0.025</th>    <th>0.975]</th>  \n",
              "</tr>\n",
              "<tr>\n",
              "  <th>const</th> <td>    0.8160</td> <td>    0.061</td> <td>   13.337</td> <td> 0.000</td> <td>    0.696</td> <td>    0.936</td>\n",
              "</tr>\n",
              "<tr>\n",
              "  <th>x1</th>    <td>   -0.0004</td> <td>    0.000</td> <td>   -0.993</td> <td> 0.321</td> <td>   -0.001</td> <td>    0.000</td>\n",
              "</tr>\n",
              "<tr>\n",
              "  <th>x2</th>    <td>-7.109e-06</td> <td>    0.000</td> <td>   -0.062</td> <td> 0.950</td> <td>   -0.000</td> <td>    0.000</td>\n",
              "</tr>\n",
              "<tr>\n",
              "  <th>x3</th>    <td>   -0.0021</td> <td>    0.000</td> <td>   -7.377</td> <td> 0.000</td> <td>   -0.003</td> <td>   -0.002</td>\n",
              "</tr>\n",
              "<tr>\n",
              "  <th>x4</th>    <td>    0.0295</td> <td>    0.054</td> <td>    0.551</td> <td> 0.582</td> <td>   -0.076</td> <td>    0.135</td>\n",
              "</tr>\n",
              "<tr>\n",
              "  <th>x5</th>    <td>    0.0294</td> <td>    0.061</td> <td>    0.485</td> <td> 0.628</td> <td>   -0.090</td> <td>    0.149</td>\n",
              "</tr>\n",
              "<tr>\n",
              "  <th>x6</th>    <td>   -0.0191</td> <td>    0.150</td> <td>   -0.127</td> <td> 0.899</td> <td>   -0.313</td> <td>    0.275</td>\n",
              "</tr>\n",
              "<tr>\n",
              "  <th>x7</th>    <td>   -0.6799</td> <td>    0.144</td> <td>   -4.707</td> <td> 0.000</td> <td>   -0.964</td> <td>   -0.396</td>\n",
              "</tr>\n",
              "<tr>\n",
              "  <th>x8</th>    <td>   -0.1043</td> <td>    0.108</td> <td>   -0.963</td> <td> 0.336</td> <td>   -0.317</td> <td>    0.108</td>\n",
              "</tr>\n",
              "<tr>\n",
              "  <th>x9</th>    <td>    0.1856</td> <td>    0.300</td> <td>    0.620</td> <td> 0.536</td> <td>   -0.403</td> <td>    0.774</td>\n",
              "</tr>\n",
              "<tr>\n",
              "  <th>x10</th>   <td>   -0.0257</td> <td>    0.078</td> <td>   -0.329</td> <td> 0.742</td> <td>   -0.179</td> <td>    0.128</td>\n",
              "</tr>\n",
              "<tr>\n",
              "  <th>x11</th>   <td>    0.0491</td> <td>    0.108</td> <td>    0.457</td> <td> 0.648</td> <td>   -0.162</td> <td>    0.260</td>\n",
              "</tr>\n",
              "<tr>\n",
              "  <th>x12</th>   <td>   -0.2636</td> <td>    0.299</td> <td>   -0.880</td> <td> 0.379</td> <td>   -0.852</td> <td>    0.325</td>\n",
              "</tr>\n",
              "</table>\n",
              "<table class=\"simpletable\">\n",
              "<tr>\n",
              "  <th>Omnibus:</th>       <td>62.012</td> <th>  Durbin-Watson:     </th> <td>   1.154</td>\n",
              "</tr>\n",
              "<tr>\n",
              "  <th>Prob(Omnibus):</th> <td> 0.000</td> <th>  Jarque-Bera (JB):  </th> <td>  82.590</td>\n",
              "</tr>\n",
              "<tr>\n",
              "  <th>Skew:</th>          <td>-0.972</td> <th>  Prob(JB):          </th> <td>1.16e-18</td>\n",
              "</tr>\n",
              "<tr>\n",
              "  <th>Kurtosis:</th>      <td> 2.771</td> <th>  Cond. No.          </th> <td>1.02e+04</td>\n",
              "</tr>\n",
              "</table><br/><br/>Notes:<br/>[1] Standard Errors assume that the covariance matrix of the errors is correctly specified.<br/>[2] The condition number is large, 1.02e+04. This might indicate that there are<br/>strong multicollinearity or other numerical problems."
            ]
          },
          "metadata": {},
          "execution_count": 33
        }
      ]
    },
    {
      "cell_type": "code",
      "source": [
        "# BACKWARD ELIMINATION\n",
        "X_opt = X[:, [0,3, 7]]\n",
        "X_opt = np.array(X_opt, dtype = float)\n",
        "regressor_OLS = sm.OLS(endog = y, exog = X_opt).fit()\n",
        "regressor_OLS.summary()"
      ],
      "metadata": {
        "colab": {
          "base_uri": "https://localhost:8080/",
          "height": 462
        },
        "id": "VabukOsF3Y2G",
        "outputId": "80e2faaa-defc-4d55-fd3a-ed0f6c700d3c"
      },
      "execution_count": 34,
      "outputs": [
        {
          "output_type": "execute_result",
          "data": {
            "text/plain": [
              "<class 'statsmodels.iolib.summary.Summary'>\n",
              "\"\"\"\n",
              "                            OLS Regression Results                            \n",
              "==============================================================================\n",
              "Dep. Variable:                      y   R-squared:                       0.131\n",
              "Model:                            OLS   Adj. R-squared:                  0.128\n",
              "Method:                 Least Squares   F-statistic:                     38.90\n",
              "Date:                Mon, 13 Mar 2023   Prob (F-statistic):           1.86e-16\n",
              "Time:                        18:50:55   Log-Likelihood:                -276.65\n",
              "No. Observations:                 517   AIC:                             559.3\n",
              "Df Residuals:                     514   BIC:                             572.1\n",
              "Df Model:                           2                                         \n",
              "Covariance Type:            nonrobust                                         \n",
              "==============================================================================\n",
              "                 coef    std err          t      P>|t|      [0.025      0.975]\n",
              "------------------------------------------------------------------------------\n",
              "const          0.7700      0.019     41.064      0.000       0.733       0.807\n",
              "x1            -0.0022      0.000     -7.569      0.000      -0.003      -0.002\n",
              "x2            -0.6299      0.139     -4.521      0.000      -0.904      -0.356\n",
              "==============================================================================\n",
              "Omnibus:                       63.019   Durbin-Watson:                   1.169\n",
              "Prob(Omnibus):                  0.000   Jarque-Bera (JB):               84.486\n",
              "Skew:                          -0.984   Prob(JB):                     4.51e-19\n",
              "Kurtosis:                       2.782   Cond. No.                         496.\n",
              "==============================================================================\n",
              "\n",
              "Notes:\n",
              "[1] Standard Errors assume that the covariance matrix of the errors is correctly specified.\n",
              "\"\"\""
            ],
            "text/html": [
              "<table class=\"simpletable\">\n",
              "<caption>OLS Regression Results</caption>\n",
              "<tr>\n",
              "  <th>Dep. Variable:</th>            <td>y</td>        <th>  R-squared:         </th> <td>   0.131</td>\n",
              "</tr>\n",
              "<tr>\n",
              "  <th>Model:</th>                   <td>OLS</td>       <th>  Adj. R-squared:    </th> <td>   0.128</td>\n",
              "</tr>\n",
              "<tr>\n",
              "  <th>Method:</th>             <td>Least Squares</td>  <th>  F-statistic:       </th> <td>   38.90</td>\n",
              "</tr>\n",
              "<tr>\n",
              "  <th>Date:</th>             <td>Mon, 13 Mar 2023</td> <th>  Prob (F-statistic):</th> <td>1.86e-16</td>\n",
              "</tr>\n",
              "<tr>\n",
              "  <th>Time:</th>                 <td>18:50:55</td>     <th>  Log-Likelihood:    </th> <td> -276.65</td>\n",
              "</tr>\n",
              "<tr>\n",
              "  <th>No. Observations:</th>      <td>   517</td>      <th>  AIC:               </th> <td>   559.3</td>\n",
              "</tr>\n",
              "<tr>\n",
              "  <th>Df Residuals:</th>          <td>   514</td>      <th>  BIC:               </th> <td>   572.1</td>\n",
              "</tr>\n",
              "<tr>\n",
              "  <th>Df Model:</th>              <td>     2</td>      <th>                     </th>     <td> </td>   \n",
              "</tr>\n",
              "<tr>\n",
              "  <th>Covariance Type:</th>      <td>nonrobust</td>    <th>                     </th>     <td> </td>   \n",
              "</tr>\n",
              "</table>\n",
              "<table class=\"simpletable\">\n",
              "<tr>\n",
              "    <td></td>       <th>coef</th>     <th>std err</th>      <th>t</th>      <th>P>|t|</th>  <th>[0.025</th>    <th>0.975]</th>  \n",
              "</tr>\n",
              "<tr>\n",
              "  <th>const</th> <td>    0.7700</td> <td>    0.019</td> <td>   41.064</td> <td> 0.000</td> <td>    0.733</td> <td>    0.807</td>\n",
              "</tr>\n",
              "<tr>\n",
              "  <th>x1</th>    <td>   -0.0022</td> <td>    0.000</td> <td>   -7.569</td> <td> 0.000</td> <td>   -0.003</td> <td>   -0.002</td>\n",
              "</tr>\n",
              "<tr>\n",
              "  <th>x2</th>    <td>   -0.6299</td> <td>    0.139</td> <td>   -4.521</td> <td> 0.000</td> <td>   -0.904</td> <td>   -0.356</td>\n",
              "</tr>\n",
              "</table>\n",
              "<table class=\"simpletable\">\n",
              "<tr>\n",
              "  <th>Omnibus:</th>       <td>63.019</td> <th>  Durbin-Watson:     </th> <td>   1.169</td>\n",
              "</tr>\n",
              "<tr>\n",
              "  <th>Prob(Omnibus):</th> <td> 0.000</td> <th>  Jarque-Bera (JB):  </th> <td>  84.486</td>\n",
              "</tr>\n",
              "<tr>\n",
              "  <th>Skew:</th>          <td>-0.984</td> <th>  Prob(JB):          </th> <td>4.51e-19</td>\n",
              "</tr>\n",
              "<tr>\n",
              "  <th>Kurtosis:</th>      <td> 2.782</td> <th>  Cond. No.          </th> <td>    496.</td>\n",
              "</tr>\n",
              "</table><br/><br/>Notes:<br/>[1] Standard Errors assume that the covariance matrix of the errors is correctly specified."
            ]
          },
          "metadata": {},
          "execution_count": 34
        }
      ]
    },
    {
      "cell_type": "markdown",
      "source": [
        "# FOR DATA VISUALIZATIONS"
      ],
      "metadata": {
        "id": "H1kERUmuJgpd"
      }
    },
    {
      "cell_type": "code",
      "source": [
        "X = dataset.iloc[:, [3, 12]]\n",
        "y = dataset.iloc[:, -1]"
      ],
      "metadata": {
        "id": "djeiD92ZH4rw"
      },
      "execution_count": 35,
      "outputs": []
    },
    {
      "cell_type": "code",
      "source": [
        "X"
      ],
      "metadata": {
        "colab": {
          "base_uri": "https://localhost:8080/",
          "height": 423
        },
        "id": "JUkfHmagSckN",
        "outputId": "9a8b927e-f59b-4e7f-aa4c-cf21fbbcbbe0"
      },
      "execution_count": 36,
      "outputs": [
        {
          "output_type": "execute_result",
          "data": {
            "text/plain": [
              "       DMC  daymon\n",
              "0     26.2       0\n",
              "1     35.4       0\n",
              "2     43.7       0\n",
              "3     33.3       0\n",
              "4     51.3       0\n",
              "..     ...     ...\n",
              "512   56.7       0\n",
              "513   56.7       0\n",
              "514   56.7       0\n",
              "515  146.0       0\n",
              "516    3.0       0\n",
              "\n",
              "[517 rows x 2 columns]"
            ],
            "text/html": [
              "\n",
              "  <div id=\"df-dffcafb4-b986-42a0-ae46-fcb7ed0407c1\">\n",
              "    <div class=\"colab-df-container\">\n",
              "      <div>\n",
              "<style scoped>\n",
              "    .dataframe tbody tr th:only-of-type {\n",
              "        vertical-align: middle;\n",
              "    }\n",
              "\n",
              "    .dataframe tbody tr th {\n",
              "        vertical-align: top;\n",
              "    }\n",
              "\n",
              "    .dataframe thead th {\n",
              "        text-align: right;\n",
              "    }\n",
              "</style>\n",
              "<table border=\"1\" class=\"dataframe\">\n",
              "  <thead>\n",
              "    <tr style=\"text-align: right;\">\n",
              "      <th></th>\n",
              "      <th>DMC</th>\n",
              "      <th>daymon</th>\n",
              "    </tr>\n",
              "  </thead>\n",
              "  <tbody>\n",
              "    <tr>\n",
              "      <th>0</th>\n",
              "      <td>26.2</td>\n",
              "      <td>0</td>\n",
              "    </tr>\n",
              "    <tr>\n",
              "      <th>1</th>\n",
              "      <td>35.4</td>\n",
              "      <td>0</td>\n",
              "    </tr>\n",
              "    <tr>\n",
              "      <th>2</th>\n",
              "      <td>43.7</td>\n",
              "      <td>0</td>\n",
              "    </tr>\n",
              "    <tr>\n",
              "      <th>3</th>\n",
              "      <td>33.3</td>\n",
              "      <td>0</td>\n",
              "    </tr>\n",
              "    <tr>\n",
              "      <th>4</th>\n",
              "      <td>51.3</td>\n",
              "      <td>0</td>\n",
              "    </tr>\n",
              "    <tr>\n",
              "      <th>...</th>\n",
              "      <td>...</td>\n",
              "      <td>...</td>\n",
              "    </tr>\n",
              "    <tr>\n",
              "      <th>512</th>\n",
              "      <td>56.7</td>\n",
              "      <td>0</td>\n",
              "    </tr>\n",
              "    <tr>\n",
              "      <th>513</th>\n",
              "      <td>56.7</td>\n",
              "      <td>0</td>\n",
              "    </tr>\n",
              "    <tr>\n",
              "      <th>514</th>\n",
              "      <td>56.7</td>\n",
              "      <td>0</td>\n",
              "    </tr>\n",
              "    <tr>\n",
              "      <th>515</th>\n",
              "      <td>146.0</td>\n",
              "      <td>0</td>\n",
              "    </tr>\n",
              "    <tr>\n",
              "      <th>516</th>\n",
              "      <td>3.0</td>\n",
              "      <td>0</td>\n",
              "    </tr>\n",
              "  </tbody>\n",
              "</table>\n",
              "<p>517 rows × 2 columns</p>\n",
              "</div>\n",
              "      <button class=\"colab-df-convert\" onclick=\"convertToInteractive('df-dffcafb4-b986-42a0-ae46-fcb7ed0407c1')\"\n",
              "              title=\"Convert this dataframe to an interactive table.\"\n",
              "              style=\"display:none;\">\n",
              "        \n",
              "  <svg xmlns=\"http://www.w3.org/2000/svg\" height=\"24px\"viewBox=\"0 0 24 24\"\n",
              "       width=\"24px\">\n",
              "    <path d=\"M0 0h24v24H0V0z\" fill=\"none\"/>\n",
              "    <path d=\"M18.56 5.44l.94 2.06.94-2.06 2.06-.94-2.06-.94-.94-2.06-.94 2.06-2.06.94zm-11 1L8.5 8.5l.94-2.06 2.06-.94-2.06-.94L8.5 2.5l-.94 2.06-2.06.94zm10 10l.94 2.06.94-2.06 2.06-.94-2.06-.94-.94-2.06-.94 2.06-2.06.94z\"/><path d=\"M17.41 7.96l-1.37-1.37c-.4-.4-.92-.59-1.43-.59-.52 0-1.04.2-1.43.59L10.3 9.45l-7.72 7.72c-.78.78-.78 2.05 0 2.83L4 21.41c.39.39.9.59 1.41.59.51 0 1.02-.2 1.41-.59l7.78-7.78 2.81-2.81c.8-.78.8-2.07 0-2.86zM5.41 20L4 18.59l7.72-7.72 1.47 1.35L5.41 20z\"/>\n",
              "  </svg>\n",
              "      </button>\n",
              "      \n",
              "  <style>\n",
              "    .colab-df-container {\n",
              "      display:flex;\n",
              "      flex-wrap:wrap;\n",
              "      gap: 12px;\n",
              "    }\n",
              "\n",
              "    .colab-df-convert {\n",
              "      background-color: #E8F0FE;\n",
              "      border: none;\n",
              "      border-radius: 50%;\n",
              "      cursor: pointer;\n",
              "      display: none;\n",
              "      fill: #1967D2;\n",
              "      height: 32px;\n",
              "      padding: 0 0 0 0;\n",
              "      width: 32px;\n",
              "    }\n",
              "\n",
              "    .colab-df-convert:hover {\n",
              "      background-color: #E2EBFA;\n",
              "      box-shadow: 0px 1px 2px rgba(60, 64, 67, 0.3), 0px 1px 3px 1px rgba(60, 64, 67, 0.15);\n",
              "      fill: #174EA6;\n",
              "    }\n",
              "\n",
              "    [theme=dark] .colab-df-convert {\n",
              "      background-color: #3B4455;\n",
              "      fill: #D2E3FC;\n",
              "    }\n",
              "\n",
              "    [theme=dark] .colab-df-convert:hover {\n",
              "      background-color: #434B5C;\n",
              "      box-shadow: 0px 1px 3px 1px rgba(0, 0, 0, 0.15);\n",
              "      filter: drop-shadow(0px 1px 2px rgba(0, 0, 0, 0.3));\n",
              "      fill: #FFFFFF;\n",
              "    }\n",
              "  </style>\n",
              "\n",
              "      <script>\n",
              "        const buttonEl =\n",
              "          document.querySelector('#df-dffcafb4-b986-42a0-ae46-fcb7ed0407c1 button.colab-df-convert');\n",
              "        buttonEl.style.display =\n",
              "          google.colab.kernel.accessAllowed ? 'block' : 'none';\n",
              "\n",
              "        async function convertToInteractive(key) {\n",
              "          const element = document.querySelector('#df-dffcafb4-b986-42a0-ae46-fcb7ed0407c1');\n",
              "          const dataTable =\n",
              "            await google.colab.kernel.invokeFunction('convertToInteractive',\n",
              "                                                     [key], {});\n",
              "          if (!dataTable) return;\n",
              "\n",
              "          const docLinkHtml = 'Like what you see? Visit the ' +\n",
              "            '<a target=\"_blank\" href=https://colab.research.google.com/notebooks/data_table.ipynb>data table notebook</a>'\n",
              "            + ' to learn more about interactive tables.';\n",
              "          element.innerHTML = '';\n",
              "          dataTable['output_type'] = 'display_data';\n",
              "          await google.colab.output.renderOutput(dataTable, element);\n",
              "          const docLink = document.createElement('div');\n",
              "          docLink.innerHTML = docLinkHtml;\n",
              "          element.appendChild(docLink);\n",
              "        }\n",
              "      </script>\n",
              "    </div>\n",
              "  </div>\n",
              "  "
            ]
          },
          "metadata": {},
          "execution_count": 36
        }
      ]
    },
    {
      "cell_type": "code",
      "source": [
        "# ENCODING THE CATEGORICAL DATA\n",
        "from sklearn.preprocessing import LabelEncoder\n",
        "labelencoder_y = LabelEncoder()\n",
        "y = labelencoder_y.fit_transform(y)"
      ],
      "metadata": {
        "id": "ui60Of1kISiu"
      },
      "execution_count": 37,
      "outputs": []
    },
    {
      "cell_type": "code",
      "source": [
        "# SPLITTING THE DATASET\n",
        "from sklearn.model_selection import train_test_split\n",
        "X_train, X_test, y_train, y_test = train_test_split(X, y, test_size = 0.25, random_state = 0 )"
      ],
      "metadata": {
        "id": "RXU1fCC9ITcu"
      },
      "execution_count": 38,
      "outputs": []
    },
    {
      "cell_type": "code",
      "source": [
        "# FEATURE SCALING\n",
        "from sklearn.preprocessing import StandardScaler\n",
        "sc_X = StandardScaler()\n",
        "X_train = sc_X.fit_transform(X_train)\n",
        "X_test = sc_X.fit_transform(X_test)"
      ],
      "metadata": {
        "id": "oEKgf8QHIZ34"
      },
      "execution_count": 39,
      "outputs": []
    },
    {
      "cell_type": "code",
      "source": [
        "X_train"
      ],
      "metadata": {
        "colab": {
          "base_uri": "https://localhost:8080/"
        },
        "id": "5SriMQUCQlWP",
        "outputId": "d7d0b2f3-827e-4fbf-853a-75d59129ed66"
      },
      "execution_count": 40,
      "outputs": [
        {
          "output_type": "execute_result",
          "data": {
            "text/plain": [
              "array([[-1.682e+00, -4.199e-01],\n",
              "       [-4.785e-02, -4.199e-01],\n",
              "       [-4.044e-01, -4.199e-01],\n",
              "       [-2.917e-02, -4.199e-01],\n",
              "       [-1.524e+00, -4.199e-01],\n",
              "       [ 7.196e-01, -4.199e-01],\n",
              "       [-1.616e+00, -4.199e-01],\n",
              "       [ 1.733e+00, -4.199e-01],\n",
              "       [-8.465e-01, -4.199e-01],\n",
              "       [ 4.036e-01, -4.199e-01],\n",
              "       [ 5.951e-01, -4.199e-01],\n",
              "       [ 4.036e-01, -4.199e-01],\n",
              "       [-2.207e-01, -4.199e-01],\n",
              "       [ 1.660e+00, -4.199e-01],\n",
              "       [-5.071e-01,  2.382e+00],\n",
              "       [-1.522e-01, -4.199e-01],\n",
              "       [ 4.706e-01, -4.199e-01],\n",
              "       [ 1.434e+00, -4.199e-01],\n",
              "       [ 1.093e+00, -4.199e-01],\n",
              "       [ 1.967e-03, -4.199e-01],\n",
              "       [ 4.690e-01, -4.199e-01],\n",
              "       [ 1.063e-01, -4.199e-01],\n",
              "       [ 1.063e-01, -4.199e-01],\n",
              "       [-9.305e-01, -4.199e-01],\n",
              "       [ 2.075e-01, -4.199e-01],\n",
              "       [-1.588e+00, -4.199e-01],\n",
              "       [-1.581e+00,  2.382e+00],\n",
              "       [-4.012e-01, -4.199e-01],\n",
              "       [-1.739e-01, -4.199e-01],\n",
              "       [ 6.465e-01, -4.199e-01],\n",
              "       [ 4.410e-01, -4.199e-01],\n",
              "       [ 4.410e-01, -4.199e-01],\n",
              "       [ 2.028e-01, -4.199e-01],\n",
              "       [-2.300e-01, -4.199e-01],\n",
              "       [ 1.063e-01, -4.199e-01],\n",
              "       [ 2.869e-01, -4.199e-01],\n",
              "       [ 4.410e-01, -4.199e-01],\n",
              "       [ 3.460e-01, -4.199e-01],\n",
              "       [-1.070e-01, -4.199e-01],\n",
              "       [-1.682e+00, -4.199e-01],\n",
              "       [ 3.211e-01, -4.199e-01],\n",
              "       [-1.226e-01,  2.382e+00],\n",
              "       [-1.077e+00, -4.199e-01],\n",
              "       [ 9.967e-01, -4.199e-01],\n",
              "       [-1.786e-01, -4.199e-01],\n",
              "       [ 3.507e-01, -4.199e-01],\n",
              "       [ 3.678e-01, -4.199e-01],\n",
              "       [ 4.207e-01, -4.199e-01],\n",
              "       [ 1.090e+00, -4.199e-01],\n",
              "       [ 5.178e-02, -4.199e-01],\n",
              "       [-1.111e+00,  2.382e+00],\n",
              "       [ 4.410e-01, -4.199e-01],\n",
              "       [-1.712e+00, -4.199e-01],\n",
              "       [ 1.079e+00, -4.199e-01],\n",
              "       [-1.111e+00,  2.382e+00],\n",
              "       [ 8.691e-01, -4.199e-01],\n",
              "       [ 1.234e-01, -4.199e-01],\n",
              "       [-1.786e-01, -4.199e-01],\n",
              "       [ 1.748e-01, -4.199e-01],\n",
              "       [-2.642e-01, -4.199e-01],\n",
              "       [ 2.962e-01,  2.382e+00],\n",
              "       [-3.281e-01, -4.199e-01],\n",
              "       [-1.251e+00, -4.199e-01],\n",
              "       [-1.366e-01, -4.199e-01],\n",
              "       [-1.786e-01, -4.199e-01],\n",
              "       [ 1.493e+00,  2.382e+00],\n",
              "       [-9.305e-01, -4.199e-01],\n",
              "       [ 1.335e+00, -4.199e-01],\n",
              "       [-1.661e+00, -4.199e-01],\n",
              "       [ 6.465e-01, -4.199e-01],\n",
              "       [-1.172e+00, -4.199e-01],\n",
              "       [-1.366e-01, -4.199e-01],\n",
              "       [-1.334e+00,  2.382e+00],\n",
              "       [ 4.877e-01, -4.199e-01],\n",
              "       [-8.210e-02, -4.199e-01],\n",
              "       [ 2.993e-01, -4.199e-01],\n",
              "       [-9.835e-01, -4.199e-01],\n",
              "       [ 2.572e+00, -4.199e-01],\n",
              "       [-4.012e-01, -4.199e-01],\n",
              "       [-1.295e+00, -4.199e-01],\n",
              "       [-1.496e+00, -4.199e-01],\n",
              "       [ 2.869e-01, -4.199e-01],\n",
              "       [ 3.211e-01, -4.199e-01],\n",
              "       [ 1.967e-03, -4.199e-01],\n",
              "       [-8.511e-01, -4.199e-01],\n",
              "       [ 1.493e+00,  2.382e+00],\n",
              "       [ 8.115e-01, -4.199e-01],\n",
              "       [ 2.495e-01, -4.199e-01],\n",
              "       [ 4.036e-01, -4.199e-01],\n",
              "       [ 7.617e-01,  2.382e+00],\n",
              "       [-1.334e+00, -4.199e-01],\n",
              "       [ 1.063e-01, -4.199e-01],\n",
              "       [ 1.234e-01, -4.199e-01],\n",
              "       [ 8.800e-01, -4.199e-01],\n",
              "       [ 2.402e-01,  2.382e+00],\n",
              "       [ 5.640e-01, -4.199e-01],\n",
              "       [ 2.785e+00, -4.199e-01],\n",
              "       [-1.049e+00, -4.199e-01],\n",
              "       [ 1.733e+00, -4.199e-01],\n",
              "       [ 4.690e-01, -4.199e-01],\n",
              "       [-1.219e+00,  2.382e+00],\n",
              "       [-1.111e+00,  2.382e+00],\n",
              "       [ 2.785e+00, -4.199e-01],\n",
              "       [-8.210e-02, -4.199e-01],\n",
              "       [-4.044e-01, -4.199e-01],\n",
              "       [-1.329e+00, -4.199e-01],\n",
              "       [ 9.967e-01, -4.199e-01],\n",
              "       [ 1.561e-01, -4.199e-01],\n",
              "       [ 2.138e+00, -4.199e-01],\n",
              "       [-4.162e-02,  2.382e+00],\n",
              "       [-1.588e+00, -4.199e-01],\n",
              "       [-1.880e-01, -4.199e-01],\n",
              "       [-1.172e+00, -4.199e-01],\n",
              "       [-9.772e-01, -4.199e-01],\n",
              "       [ 1.493e+00,  2.382e+00],\n",
              "       [ 5.344e-01,  2.382e+00],\n",
              "       [ 6.465e-01, -4.199e-01],\n",
              "       [-3.281e-01, -4.199e-01],\n",
              "       [-2.611e-01, -4.199e-01],\n",
              "       [ 2.471e+00, -4.199e-01],\n",
              "       [ 1.079e+00, -4.199e-01],\n",
              "       [ 2.028e-01, -4.199e-01],\n",
              "       [-9.772e-01, -4.199e-01],\n",
              "       [ 1.701e-01, -4.199e-01],\n",
              "       [-1.219e+00,  2.382e+00],\n",
              "       [-9.165e-01,  2.382e+00],\n",
              "       [-9.586e-01, -4.199e-01],\n",
              "       [ 1.805e+00, -4.199e-01],\n",
              "       [-3.561e-01, -4.199e-01],\n",
              "       [-5.305e-01, -4.199e-01],\n",
              "       [ 2.869e-01, -4.199e-01],\n",
              "       [-4.697e-01, -4.199e-01],\n",
              "       [-5.522e-01, -4.199e-01],\n",
              "       [ 1.090e+00, -4.199e-01],\n",
              "       [-4.386e-01, -4.199e-01],\n",
              "       [-9.305e-01, -4.199e-01],\n",
              "       [-6.270e-01,  2.382e+00],\n",
              "       [ 1.733e+00, -4.199e-01],\n",
              "       [ 1.654e-01, -4.199e-01],\n",
              "       [ 5.717e-01, -4.199e-01],\n",
              "       [ 3.460e-01, -4.199e-01],\n",
              "       [ 5.640e-01, -4.199e-01],\n",
              "       [-4.728e-01, -4.199e-01],\n",
              "       [-6.239e-01, -4.199e-01],\n",
              "       [ 5.951e-01, -4.199e-01],\n",
              "       [-1.460e+00, -4.199e-01],\n",
              "       [-1.880e-01, -4.199e-01],\n",
              "       [-1.408e+00, -4.199e-01],\n",
              "       [-3.000e-01,  2.382e+00],\n",
              "       [ 2.402e-01,  2.382e+00],\n",
              "       [-1.880e-01, -4.199e-01],\n",
              "       [-2.315e-01, -4.199e-01],\n",
              "       [ 5.344e-01, -4.199e-01],\n",
              "       [ 1.869e+00, -4.199e-01],\n",
              "       [ 5.437e-01, -4.199e-01],\n",
              "       [-9.772e-01, -4.199e-01],\n",
              "       [-4.044e-01, -4.199e-01],\n",
              "       [-1.672e+00, -4.199e-01],\n",
              "       [ 9.751e-03, -4.199e-01],\n",
              "       [ 9.751e-03, -4.199e-01],\n",
              "       [ 3.304e-01, -4.199e-01],\n",
              "       [-1.172e+00, -4.199e-01],\n",
              "       [ 1.003e+00,  2.382e+00],\n",
              "       [-1.044e+00, -4.199e-01],\n",
              "       [-1.172e+00, -4.199e-01],\n",
              "       [-4.012e-01, -4.199e-01],\n",
              "       [-9.492e-01, -4.199e-01],\n",
              "       [ 1.561e-01, -4.199e-01],\n",
              "       [ 9.314e-01, -4.199e-01],\n",
              "       [ 1.063e-01, -4.199e-01],\n",
              "       [ 4.410e-01, -4.199e-01],\n",
              "       [ 2.028e-01, -4.199e-01],\n",
              "       [-2.767e-01,  2.382e+00],\n",
              "       [ 6.107e-01, -4.199e-01],\n",
              "       [-1.005e+00, -4.199e-01],\n",
              "       [-1.211e+00, -4.199e-01],\n",
              "       [ 1.967e-03, -4.199e-01],\n",
              "       [-3.078e-01, -4.199e-01],\n",
              "       [ 1.931e+00, -4.199e-01],\n",
              "       [-7.858e-01, -4.199e-01],\n",
              "       [-1.296e+00, -4.199e-01],\n",
              "       [ 1.434e+00, -4.199e-01],\n",
              "       [ 1.576e-01, -4.199e-01],\n",
              "       [-1.366e-01, -4.199e-01],\n",
              "       [-4.162e-02,  2.382e+00],\n",
              "       [ 2.402e-01,  2.382e+00],\n",
              "       [-1.070e-01, -4.199e-01],\n",
              "       [ 1.869e+00, -4.199e-01],\n",
              "       [ 7.196e-01, -4.199e-01],\n",
              "       [ 5.951e-01, -4.199e-01],\n",
              "       [ 3.211e-01, -4.199e-01],\n",
              "       [ 1.967e-03, -4.199e-01],\n",
              "       [-1.172e+00, -4.199e-01],\n",
              "       [ 1.090e+00, -4.199e-01],\n",
              "       [-1.426e+00, -4.199e-01],\n",
              "       [-4.697e-01, -4.199e-01],\n",
              "       [-9.321e-01, -4.199e-01],\n",
              "       [-1.172e+00, -4.199e-01],\n",
              "       [-1.880e-01, -4.199e-01],\n",
              "       [-3.000e-01,  2.382e+00],\n",
              "       [ 3.304e-01, -4.199e-01],\n",
              "       [ 2.869e-01, -4.199e-01],\n",
              "       [ 2.869e-01, -4.199e-01],\n",
              "       [-2.051e-01,  2.382e+00],\n",
              "       [-2.954e-01,  2.382e+00],\n",
              "       [-2.315e-01, -4.199e-01],\n",
              "       [ 4.021e-01, -4.199e-01],\n",
              "       [-1.494e+00,  2.382e+00],\n",
              "       [ 7.196e-01, -4.199e-01],\n",
              "       [ 2.962e-01,  2.382e+00],\n",
              "       [ 1.573e+00, -4.199e-01],\n",
              "       [-1.303e+00, -4.199e-01],\n",
              "       [-1.366e-01, -4.199e-01],\n",
              "       [-3.359e-01, -4.199e-01],\n",
              "       [ 6.465e-01, -4.199e-01],\n",
              "       [-9.741e-01,  2.382e+00],\n",
              "       [ 1.293e+00, -4.199e-01],\n",
              "       [-1.211e+00, -4.199e-01],\n",
              "       [ 9.751e-03, -4.199e-01],\n",
              "       [-1.005e+00, -4.199e-01],\n",
              "       [-1.314e+00, -4.199e-01],\n",
              "       [ 1.121e+00, -4.199e-01],\n",
              "       [-9.165e-01,  2.382e+00],\n",
              "       [ 3.834e-01, -4.199e-01],\n",
              "       [-1.658e+00,  2.382e+00],\n",
              "       [ 4.410e-01, -4.199e-01],\n",
              "       [-1.318e+00, -4.199e-01],\n",
              "       [-3.468e-01, -4.199e-01],\n",
              "       [ 1.869e+00, -4.199e-01],\n",
              "       [-1.486e+00, -4.199e-01],\n",
              "       [ 3.803e-01,  2.382e+00],\n",
              "       [ 4.877e-01, -4.199e-01],\n",
              "       [-4.199e-01, -4.199e-01],\n",
              "       [ 9.314e-01, -4.199e-01],\n",
              "       [-5.896e-01, -4.199e-01],\n",
              "       [ 1.701e-01, -4.199e-01],\n",
              "       [ 1.979e+00,  2.382e+00],\n",
              "       [ 4.036e-01, -4.199e-01],\n",
              "       [ 3.211e-01, -4.199e-01],\n",
              "       [-1.178e+00, -4.199e-01],\n",
              "       [ 8.691e-01, -4.199e-01],\n",
              "       [-1.584e+00,  2.382e+00],\n",
              "       [-2.207e-01, -4.199e-01],\n",
              "       [ 6.465e-01, -4.199e-01],\n",
              "       [ 4.036e-01, -4.199e-01],\n",
              "       [-4.697e-01, -4.199e-01],\n",
              "       [-1.460e+00, -4.199e-01],\n",
              "       [ 8.255e-01, -4.199e-01],\n",
              "       [ 2.219e+00, -4.199e-01],\n",
              "       [-5.865e-01, -4.199e-01],\n",
              "       [-9.165e-01,  2.382e+00],\n",
              "       [-5.569e-01, -4.199e-01],\n",
              "       [-1.589e+00, -4.199e-01],\n",
              "       [ 1.869e+00, -4.199e-01],\n",
              "       [-1.394e+00, -4.199e-01],\n",
              "       [ 2.402e-01,  2.382e+00],\n",
              "       [-2.703e-03, -4.199e-01],\n",
              "       [-3.078e-01, -4.199e-01],\n",
              "       [-3.592e-01, -4.199e-01],\n",
              "       [-1.673e+00, -4.199e-01],\n",
              "       [-1.321e+00, -4.199e-01],\n",
              "       [ 2.138e+00, -4.199e-01],\n",
              "       [-1.144e+00, -4.199e-01],\n",
              "       [-2.611e-01, -4.199e-01],\n",
              "       [ 1.660e+00, -4.199e-01],\n",
              "       [ 4.877e-01, -4.199e-01],\n",
              "       [-1.435e+00, -4.199e-01],\n",
              "       [-1.880e-01, -4.199e-01],\n",
              "       [-1.293e+00, -4.199e-01],\n",
              "       [-1.693e-01, -4.199e-01],\n",
              "       [-4.386e-01, -4.199e-01],\n",
              "       [ 2.572e+00, -4.199e-01],\n",
              "       [ 9.537e-02, -4.199e-01],\n",
              "       [-1.226e-01,  2.382e+00],\n",
              "       [ 6.371e-01, -4.199e-01],\n",
              "       [-3.281e-01, -4.199e-01],\n",
              "       [-1.441e+00, -4.199e-01],\n",
              "       [ 3.211e-01, -4.199e-01],\n",
              "       [-1.211e+00, -4.199e-01],\n",
              "       [-4.199e-01, -4.199e-01],\n",
              "       [-1.357e+00,  2.382e+00],\n",
              "       [ 9.751e-03,  2.382e+00],\n",
              "       [ 1.733e+00, -4.199e-01],\n",
              "       [ 1.093e+00, -4.199e-01],\n",
              "       [ 2.869e-01, -4.199e-01],\n",
              "       [-1.334e+00,  2.382e+00],\n",
              "       [-4.557e-01, -4.199e-01],\n",
              "       [-4.318e-02, -4.199e-01],\n",
              "       [-9.305e-01, -4.199e-01],\n",
              "       [-4.162e-02,  2.382e+00],\n",
              "       [ 2.028e-01, -4.199e-01],\n",
              "       [-1.880e-01, -4.199e-01],\n",
              "       [-1.357e+00,  2.382e+00],\n",
              "       [-7.780e-01, -4.199e-01],\n",
              "       [-7.593e-01,  2.382e+00],\n",
              "       [ 2.065e-02, -4.199e-01],\n",
              "       [-8.994e-01, -4.199e-01],\n",
              "       [-1.139e+00, -4.199e-01],\n",
              "       [ 5.023e-02, -4.199e-01],\n",
              "       [ 2.138e+00, -4.199e-01],\n",
              "       [ 5.344e-01,  2.382e+00],\n",
              "       [ 8.691e-01, -4.199e-01],\n",
              "       [ 1.869e+00, -4.199e-01],\n",
              "       [ 8.691e-01, -4.199e-01],\n",
              "       [-1.117e-01,  2.382e+00],\n",
              "       [ 2.533e+00, -4.199e-01],\n",
              "       [-1.172e+00, -4.199e-01],\n",
              "       [-4.318e-02, -4.199e-01],\n",
              "       [ 2.742e+00, -4.199e-01],\n",
              "       [ 6.465e-01, -4.199e-01],\n",
              "       [-5.569e-01, -4.199e-01],\n",
              "       [ 1.701e-01, -4.199e-01],\n",
              "       [-1.070e-01, -4.199e-01],\n",
              "       [-1.005e+00, -4.199e-01],\n",
              "       [ 2.138e+00, -4.199e-01],\n",
              "       [ 1.234e-01, -4.199e-01],\n",
              "       [ 9.537e-02, -4.199e-01],\n",
              "       [ 1.493e+00,  2.382e+00],\n",
              "       [-1.334e+00, -4.199e-01],\n",
              "       [-1.342e+00,  2.382e+00],\n",
              "       [-4.318e-02, -4.199e-01],\n",
              "       [-1.426e+00, -4.199e-01],\n",
              "       [ 1.805e+00, -4.199e-01],\n",
              "       [ 4.706e-01, -4.199e-01],\n",
              "       [-1.306e+00, -4.199e-01],\n",
              "       [-1.502e+00, -4.199e-01],\n",
              "       [-1.049e+00, -4.199e-01],\n",
              "       [ 1.805e+00, -4.199e-01],\n",
              "       [ 1.967e-03, -4.199e-01],\n",
              "       [ 1.251e+00, -4.199e-01],\n",
              "       [ 1.869e+00, -4.199e-01],\n",
              "       [-1.139e+00, -4.199e-01],\n",
              "       [-1.070e-01, -4.199e-01],\n",
              "       [ 5.344e-01, -4.199e-01],\n",
              "       [-9.741e-01,  2.382e+00],\n",
              "       [ 2.572e+00, -4.199e-01],\n",
              "       [ 2.533e+00, -4.199e-01],\n",
              "       [ 1.561e-01, -4.199e-01],\n",
              "       [-6.612e-01, -4.199e-01],\n",
              "       [ 9.967e-01, -4.199e-01],\n",
              "       [-1.594e+00, -4.199e-01],\n",
              "       [-3.000e-01,  2.382e+00],\n",
              "       [-6.441e-01, -4.199e-01],\n",
              "       [ 5.951e-01, -4.199e-01],\n",
              "       [ 2.869e-01, -4.199e-01],\n",
              "       [ 1.003e+00,  2.382e+00],\n",
              "       [ 1.093e+00, -4.199e-01],\n",
              "       [-1.070e-01, -4.199e-01],\n",
              "       [-2.611e-01, -4.199e-01],\n",
              "       [ 1.869e+00, -4.199e-01],\n",
              "       [ 5.178e-02, -4.199e-01],\n",
              "       [-5.865e-01, -4.199e-01],\n",
              "       [ 9.127e-01, -4.199e-01],\n",
              "       [ 7.305e-01, -4.199e-01],\n",
              "       [-1.786e-01, -4.199e-01],\n",
              "       [-8.465e-01, -4.199e-01],\n",
              "       [ 4.877e-01, -4.199e-01],\n",
              "       [-4.162e-02,  2.382e+00],\n",
              "       [ 2.706e+00, -4.199e-01],\n",
              "       [ 1.042e+00, -4.199e-01],\n",
              "       [-4.162e-02,  2.382e+00],\n",
              "       [ 4.036e-01, -4.199e-01],\n",
              "       [ 9.967e-01, -4.199e-01],\n",
              "       [-1.661e+00, -4.199e-01],\n",
              "       [-1.329e+00, -4.199e-01],\n",
              "       [-4.090e-01, -4.199e-01],\n",
              "       [-1.381e-01, -4.199e-01],\n",
              "       [-1.211e+00, -4.199e-01],\n",
              "       [-3.639e-01,  2.382e+00],\n",
              "       [ 4.877e-01, -4.199e-01],\n",
              "       [-1.446e+00, -4.199e-01],\n",
              "       [-4.162e-02,  2.382e+00],\n",
              "       [ 8.691e-01, -4.199e-01],\n",
              "       [-2.207e-01, -4.199e-01],\n",
              "       [ 4.036e-01, -4.199e-01],\n",
              "       [-1.329e+00, -4.199e-01],\n",
              "       [ 4.706e-01, -4.199e-01],\n",
              "       [ 3.460e-01, -4.199e-01],\n",
              "       [ 6.735e-02, -4.199e-01],\n",
              "       [-2.238e-01, -4.199e-01],\n",
              "       [ 5.951e-01, -4.199e-01],\n",
              "       [-2.315e-01,  2.382e+00],\n",
              "       [-9.772e-01, -4.199e-01],\n",
              "       [-1.334e+00,  2.382e+00],\n",
              "       [-3.592e-01, -4.199e-01],\n",
              "       [ 1.701e-01, -4.199e-01],\n",
              "       [-4.318e-02, -4.199e-01]])"
            ]
          },
          "metadata": {},
          "execution_count": 40
        }
      ]
    },
    {
      "cell_type": "code",
      "source": [
        "# FITTING THE MODEL\n",
        "from sklearn.svm import SVC\n",
        "classifier = SVC(kernel = 'rbf', random_state = 0)\n",
        "classifier.fit(X_train, y_train)"
      ],
      "metadata": {
        "colab": {
          "base_uri": "https://localhost:8080/",
          "height": 74
        },
        "id": "ZFOnOX35IaZk",
        "outputId": "a04cf959-ba3e-45c4-d45b-f6bba24a4e22"
      },
      "execution_count": 41,
      "outputs": [
        {
          "output_type": "execute_result",
          "data": {
            "text/plain": [
              "SVC(random_state=0)"
            ],
            "text/html": [
              "<style>#sk-container-id-3 {color: black;background-color: white;}#sk-container-id-3 pre{padding: 0;}#sk-container-id-3 div.sk-toggleable {background-color: white;}#sk-container-id-3 label.sk-toggleable__label {cursor: pointer;display: block;width: 100%;margin-bottom: 0;padding: 0.3em;box-sizing: border-box;text-align: center;}#sk-container-id-3 label.sk-toggleable__label-arrow:before {content: \"▸\";float: left;margin-right: 0.25em;color: #696969;}#sk-container-id-3 label.sk-toggleable__label-arrow:hover:before {color: black;}#sk-container-id-3 div.sk-estimator:hover label.sk-toggleable__label-arrow:before {color: black;}#sk-container-id-3 div.sk-toggleable__content {max-height: 0;max-width: 0;overflow: hidden;text-align: left;background-color: #f0f8ff;}#sk-container-id-3 div.sk-toggleable__content pre {margin: 0.2em;color: black;border-radius: 0.25em;background-color: #f0f8ff;}#sk-container-id-3 input.sk-toggleable__control:checked~div.sk-toggleable__content {max-height: 200px;max-width: 100%;overflow: auto;}#sk-container-id-3 input.sk-toggleable__control:checked~label.sk-toggleable__label-arrow:before {content: \"▾\";}#sk-container-id-3 div.sk-estimator input.sk-toggleable__control:checked~label.sk-toggleable__label {background-color: #d4ebff;}#sk-container-id-3 div.sk-label input.sk-toggleable__control:checked~label.sk-toggleable__label {background-color: #d4ebff;}#sk-container-id-3 input.sk-hidden--visually {border: 0;clip: rect(1px 1px 1px 1px);clip: rect(1px, 1px, 1px, 1px);height: 1px;margin: -1px;overflow: hidden;padding: 0;position: absolute;width: 1px;}#sk-container-id-3 div.sk-estimator {font-family: monospace;background-color: #f0f8ff;border: 1px dotted black;border-radius: 0.25em;box-sizing: border-box;margin-bottom: 0.5em;}#sk-container-id-3 div.sk-estimator:hover {background-color: #d4ebff;}#sk-container-id-3 div.sk-parallel-item::after {content: \"\";width: 100%;border-bottom: 1px solid gray;flex-grow: 1;}#sk-container-id-3 div.sk-label:hover label.sk-toggleable__label {background-color: #d4ebff;}#sk-container-id-3 div.sk-serial::before {content: \"\";position: absolute;border-left: 1px solid gray;box-sizing: border-box;top: 0;bottom: 0;left: 50%;z-index: 0;}#sk-container-id-3 div.sk-serial {display: flex;flex-direction: column;align-items: center;background-color: white;padding-right: 0.2em;padding-left: 0.2em;position: relative;}#sk-container-id-3 div.sk-item {position: relative;z-index: 1;}#sk-container-id-3 div.sk-parallel {display: flex;align-items: stretch;justify-content: center;background-color: white;position: relative;}#sk-container-id-3 div.sk-item::before, #sk-container-id-3 div.sk-parallel-item::before {content: \"\";position: absolute;border-left: 1px solid gray;box-sizing: border-box;top: 0;bottom: 0;left: 50%;z-index: -1;}#sk-container-id-3 div.sk-parallel-item {display: flex;flex-direction: column;z-index: 1;position: relative;background-color: white;}#sk-container-id-3 div.sk-parallel-item:first-child::after {align-self: flex-end;width: 50%;}#sk-container-id-3 div.sk-parallel-item:last-child::after {align-self: flex-start;width: 50%;}#sk-container-id-3 div.sk-parallel-item:only-child::after {width: 0;}#sk-container-id-3 div.sk-dashed-wrapped {border: 1px dashed gray;margin: 0 0.4em 0.5em 0.4em;box-sizing: border-box;padding-bottom: 0.4em;background-color: white;}#sk-container-id-3 div.sk-label label {font-family: monospace;font-weight: bold;display: inline-block;line-height: 1.2em;}#sk-container-id-3 div.sk-label-container {text-align: center;}#sk-container-id-3 div.sk-container {/* jupyter's `normalize.less` sets `[hidden] { display: none; }` but bootstrap.min.css set `[hidden] { display: none !important; }` so we also need the `!important` here to be able to override the default hidden behavior on the sphinx rendered scikit-learn.org. See: https://github.com/scikit-learn/scikit-learn/issues/21755 */display: inline-block !important;position: relative;}#sk-container-id-3 div.sk-text-repr-fallback {display: none;}</style><div id=\"sk-container-id-3\" class=\"sk-top-container\"><div class=\"sk-text-repr-fallback\"><pre>SVC(random_state=0)</pre><b>In a Jupyter environment, please rerun this cell to show the HTML representation or trust the notebook. <br />On GitHub, the HTML representation is unable to render, please try loading this page with nbviewer.org.</b></div><div class=\"sk-container\" hidden><div class=\"sk-item\"><div class=\"sk-estimator sk-toggleable\"><input class=\"sk-toggleable__control sk-hidden--visually\" id=\"sk-estimator-id-3\" type=\"checkbox\" checked><label for=\"sk-estimator-id-3\" class=\"sk-toggleable__label sk-toggleable__label-arrow\">SVC</label><div class=\"sk-toggleable__content\"><pre>SVC(random_state=0)</pre></div></div></div></div></div>"
            ]
          },
          "metadata": {},
          "execution_count": 41
        }
      ]
    },
    {
      "cell_type": "code",
      "source": [
        "#Predicting the test \n",
        "y_pred = classifier.predict(X_test)"
      ],
      "metadata": {
        "id": "TbXmvFSWTwO4"
      },
      "execution_count": 42,
      "outputs": []
    },
    {
      "cell_type": "code",
      "source": [
        "# MEASURING THE ACCURACY\n",
        "from sklearn.metrics import  confusion_matrix, accuracy_score\n",
        "cm = confusion_matrix(y_test, y_pred)\n",
        "acc = accuracy_score(y_test, y_pred)\n",
        "print(cm)\n",
        "print(acc)"
      ],
      "metadata": {
        "colab": {
          "base_uri": "https://localhost:8080/"
        },
        "id": "bbWYuYLfIi9b",
        "outputId": "12a0371c-685a-452e-f295-de85adce6636"
      },
      "execution_count": 43,
      "outputs": [
        {
          "output_type": "stream",
          "name": "stdout",
          "text": [
            "[[ 0 37]\n",
            " [ 0 93]]\n",
            "0.7153846153846154\n"
          ]
        }
      ]
    },
    {
      "cell_type": "markdown",
      "source": [
        "#### DATA VISUALIZATIONS"
      ],
      "metadata": {
        "id": "dZiz1Y_sH-82"
      }
    },
    {
      "cell_type": "code",
      "source": [
        "# Visualizing the test set results\n",
        "from matplotlib.colors import ListedColormap\n",
        "X_set, y_set = X_test, y_test\n",
        "X1, X2 = np.meshgrid(np.arange(start = X_set[:, 0].min() - 1, stop = X_set[:, 0].max() + 1, step = 0.01),\n",
        "                     np.arange(start = X_set[:, 1].min() - 1, stop = X_set[:, 1].max() + 1, step = 0.01))\n",
        "plt.contourf(X1, X2, classifier.predict(np.array([X1.ravel(), X2.ravel()]).T).reshape(X1.shape),\n",
        "             alpha = 0.75, cmap = ListedColormap(('yellow', 'green')))\n",
        "plt.xlim(X1.min(), X1.max())\n",
        "plt.ylim(X2.min(), X2.max())\n",
        "for i, j in enumerate(np.unique(y_set)):\n",
        "  plt.scatter(X_set[y_set == j, 0], X_set[y_set == j, 1],\n",
        "              c= ListedColormap(('yellow', 'green'))(i), label= j)\n",
        "plt.title('SVM Classification(Test set)')\n",
        "plt.xlabel('DMC')\n",
        "plt.ylabel('DC')\n",
        "plt.legend()\n",
        "plt.show()"
      ],
      "metadata": {
        "colab": {
          "base_uri": "https://localhost:8080/",
          "height": 351
        },
        "id": "XYBSoJe1IBSW",
        "outputId": "ec604a5d-565e-4f69-e050-0167923fba86"
      },
      "execution_count": 44,
      "outputs": [
        {
          "output_type": "stream",
          "name": "stderr",
          "text": [
            "WARNING:matplotlib.axes._axes:*c* argument looks like a single numeric RGB or RGBA sequence, which should be avoided as value-mapping will have precedence in case its length matches with *x* & *y*.  Please use the *color* keyword-argument or provide a 2D array with a single row if you intend to specify the same RGB or RGBA value for all points.\n",
            "WARNING:matplotlib.axes._axes:*c* argument looks like a single numeric RGB or RGBA sequence, which should be avoided as value-mapping will have precedence in case its length matches with *x* & *y*.  Please use the *color* keyword-argument or provide a 2D array with a single row if you intend to specify the same RGB or RGBA value for all points.\n"
          ]
        },
        {
          "output_type": "display_data",
          "data": {
            "text/plain": [
              "<Figure size 432x288 with 1 Axes>"
            ],
            "image/png": "[encoded data removed]"
          },
          "metadata": {
            "needs_background": "light"
          }
        }
      ]
    },
    {
      "cell_type": "code",
      "source": [
        "#Visualizing the train set results\n",
        "from matplotlib.colors import ListedColormap\n",
        "X_set, y_set = X_train, y_train\n",
        "X1, X2 = np.meshgrid(np.arange(start = X_set[:, 0].min() - 1, stop = X_set[:, 0].max() + 1, step = 0.01),\n",
        "                     np.arange(start = X_set[:, 1].min() - 1, stop = X_set[:, 1].max() + 1, step = 0.01))\n",
        "plt.contourf(X1, X2, classifier.predict(np.array([X1.ravel(), X2.ravel()]).T).reshape(X1.shape),\n",
        "             alpha = 0.75, cmap = ListedColormap(('yellow', 'green')))\n",
        "plt.xlim(X1.min(), X1.max())\n",
        "plt.ylim(X2.min(), X2.max())\n",
        "for i, j in enumerate(np.unique(y_set)):\n",
        "  plt.scatter(X_set[y_set == j, 0], X_set[y_set == j, 1],\n",
        "              c= ListedColormap(('yellow', 'green'))(i), label= j)\n",
        "plt.title('SVM Classification(Training set)')\n",
        "plt.xlabel('DMC')\n",
        "plt.ylabel('DC')\n",
        "plt.legend()\n",
        "plt.show()"
      ],
      "metadata": {
        "colab": {
          "base_uri": "https://localhost:8080/",
          "height": 351
        },
        "id": "awrr6rQoJO60",
        "outputId": "d94c5e21-b3b2-4aa1-edaa-ba53dafc906a"
      },
      "execution_count": 45,
      "outputs": [
        {
          "output_type": "stream",
          "name": "stderr",
          "text": [
            "WARNING:matplotlib.axes._axes:*c* argument looks like a single numeric RGB or RGBA sequence, which should be avoided as value-mapping will have precedence in case its length matches with *x* & *y*.  Please use the *color* keyword-argument or provide a 2D array with a single row if you intend to specify the same RGB or RGBA value for all points.\n",
            "WARNING:matplotlib.axes._axes:*c* argument looks like a single numeric RGB or RGBA sequence, which should be avoided as value-mapping will have precedence in case its length matches with *x* & *y*.  Please use the *color* keyword-argument or provide a 2D array with a single row if you intend to specify the same RGB or RGBA value for all points.\n"
          ]
        },
        {
          "output_type": "display_data",
          "data": {
            "text/plain": [
              "<Figure size 432x288 with 1 Axes>"
            ],
            "image/png": "[encoded data removed]"
          },
          "metadata": {
            "needs_background": "light"
          }
        }
      ]
    },
    {
      "cell_type": "code",
      "source": [
        "# PREDICTING THE NEW DATA POINT\n",
        "new_data1=pd.DataFrame({\"DMC\": 22.4, \"daymon\": 1}, index = [0])\n",
        "new_data1"
      ],
      "metadata": {
        "colab": {
          "base_uri": "https://localhost:8080/",
          "height": 80
        },
        "id": "mpR0jeMkKrvv",
        "outputId": "11d1ada1-d94c-4596-cbc4-38a2995d1605"
      },
      "execution_count": 46,
      "outputs": [
        {
          "output_type": "execute_result",
          "data": {
            "text/plain": [
              "    DMC  daymon\n",
              "0  22.4       1"
            ],
            "text/html": [
              "\n",
              "  <div id=\"df-5966afa9-c9e6-4317-926b-93817cb96ad0\">\n",
              "    <div class=\"colab-df-container\">\n",
              "      <div>\n",
              "<style scoped>\n",
              "    .dataframe tbody tr th:only-of-type {\n",
              "        vertical-align: middle;\n",
              "    }\n",
              "\n",
              "    .dataframe tbody tr th {\n",
              "        vertical-align: top;\n",
              "    }\n",
              "\n",
              "    .dataframe thead th {\n",
              "        text-align: right;\n",
              "    }\n",
              "</style>\n",
              "<table border=\"1\" class=\"dataframe\">\n",
              "  <thead>\n",
              "    <tr style=\"text-align: right;\">\n",
              "      <th></th>\n",
              "      <th>DMC</th>\n",
              "      <th>daymon</th>\n",
              "    </tr>\n",
              "  </thead>\n",
              "  <tbody>\n",
              "    <tr>\n",
              "      <th>0</th>\n",
              "      <td>22.4</td>\n",
              "      <td>1</td>\n",
              "    </tr>\n",
              "  </tbody>\n",
              "</table>\n",
              "</div>\n",
              "      <button class=\"colab-df-convert\" onclick=\"convertToInteractive('df-5966afa9-c9e6-4317-926b-93817cb96ad0')\"\n",
              "              title=\"Convert this dataframe to an interactive table.\"\n",
              "              style=\"display:none;\">\n",
              "        \n",
              "  <svg xmlns=\"http://www.w3.org/2000/svg\" height=\"24px\"viewBox=\"0 0 24 24\"\n",
              "       width=\"24px\">\n",
              "    <path d=\"M0 0h24v24H0V0z\" fill=\"none\"/>\n",
              "    <path d=\"M18.56 5.44l.94 2.06.94-2.06 2.06-.94-2.06-.94-.94-2.06-.94 2.06-2.06.94zm-11 1L8.5 8.5l.94-2.06 2.06-.94-2.06-.94L8.5 2.5l-.94 2.06-2.06.94zm10 10l.94 2.06.94-2.06 2.06-.94-2.06-.94-.94-2.06-.94 2.06-2.06.94z\"/><path d=\"M17.41 7.96l-1.37-1.37c-.4-.4-.92-.59-1.43-.59-.52 0-1.04.2-1.43.59L10.3 9.45l-7.72 7.72c-.78.78-.78 2.05 0 2.83L4 21.41c.39.39.9.59 1.41.59.51 0 1.02-.2 1.41-.59l7.78-7.78 2.81-2.81c.8-.78.8-2.07 0-2.86zM5.41 20L4 18.59l7.72-7.72 1.47 1.35L5.41 20z\"/>\n",
              "  </svg>\n",
              "      </button>\n",
              "      \n",
              "  <style>\n",
              "    .colab-df-container {\n",
              "      display:flex;\n",
              "      flex-wrap:wrap;\n",
              "      gap: 12px;\n",
              "    }\n",
              "\n",
              "    .colab-df-convert {\n",
              "      background-color: #E8F0FE;\n",
              "      border: none;\n",
              "      border-radius: 50%;\n",
              "      cursor: pointer;\n",
              "      display: none;\n",
              "      fill: #1967D2;\n",
              "      height: 32px;\n",
              "      padding: 0 0 0 0;\n",
              "      width: 32px;\n",
              "    }\n",
              "\n",
              "    .colab-df-convert:hover {\n",
              "      background-color: #E2EBFA;\n",
              "      box-shadow: 0px 1px 2px rgba(60, 64, 67, 0.3), 0px 1px 3px 1px rgba(60, 64, 67, 0.15);\n",
              "      fill: #174EA6;\n",
              "    }\n",
              "\n",
              "    [theme=dark] .colab-df-convert {\n",
              "      background-color: #3B4455;\n",
              "      fill: #D2E3FC;\n",
              "    }\n",
              "\n",
              "    [theme=dark] .colab-df-convert:hover {\n",
              "      background-color: #434B5C;\n",
              "      box-shadow: 0px 1px 3px 1px rgba(0, 0, 0, 0.15);\n",
              "      filter: drop-shadow(0px 1px 2px rgba(0, 0, 0, 0.3));\n",
              "      fill: #FFFFFF;\n",
              "    }\n",
              "  </style>\n",
              "\n",
              "      <script>\n",
              "        const buttonEl =\n",
              "          document.querySelector('#df-5966afa9-c9e6-4317-926b-93817cb96ad0 button.colab-df-convert');\n",
              "        buttonEl.style.display =\n",
              "          google.colab.kernel.accessAllowed ? 'block' : 'none';\n",
              "\n",
              "        async function convertToInteractive(key) {\n",
              "          const element = document.querySelector('#df-5966afa9-c9e6-4317-926b-93817cb96ad0');\n",
              "          const dataTable =\n",
              "            await google.colab.kernel.invokeFunction('convertToInteractive',\n",
              "                                                     [key], {});\n",
              "          if (!dataTable) return;\n",
              "\n",
              "          const docLinkHtml = 'Like what you see? Visit the ' +\n",
              "            '<a target=\"_blank\" href=https://colab.research.google.com/notebooks/data_table.ipynb>data table notebook</a>'\n",
              "            + ' to learn more about interactive tables.';\n",
              "          element.innerHTML = '';\n",
              "          dataTable['output_type'] = 'display_data';\n",
              "          await google.colab.output.renderOutput(dataTable, element);\n",
              "          const docLink = document.createElement('div');\n",
              "          docLink.innerHTML = docLinkHtml;\n",
              "          element.appendChild(docLink);\n",
              "        }\n",
              "      </script>\n",
              "    </div>\n",
              "  </div>\n",
              "  "
            ]
          },
          "metadata": {},
          "execution_count": 46
        }
      ]
    },
    {
      "cell_type": "code",
      "source": [
        "classifier.predict(new_data1)"
      ],
      "metadata": {
        "colab": {
          "base_uri": "https://localhost:8080/"
        },
        "id": "FyYGoxwGKuVL",
        "outputId": "7e686666-139c-400f-f3c6-2a705f9fc31f"
      },
      "execution_count": 47,
      "outputs": [
        {
          "output_type": "stream",
          "name": "stderr",
          "text": [
            "/usr/local/lib/python3.9/dist-packages/sklearn/base.py:413: UserWarning: X has feature names, but SVC was fitted without feature names\n",
            "  warnings.warn(\n"
          ]
        },
        {
          "output_type": "execute_result",
          "data": {
            "text/plain": [
              "array([1])"
            ]
          },
          "metadata": {},
          "execution_count": 47
        }
      ]
    },
    {
      "cell_type": "code",
      "source": [],
      "metadata": {
        "id": "r1deYaV7S_CB"
      },
      "execution_count": 47,
      "outputs": []
    }
  ]
}