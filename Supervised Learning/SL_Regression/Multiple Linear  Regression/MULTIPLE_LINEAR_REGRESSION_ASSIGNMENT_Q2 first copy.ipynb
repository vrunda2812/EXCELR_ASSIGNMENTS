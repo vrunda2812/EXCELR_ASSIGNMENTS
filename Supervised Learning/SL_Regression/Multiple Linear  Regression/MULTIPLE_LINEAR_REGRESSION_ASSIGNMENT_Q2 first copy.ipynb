{
  "nbformat": 4,
  "nbformat_minor": 0,
  "metadata": {
    "colab": {
      "provenance": []
    },
    "kernelspec": {
      "name": "python3",
      "display_name": "Python 3"
    },
    "language_info": {
      "name": "python"
    }
  },
  "cells": [
    {
      "cell_type": "markdown",
      "source": [
        "# IMPORTING LIBRARIES"
      ],
      "metadata": {
        "id": "JosYtnLMvfee"
      }
    },
    {
      "cell_type": "code",
      "execution_count": 1,
      "metadata": {
        "id": "c0aWIOqTvb8h"
      },
      "outputs": [],
      "source": [
        "import pandas as pd\n",
        "import numpy as np\n",
        "import matplotlib.pyplot as plt"
      ]
    },
    {
      "cell_type": "markdown",
      "source": [
        "# IMPORTING DATASET"
      ],
      "metadata": {
        "id": "ARdtEV30vlfB"
      }
    },
    {
      "cell_type": "code",
      "source": [
        "dataset = pd.read_csv(\"/content/ToyotaCorolla.csv\", encoding = 'latin1')"
      ],
      "metadata": {
        "id": "M8TsWirUvkRm"
      },
      "execution_count": 2,
      "outputs": []
    },
    {
      "cell_type": "code",
      "source": [
        "dataset"
      ],
      "metadata": {
        "id": "4aR0lTjav3Zo",
        "colab": {
          "base_uri": "https://localhost:8080/",
          "height": 1000
        },
        "outputId": "5c5c2b8f-2fbf-4362-a021-801529e07fc0"
      },
      "execution_count": 3,
      "outputs": [
        {
          "output_type": "execute_result",
          "data": {
            "text/plain": [
              "        Id                                              Model  Price  \\\n",
              "0        1      TOYOTA Corolla 2.0 D4D HATCHB TERRA 2/3-Doors  13500   \n",
              "1        2      TOYOTA Corolla 2.0 D4D HATCHB TERRA 2/3-Doors  13750   \n",
              "2        3      TOYOTA Corolla 2.0 D4D HATCHB TERRA 2/3-Doors  13950   \n",
              "3        4      TOYOTA Corolla 2.0 D4D HATCHB TERRA 2/3-Doors  14950   \n",
              "4        5        TOYOTA Corolla 2.0 D4D HATCHB SOL 2/3-Doors  13750   \n",
              "...    ...                                                ...    ...   \n",
              "1431  1438         TOYOTA Corolla 1.3 16V HATCHB G6 2/3-Doors   7500   \n",
              "1432  1439  TOYOTA Corolla 1.3 16V HATCHB LINEA TERRA 2/3-...  10845   \n",
              "1433  1440  TOYOTA Corolla 1.3 16V HATCHB LINEA TERRA 2/3-...   8500   \n",
              "1434  1441  TOYOTA Corolla 1.3 16V HATCHB LINEA TERRA 2/3-...   7250   \n",
              "1435  1442        TOYOTA Corolla 1.6 LB LINEA TERRA 4/5-Doors   6950   \n",
              "\n",
              "      Age_08_04  Mfg_Month  Mfg_Year     KM Fuel_Type   HP  Met_Color  ...  \\\n",
              "0            23         10      2002  46986    Diesel   90          1  ...   \n",
              "1            23         10      2002  72937    Diesel   90          1  ...   \n",
              "2            24          9      2002  41711    Diesel   90          1  ...   \n",
              "3            26          7      2002  48000    Diesel   90          0  ...   \n",
              "4            30          3      2002  38500    Diesel   90          0  ...   \n",
              "...         ...        ...       ...    ...       ...  ...        ...  ...   \n",
              "1431         69         12      1998  20544    Petrol   86          1  ...   \n",
              "1432         72          9      1998  19000    Petrol   86          0  ...   \n",
              "1433         71         10      1998  17016    Petrol   86          0  ...   \n",
              "1434         70         11      1998  16916    Petrol   86          1  ...   \n",
              "1435         76          5      1998      1    Petrol  110          0  ...   \n",
              "\n",
              "     Central_Lock  Powered_Windows  Power_Steering  Radio  Mistlamps  \\\n",
              "0               1                1               1      0          0   \n",
              "1               1                0               1      0          0   \n",
              "2               0                0               1      0          0   \n",
              "3               0                0               1      0          0   \n",
              "4               1                1               1      0          1   \n",
              "...           ...              ...             ...    ...        ...   \n",
              "1431            1                1               1      0          1   \n",
              "1432            0                0               1      0          0   \n",
              "1433            0                0               1      0          0   \n",
              "1434            0                0               0      0          0   \n",
              "1435            0                0               1      0          0   \n",
              "\n",
              "      Sport_Model  Backseat_Divider  Metallic_Rim  Radio_cassette  Tow_Bar  \n",
              "0               0                 1             0               0        0  \n",
              "1               0                 1             0               0        0  \n",
              "2               0                 1             0               0        0  \n",
              "3               0                 1             0               0        0  \n",
              "4               0                 1             0               0        0  \n",
              "...           ...               ...           ...             ...      ...  \n",
              "1431            1                 1             0               0        0  \n",
              "1432            1                 1             0               0        0  \n",
              "1433            0                 1             0               0        0  \n",
              "1434            0                 1             0               0        0  \n",
              "1435            0                 0             0               0        0  \n",
              "\n",
              "[1436 rows x 38 columns]"
            ],
            "text/html": [
              "\n",
              "  <div id=\"df-f5e8696f-1d3c-47eb-a648-b5ee056dd8d1\">\n",
              "    <div class=\"colab-df-container\">\n",
              "      <div>\n",
              "<style scoped>\n",
              "    .dataframe tbody tr th:only-of-type {\n",
              "        vertical-align: middle;\n",
              "    }\n",
              "\n",
              "    .dataframe tbody tr th {\n",
              "        vertical-align: top;\n",
              "    }\n",
              "\n",
              "    .dataframe thead th {\n",
              "        text-align: right;\n",
              "    }\n",
              "</style>\n",
              "<table border=\"1\" class=\"dataframe\">\n",
              "  <thead>\n",
              "    <tr style=\"text-align: right;\">\n",
              "      <th></th>\n",
              "      <th>Id</th>\n",
              "      <th>Model</th>\n",
              "      <th>Price</th>\n",
              "      <th>Age_08_04</th>\n",
              "      <th>Mfg_Month</th>\n",
              "      <th>Mfg_Year</th>\n",
              "      <th>KM</th>\n",
              "      <th>Fuel_Type</th>\n",
              "      <th>HP</th>\n",
              "      <th>Met_Color</th>\n",
              "      <th>...</th>\n",
              "      <th>Central_Lock</th>\n",
              "      <th>Powered_Windows</th>\n",
              "      <th>Power_Steering</th>\n",
              "      <th>Radio</th>\n",
              "      <th>Mistlamps</th>\n",
              "      <th>Sport_Model</th>\n",
              "      <th>Backseat_Divider</th>\n",
              "      <th>Metallic_Rim</th>\n",
              "      <th>Radio_cassette</th>\n",
              "      <th>Tow_Bar</th>\n",
              "    </tr>\n",
              "  </thead>\n",
              "  <tbody>\n",
              "    <tr>\n",
              "      <th>0</th>\n",
              "      <td>1</td>\n",
              "      <td>TOYOTA Corolla 2.0 D4D HATCHB TERRA 2/3-Doors</td>\n",
              "      <td>13500</td>\n",
              "      <td>23</td>\n",
              "      <td>10</td>\n",
              "      <td>2002</td>\n",
              "      <td>46986</td>\n",
              "      <td>Diesel</td>\n",
              "      <td>90</td>\n",
              "      <td>1</td>\n",
              "      <td>...</td>\n",
              "      <td>1</td>\n",
              "      <td>1</td>\n",
              "      <td>1</td>\n",
              "      <td>0</td>\n",
              "      <td>0</td>\n",
              "      <td>0</td>\n",
              "      <td>1</td>\n",
              "      <td>0</td>\n",
              "      <td>0</td>\n",
              "      <td>0</td>\n",
              "    </tr>\n",
              "    <tr>\n",
              "      <th>1</th>\n",
              "      <td>2</td>\n",
              "      <td>TOYOTA Corolla 2.0 D4D HATCHB TERRA 2/3-Doors</td>\n",
              "      <td>13750</td>\n",
              "      <td>23</td>\n",
              "      <td>10</td>\n",
              "      <td>2002</td>\n",
              "      <td>72937</td>\n",
              "      <td>Diesel</td>\n",
              "      <td>90</td>\n",
              "      <td>1</td>\n",
              "      <td>...</td>\n",
              "      <td>1</td>\n",
              "      <td>0</td>\n",
              "      <td>1</td>\n",
              "      <td>0</td>\n",
              "      <td>0</td>\n",
              "      <td>0</td>\n",
              "      <td>1</td>\n",
              "      <td>0</td>\n",
              "      <td>0</td>\n",
              "      <td>0</td>\n",
              "    </tr>\n",
              "    <tr>\n",
              "      <th>2</th>\n",
              "      <td>3</td>\n",
              "      <td>TOYOTA Corolla 2.0 D4D HATCHB TERRA 2/3-Doors</td>\n",
              "      <td>13950</td>\n",
              "      <td>24</td>\n",
              "      <td>9</td>\n",
              "      <td>2002</td>\n",
              "      <td>41711</td>\n",
              "      <td>Diesel</td>\n",
              "      <td>90</td>\n",
              "      <td>1</td>\n",
              "      <td>...</td>\n",
              "      <td>0</td>\n",
              "      <td>0</td>\n",
              "      <td>1</td>\n",
              "      <td>0</td>\n",
              "      <td>0</td>\n",
              "      <td>0</td>\n",
              "      <td>1</td>\n",
              "      <td>0</td>\n",
              "      <td>0</td>\n",
              "      <td>0</td>\n",
              "    </tr>\n",
              "    <tr>\n",
              "      <th>3</th>\n",
              "      <td>4</td>\n",
              "      <td>TOYOTA Corolla 2.0 D4D HATCHB TERRA 2/3-Doors</td>\n",
              "      <td>14950</td>\n",
              "      <td>26</td>\n",
              "      <td>7</td>\n",
              "      <td>2002</td>\n",
              "      <td>48000</td>\n",
              "      <td>Diesel</td>\n",
              "      <td>90</td>\n",
              "      <td>0</td>\n",
              "      <td>...</td>\n",
              "      <td>0</td>\n",
              "      <td>0</td>\n",
              "      <td>1</td>\n",
              "      <td>0</td>\n",
              "      <td>0</td>\n",
              "      <td>0</td>\n",
              "      <td>1</td>\n",
              "      <td>0</td>\n",
              "      <td>0</td>\n",
              "      <td>0</td>\n",
              "    </tr>\n",
              "    <tr>\n",
              "      <th>4</th>\n",
              "      <td>5</td>\n",
              "      <td>TOYOTA Corolla 2.0 D4D HATCHB SOL 2/3-Doors</td>\n",
              "      <td>13750</td>\n",
              "      <td>30</td>\n",
              "      <td>3</td>\n",
              "      <td>2002</td>\n",
              "      <td>38500</td>\n",
              "      <td>Diesel</td>\n",
              "      <td>90</td>\n",
              "      <td>0</td>\n",
              "      <td>...</td>\n",
              "      <td>1</td>\n",
              "      <td>1</td>\n",
              "      <td>1</td>\n",
              "      <td>0</td>\n",
              "      <td>1</td>\n",
              "      <td>0</td>\n",
              "      <td>1</td>\n",
              "      <td>0</td>\n",
              "      <td>0</td>\n",
              "      <td>0</td>\n",
              "    </tr>\n",
              "    <tr>\n",
              "      <th>...</th>\n",
              "      <td>...</td>\n",
              "      <td>...</td>\n",
              "      <td>...</td>\n",
              "      <td>...</td>\n",
              "      <td>...</td>\n",
              "      <td>...</td>\n",
              "      <td>...</td>\n",
              "      <td>...</td>\n",
              "      <td>...</td>\n",
              "      <td>...</td>\n",
              "      <td>...</td>\n",
              "      <td>...</td>\n",
              "      <td>...</td>\n",
              "      <td>...</td>\n",
              "      <td>...</td>\n",
              "      <td>...</td>\n",
              "      <td>...</td>\n",
              "      <td>...</td>\n",
              "      <td>...</td>\n",
              "      <td>...</td>\n",
              "      <td>...</td>\n",
              "    </tr>\n",
              "    <tr>\n",
              "      <th>1431</th>\n",
              "      <td>1438</td>\n",
              "      <td>TOYOTA Corolla 1.3 16V HATCHB G6 2/3-Doors</td>\n",
              "      <td>7500</td>\n",
              "      <td>69</td>\n",
              "      <td>12</td>\n",
              "      <td>1998</td>\n",
              "      <td>20544</td>\n",
              "      <td>Petrol</td>\n",
              "      <td>86</td>\n",
              "      <td>1</td>\n",
              "      <td>...</td>\n",
              "      <td>1</td>\n",
              "      <td>1</td>\n",
              "      <td>1</td>\n",
              "      <td>0</td>\n",
              "      <td>1</td>\n",
              "      <td>1</td>\n",
              "      <td>1</td>\n",
              "      <td>0</td>\n",
              "      <td>0</td>\n",
              "      <td>0</td>\n",
              "    </tr>\n",
              "    <tr>\n",
              "      <th>1432</th>\n",
              "      <td>1439</td>\n",
              "      <td>TOYOTA Corolla 1.3 16V HATCHB LINEA TERRA 2/3-...</td>\n",
              "      <td>10845</td>\n",
              "      <td>72</td>\n",
              "      <td>9</td>\n",
              "      <td>1998</td>\n",
              "      <td>19000</td>\n",
              "      <td>Petrol</td>\n",
              "      <td>86</td>\n",
              "      <td>0</td>\n",
              "      <td>...</td>\n",
              "      <td>0</td>\n",
              "      <td>0</td>\n",
              "      <td>1</td>\n",
              "      <td>0</td>\n",
              "      <td>0</td>\n",
              "      <td>1</td>\n",
              "      <td>1</td>\n",
              "      <td>0</td>\n",
              "      <td>0</td>\n",
              "      <td>0</td>\n",
              "    </tr>\n",
              "    <tr>\n",
              "      <th>1433</th>\n",
              "      <td>1440</td>\n",
              "      <td>TOYOTA Corolla 1.3 16V HATCHB LINEA TERRA 2/3-...</td>\n",
              "      <td>8500</td>\n",
              "      <td>71</td>\n",
              "      <td>10</td>\n",
              "      <td>1998</td>\n",
              "      <td>17016</td>\n",
              "      <td>Petrol</td>\n",
              "      <td>86</td>\n",
              "      <td>0</td>\n",
              "      <td>...</td>\n",
              "      <td>0</td>\n",
              "      <td>0</td>\n",
              "      <td>1</td>\n",
              "      <td>0</td>\n",
              "      <td>0</td>\n",
              "      <td>0</td>\n",
              "      <td>1</td>\n",
              "      <td>0</td>\n",
              "      <td>0</td>\n",
              "      <td>0</td>\n",
              "    </tr>\n",
              "    <tr>\n",
              "      <th>1434</th>\n",
              "      <td>1441</td>\n",
              "      <td>TOYOTA Corolla 1.3 16V HATCHB LINEA TERRA 2/3-...</td>\n",
              "      <td>7250</td>\n",
              "      <td>70</td>\n",
              "      <td>11</td>\n",
              "      <td>1998</td>\n",
              "      <td>16916</td>\n",
              "      <td>Petrol</td>\n",
              "      <td>86</td>\n",
              "      <td>1</td>\n",
              "      <td>...</td>\n",
              "      <td>0</td>\n",
              "      <td>0</td>\n",
              "      <td>0</td>\n",
              "      <td>0</td>\n",
              "      <td>0</td>\n",
              "      <td>0</td>\n",
              "      <td>1</td>\n",
              "      <td>0</td>\n",
              "      <td>0</td>\n",
              "      <td>0</td>\n",
              "    </tr>\n",
              "    <tr>\n",
              "      <th>1435</th>\n",
              "      <td>1442</td>\n",
              "      <td>TOYOTA Corolla 1.6 LB LINEA TERRA 4/5-Doors</td>\n",
              "      <td>6950</td>\n",
              "      <td>76</td>\n",
              "      <td>5</td>\n",
              "      <td>1998</td>\n",
              "      <td>1</td>\n",
              "      <td>Petrol</td>\n",
              "      <td>110</td>\n",
              "      <td>0</td>\n",
              "      <td>...</td>\n",
              "      <td>0</td>\n",
              "      <td>0</td>\n",
              "      <td>1</td>\n",
              "      <td>0</td>\n",
              "      <td>0</td>\n",
              "      <td>0</td>\n",
              "      <td>0</td>\n",
              "      <td>0</td>\n",
              "      <td>0</td>\n",
              "      <td>0</td>\n",
              "    </tr>\n",
              "  </tbody>\n",
              "</table>\n",
              "<p>1436 rows × 38 columns</p>\n",
              "</div>\n",
              "      <button class=\"colab-df-convert\" onclick=\"convertToInteractive('df-f5e8696f-1d3c-47eb-a648-b5ee056dd8d1')\"\n",
              "              title=\"Convert this dataframe to an interactive table.\"\n",
              "              style=\"display:none;\">\n",
              "        \n",
              "  <svg xmlns=\"http://www.w3.org/2000/svg\" height=\"24px\"viewBox=\"0 0 24 24\"\n",
              "       width=\"24px\">\n",
              "    <path d=\"M0 0h24v24H0V0z\" fill=\"none\"/>\n",
              "    <path d=\"M18.56 5.44l.94 2.06.94-2.06 2.06-.94-2.06-.94-.94-2.06-.94 2.06-2.06.94zm-11 1L8.5 8.5l.94-2.06 2.06-.94-2.06-.94L8.5 2.5l-.94 2.06-2.06.94zm10 10l.94 2.06.94-2.06 2.06-.94-2.06-.94-.94-2.06-.94 2.06-2.06.94z\"/><path d=\"M17.41 7.96l-1.37-1.37c-.4-.4-.92-.59-1.43-.59-.52 0-1.04.2-1.43.59L10.3 9.45l-7.72 7.72c-.78.78-.78 2.05 0 2.83L4 21.41c.39.39.9.59 1.41.59.51 0 1.02-.2 1.41-.59l7.78-7.78 2.81-2.81c.8-.78.8-2.07 0-2.86zM5.41 20L4 18.59l7.72-7.72 1.47 1.35L5.41 20z\"/>\n",
              "  </svg>\n",
              "      </button>\n",
              "      \n",
              "  <style>\n",
              "    .colab-df-container {\n",
              "      display:flex;\n",
              "      flex-wrap:wrap;\n",
              "      gap: 12px;\n",
              "    }\n",
              "\n",
              "    .colab-df-convert {\n",
              "      background-color: #E8F0FE;\n",
              "      border: none;\n",
              "      border-radius: 50%;\n",
              "      cursor: pointer;\n",
              "      display: none;\n",
              "      fill: #1967D2;\n",
              "      height: 32px;\n",
              "      padding: 0 0 0 0;\n",
              "      width: 32px;\n",
              "    }\n",
              "\n",
              "    .colab-df-convert:hover {\n",
              "      background-color: #E2EBFA;\n",
              "      box-shadow: 0px 1px 2px rgba(60, 64, 67, 0.3), 0px 1px 3px 1px rgba(60, 64, 67, 0.15);\n",
              "      fill: #174EA6;\n",
              "    }\n",
              "\n",
              "    [theme=dark] .colab-df-convert {\n",
              "      background-color: #3B4455;\n",
              "      fill: #D2E3FC;\n",
              "    }\n",
              "\n",
              "    [theme=dark] .colab-df-convert:hover {\n",
              "      background-color: #434B5C;\n",
              "      box-shadow: 0px 1px 3px 1px rgba(0, 0, 0, 0.15);\n",
              "      filter: drop-shadow(0px 1px 2px rgba(0, 0, 0, 0.3));\n",
              "      fill: #FFFFFF;\n",
              "    }\n",
              "  </style>\n",
              "\n",
              "      <script>\n",
              "        const buttonEl =\n",
              "          document.querySelector('#df-f5e8696f-1d3c-47eb-a648-b5ee056dd8d1 button.colab-df-convert');\n",
              "        buttonEl.style.display =\n",
              "          google.colab.kernel.accessAllowed ? 'block' : 'none';\n",
              "\n",
              "        async function convertToInteractive(key) {\n",
              "          const element = document.querySelector('#df-f5e8696f-1d3c-47eb-a648-b5ee056dd8d1');\n",
              "          const dataTable =\n",
              "            await google.colab.kernel.invokeFunction('convertToInteractive',\n",
              "                                                     [key], {});\n",
              "          if (!dataTable) return;\n",
              "\n",
              "          const docLinkHtml = 'Like what you see? Visit the ' +\n",
              "            '<a target=\"_blank\" href=https://colab.research.google.com/notebooks/data_table.ipynb>data table notebook</a>'\n",
              "            + ' to learn more about interactive tables.';\n",
              "          element.innerHTML = '';\n",
              "          dataTable['output_type'] = 'display_data';\n",
              "          await google.colab.output.renderOutput(dataTable, element);\n",
              "          const docLink = document.createElement('div');\n",
              "          docLink.innerHTML = docLinkHtml;\n",
              "          element.appendChild(docLink);\n",
              "        }\n",
              "      </script>\n",
              "    </div>\n",
              "  </div>\n",
              "  "
            ]
          },
          "metadata": {},
          "execution_count": 3
        }
      ]
    },
    {
      "cell_type": "code",
      "source": [
        "dataset.info()"
      ],
      "metadata": {
        "colab": {
          "base_uri": "https://localhost:8080/"
        },
        "id": "ifjfHFjr0_U1",
        "outputId": "c0cfeb86-80e5-49fa-fc07-67b54975ccbd"
      },
      "execution_count": 4,
      "outputs": [
        {
          "output_type": "stream",
          "name": "stdout",
          "text": [
            "<class 'pandas.core.frame.DataFrame'>\n",
            "RangeIndex: 1436 entries, 0 to 1435\n",
            "Data columns (total 38 columns):\n",
            " #   Column            Non-Null Count  Dtype \n",
            "---  ------            --------------  ----- \n",
            " 0   Id                1436 non-null   int64 \n",
            " 1   Model             1436 non-null   object\n",
            " 2   Price             1436 non-null   int64 \n",
            " 3   Age_08_04         1436 non-null   int64 \n",
            " 4   Mfg_Month         1436 non-null   int64 \n",
            " 5   Mfg_Year          1436 non-null   int64 \n",
            " 6   KM                1436 non-null   int64 \n",
            " 7   Fuel_Type         1436 non-null   object\n",
            " 8   HP                1436 non-null   int64 \n",
            " 9   Met_Color         1436 non-null   int64 \n",
            " 10  Color             1436 non-null   object\n",
            " 11  Automatic         1436 non-null   int64 \n",
            " 12  cc                1436 non-null   int64 \n",
            " 13  Doors             1436 non-null   int64 \n",
            " 14  Cylinders         1436 non-null   int64 \n",
            " 15  Gears             1436 non-null   int64 \n",
            " 16  Quarterly_Tax     1436 non-null   int64 \n",
            " 17  Weight            1436 non-null   int64 \n",
            " 18  Mfr_Guarantee     1436 non-null   int64 \n",
            " 19  BOVAG_Guarantee   1436 non-null   int64 \n",
            " 20  Guarantee_Period  1436 non-null   int64 \n",
            " 21  ABS               1436 non-null   int64 \n",
            " 22  Airbag_1          1436 non-null   int64 \n",
            " 23  Airbag_2          1436 non-null   int64 \n",
            " 24  Airco             1436 non-null   int64 \n",
            " 25  Automatic_airco   1436 non-null   int64 \n",
            " 26  Boardcomputer     1436 non-null   int64 \n",
            " 27  CD_Player         1436 non-null   int64 \n",
            " 28  Central_Lock      1436 non-null   int64 \n",
            " 29  Powered_Windows   1436 non-null   int64 \n",
            " 30  Power_Steering    1436 non-null   int64 \n",
            " 31  Radio             1436 non-null   int64 \n",
            " 32  Mistlamps         1436 non-null   int64 \n",
            " 33  Sport_Model       1436 non-null   int64 \n",
            " 34  Backseat_Divider  1436 non-null   int64 \n",
            " 35  Metallic_Rim      1436 non-null   int64 \n",
            " 36  Radio_cassette    1436 non-null   int64 \n",
            " 37  Tow_Bar           1436 non-null   int64 \n",
            "dtypes: int64(35), object(3)\n",
            "memory usage: 426.4+ KB\n"
          ]
        }
      ]
    },
    {
      "cell_type": "code",
      "source": [
        "dataset.describe()"
      ],
      "metadata": {
        "colab": {
          "base_uri": "https://localhost:8080/",
          "height": 393
        },
        "id": "PGK1eTlS1A7W",
        "outputId": "b9ac1c79-6ed9-4443-a4da-898326fb0fb4"
      },
      "execution_count": 5,
      "outputs": [
        {
          "output_type": "execute_result",
          "data": {
            "text/plain": [
              "                Id         Price    Age_08_04    Mfg_Month     Mfg_Year  \\\n",
              "count  1436.000000   1436.000000  1436.000000  1436.000000  1436.000000   \n",
              "mean    721.555014  10730.824513    55.947075     5.548747  1999.625348   \n",
              "std     416.476890   3626.964585    18.599988     3.354085     1.540722   \n",
              "min       1.000000   4350.000000     1.000000     1.000000  1998.000000   \n",
              "25%     361.750000   8450.000000    44.000000     3.000000  1998.000000   \n",
              "50%     721.500000   9900.000000    61.000000     5.000000  1999.000000   \n",
              "75%    1081.250000  11950.000000    70.000000     8.000000  2001.000000   \n",
              "max    1442.000000  32500.000000    80.000000    12.000000  2004.000000   \n",
              "\n",
              "                  KM           HP    Met_Color    Automatic           cc  ...  \\\n",
              "count    1436.000000  1436.000000  1436.000000  1436.000000   1436.00000  ...   \n",
              "mean    68533.259749   101.502089     0.674791     0.055710   1576.85585  ...   \n",
              "std     37506.448872    14.981080     0.468616     0.229441    424.38677  ...   \n",
              "min         1.000000    69.000000     0.000000     0.000000   1300.00000  ...   \n",
              "25%     43000.000000    90.000000     0.000000     0.000000   1400.00000  ...   \n",
              "50%     63389.500000   110.000000     1.000000     0.000000   1600.00000  ...   \n",
              "75%     87020.750000   110.000000     1.000000     0.000000   1600.00000  ...   \n",
              "max    243000.000000   192.000000     1.000000     1.000000  16000.00000  ...   \n",
              "\n",
              "       Central_Lock  Powered_Windows  Power_Steering        Radio  \\\n",
              "count   1436.000000      1436.000000     1436.000000  1436.000000   \n",
              "mean       0.580084         0.561978        0.977716     0.146240   \n",
              "std        0.493717         0.496317        0.147657     0.353469   \n",
              "min        0.000000         0.000000        0.000000     0.000000   \n",
              "25%        0.000000         0.000000        1.000000     0.000000   \n",
              "50%        1.000000         1.000000        1.000000     0.000000   \n",
              "75%        1.000000         1.000000        1.000000     0.000000   \n",
              "max        1.000000         1.000000        1.000000     1.000000   \n",
              "\n",
              "         Mistlamps  Sport_Model  Backseat_Divider  Metallic_Rim  \\\n",
              "count  1436.000000  1436.000000       1436.000000   1436.000000   \n",
              "mean      0.256964     0.300139          0.770195      0.204735   \n",
              "std       0.437111     0.458478          0.420854      0.403649   \n",
              "min       0.000000     0.000000          0.000000      0.000000   \n",
              "25%       0.000000     0.000000          1.000000      0.000000   \n",
              "50%       0.000000     0.000000          1.000000      0.000000   \n",
              "75%       1.000000     1.000000          1.000000      0.000000   \n",
              "max       1.000000     1.000000          1.000000      1.000000   \n",
              "\n",
              "       Radio_cassette      Tow_Bar  \n",
              "count     1436.000000  1436.000000  \n",
              "mean         0.145543     0.277855  \n",
              "std          0.352770     0.448098  \n",
              "min          0.000000     0.000000  \n",
              "25%          0.000000     0.000000  \n",
              "50%          0.000000     0.000000  \n",
              "75%          0.000000     1.000000  \n",
              "max          1.000000     1.000000  \n",
              "\n",
              "[8 rows x 35 columns]"
            ],
            "text/html": [
              "\n",
              "  <div id=\"df-824acfa5-6fe7-4603-98f9-6de584f2e37b\">\n",
              "    <div class=\"colab-df-container\">\n",
              "      <div>\n",
              "<style scoped>\n",
              "    .dataframe tbody tr th:only-of-type {\n",
              "        vertical-align: middle;\n",
              "    }\n",
              "\n",
              "    .dataframe tbody tr th {\n",
              "        vertical-align: top;\n",
              "    }\n",
              "\n",
              "    .dataframe thead th {\n",
              "        text-align: right;\n",
              "    }\n",
              "</style>\n",
              "<table border=\"1\" class=\"dataframe\">\n",
              "  <thead>\n",
              "    <tr style=\"text-align: right;\">\n",
              "      <th></th>\n",
              "      <th>Id</th>\n",
              "      <th>Price</th>\n",
              "      <th>Age_08_04</th>\n",
              "      <th>Mfg_Month</th>\n",
              "      <th>Mfg_Year</th>\n",
              "      <th>KM</th>\n",
              "      <th>HP</th>\n",
              "      <th>Met_Color</th>\n",
              "      <th>Automatic</th>\n",
              "      <th>cc</th>\n",
              "      <th>...</th>\n",
              "      <th>Central_Lock</th>\n",
              "      <th>Powered_Windows</th>\n",
              "      <th>Power_Steering</th>\n",
              "      <th>Radio</th>\n",
              "      <th>Mistlamps</th>\n",
              "      <th>Sport_Model</th>\n",
              "      <th>Backseat_Divider</th>\n",
              "      <th>Metallic_Rim</th>\n",
              "      <th>Radio_cassette</th>\n",
              "      <th>Tow_Bar</th>\n",
              "    </tr>\n",
              "  </thead>\n",
              "  <tbody>\n",
              "    <tr>\n",
              "      <th>count</th>\n",
              "      <td>1436.000000</td>\n",
              "      <td>1436.000000</td>\n",
              "      <td>1436.000000</td>\n",
              "      <td>1436.000000</td>\n",
              "      <td>1436.000000</td>\n",
              "      <td>1436.000000</td>\n",
              "      <td>1436.000000</td>\n",
              "      <td>1436.000000</td>\n",
              "      <td>1436.000000</td>\n",
              "      <td>1436.00000</td>\n",
              "      <td>...</td>\n",
              "      <td>1436.000000</td>\n",
              "      <td>1436.000000</td>\n",
              "      <td>1436.000000</td>\n",
              "      <td>1436.000000</td>\n",
              "      <td>1436.000000</td>\n",
              "      <td>1436.000000</td>\n",
              "      <td>1436.000000</td>\n",
              "      <td>1436.000000</td>\n",
              "      <td>1436.000000</td>\n",
              "      <td>1436.000000</td>\n",
              "    </tr>\n",
              "    <tr>\n",
              "      <th>mean</th>\n",
              "      <td>721.555014</td>\n",
              "      <td>10730.824513</td>\n",
              "      <td>55.947075</td>\n",
              "      <td>5.548747</td>\n",
              "      <td>1999.625348</td>\n",
              "      <td>68533.259749</td>\n",
              "      <td>101.502089</td>\n",
              "      <td>0.674791</td>\n",
              "      <td>0.055710</td>\n",
              "      <td>1576.85585</td>\n",
              "      <td>...</td>\n",
              "      <td>0.580084</td>\n",
              "      <td>0.561978</td>\n",
              "      <td>0.977716</td>\n",
              "      <td>0.146240</td>\n",
              "      <td>0.256964</td>\n",
              "      <td>0.300139</td>\n",
              "      <td>0.770195</td>\n",
              "      <td>0.204735</td>\n",
              "      <td>0.145543</td>\n",
              "      <td>0.277855</td>\n",
              "    </tr>\n",
              "    <tr>\n",
              "      <th>std</th>\n",
              "      <td>416.476890</td>\n",
              "      <td>3626.964585</td>\n",
              "      <td>18.599988</td>\n",
              "      <td>3.354085</td>\n",
              "      <td>1.540722</td>\n",
              "      <td>37506.448872</td>\n",
              "      <td>14.981080</td>\n",
              "      <td>0.468616</td>\n",
              "      <td>0.229441</td>\n",
              "      <td>424.38677</td>\n",
              "      <td>...</td>\n",
              "      <td>0.493717</td>\n",
              "      <td>0.496317</td>\n",
              "      <td>0.147657</td>\n",
              "      <td>0.353469</td>\n",
              "      <td>0.437111</td>\n",
              "      <td>0.458478</td>\n",
              "      <td>0.420854</td>\n",
              "      <td>0.403649</td>\n",
              "      <td>0.352770</td>\n",
              "      <td>0.448098</td>\n",
              "    </tr>\n",
              "    <tr>\n",
              "      <th>min</th>\n",
              "      <td>1.000000</td>\n",
              "      <td>4350.000000</td>\n",
              "      <td>1.000000</td>\n",
              "      <td>1.000000</td>\n",
              "      <td>1998.000000</td>\n",
              "      <td>1.000000</td>\n",
              "      <td>69.000000</td>\n",
              "      <td>0.000000</td>\n",
              "      <td>0.000000</td>\n",
              "      <td>1300.00000</td>\n",
              "      <td>...</td>\n",
              "      <td>0.000000</td>\n",
              "      <td>0.000000</td>\n",
              "      <td>0.000000</td>\n",
              "      <td>0.000000</td>\n",
              "      <td>0.000000</td>\n",
              "      <td>0.000000</td>\n",
              "      <td>0.000000</td>\n",
              "      <td>0.000000</td>\n",
              "      <td>0.000000</td>\n",
              "      <td>0.000000</td>\n",
              "    </tr>\n",
              "    <tr>\n",
              "      <th>25%</th>\n",
              "      <td>361.750000</td>\n",
              "      <td>8450.000000</td>\n",
              "      <td>44.000000</td>\n",
              "      <td>3.000000</td>\n",
              "      <td>1998.000000</td>\n",
              "      <td>43000.000000</td>\n",
              "      <td>90.000000</td>\n",
              "      <td>0.000000</td>\n",
              "      <td>0.000000</td>\n",
              "      <td>1400.00000</td>\n",
              "      <td>...</td>\n",
              "      <td>0.000000</td>\n",
              "      <td>0.000000</td>\n",
              "      <td>1.000000</td>\n",
              "      <td>0.000000</td>\n",
              "      <td>0.000000</td>\n",
              "      <td>0.000000</td>\n",
              "      <td>1.000000</td>\n",
              "      <td>0.000000</td>\n",
              "      <td>0.000000</td>\n",
              "      <td>0.000000</td>\n",
              "    </tr>\n",
              "    <tr>\n",
              "      <th>50%</th>\n",
              "      <td>721.500000</td>\n",
              "      <td>9900.000000</td>\n",
              "      <td>61.000000</td>\n",
              "      <td>5.000000</td>\n",
              "      <td>1999.000000</td>\n",
              "      <td>63389.500000</td>\n",
              "      <td>110.000000</td>\n",
              "      <td>1.000000</td>\n",
              "      <td>0.000000</td>\n",
              "      <td>1600.00000</td>\n",
              "      <td>...</td>\n",
              "      <td>1.000000</td>\n",
              "      <td>1.000000</td>\n",
              "      <td>1.000000</td>\n",
              "      <td>0.000000</td>\n",
              "      <td>0.000000</td>\n",
              "      <td>0.000000</td>\n",
              "      <td>1.000000</td>\n",
              "      <td>0.000000</td>\n",
              "      <td>0.000000</td>\n",
              "      <td>0.000000</td>\n",
              "    </tr>\n",
              "    <tr>\n",
              "      <th>75%</th>\n",
              "      <td>1081.250000</td>\n",
              "      <td>11950.000000</td>\n",
              "      <td>70.000000</td>\n",
              "      <td>8.000000</td>\n",
              "      <td>2001.000000</td>\n",
              "      <td>87020.750000</td>\n",
              "      <td>110.000000</td>\n",
              "      <td>1.000000</td>\n",
              "      <td>0.000000</td>\n",
              "      <td>1600.00000</td>\n",
              "      <td>...</td>\n",
              "      <td>1.000000</td>\n",
              "      <td>1.000000</td>\n",
              "      <td>1.000000</td>\n",
              "      <td>0.000000</td>\n",
              "      <td>1.000000</td>\n",
              "      <td>1.000000</td>\n",
              "      <td>1.000000</td>\n",
              "      <td>0.000000</td>\n",
              "      <td>0.000000</td>\n",
              "      <td>1.000000</td>\n",
              "    </tr>\n",
              "    <tr>\n",
              "      <th>max</th>\n",
              "      <td>1442.000000</td>\n",
              "      <td>32500.000000</td>\n",
              "      <td>80.000000</td>\n",
              "      <td>12.000000</td>\n",
              "      <td>2004.000000</td>\n",
              "      <td>243000.000000</td>\n",
              "      <td>192.000000</td>\n",
              "      <td>1.000000</td>\n",
              "      <td>1.000000</td>\n",
              "      <td>16000.00000</td>\n",
              "      <td>...</td>\n",
              "      <td>1.000000</td>\n",
              "      <td>1.000000</td>\n",
              "      <td>1.000000</td>\n",
              "      <td>1.000000</td>\n",
              "      <td>1.000000</td>\n",
              "      <td>1.000000</td>\n",
              "      <td>1.000000</td>\n",
              "      <td>1.000000</td>\n",
              "      <td>1.000000</td>\n",
              "      <td>1.000000</td>\n",
              "    </tr>\n",
              "  </tbody>\n",
              "</table>\n",
              "<p>8 rows × 35 columns</p>\n",
              "</div>\n",
              "      <button class=\"colab-df-convert\" onclick=\"convertToInteractive('df-824acfa5-6fe7-4603-98f9-6de584f2e37b')\"\n",
              "              title=\"Convert this dataframe to an interactive table.\"\n",
              "              style=\"display:none;\">\n",
              "        \n",
              "  <svg xmlns=\"http://www.w3.org/2000/svg\" height=\"24px\"viewBox=\"0 0 24 24\"\n",
              "       width=\"24px\">\n",
              "    <path d=\"M0 0h24v24H0V0z\" fill=\"none\"/>\n",
              "    <path d=\"M18.56 5.44l.94 2.06.94-2.06 2.06-.94-2.06-.94-.94-2.06-.94 2.06-2.06.94zm-11 1L8.5 8.5l.94-2.06 2.06-.94-2.06-.94L8.5 2.5l-.94 2.06-2.06.94zm10 10l.94 2.06.94-2.06 2.06-.94-2.06-.94-.94-2.06-.94 2.06-2.06.94z\"/><path d=\"M17.41 7.96l-1.37-1.37c-.4-.4-.92-.59-1.43-.59-.52 0-1.04.2-1.43.59L10.3 9.45l-7.72 7.72c-.78.78-.78 2.05 0 2.83L4 21.41c.39.39.9.59 1.41.59.51 0 1.02-.2 1.41-.59l7.78-7.78 2.81-2.81c.8-.78.8-2.07 0-2.86zM5.41 20L4 18.59l7.72-7.72 1.47 1.35L5.41 20z\"/>\n",
              "  </svg>\n",
              "      </button>\n",
              "      \n",
              "  <style>\n",
              "    .colab-df-container {\n",
              "      display:flex;\n",
              "      flex-wrap:wrap;\n",
              "      gap: 12px;\n",
              "    }\n",
              "\n",
              "    .colab-df-convert {\n",
              "      background-color: #E8F0FE;\n",
              "      border: none;\n",
              "      border-radius: 50%;\n",
              "      cursor: pointer;\n",
              "      display: none;\n",
              "      fill: #1967D2;\n",
              "      height: 32px;\n",
              "      padding: 0 0 0 0;\n",
              "      width: 32px;\n",
              "    }\n",
              "\n",
              "    .colab-df-convert:hover {\n",
              "      background-color: #E2EBFA;\n",
              "      box-shadow: 0px 1px 2px rgba(60, 64, 67, 0.3), 0px 1px 3px 1px rgba(60, 64, 67, 0.15);\n",
              "      fill: #174EA6;\n",
              "    }\n",
              "\n",
              "    [theme=dark] .colab-df-convert {\n",
              "      background-color: #3B4455;\n",
              "      fill: #D2E3FC;\n",
              "    }\n",
              "\n",
              "    [theme=dark] .colab-df-convert:hover {\n",
              "      background-color: #434B5C;\n",
              "      box-shadow: 0px 1px 3px 1px rgba(0, 0, 0, 0.15);\n",
              "      filter: drop-shadow(0px 1px 2px rgba(0, 0, 0, 0.3));\n",
              "      fill: #FFFFFF;\n",
              "    }\n",
              "  </style>\n",
              "\n",
              "      <script>\n",
              "        const buttonEl =\n",
              "          document.querySelector('#df-824acfa5-6fe7-4603-98f9-6de584f2e37b button.colab-df-convert');\n",
              "        buttonEl.style.display =\n",
              "          google.colab.kernel.accessAllowed ? 'block' : 'none';\n",
              "\n",
              "        async function convertToInteractive(key) {\n",
              "          const element = document.querySelector('#df-824acfa5-6fe7-4603-98f9-6de584f2e37b');\n",
              "          const dataTable =\n",
              "            await google.colab.kernel.invokeFunction('convertToInteractive',\n",
              "                                                     [key], {});\n",
              "          if (!dataTable) return;\n",
              "\n",
              "          const docLinkHtml = 'Like what you see? Visit the ' +\n",
              "            '<a target=\"_blank\" href=https://colab.research.google.com/notebooks/data_table.ipynb>data table notebook</a>'\n",
              "            + ' to learn more about interactive tables.';\n",
              "          element.innerHTML = '';\n",
              "          dataTable['output_type'] = 'display_data';\n",
              "          await google.colab.output.renderOutput(dataTable, element);\n",
              "          const docLink = document.createElement('div');\n",
              "          docLink.innerHTML = docLinkHtml;\n",
              "          element.appendChild(docLink);\n",
              "        }\n",
              "      </script>\n",
              "    </div>\n",
              "  </div>\n",
              "  "
            ]
          },
          "metadata": {},
          "execution_count": 5
        }
      ]
    },
    {
      "cell_type": "markdown",
      "source": [
        "# DEPENDENT AND INDEPENDENT VARIABLE"
      ],
      "metadata": {
        "id": "bYqXibkk1Tc6"
      }
    },
    {
      "cell_type": "code",
      "source": [
        "X = dataset.iloc[:,[3,6, 8, 12, 13, 15, 16 ,17]].values\n",
        "y = dataset.iloc[:, 2].values"
      ],
      "metadata": {
        "id": "TziGIDk23og-"
      },
      "execution_count": 6,
      "outputs": []
    },
    {
      "cell_type": "code",
      "source": [
        "X"
      ],
      "metadata": {
        "colab": {
          "base_uri": "https://localhost:8080/"
        },
        "id": "UBt10E5c33wy",
        "outputId": "5d7e0cda-1f57-4381-ffcd-2463e92696c6"
      },
      "execution_count": 7,
      "outputs": [
        {
          "output_type": "execute_result",
          "data": {
            "text/plain": [
              "array([[   23, 46986,    90, ...,     5,   210,  1165],\n",
              "       [   23, 72937,    90, ...,     5,   210,  1165],\n",
              "       [   24, 41711,    90, ...,     5,   210,  1165],\n",
              "       ...,\n",
              "       [   71, 17016,    86, ...,     5,    69,  1015],\n",
              "       [   70, 16916,    86, ...,     5,    69,  1015],\n",
              "       [   76,     1,   110, ...,     5,    19,  1114]])"
            ]
          },
          "metadata": {},
          "execution_count": 7
        }
      ]
    },
    {
      "cell_type": "code",
      "source": [
        "y"
      ],
      "metadata": {
        "id": "5jC63qxa4Fiw",
        "colab": {
          "base_uri": "https://localhost:8080/"
        },
        "outputId": "4a3a2663-9ced-43bc-bfbb-91b2b8b63a11"
      },
      "execution_count": 8,
      "outputs": [
        {
          "output_type": "execute_result",
          "data": {
            "text/plain": [
              "array([13500, 13750, 13950, ...,  8500,  7250,  6950])"
            ]
          },
          "metadata": {},
          "execution_count": 8
        }
      ]
    },
    {
      "cell_type": "markdown",
      "source": [
        "# SPLITTING THE DATASET"
      ],
      "metadata": {
        "id": "WO9RihCY_wMN"
      }
    },
    {
      "cell_type": "code",
      "source": [
        "from sklearn.model_selection import train_test_split\n",
        "X_train, X_test, y_train, y_test = train_test_split(X, y, test_size = 0.2, random_state = 0 )"
      ],
      "metadata": {
        "id": "tFpZdAU-_v5u"
      },
      "execution_count": 9,
      "outputs": []
    },
    {
      "cell_type": "code",
      "source": [
        "X_train"
      ],
      "metadata": {
        "colab": {
          "base_uri": "https://localhost:8080/"
        },
        "id": "dtW92yON_jMf",
        "outputId": "ebfd9e66-25fc-4325-ae36-80ce218ae9ad"
      },
      "execution_count": 10,
      "outputs": [
        {
          "output_type": "execute_result",
          "data": {
            "text/plain": [
              "array([[    67, 174833,     72, ...,      5,    185,   1100],\n",
              "       [    51,  53408,    110, ...,      5,     85,   1080],\n",
              "       [    60,  61977,     86, ...,      5,     69,   1015],\n",
              "       ...,\n",
              "       [    70,  85864,     72, ...,      5,    185,   1135],\n",
              "       [    50,  39706,    110, ...,      5,     85,   1080],\n",
              "       [    68, 101001,    110, ...,      5,     85,   1075]])"
            ]
          },
          "metadata": {},
          "execution_count": 10
        }
      ]
    },
    {
      "cell_type": "code",
      "source": [
        "X_test"
      ],
      "metadata": {
        "colab": {
          "base_uri": "https://localhost:8080/"
        },
        "id": "LBmT_BPf_3S8",
        "outputId": "0a101470-a01c-400a-bbaa-877e673cd799"
      },
      "execution_count": 11,
      "outputs": [
        {
          "output_type": "execute_result",
          "data": {
            "text/plain": [
              "array([[    68, 115071,    110, ...,      5,     85,   1055],\n",
              "       [    52,  99323,    110, ...,      5,     85,   1055],\n",
              "       [    42,  29640,    110, ...,      5,     85,   1055],\n",
              "       ...,\n",
              "       [    67,  42102,    110, ...,      5,     85,   1075],\n",
              "       [    40,  32532,    110, ...,      5,     69,   1040],\n",
              "       [    69, 155000,     72, ...,      5,    185,   1115]])"
            ]
          },
          "metadata": {},
          "execution_count": 11
        }
      ]
    },
    {
      "cell_type": "code",
      "source": [
        "y_train"
      ],
      "metadata": {
        "colab": {
          "base_uri": "https://localhost:8080/"
        },
        "id": "KKBdxbWF_4WU",
        "outputId": "8e9dadd8-aecb-462c-c073-49aa01e0b048"
      },
      "execution_count": 12,
      "outputs": [
        {
          "output_type": "execute_result",
          "data": {
            "text/plain": [
              "array([ 5751, 11900,  8500, ...,  8500, 13500,  8950])"
            ]
          },
          "metadata": {},
          "execution_count": 12
        }
      ]
    },
    {
      "cell_type": "code",
      "source": [
        "y_test"
      ],
      "metadata": {
        "colab": {
          "base_uri": "https://localhost:8080/"
        },
        "id": "rA8PosDE_5sr",
        "outputId": "8ea693bd-776d-4690-f2af-1854e8f66e1b"
      },
      "execution_count": 13,
      "outputs": [
        {
          "output_type": "execute_result",
          "data": {
            "text/plain": [
              "array([ 7950, 10950, 14950,  7500,  9900,  8900,  6950, 15750, 11950,\n",
              "        9930,  8500, 10450, 11895,  9950,  6450, 15500, 11950,  6900,\n",
              "       10950,  9750,  7350,  8950, 13750, 14950, 19950,  9450, 11500,\n",
              "        8500,  9450,  8800, 11450, 10500, 13750,  8250, 10950, 11950,\n",
              "        8950, 12900,  9500,  9950,  8950,  9500,  9950, 15500, 10950,\n",
              "        7500,  9450,  9500, 10845,  8500, 19750,  8950,  7250,  6750,\n",
              "       10950, 19950, 11000,  8950, 17795, 10500,  5740,  7750, 10950,\n",
              "       10500, 12500, 12900,  8450,  7950, 19450, 11450,  9500,  4450,\n",
              "       11690,  7900, 14750, 14990,  9950,  7450,  6950,  8250,  6750,\n",
              "        6900,  5950, 12750, 11950, 10750,  8950, 11950,  8250,  7450,\n",
              "        6950, 10750, 17450,  9940,  7950, 12250, 12950, 10950, 12450,\n",
              "        6900,  8500, 10750,  9700,  9250,  7900, 19000, 18450,  8500,\n",
              "       13250, 10400, 12500,  9200,  8500,  8250, 13750,  8950,  7950,\n",
              "       10950,  9900,  7750, 20500,  9950, 13995, 10250,  7950, 23950,\n",
              "        7950, 11500,  9250,  9950, 17950,  8950,  9980, 10500, 21125,\n",
              "       11950, 11950, 12450,  7995, 13500, 15750,  8850,  8750,  7750,\n",
              "        9895, 20750, 11950, 13950, 10950, 11950,  7950, 12950,  9950,\n",
              "        8950, 11450, 16950,  9900,  8950,  8450,  8750,  7400,  8500,\n",
              "        7800, 16750,  9950,  6450, 21950,  8750,  8200, 15800, 10450,\n",
              "       10900,  9950,  7500,  8250,  9950,  8250, 11900, 16450,  9995,\n",
              "       10950,  8950,  9250, 14750, 11450,  8750,  8950, 13950, 13750,\n",
              "        5950,  9950,  8500,  4750, 10950, 10950,  8950, 18950,  8950,\n",
              "        7950,  6500,  9900, 10750, 13950, 15250, 11500,  8750, 10450,\n",
              "       11950,  8950,  6950, 10950,  6950,  9250,  7950,  7250, 17950,\n",
              "       22500, 10500,  7600, 10950,  6900,  6500,  9950,  9800, 12950,\n",
              "        9950,  9450, 16950,  9950, 10950,  7750, 10950,  8750, 12950,\n",
              "        8050,  8950,  7450,  7950,  8250, 14950,  8695,  9950,  5950,\n",
              "        7950, 18950,  7200, 12950,  6950, 11950,  8950,  8750,  7750,\n",
              "       12950,  9450,  7500, 10000,  9900, 16500,  8950, 10750, 19950,\n",
              "        9950, 14750,  6900, 13950,  8950, 16950,  9800,  7950,  9450,\n",
              "       12900,  8950, 10750, 13950,  6950, 19500, 21500,  7450,  9950,\n",
              "       11500,  6900,  8450,  5250, 10450,  9400,  9950, 11750,  7950])"
            ]
          },
          "metadata": {},
          "execution_count": 13
        }
      ]
    },
    {
      "cell_type": "markdown",
      "source": [
        "# FEATURE SCALING"
      ],
      "metadata": {
        "id": "8sem3Xm-A7Nl"
      }
    },
    {
      "cell_type": "code",
      "source": [
        "from sklearn.preprocessing import StandardScaler\n",
        "sc_X = StandardScaler()\n",
        "X_train = sc_X.fit_transform(X_train)\n",
        "X_test = sc_X.fit_transform(X_test)"
      ],
      "metadata": {
        "id": "tX6Nmj0r_6dQ"
      },
      "execution_count": 14,
      "outputs": []
    },
    {
      "cell_type": "markdown",
      "source": [
        "# ML_ALGORITHM(MLR)"
      ],
      "metadata": {
        "id": "enXW3AzxBDfz"
      }
    },
    {
      "cell_type": "code",
      "source": [
        "from sklearn.linear_model import LinearRegression\n",
        "regressor = LinearRegression()\n",
        "regressor.fit(X_train, y_train)"
      ],
      "metadata": {
        "colab": {
          "base_uri": "https://localhost:8080/",
          "height": 74
        },
        "id": "LVbV3vVvBB6l",
        "outputId": "75122283-d6d4-4297-9b68-24c002d31c1f"
      },
      "execution_count": 15,
      "outputs": [
        {
          "output_type": "execute_result",
          "data": {
            "text/plain": [
              "LinearRegression()"
            ],
            "text/html": [
              "<style>#sk-container-id-1 {color: black;background-color: white;}#sk-container-id-1 pre{padding: 0;}#sk-container-id-1 div.sk-toggleable {background-color: white;}#sk-container-id-1 label.sk-toggleable__label {cursor: pointer;display: block;width: 100%;margin-bottom: 0;padding: 0.3em;box-sizing: border-box;text-align: center;}#sk-container-id-1 label.sk-toggleable__label-arrow:before {content: \"▸\";float: left;margin-right: 0.25em;color: #696969;}#sk-container-id-1 label.sk-toggleable__label-arrow:hover:before {color: black;}#sk-container-id-1 div.sk-estimator:hover label.sk-toggleable__label-arrow:before {color: black;}#sk-container-id-1 div.sk-toggleable__content {max-height: 0;max-width: 0;overflow: hidden;text-align: left;background-color: #f0f8ff;}#sk-container-id-1 div.sk-toggleable__content pre {margin: 0.2em;color: black;border-radius: 0.25em;background-color: #f0f8ff;}#sk-container-id-1 input.sk-toggleable__control:checked~div.sk-toggleable__content {max-height: 200px;max-width: 100%;overflow: auto;}#sk-container-id-1 input.sk-toggleable__control:checked~label.sk-toggleable__label-arrow:before {content: \"▾\";}#sk-container-id-1 div.sk-estimator input.sk-toggleable__control:checked~label.sk-toggleable__label {background-color: #d4ebff;}#sk-container-id-1 div.sk-label input.sk-toggleable__control:checked~label.sk-toggleable__label {background-color: #d4ebff;}#sk-container-id-1 input.sk-hidden--visually {border: 0;clip: rect(1px 1px 1px 1px);clip: rect(1px, 1px, 1px, 1px);height: 1px;margin: -1px;overflow: hidden;padding: 0;position: absolute;width: 1px;}#sk-container-id-1 div.sk-estimator {font-family: monospace;background-color: #f0f8ff;border: 1px dotted black;border-radius: 0.25em;box-sizing: border-box;margin-bottom: 0.5em;}#sk-container-id-1 div.sk-estimator:hover {background-color: #d4ebff;}#sk-container-id-1 div.sk-parallel-item::after {content: \"\";width: 100%;border-bottom: 1px solid gray;flex-grow: 1;}#sk-container-id-1 div.sk-label:hover label.sk-toggleable__label {background-color: #d4ebff;}#sk-container-id-1 div.sk-serial::before {content: \"\";position: absolute;border-left: 1px solid gray;box-sizing: border-box;top: 0;bottom: 0;left: 50%;z-index: 0;}#sk-container-id-1 div.sk-serial {display: flex;flex-direction: column;align-items: center;background-color: white;padding-right: 0.2em;padding-left: 0.2em;position: relative;}#sk-container-id-1 div.sk-item {position: relative;z-index: 1;}#sk-container-id-1 div.sk-parallel {display: flex;align-items: stretch;justify-content: center;background-color: white;position: relative;}#sk-container-id-1 div.sk-item::before, #sk-container-id-1 div.sk-parallel-item::before {content: \"\";position: absolute;border-left: 1px solid gray;box-sizing: border-box;top: 0;bottom: 0;left: 50%;z-index: -1;}#sk-container-id-1 div.sk-parallel-item {display: flex;flex-direction: column;z-index: 1;position: relative;background-color: white;}#sk-container-id-1 div.sk-parallel-item:first-child::after {align-self: flex-end;width: 50%;}#sk-container-id-1 div.sk-parallel-item:last-child::after {align-self: flex-start;width: 50%;}#sk-container-id-1 div.sk-parallel-item:only-child::after {width: 0;}#sk-container-id-1 div.sk-dashed-wrapped {border: 1px dashed gray;margin: 0 0.4em 0.5em 0.4em;box-sizing: border-box;padding-bottom: 0.4em;background-color: white;}#sk-container-id-1 div.sk-label label {font-family: monospace;font-weight: bold;display: inline-block;line-height: 1.2em;}#sk-container-id-1 div.sk-label-container {text-align: center;}#sk-container-id-1 div.sk-container {/* jupyter's `normalize.less` sets `[hidden] { display: none; }` but bootstrap.min.css set `[hidden] { display: none !important; }` so we also need the `!important` here to be able to override the default hidden behavior on the sphinx rendered scikit-learn.org. See: https://github.com/scikit-learn/scikit-learn/issues/21755 */display: inline-block !important;position: relative;}#sk-container-id-1 div.sk-text-repr-fallback {display: none;}</style><div id=\"sk-container-id-1\" class=\"sk-top-container\"><div class=\"sk-text-repr-fallback\"><pre>LinearRegression()</pre><b>In a Jupyter environment, please rerun this cell to show the HTML representation or trust the notebook. <br />On GitHub, the HTML representation is unable to render, please try loading this page with nbviewer.org.</b></div><div class=\"sk-container\" hidden><div class=\"sk-item\"><div class=\"sk-estimator sk-toggleable\"><input class=\"sk-toggleable__control sk-hidden--visually\" id=\"sk-estimator-id-1\" type=\"checkbox\" checked><label for=\"sk-estimator-id-1\" class=\"sk-toggleable__label sk-toggleable__label-arrow\">LinearRegression</label><div class=\"sk-toggleable__content\"><pre>LinearRegression()</pre></div></div></div></div></div>"
            ]
          },
          "metadata": {},
          "execution_count": 15
        }
      ]
    },
    {
      "cell_type": "code",
      "source": [
        "# PREDICTING THE TEST\n",
        "y_pred = regressor.predict(X_test)"
      ],
      "metadata": {
        "id": "ffKONmvYBLRs"
      },
      "execution_count": 16,
      "outputs": []
    },
    {
      "cell_type": "code",
      "source": [
        "y_pred"
      ],
      "metadata": {
        "colab": {
          "base_uri": "https://localhost:8080/"
        },
        "id": "4IikQPpJBNWI",
        "outputId": "a1e3a59a-e9b3-4b08-9f12-a3865a681bce"
      },
      "execution_count": 17,
      "outputs": [
        {
          "output_type": "execute_result",
          "data": {
            "text/plain": [
              "array([ 8125.59575389, 10384.5381696 , 12913.53086391,  7482.68619674,\n",
              "       10341.95774375,  9386.32821768,  6898.54120341, 16010.61479575,\n",
              "       11252.43303344, 10319.26660479,  7708.32899098, 11066.62299472,\n",
              "       11753.69013645,  9589.65877984,  7244.70901295, 15902.31676141,\n",
              "       11109.33778922,  7580.92375753, 12713.62425062,  8343.71228103,\n",
              "        6076.09298193,  5473.23932941, 11610.80193339, 12960.35039111,\n",
              "       19157.39984794,  7566.05596435, 14016.48097395,  6459.44920999,\n",
              "        9169.94278666,  7286.49369284, 11430.37958263,  7065.89430775,\n",
              "       17044.0472313 ,  7035.9671889 , 11753.68345826, 12474.53441314,\n",
              "       10554.56270707, 12097.60588317,  9724.69166357,  8383.42500374,\n",
              "        8186.79078853, 10541.09719992,  9995.44795483, 17231.2413631 ,\n",
              "       10509.96999084,  6417.08227634,  9439.06994505,  7148.56938116,\n",
              "        7812.29660083,  8664.83434072, 19381.23665568,  8332.67219359,\n",
              "        6967.99866109,  5864.38222552, 11415.00882952, 18303.38497466,\n",
              "       13665.70444929, 10025.87140242, 18758.2803654 , 10543.61390699,\n",
              "        6317.5842617 ,  7664.11020944, 11003.15673264, 12150.73679987,\n",
              "       10329.55863794, 13936.45293158,  7681.61460801,  6175.17601609,\n",
              "       17624.40395254, 10250.93485263,  9739.38177387,  9105.08932198,\n",
              "       12993.99739737,  7017.48174862, 15784.79923513, 13093.23997927,\n",
              "       10828.68439124,  6651.44205307,  8037.0193094 ,  8004.13225088,\n",
              "        6162.94313801,  9485.61812185,  5834.26304176, 11313.48804965,\n",
              "       11518.28032249, 10121.83971258, 12213.92413069, 12416.05630458,\n",
              "        7837.55861321,  9422.71734581,  5744.65108763,  9801.31209979,\n",
              "       16701.90900865, 12749.57060042,  7987.20757962, 12115.59125609,\n",
              "       16378.37980996,  9922.38993296, 13402.5210092 ,  7427.76865597,\n",
              "        8232.8716415 , 11738.26168006, 11806.07553094,  8078.71835617,\n",
              "        7651.74130326, 19484.56433145, 18059.12540615,  8057.33496326,\n",
              "       14246.53735683,  8104.10230855, 13237.28722391,  9123.80135558,\n",
              "       10334.2030084 ,  9415.70547918, 13088.54875258,  8519.34446635,\n",
              "        8664.98341684, 12155.7631149 ,  9278.87973746,  8051.58848313,\n",
              "       17327.12365443,  6784.71004418, 13966.32046394,  9953.30569122,\n",
              "        7835.10624385, 20659.40159032,  6387.7395941 , 10057.03236071,\n",
              "        9208.58885675,  9916.50836115, 17188.93690245,  8834.0774923 ,\n",
              "       10850.22856243,  9775.41857555, 19294.03831335, 10698.39887898,\n",
              "       12036.00504033, 12868.54162704, 10206.21255251, 14222.51072388,\n",
              "       15790.98792108, 10207.37265902,  8669.18317305,  7233.22004347,\n",
              "        9111.92854731, 17449.14734113, 10287.74823186, 12603.84653482,\n",
              "       11072.49454735, 12306.62458197,  7192.34393327, 13330.42811479,\n",
              "       10959.33171438,  6207.34031529, 10962.11006529, 14893.51026703,\n",
              "       10107.04468832,  9600.51013153,  7465.31090445,  8374.50550365,\n",
              "        7858.68048649,  9058.65920432,  7794.52391876, 14941.62958248,\n",
              "       11004.15436472,  8760.91100587, 19982.39661362,  8975.31425282,\n",
              "        8438.75685584, 15440.99690512,  9792.09316796, 10196.79187928,\n",
              "        9334.51099681,  8182.62789292,  8002.11330804, 10344.18514113,\n",
              "        8538.43630063, 12879.82284072, 16665.98325573, 10761.22583285,\n",
              "       11360.44928225,  9057.53842516,  7161.47299198, 15540.30092225,\n",
              "       12250.71826092,  8592.61546457,  9309.89528331, 17605.51256374,\n",
              "       17145.36794197,  6190.79443391,  9904.10185098,  8084.89283232,\n",
              "       10539.25763691, 12391.96770843, 10267.49706334,  7069.57967533,\n",
              "       17999.77857176,  7386.02954738,  7027.46346597,  4575.82309757,\n",
              "        9517.43038093, 11937.85797162, 13323.20056109, 15298.52147009,\n",
              "       11015.89012454,  9738.81766536, 12165.09206662, 10471.13774931,\n",
              "        8106.37119772,  5751.12690987, 13533.8670996 ,  8269.56522598,\n",
              "        7925.92865316,  6420.00530551,  6875.46568905, 16234.31190349,\n",
              "       20264.14045297, 10655.31611829,  8052.17043933, 11733.54555857,\n",
              "        7402.89821207,  7521.46147984, 10251.33693305,  8256.80838697,\n",
              "       13511.53431916, 11406.07543835,  9834.13015708, 17539.88205966,\n",
              "       10387.96908506, 10758.54786063,  8353.885289  ,  9984.21759591,\n",
              "       10302.42508773, 15035.966223  ,  6358.88106565,  8864.29014841,\n",
              "        7265.81223512,  6442.40866289,  8487.311606  , 13561.86840744,\n",
              "       11733.15194217, 10152.89745785,  6775.97548534,  8468.96506796,\n",
              "       11870.40518103,  7537.21528803, 11644.65396361, 12324.30781699,\n",
              "       10206.01597978,  9070.33792701,  8328.67332936,  8590.21893018,\n",
              "       12979.78466538, 10251.39118432, 16301.82510762,  8824.07661905,\n",
              "        9484.72788882, 16290.0420488 ,  7783.72797611,  9227.11450927,\n",
              "       21096.71220937, 10084.94764441, 16372.36414371,  8816.36269661,\n",
              "       15751.86444996,  9976.36423343, 16606.27211883,  9273.85394603,\n",
              "        6983.43408951, 10251.83783146, 12071.69835715,  9897.6483548 ,\n",
              "       11273.77783348, 11887.78911417,  9486.76113266, 17543.36639098,\n",
              "       20371.24397046,  5886.70271148,  8409.81183812, 12772.65415901,\n",
              "        8192.32506414,  8987.59008782,  7192.62796551, 11335.23300144,\n",
              "        9954.09674976, 10015.85684535, 12640.17028304,  8096.56979473])"
            ]
          },
          "metadata": {},
          "execution_count": 17
        }
      ]
    },
    {
      "cell_type": "code",
      "source": [
        "y_test"
      ],
      "metadata": {
        "colab": {
          "base_uri": "https://localhost:8080/"
        },
        "id": "h5kufZkS-vwy",
        "outputId": "c5bea5e6-91d8-4155-c635-212266ddabeb"
      },
      "execution_count": 18,
      "outputs": [
        {
          "output_type": "execute_result",
          "data": {
            "text/plain": [
              "array([ 7950, 10950, 14950,  7500,  9900,  8900,  6950, 15750, 11950,\n",
              "        9930,  8500, 10450, 11895,  9950,  6450, 15500, 11950,  6900,\n",
              "       10950,  9750,  7350,  8950, 13750, 14950, 19950,  9450, 11500,\n",
              "        8500,  9450,  8800, 11450, 10500, 13750,  8250, 10950, 11950,\n",
              "        8950, 12900,  9500,  9950,  8950,  9500,  9950, 15500, 10950,\n",
              "        7500,  9450,  9500, 10845,  8500, 19750,  8950,  7250,  6750,\n",
              "       10950, 19950, 11000,  8950, 17795, 10500,  5740,  7750, 10950,\n",
              "       10500, 12500, 12900,  8450,  7950, 19450, 11450,  9500,  4450,\n",
              "       11690,  7900, 14750, 14990,  9950,  7450,  6950,  8250,  6750,\n",
              "        6900,  5950, 12750, 11950, 10750,  8950, 11950,  8250,  7450,\n",
              "        6950, 10750, 17450,  9940,  7950, 12250, 12950, 10950, 12450,\n",
              "        6900,  8500, 10750,  9700,  9250,  7900, 19000, 18450,  8500,\n",
              "       13250, 10400, 12500,  9200,  8500,  8250, 13750,  8950,  7950,\n",
              "       10950,  9900,  7750, 20500,  9950, 13995, 10250,  7950, 23950,\n",
              "        7950, 11500,  9250,  9950, 17950,  8950,  9980, 10500, 21125,\n",
              "       11950, 11950, 12450,  7995, 13500, 15750,  8850,  8750,  7750,\n",
              "        9895, 20750, 11950, 13950, 10950, 11950,  7950, 12950,  9950,\n",
              "        8950, 11450, 16950,  9900,  8950,  8450,  8750,  7400,  8500,\n",
              "        7800, 16750,  9950,  6450, 21950,  8750,  8200, 15800, 10450,\n",
              "       10900,  9950,  7500,  8250,  9950,  8250, 11900, 16450,  9995,\n",
              "       10950,  8950,  9250, 14750, 11450,  8750,  8950, 13950, 13750,\n",
              "        5950,  9950,  8500,  4750, 10950, 10950,  8950, 18950,  8950,\n",
              "        7950,  6500,  9900, 10750, 13950, 15250, 11500,  8750, 10450,\n",
              "       11950,  8950,  6950, 10950,  6950,  9250,  7950,  7250, 17950,\n",
              "       22500, 10500,  7600, 10950,  6900,  6500,  9950,  9800, 12950,\n",
              "        9950,  9450, 16950,  9950, 10950,  7750, 10950,  8750, 12950,\n",
              "        8050,  8950,  7450,  7950,  8250, 14950,  8695,  9950,  5950,\n",
              "        7950, 18950,  7200, 12950,  6950, 11950,  8950,  8750,  7750,\n",
              "       12950,  9450,  7500, 10000,  9900, 16500,  8950, 10750, 19950,\n",
              "        9950, 14750,  6900, 13950,  8950, 16950,  9800,  7950,  9450,\n",
              "       12900,  8950, 10750, 13950,  6950, 19500, 21500,  7450,  9950,\n",
              "       11500,  6900,  8450,  5250, 10450,  9400,  9950, 11750,  7950])"
            ]
          },
          "metadata": {},
          "execution_count": 18
        }
      ]
    },
    {
      "cell_type": "code",
      "source": [
        "from sklearn.metrics import mean_absolute_percentage_error, r2_score\n",
        "mape = mean_absolute_percentage_error(y_true = y_test, y_pred= y_pred)\n",
        "rsquare = r2_score(y_true = y_test, y_pred= y_pred)\n",
        "\n",
        "print(\"MAPE:\", mape)\n",
        "print(\"Adj.Rsquare:\", rsquare)"
      ],
      "metadata": {
        "colab": {
          "base_uri": "https://localhost:8080/"
        },
        "id": "CaUj6-GHBN-U",
        "outputId": "d4e68c44-a78b-403a-890a-1f1de0084ace"
      },
      "execution_count": 19,
      "outputs": [
        {
          "output_type": "stream",
          "name": "stdout",
          "text": [
            "MAPE: 0.1125797483672882\n",
            "Adj.Rsquare: 0.8060939424828722\n"
          ]
        }
      ]
    },
    {
      "cell_type": "markdown",
      "source": [
        "# OPTIMAL MODEL"
      ],
      "metadata": {
        "id": "4NQz_9OtBZqA"
      }
    },
    {
      "cell_type": "code",
      "source": [
        "import statsmodels.api as sm \n",
        "X = np.append(arr = np.ones((1436,1)).astype(int), values = X, axis = 1)"
      ],
      "metadata": {
        "id": "_NT6wbq-BSyN"
      },
      "execution_count": 20,
      "outputs": []
    },
    {
      "cell_type": "code",
      "source": [
        "X"
      ],
      "metadata": {
        "colab": {
          "base_uri": "https://localhost:8080/"
        },
        "id": "BGv6t3LZBiKV",
        "outputId": "d23df4c6-50a8-4271-a077-ca48106622ea"
      },
      "execution_count": 21,
      "outputs": [
        {
          "output_type": "execute_result",
          "data": {
            "text/plain": [
              "array([[    1,    23, 46986, ...,     5,   210,  1165],\n",
              "       [    1,    23, 72937, ...,     5,   210,  1165],\n",
              "       [    1,    24, 41711, ...,     5,   210,  1165],\n",
              "       ...,\n",
              "       [    1,    71, 17016, ...,     5,    69,  1015],\n",
              "       [    1,    70, 16916, ...,     5,    69,  1015],\n",
              "       [    1,    76,     1, ...,     5,    19,  1114]])"
            ]
          },
          "metadata": {},
          "execution_count": 21
        }
      ]
    },
    {
      "cell_type": "code",
      "source": [
        "# BACKWARD ELIMINATION\n",
        "X_opt = X[:, [0,1,2,3,4,5,6,7]]"
      ],
      "metadata": {
        "id": "9d7GMEJKBx-a"
      },
      "execution_count": 22,
      "outputs": []
    },
    {
      "cell_type": "code",
      "source": [
        "X_opt = np.array(X_opt, dtype = float)"
      ],
      "metadata": {
        "id": "AeYlGKGVB6to"
      },
      "execution_count": 23,
      "outputs": []
    },
    {
      "cell_type": "code",
      "source": [
        "regressor_OLS = sm.OLS(endog = y, exog = X_opt).fit()\n",
        "regressor_OLS.summary()"
      ],
      "metadata": {
        "colab": {
          "base_uri": "https://localhost:8080/",
          "height": 601
        },
        "id": "Vk8v-rGfCC8i",
        "outputId": "7e2122e5-31d6-44c4-9e2f-7d2532781521"
      },
      "execution_count": 24,
      "outputs": [
        {
          "output_type": "execute_result",
          "data": {
            "text/plain": [
              "<class 'statsmodels.iolib.summary.Summary'>\n",
              "\"\"\"\n",
              "                            OLS Regression Results                            \n",
              "==============================================================================\n",
              "Dep. Variable:                      y   R-squared:                       0.840\n",
              "Model:                            OLS   Adj. R-squared:                  0.839\n",
              "Method:                 Least Squares   F-statistic:                     1069.\n",
              "Date:                Sat, 11 Mar 2023   Prob (F-statistic):               0.00\n",
              "Time:                        18:43:41   Log-Likelihood:                -12492.\n",
              "No. Observations:                1436   AIC:                         2.500e+04\n",
              "Df Residuals:                    1428   BIC:                         2.504e+04\n",
              "Df Model:                           7                                         \n",
              "Covariance Type:            nonrobust                                         \n",
              "==============================================================================\n",
              "                 coef    std err          t      P>|t|      [0.025      0.975]\n",
              "------------------------------------------------------------------------------\n",
              "const       9980.6587   1101.951      9.057      0.000    7819.042    1.21e+04\n",
              "x1          -136.3855      2.652    -51.426      0.000    -141.588    -131.183\n",
              "x2            -0.0201      0.001    -14.793      0.000      -0.023      -0.017\n",
              "x3            43.5743      2.946     14.790      0.000      37.795      49.354\n",
              "x4             0.1066      0.096      1.106      0.269      -0.083       0.296\n",
              "x5           157.9483     41.991      3.762      0.000      75.578     240.318\n",
              "x6           620.1432    213.676      2.902      0.004     200.990    1039.296\n",
              "x7            16.1981      1.148     14.108      0.000      13.946      18.450\n",
              "==============================================================================\n",
              "Omnibus:                      211.411   Durbin-Watson:                   1.371\n",
              "Prob(Omnibus):                  0.000   Jarque-Bera (JB):              765.784\n",
              "Skew:                           0.690   Prob(JB):                    5.15e-167\n",
              "Kurtosis:                       6.301   Cond. No.                     2.28e+06\n",
              "==============================================================================\n",
              "\n",
              "Notes:\n",
              "[1] Standard Errors assume that the covariance matrix of the errors is correctly specified.\n",
              "[2] The condition number is large, 2.28e+06. This might indicate that there are\n",
              "strong multicollinearity or other numerical problems.\n",
              "\"\"\""
            ],
            "text/html": [
              "<table class=\"simpletable\">\n",
              "<caption>OLS Regression Results</caption>\n",
              "<tr>\n",
              "  <th>Dep. Variable:</th>            <td>y</td>        <th>  R-squared:         </th> <td>   0.840</td> \n",
              "</tr>\n",
              "<tr>\n",
              "  <th>Model:</th>                   <td>OLS</td>       <th>  Adj. R-squared:    </th> <td>   0.839</td> \n",
              "</tr>\n",
              "<tr>\n",
              "  <th>Method:</th>             <td>Least Squares</td>  <th>  F-statistic:       </th> <td>   1069.</td> \n",
              "</tr>\n",
              "<tr>\n",
              "  <th>Date:</th>             <td>Sat, 11 Mar 2023</td> <th>  Prob (F-statistic):</th>  <td>  0.00</td>  \n",
              "</tr>\n",
              "<tr>\n",
              "  <th>Time:</th>                 <td>18:43:41</td>     <th>  Log-Likelihood:    </th> <td> -12492.</td> \n",
              "</tr>\n",
              "<tr>\n",
              "  <th>No. Observations:</th>      <td>  1436</td>      <th>  AIC:               </th> <td>2.500e+04</td>\n",
              "</tr>\n",
              "<tr>\n",
              "  <th>Df Residuals:</th>          <td>  1428</td>      <th>  BIC:               </th> <td>2.504e+04</td>\n",
              "</tr>\n",
              "<tr>\n",
              "  <th>Df Model:</th>              <td>     7</td>      <th>                     </th>     <td> </td>    \n",
              "</tr>\n",
              "<tr>\n",
              "  <th>Covariance Type:</th>      <td>nonrobust</td>    <th>                     </th>     <td> </td>    \n",
              "</tr>\n",
              "</table>\n",
              "<table class=\"simpletable\">\n",
              "<tr>\n",
              "    <td></td>       <th>coef</th>     <th>std err</th>      <th>t</th>      <th>P>|t|</th>  <th>[0.025</th>    <th>0.975]</th>  \n",
              "</tr>\n",
              "<tr>\n",
              "  <th>const</th> <td> 9980.6587</td> <td> 1101.951</td> <td>    9.057</td> <td> 0.000</td> <td> 7819.042</td> <td> 1.21e+04</td>\n",
              "</tr>\n",
              "<tr>\n",
              "  <th>x1</th>    <td> -136.3855</td> <td>    2.652</td> <td>  -51.426</td> <td> 0.000</td> <td> -141.588</td> <td> -131.183</td>\n",
              "</tr>\n",
              "<tr>\n",
              "  <th>x2</th>    <td>   -0.0201</td> <td>    0.001</td> <td>  -14.793</td> <td> 0.000</td> <td>   -0.023</td> <td>   -0.017</td>\n",
              "</tr>\n",
              "<tr>\n",
              "  <th>x3</th>    <td>   43.5743</td> <td>    2.946</td> <td>   14.790</td> <td> 0.000</td> <td>   37.795</td> <td>   49.354</td>\n",
              "</tr>\n",
              "<tr>\n",
              "  <th>x4</th>    <td>    0.1066</td> <td>    0.096</td> <td>    1.106</td> <td> 0.269</td> <td>   -0.083</td> <td>    0.296</td>\n",
              "</tr>\n",
              "<tr>\n",
              "  <th>x5</th>    <td>  157.9483</td> <td>   41.991</td> <td>    3.762</td> <td> 0.000</td> <td>   75.578</td> <td>  240.318</td>\n",
              "</tr>\n",
              "<tr>\n",
              "  <th>x6</th>    <td>  620.1432</td> <td>  213.676</td> <td>    2.902</td> <td> 0.004</td> <td>  200.990</td> <td> 1039.296</td>\n",
              "</tr>\n",
              "<tr>\n",
              "  <th>x7</th>    <td>   16.1981</td> <td>    1.148</td> <td>   14.108</td> <td> 0.000</td> <td>   13.946</td> <td>   18.450</td>\n",
              "</tr>\n",
              "</table>\n",
              "<table class=\"simpletable\">\n",
              "<tr>\n",
              "  <th>Omnibus:</th>       <td>211.411</td> <th>  Durbin-Watson:     </th> <td>   1.371</td> \n",
              "</tr>\n",
              "<tr>\n",
              "  <th>Prob(Omnibus):</th> <td> 0.000</td>  <th>  Jarque-Bera (JB):  </th> <td> 765.784</td> \n",
              "</tr>\n",
              "<tr>\n",
              "  <th>Skew:</th>          <td> 0.690</td>  <th>  Prob(JB):          </th> <td>5.15e-167</td>\n",
              "</tr>\n",
              "<tr>\n",
              "  <th>Kurtosis:</th>      <td> 6.301</td>  <th>  Cond. No.          </th> <td>2.28e+06</td> \n",
              "</tr>\n",
              "</table><br/><br/>Notes:<br/>[1] Standard Errors assume that the covariance matrix of the errors is correctly specified.<br/>[2] The condition number is large, 2.28e+06. This might indicate that there are<br/>strong multicollinearity or other numerical problems."
            ]
          },
          "metadata": {},
          "execution_count": 24
        }
      ]
    },
    {
      "cell_type": "code",
      "source": [
        "X_opt = X[:, [0,1,2,3,5,6,7]]\n",
        "X_opt = np.array(X_opt, dtype = float)\n",
        "regressor_OLS = sm.OLS(endog = y, exog = X_opt).fit()\n",
        "regressor_OLS.summary()"
      ],
      "metadata": {
        "colab": {
          "base_uri": "https://localhost:8080/",
          "height": 580
        },
        "id": "hs1CLx06EsHl",
        "outputId": "49d12047-e78b-44d6-e28c-2869990b7ab2"
      },
      "execution_count": 25,
      "outputs": [
        {
          "output_type": "execute_result",
          "data": {
            "text/plain": [
              "<class 'statsmodels.iolib.summary.Summary'>\n",
              "\"\"\"\n",
              "                            OLS Regression Results                            \n",
              "==============================================================================\n",
              "Dep. Variable:                      y   R-squared:                       0.840\n",
              "Model:                            OLS   Adj. R-squared:                  0.839\n",
              "Method:                 Least Squares   F-statistic:                     1246.\n",
              "Date:                Sat, 11 Mar 2023   Prob (F-statistic):               0.00\n",
              "Time:                        18:43:41   Log-Likelihood:                -12493.\n",
              "No. Observations:                1436   AIC:                         2.500e+04\n",
              "Df Residuals:                    1429   BIC:                         2.504e+04\n",
              "Df Model:                           6                                         \n",
              "Covariance Type:            nonrobust                                         \n",
              "==============================================================================\n",
              "                 coef    std err          t      P>|t|      [0.025      0.975]\n",
              "------------------------------------------------------------------------------\n",
              "const       1.008e+04   1098.093      9.183      0.000    7929.580    1.22e+04\n",
              "x1          -136.5272      2.649    -51.535      0.000    -141.724    -131.330\n",
              "x2            -0.0200      0.001    -14.751      0.000      -0.023      -0.017\n",
              "x3            44.0355      2.917     15.097      0.000      38.314      49.757\n",
              "x4           159.1118     41.981      3.790      0.000      76.761     241.462\n",
              "x5           616.8981    213.673      2.887      0.004     197.752    1036.044\n",
              "x6            16.5404      1.106     14.959      0.000      14.371      18.709\n",
              "==============================================================================\n",
              "Omnibus:                      210.334   Durbin-Watson:                   1.372\n",
              "Prob(Omnibus):                  0.000   Jarque-Bera (JB):              754.799\n",
              "Skew:                           0.689   Prob(JB):                    1.25e-164\n",
              "Kurtosis:                       6.274   Cond. No.                     2.27e+06\n",
              "==============================================================================\n",
              "\n",
              "Notes:\n",
              "[1] Standard Errors assume that the covariance matrix of the errors is correctly specified.\n",
              "[2] The condition number is large, 2.27e+06. This might indicate that there are\n",
              "strong multicollinearity or other numerical problems.\n",
              "\"\"\""
            ],
            "text/html": [
              "<table class=\"simpletable\">\n",
              "<caption>OLS Regression Results</caption>\n",
              "<tr>\n",
              "  <th>Dep. Variable:</th>            <td>y</td>        <th>  R-squared:         </th> <td>   0.840</td> \n",
              "</tr>\n",
              "<tr>\n",
              "  <th>Model:</th>                   <td>OLS</td>       <th>  Adj. R-squared:    </th> <td>   0.839</td> \n",
              "</tr>\n",
              "<tr>\n",
              "  <th>Method:</th>             <td>Least Squares</td>  <th>  F-statistic:       </th> <td>   1246.</td> \n",
              "</tr>\n",
              "<tr>\n",
              "  <th>Date:</th>             <td>Sat, 11 Mar 2023</td> <th>  Prob (F-statistic):</th>  <td>  0.00</td>  \n",
              "</tr>\n",
              "<tr>\n",
              "  <th>Time:</th>                 <td>18:43:41</td>     <th>  Log-Likelihood:    </th> <td> -12493.</td> \n",
              "</tr>\n",
              "<tr>\n",
              "  <th>No. Observations:</th>      <td>  1436</td>      <th>  AIC:               </th> <td>2.500e+04</td>\n",
              "</tr>\n",
              "<tr>\n",
              "  <th>Df Residuals:</th>          <td>  1429</td>      <th>  BIC:               </th> <td>2.504e+04</td>\n",
              "</tr>\n",
              "<tr>\n",
              "  <th>Df Model:</th>              <td>     6</td>      <th>                     </th>     <td> </td>    \n",
              "</tr>\n",
              "<tr>\n",
              "  <th>Covariance Type:</th>      <td>nonrobust</td>    <th>                     </th>     <td> </td>    \n",
              "</tr>\n",
              "</table>\n",
              "<table class=\"simpletable\">\n",
              "<tr>\n",
              "    <td></td>       <th>coef</th>     <th>std err</th>      <th>t</th>      <th>P>|t|</th>  <th>[0.025</th>    <th>0.975]</th>  \n",
              "</tr>\n",
              "<tr>\n",
              "  <th>const</th> <td> 1.008e+04</td> <td> 1098.093</td> <td>    9.183</td> <td> 0.000</td> <td> 7929.580</td> <td> 1.22e+04</td>\n",
              "</tr>\n",
              "<tr>\n",
              "  <th>x1</th>    <td> -136.5272</td> <td>    2.649</td> <td>  -51.535</td> <td> 0.000</td> <td> -141.724</td> <td> -131.330</td>\n",
              "</tr>\n",
              "<tr>\n",
              "  <th>x2</th>    <td>   -0.0200</td> <td>    0.001</td> <td>  -14.751</td> <td> 0.000</td> <td>   -0.023</td> <td>   -0.017</td>\n",
              "</tr>\n",
              "<tr>\n",
              "  <th>x3</th>    <td>   44.0355</td> <td>    2.917</td> <td>   15.097</td> <td> 0.000</td> <td>   38.314</td> <td>   49.757</td>\n",
              "</tr>\n",
              "<tr>\n",
              "  <th>x4</th>    <td>  159.1118</td> <td>   41.981</td> <td>    3.790</td> <td> 0.000</td> <td>   76.761</td> <td>  241.462</td>\n",
              "</tr>\n",
              "<tr>\n",
              "  <th>x5</th>    <td>  616.8981</td> <td>  213.673</td> <td>    2.887</td> <td> 0.004</td> <td>  197.752</td> <td> 1036.044</td>\n",
              "</tr>\n",
              "<tr>\n",
              "  <th>x6</th>    <td>   16.5404</td> <td>    1.106</td> <td>   14.959</td> <td> 0.000</td> <td>   14.371</td> <td>   18.709</td>\n",
              "</tr>\n",
              "</table>\n",
              "<table class=\"simpletable\">\n",
              "<tr>\n",
              "  <th>Omnibus:</th>       <td>210.334</td> <th>  Durbin-Watson:     </th> <td>   1.372</td> \n",
              "</tr>\n",
              "<tr>\n",
              "  <th>Prob(Omnibus):</th> <td> 0.000</td>  <th>  Jarque-Bera (JB):  </th> <td> 754.799</td> \n",
              "</tr>\n",
              "<tr>\n",
              "  <th>Skew:</th>          <td> 0.689</td>  <th>  Prob(JB):          </th> <td>1.25e-164</td>\n",
              "</tr>\n",
              "<tr>\n",
              "  <th>Kurtosis:</th>      <td> 6.274</td>  <th>  Cond. No.          </th> <td>2.27e+06</td> \n",
              "</tr>\n",
              "</table><br/><br/>Notes:<br/>[1] Standard Errors assume that the covariance matrix of the errors is correctly specified.<br/>[2] The condition number is large, 2.27e+06. This might indicate that there are<br/>strong multicollinearity or other numerical problems."
            ]
          },
          "metadata": {},
          "execution_count": 25
        }
      ]
    },
    {
      "cell_type": "code",
      "source": [
        "import seaborn as sns\n",
        "sns.lmplot(x = \"Age_08_04\", y = \"Price\", data = dataset )"
      ],
      "metadata": {
        "colab": {
          "base_uri": "https://localhost:8080/",
          "height": 387
        },
        "id": "M3n6Tcw1C2f8",
        "outputId": "1431d7ba-468a-4582-fb85-dc9d360697a5"
      },
      "execution_count": 26,
      "outputs": [
        {
          "output_type": "execute_result",
          "data": {
            "text/plain": [
              "<seaborn.axisgrid.FacetGrid at 0x7f46e35b6ee0>"
            ]
          },
          "metadata": {},
          "execution_count": 26
        },
        {
          "output_type": "display_data",
          "data": {
            "text/plain": [
              "<Figure size 360x360 with 1 Axes>"
            ],
            "image/png": "[encoded data removed]"
          },
          "metadata": {
            "needs_background": "light"
          }
        }
      ]
    },
    {
      "cell_type": "code",
      "source": [
        "import seaborn as sns\n",
        "sns.lmplot(x = \"KM\", y = \"Price\", data = dataset )"
      ],
      "metadata": {
        "colab": {
          "base_uri": "https://localhost:8080/",
          "height": 387
        },
        "id": "4qaA4hyeC7oC",
        "outputId": "7e22af06-b7ed-4e23-dad1-42aaa80b1876"
      },
      "execution_count": 27,
      "outputs": [
        {
          "output_type": "execute_result",
          "data": {
            "text/plain": [
              "<seaborn.axisgrid.FacetGrid at 0x7f46e0a04ee0>"
            ]
          },
          "metadata": {},
          "execution_count": 27
        },
        {
          "output_type": "display_data",
          "data": {
            "text/plain": [
              "<Figure size 360x360 with 1 Axes>"
            ],
            "image/png": "[encoded data removed]"
          },
          "metadata": {
            "needs_background": "light"
          }
        }
      ]
    },
    {
      "cell_type": "code",
      "source": [
        "sns.lmplot(x = \"HP\", y = \"Price\", data = dataset )"
      ],
      "metadata": {
        "colab": {
          "base_uri": "https://localhost:8080/",
          "height": 387
        },
        "id": "vgw7Qs5CCgir",
        "outputId": "06303a1a-dd24-41bc-d05e-d189105d030e"
      },
      "execution_count": 32,
      "outputs": [
        {
          "output_type": "execute_result",
          "data": {
            "text/plain": [
              "<seaborn.axisgrid.FacetGrid at 0x7f46e3fb6700>"
            ]
          },
          "metadata": {},
          "execution_count": 32
        },
        {
          "output_type": "display_data",
          "data": {
            "text/plain": [
              "<Figure size 360x360 with 1 Axes>"
            ],
            "image/png": "[encoded data removed]"
          },
          "metadata": {
            "needs_background": "light"
          }
        }
      ]
    },
    {
      "cell_type": "code",
      "source": [
        "sns.lmplot(x = \"cc\", y = \"Price\", data = dataset )"
      ],
      "metadata": {
        "colab": {
          "base_uri": "https://localhost:8080/",
          "height": 387
        },
        "id": "G6fUnottCkiv",
        "outputId": "577e5d98-8bde-4fd7-c572-04df2044aad6"
      },
      "execution_count": 33,
      "outputs": [
        {
          "output_type": "execute_result",
          "data": {
            "text/plain": [
              "<seaborn.axisgrid.FacetGrid at 0x7f46f32ec100>"
            ]
          },
          "metadata": {},
          "execution_count": 33
        },
        {
          "output_type": "display_data",
          "data": {
            "text/plain": [
              "<Figure size 360x360 with 1 Axes>"
            ],
            "image/png": "[encoded data removed]"
          },
          "metadata": {
            "needs_background": "light"
          }
        }
      ]
    },
    {
      "cell_type": "code",
      "source": [
        "new_data=pd.DataFrame({\"Age_08_04\": 27,\"KM\":19700,\"HP\": 192,\"cc\": 1800,\"Doors\": 3,\"Gears\": 5,\"Quaterly_Tax\": 100,\"Weight\": 1185},index=[0])\n",
        "new_data"
      ],
      "metadata": {
        "colab": {
          "base_uri": "https://localhost:8080/",
          "height": 80
        },
        "id": "3sEVTh6xHwKo",
        "outputId": "ca2641f9-f23f-4249-a6e1-70cbf0f50559"
      },
      "execution_count": 28,
      "outputs": [
        {
          "output_type": "execute_result",
          "data": {
            "text/plain": [
              "   Age_08_04     KM   HP    cc  Doors  Gears  Quaterly_Tax  Weight\n",
              "0         27  19700  192  1800      3      5           100    1185"
            ],
            "text/html": [
              "\n",
              "  <div id=\"df-b971460a-5f8a-48e1-940e-61cc7e02b338\">\n",
              "    <div class=\"colab-df-container\">\n",
              "      <div>\n",
              "<style scoped>\n",
              "    .dataframe tbody tr th:only-of-type {\n",
              "        vertical-align: middle;\n",
              "    }\n",
              "\n",
              "    .dataframe tbody tr th {\n",
              "        vertical-align: top;\n",
              "    }\n",
              "\n",
              "    .dataframe thead th {\n",
              "        text-align: right;\n",
              "    }\n",
              "</style>\n",
              "<table border=\"1\" class=\"dataframe\">\n",
              "  <thead>\n",
              "    <tr style=\"text-align: right;\">\n",
              "      <th></th>\n",
              "      <th>Age_08_04</th>\n",
              "      <th>KM</th>\n",
              "      <th>HP</th>\n",
              "      <th>cc</th>\n",
              "      <th>Doors</th>\n",
              "      <th>Gears</th>\n",
              "      <th>Quaterly_Tax</th>\n",
              "      <th>Weight</th>\n",
              "    </tr>\n",
              "  </thead>\n",
              "  <tbody>\n",
              "    <tr>\n",
              "      <th>0</th>\n",
              "      <td>27</td>\n",
              "      <td>19700</td>\n",
              "      <td>192</td>\n",
              "      <td>1800</td>\n",
              "      <td>3</td>\n",
              "      <td>5</td>\n",
              "      <td>100</td>\n",
              "      <td>1185</td>\n",
              "    </tr>\n",
              "  </tbody>\n",
              "</table>\n",
              "</div>\n",
              "      <button class=\"colab-df-convert\" onclick=\"convertToInteractive('df-b971460a-5f8a-48e1-940e-61cc7e02b338')\"\n",
              "              title=\"Convert this dataframe to an interactive table.\"\n",
              "              style=\"display:none;\">\n",
              "        \n",
              "  <svg xmlns=\"http://www.w3.org/2000/svg\" height=\"24px\"viewBox=\"0 0 24 24\"\n",
              "       width=\"24px\">\n",
              "    <path d=\"M0 0h24v24H0V0z\" fill=\"none\"/>\n",
              "    <path d=\"M18.56 5.44l.94 2.06.94-2.06 2.06-.94-2.06-.94-.94-2.06-.94 2.06-2.06.94zm-11 1L8.5 8.5l.94-2.06 2.06-.94-2.06-.94L8.5 2.5l-.94 2.06-2.06.94zm10 10l.94 2.06.94-2.06 2.06-.94-2.06-.94-.94-2.06-.94 2.06-2.06.94z\"/><path d=\"M17.41 7.96l-1.37-1.37c-.4-.4-.92-.59-1.43-.59-.52 0-1.04.2-1.43.59L10.3 9.45l-7.72 7.72c-.78.78-.78 2.05 0 2.83L4 21.41c.39.39.9.59 1.41.59.51 0 1.02-.2 1.41-.59l7.78-7.78 2.81-2.81c.8-.78.8-2.07 0-2.86zM5.41 20L4 18.59l7.72-7.72 1.47 1.35L5.41 20z\"/>\n",
              "  </svg>\n",
              "      </button>\n",
              "      \n",
              "  <style>\n",
              "    .colab-df-container {\n",
              "      display:flex;\n",
              "      flex-wrap:wrap;\n",
              "      gap: 12px;\n",
              "    }\n",
              "\n",
              "    .colab-df-convert {\n",
              "      background-color: #E8F0FE;\n",
              "      border: none;\n",
              "      border-radius: 50%;\n",
              "      cursor: pointer;\n",
              "      display: none;\n",
              "      fill: #1967D2;\n",
              "      height: 32px;\n",
              "      padding: 0 0 0 0;\n",
              "      width: 32px;\n",
              "    }\n",
              "\n",
              "    .colab-df-convert:hover {\n",
              "      background-color: #E2EBFA;\n",
              "      box-shadow: 0px 1px 2px rgba(60, 64, 67, 0.3), 0px 1px 3px 1px rgba(60, 64, 67, 0.15);\n",
              "      fill: #174EA6;\n",
              "    }\n",
              "\n",
              "    [theme=dark] .colab-df-convert {\n",
              "      background-color: #3B4455;\n",
              "      fill: #D2E3FC;\n",
              "    }\n",
              "\n",
              "    [theme=dark] .colab-df-convert:hover {\n",
              "      background-color: #434B5C;\n",
              "      box-shadow: 0px 1px 3px 1px rgba(0, 0, 0, 0.15);\n",
              "      filter: drop-shadow(0px 1px 2px rgba(0, 0, 0, 0.3));\n",
              "      fill: #FFFFFF;\n",
              "    }\n",
              "  </style>\n",
              "\n",
              "      <script>\n",
              "        const buttonEl =\n",
              "          document.querySelector('#df-b971460a-5f8a-48e1-940e-61cc7e02b338 button.colab-df-convert');\n",
              "        buttonEl.style.display =\n",
              "          google.colab.kernel.accessAllowed ? 'block' : 'none';\n",
              "\n",
              "        async function convertToInteractive(key) {\n",
              "          const element = document.querySelector('#df-b971460a-5f8a-48e1-940e-61cc7e02b338');\n",
              "          const dataTable =\n",
              "            await google.colab.kernel.invokeFunction('convertToInteractive',\n",
              "                                                     [key], {});\n",
              "          if (!dataTable) return;\n",
              "\n",
              "          const docLinkHtml = 'Like what you see? Visit the ' +\n",
              "            '<a target=\"_blank\" href=https://colab.research.google.com/notebooks/data_table.ipynb>data table notebook</a>'\n",
              "            + ' to learn more about interactive tables.';\n",
              "          element.innerHTML = '';\n",
              "          dataTable['output_type'] = 'display_data';\n",
              "          await google.colab.output.renderOutput(dataTable, element);\n",
              "          const docLink = document.createElement('div');\n",
              "          docLink.innerHTML = docLinkHtml;\n",
              "          element.appendChild(docLink);\n",
              "        }\n",
              "      </script>\n",
              "    </div>\n",
              "  </div>\n",
              "  "
            ]
          },
          "metadata": {},
          "execution_count": 28
        }
      ]
    },
    {
      "cell_type": "code",
      "source": [
        "regressor.predict(new_data)"
      ],
      "metadata": {
        "colab": {
          "base_uri": "https://localhost:8080/"
        },
        "id": "dehoZj-XH16S",
        "outputId": "9766e550-8697-485f-b41a-c7204e4a5d58"
      },
      "execution_count": 29,
      "outputs": [
        {
          "output_type": "stream",
          "name": "stderr",
          "text": [
            "/usr/local/lib/python3.9/dist-packages/sklearn/base.py:413: UserWarning: X has feature names, but LinearRegression was fitted without feature names\n",
            "  warnings.warn(\n"
          ]
        },
        {
          "output_type": "execute_result",
          "data": {
            "text/plain": [
              "array([-12931377.5261027])"
            ]
          },
          "metadata": {},
          "execution_count": 29
        }
      ]
    },
    {
      "cell_type": "code",
      "source": [],
      "metadata": {
        "id": "z0lRMeK5B46r"
      },
      "execution_count": null,
      "outputs": []
    }
  ]
}