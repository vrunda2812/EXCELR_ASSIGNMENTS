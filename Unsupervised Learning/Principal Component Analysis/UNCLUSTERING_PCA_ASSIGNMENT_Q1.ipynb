{
  "nbformat": 4,
  "nbformat_minor": 0,
  "metadata": {
    "colab": {
      "provenance": []
    },
    "kernelspec": {
      "name": "python3",
      "display_name": "Python 3"
    },
    "language_info": {
      "name": "python"
    }
  },
  "cells": [
    {
      "cell_type": "markdown",
      "source": [
        "# IMPORTING LIBRARIES"
      ],
      "metadata": {
        "id": "n1wCaUcJiW1d"
      }
    },
    {
      "cell_type": "code",
      "execution_count": 1,
      "metadata": {
        "id": "C5qj7vCogv-s"
      },
      "outputs": [],
      "source": [
        "import pandas as pd \n",
        "import numpy as np\n",
        "import matplotlib.pyplot as plt"
      ]
    },
    {
      "cell_type": "markdown",
      "source": [
        "# IMPORTING DATASET"
      ],
      "metadata": {
        "id": "90XrdB8Hiy0D"
      }
    },
    {
      "cell_type": "code",
      "source": [
        "dataset = pd.read_csv(\"/content/wine.csv\")"
      ],
      "metadata": {
        "id": "lm4EKEKdie18"
      },
      "execution_count": 2,
      "outputs": []
    },
    {
      "cell_type": "code",
      "source": [
        "dataset"
      ],
      "metadata": {
        "colab": {
          "base_uri": "https://localhost:8080/",
          "height": 423
        },
        "id": "tT9MWOCxly46",
        "outputId": "bc4e9c67-fdea-4ed3-df20-580a7b350dad"
      },
      "execution_count": 3,
      "outputs": [
        {
          "output_type": "execute_result",
          "data": {
            "text/plain": [
              "     Type  Alcohol  Malic   Ash  Alcalinity  Magnesium  Phenols  Flavanoids  \\\n",
              "0       1    14.23   1.71  2.43        15.6        127     2.80        3.06   \n",
              "1       1    13.20   1.78  2.14        11.2        100     2.65        2.76   \n",
              "2       1    13.16   2.36  2.67        18.6        101     2.80        3.24   \n",
              "3       1    14.37   1.95  2.50        16.8        113     3.85        3.49   \n",
              "4       1    13.24   2.59  2.87        21.0        118     2.80        2.69   \n",
              "..    ...      ...    ...   ...         ...        ...      ...         ...   \n",
              "173     3    13.71   5.65  2.45        20.5         95     1.68        0.61   \n",
              "174     3    13.40   3.91  2.48        23.0        102     1.80        0.75   \n",
              "175     3    13.27   4.28  2.26        20.0        120     1.59        0.69   \n",
              "176     3    13.17   2.59  2.37        20.0        120     1.65        0.68   \n",
              "177     3    14.13   4.10  2.74        24.5         96     2.05        0.76   \n",
              "\n",
              "     Nonflavanoids  Proanthocyanins  Color   Hue  Dilution  Proline  \n",
              "0             0.28             2.29   5.64  1.04      3.92     1065  \n",
              "1             0.26             1.28   4.38  1.05      3.40     1050  \n",
              "2             0.30             2.81   5.68  1.03      3.17     1185  \n",
              "3             0.24             2.18   7.80  0.86      3.45     1480  \n",
              "4             0.39             1.82   4.32  1.04      2.93      735  \n",
              "..             ...              ...    ...   ...       ...      ...  \n",
              "173           0.52             1.06   7.70  0.64      1.74      740  \n",
              "174           0.43             1.41   7.30  0.70      1.56      750  \n",
              "175           0.43             1.35  10.20  0.59      1.56      835  \n",
              "176           0.53             1.46   9.30  0.60      1.62      840  \n",
              "177           0.56             1.35   9.20  0.61      1.60      560  \n",
              "\n",
              "[178 rows x 14 columns]"
            ],
            "text/html": [
              "\n",
              "  <div id=\"df-40736d48-7189-4739-8189-9d3b7193ff35\">\n",
              "    <div class=\"colab-df-container\">\n",
              "      <div>\n",
              "<style scoped>\n",
              "    .dataframe tbody tr th:only-of-type {\n",
              "        vertical-align: middle;\n",
              "    }\n",
              "\n",
              "    .dataframe tbody tr th {\n",
              "        vertical-align: top;\n",
              "    }\n",
              "\n",
              "    .dataframe thead th {\n",
              "        text-align: right;\n",
              "    }\n",
              "</style>\n",
              "<table border=\"1\" class=\"dataframe\">\n",
              "  <thead>\n",
              "    <tr style=\"text-align: right;\">\n",
              "      <th></th>\n",
              "      <th>Type</th>\n",
              "      <th>Alcohol</th>\n",
              "      <th>Malic</th>\n",
              "      <th>Ash</th>\n",
              "      <th>Alcalinity</th>\n",
              "      <th>Magnesium</th>\n",
              "      <th>Phenols</th>\n",
              "      <th>Flavanoids</th>\n",
              "      <th>Nonflavanoids</th>\n",
              "      <th>Proanthocyanins</th>\n",
              "      <th>Color</th>\n",
              "      <th>Hue</th>\n",
              "      <th>Dilution</th>\n",
              "      <th>Proline</th>\n",
              "    </tr>\n",
              "  </thead>\n",
              "  <tbody>\n",
              "    <tr>\n",
              "      <th>0</th>\n",
              "      <td>1</td>\n",
              "      <td>14.23</td>\n",
              "      <td>1.71</td>\n",
              "      <td>2.43</td>\n",
              "      <td>15.6</td>\n",
              "      <td>127</td>\n",
              "      <td>2.80</td>\n",
              "      <td>3.06</td>\n",
              "      <td>0.28</td>\n",
              "      <td>2.29</td>\n",
              "      <td>5.64</td>\n",
              "      <td>1.04</td>\n",
              "      <td>3.92</td>\n",
              "      <td>1065</td>\n",
              "    </tr>\n",
              "    <tr>\n",
              "      <th>1</th>\n",
              "      <td>1</td>\n",
              "      <td>13.20</td>\n",
              "      <td>1.78</td>\n",
              "      <td>2.14</td>\n",
              "      <td>11.2</td>\n",
              "      <td>100</td>\n",
              "      <td>2.65</td>\n",
              "      <td>2.76</td>\n",
              "      <td>0.26</td>\n",
              "      <td>1.28</td>\n",
              "      <td>4.38</td>\n",
              "      <td>1.05</td>\n",
              "      <td>3.40</td>\n",
              "      <td>1050</td>\n",
              "    </tr>\n",
              "    <tr>\n",
              "      <th>2</th>\n",
              "      <td>1</td>\n",
              "      <td>13.16</td>\n",
              "      <td>2.36</td>\n",
              "      <td>2.67</td>\n",
              "      <td>18.6</td>\n",
              "      <td>101</td>\n",
              "      <td>2.80</td>\n",
              "      <td>3.24</td>\n",
              "      <td>0.30</td>\n",
              "      <td>2.81</td>\n",
              "      <td>5.68</td>\n",
              "      <td>1.03</td>\n",
              "      <td>3.17</td>\n",
              "      <td>1185</td>\n",
              "    </tr>\n",
              "    <tr>\n",
              "      <th>3</th>\n",
              "      <td>1</td>\n",
              "      <td>14.37</td>\n",
              "      <td>1.95</td>\n",
              "      <td>2.50</td>\n",
              "      <td>16.8</td>\n",
              "      <td>113</td>\n",
              "      <td>3.85</td>\n",
              "      <td>3.49</td>\n",
              "      <td>0.24</td>\n",
              "      <td>2.18</td>\n",
              "      <td>7.80</td>\n",
              "      <td>0.86</td>\n",
              "      <td>3.45</td>\n",
              "      <td>1480</td>\n",
              "    </tr>\n",
              "    <tr>\n",
              "      <th>4</th>\n",
              "      <td>1</td>\n",
              "      <td>13.24</td>\n",
              "      <td>2.59</td>\n",
              "      <td>2.87</td>\n",
              "      <td>21.0</td>\n",
              "      <td>118</td>\n",
              "      <td>2.80</td>\n",
              "      <td>2.69</td>\n",
              "      <td>0.39</td>\n",
              "      <td>1.82</td>\n",
              "      <td>4.32</td>\n",
              "      <td>1.04</td>\n",
              "      <td>2.93</td>\n",
              "      <td>735</td>\n",
              "    </tr>\n",
              "    <tr>\n",
              "      <th>...</th>\n",
              "      <td>...</td>\n",
              "      <td>...</td>\n",
              "      <td>...</td>\n",
              "      <td>...</td>\n",
              "      <td>...</td>\n",
              "      <td>...</td>\n",
              "      <td>...</td>\n",
              "      <td>...</td>\n",
              "      <td>...</td>\n",
              "      <td>...</td>\n",
              "      <td>...</td>\n",
              "      <td>...</td>\n",
              "      <td>...</td>\n",
              "      <td>...</td>\n",
              "    </tr>\n",
              "    <tr>\n",
              "      <th>173</th>\n",
              "      <td>3</td>\n",
              "      <td>13.71</td>\n",
              "      <td>5.65</td>\n",
              "      <td>2.45</td>\n",
              "      <td>20.5</td>\n",
              "      <td>95</td>\n",
              "      <td>1.68</td>\n",
              "      <td>0.61</td>\n",
              "      <td>0.52</td>\n",
              "      <td>1.06</td>\n",
              "      <td>7.70</td>\n",
              "      <td>0.64</td>\n",
              "      <td>1.74</td>\n",
              "      <td>740</td>\n",
              "    </tr>\n",
              "    <tr>\n",
              "      <th>174</th>\n",
              "      <td>3</td>\n",
              "      <td>13.40</td>\n",
              "      <td>3.91</td>\n",
              "      <td>2.48</td>\n",
              "      <td>23.0</td>\n",
              "      <td>102</td>\n",
              "      <td>1.80</td>\n",
              "      <td>0.75</td>\n",
              "      <td>0.43</td>\n",
              "      <td>1.41</td>\n",
              "      <td>7.30</td>\n",
              "      <td>0.70</td>\n",
              "      <td>1.56</td>\n",
              "      <td>750</td>\n",
              "    </tr>\n",
              "    <tr>\n",
              "      <th>175</th>\n",
              "      <td>3</td>\n",
              "      <td>13.27</td>\n",
              "      <td>4.28</td>\n",
              "      <td>2.26</td>\n",
              "      <td>20.0</td>\n",
              "      <td>120</td>\n",
              "      <td>1.59</td>\n",
              "      <td>0.69</td>\n",
              "      <td>0.43</td>\n",
              "      <td>1.35</td>\n",
              "      <td>10.20</td>\n",
              "      <td>0.59</td>\n",
              "      <td>1.56</td>\n",
              "      <td>835</td>\n",
              "    </tr>\n",
              "    <tr>\n",
              "      <th>176</th>\n",
              "      <td>3</td>\n",
              "      <td>13.17</td>\n",
              "      <td>2.59</td>\n",
              "      <td>2.37</td>\n",
              "      <td>20.0</td>\n",
              "      <td>120</td>\n",
              "      <td>1.65</td>\n",
              "      <td>0.68</td>\n",
              "      <td>0.53</td>\n",
              "      <td>1.46</td>\n",
              "      <td>9.30</td>\n",
              "      <td>0.60</td>\n",
              "      <td>1.62</td>\n",
              "      <td>840</td>\n",
              "    </tr>\n",
              "    <tr>\n",
              "      <th>177</th>\n",
              "      <td>3</td>\n",
              "      <td>14.13</td>\n",
              "      <td>4.10</td>\n",
              "      <td>2.74</td>\n",
              "      <td>24.5</td>\n",
              "      <td>96</td>\n",
              "      <td>2.05</td>\n",
              "      <td>0.76</td>\n",
              "      <td>0.56</td>\n",
              "      <td>1.35</td>\n",
              "      <td>9.20</td>\n",
              "      <td>0.61</td>\n",
              "      <td>1.60</td>\n",
              "      <td>560</td>\n",
              "    </tr>\n",
              "  </tbody>\n",
              "</table>\n",
              "<p>178 rows × 14 columns</p>\n",
              "</div>\n",
              "      <button class=\"colab-df-convert\" onclick=\"convertToInteractive('df-40736d48-7189-4739-8189-9d3b7193ff35')\"\n",
              "              title=\"Convert this dataframe to an interactive table.\"\n",
              "              style=\"display:none;\">\n",
              "        \n",
              "  <svg xmlns=\"http://www.w3.org/2000/svg\" height=\"24px\"viewBox=\"0 0 24 24\"\n",
              "       width=\"24px\">\n",
              "    <path d=\"M0 0h24v24H0V0z\" fill=\"none\"/>\n",
              "    <path d=\"M18.56 5.44l.94 2.06.94-2.06 2.06-.94-2.06-.94-.94-2.06-.94 2.06-2.06.94zm-11 1L8.5 8.5l.94-2.06 2.06-.94-2.06-.94L8.5 2.5l-.94 2.06-2.06.94zm10 10l.94 2.06.94-2.06 2.06-.94-2.06-.94-.94-2.06-.94 2.06-2.06.94z\"/><path d=\"M17.41 7.96l-1.37-1.37c-.4-.4-.92-.59-1.43-.59-.52 0-1.04.2-1.43.59L10.3 9.45l-7.72 7.72c-.78.78-.78 2.05 0 2.83L4 21.41c.39.39.9.59 1.41.59.51 0 1.02-.2 1.41-.59l7.78-7.78 2.81-2.81c.8-.78.8-2.07 0-2.86zM5.41 20L4 18.59l7.72-7.72 1.47 1.35L5.41 20z\"/>\n",
              "  </svg>\n",
              "      </button>\n",
              "      \n",
              "  <style>\n",
              "    .colab-df-container {\n",
              "      display:flex;\n",
              "      flex-wrap:wrap;\n",
              "      gap: 12px;\n",
              "    }\n",
              "\n",
              "    .colab-df-convert {\n",
              "      background-color: #E8F0FE;\n",
              "      border: none;\n",
              "      border-radius: 50%;\n",
              "      cursor: pointer;\n",
              "      display: none;\n",
              "      fill: #1967D2;\n",
              "      height: 32px;\n",
              "      padding: 0 0 0 0;\n",
              "      width: 32px;\n",
              "    }\n",
              "\n",
              "    .colab-df-convert:hover {\n",
              "      background-color: #E2EBFA;\n",
              "      box-shadow: 0px 1px 2px rgba(60, 64, 67, 0.3), 0px 1px 3px 1px rgba(60, 64, 67, 0.15);\n",
              "      fill: #174EA6;\n",
              "    }\n",
              "\n",
              "    [theme=dark] .colab-df-convert {\n",
              "      background-color: #3B4455;\n",
              "      fill: #D2E3FC;\n",
              "    }\n",
              "\n",
              "    [theme=dark] .colab-df-convert:hover {\n",
              "      background-color: #434B5C;\n",
              "      box-shadow: 0px 1px 3px 1px rgba(0, 0, 0, 0.15);\n",
              "      filter: drop-shadow(0px 1px 2px rgba(0, 0, 0, 0.3));\n",
              "      fill: #FFFFFF;\n",
              "    }\n",
              "  </style>\n",
              "\n",
              "      <script>\n",
              "        const buttonEl =\n",
              "          document.querySelector('#df-40736d48-7189-4739-8189-9d3b7193ff35 button.colab-df-convert');\n",
              "        buttonEl.style.display =\n",
              "          google.colab.kernel.accessAllowed ? 'block' : 'none';\n",
              "\n",
              "        async function convertToInteractive(key) {\n",
              "          const element = document.querySelector('#df-40736d48-7189-4739-8189-9d3b7193ff35');\n",
              "          const dataTable =\n",
              "            await google.colab.kernel.invokeFunction('convertToInteractive',\n",
              "                                                     [key], {});\n",
              "          if (!dataTable) return;\n",
              "\n",
              "          const docLinkHtml = 'Like what you see? Visit the ' +\n",
              "            '<a target=\"_blank\" href=https://colab.research.google.com/notebooks/data_table.ipynb>data table notebook</a>'\n",
              "            + ' to learn more about interactive tables.';\n",
              "          element.innerHTML = '';\n",
              "          dataTable['output_type'] = 'display_data';\n",
              "          await google.colab.output.renderOutput(dataTable, element);\n",
              "          const docLink = document.createElement('div');\n",
              "          docLink.innerHTML = docLinkHtml;\n",
              "          element.appendChild(docLink);\n",
              "        }\n",
              "      </script>\n",
              "    </div>\n",
              "  </div>\n",
              "  "
            ]
          },
          "metadata": {},
          "execution_count": 3
        }
      ]
    },
    {
      "cell_type": "code",
      "source": [
        "dataset.info()"
      ],
      "metadata": {
        "colab": {
          "base_uri": "https://localhost:8080/"
        },
        "id": "ECW_YxmJlzlU",
        "outputId": "fb6cfcac-4769-4315-fbb7-427b1769d687"
      },
      "execution_count": 4,
      "outputs": [
        {
          "output_type": "stream",
          "name": "stdout",
          "text": [
            "<class 'pandas.core.frame.DataFrame'>\n",
            "RangeIndex: 178 entries, 0 to 177\n",
            "Data columns (total 14 columns):\n",
            " #   Column           Non-Null Count  Dtype  \n",
            "---  ------           --------------  -----  \n",
            " 0   Type             178 non-null    int64  \n",
            " 1   Alcohol          178 non-null    float64\n",
            " 2   Malic            178 non-null    float64\n",
            " 3   Ash              178 non-null    float64\n",
            " 4   Alcalinity       178 non-null    float64\n",
            " 5   Magnesium        178 non-null    int64  \n",
            " 6   Phenols          178 non-null    float64\n",
            " 7   Flavanoids       178 non-null    float64\n",
            " 8   Nonflavanoids    178 non-null    float64\n",
            " 9   Proanthocyanins  178 non-null    float64\n",
            " 10  Color            178 non-null    float64\n",
            " 11  Hue              178 non-null    float64\n",
            " 12  Dilution         178 non-null    float64\n",
            " 13  Proline          178 non-null    int64  \n",
            "dtypes: float64(11), int64(3)\n",
            "memory usage: 19.6 KB\n"
          ]
        }
      ]
    },
    {
      "cell_type": "code",
      "source": [
        "dataset.describe()"
      ],
      "metadata": {
        "colab": {
          "base_uri": "https://localhost:8080/",
          "height": 364
        },
        "id": "hO4sugcXmHVJ",
        "outputId": "59994be4-e01c-49b7-fe8b-3a41fcb2c1d4"
      },
      "execution_count": 5,
      "outputs": [
        {
          "output_type": "execute_result",
          "data": {
            "text/plain": [
              "             Type     Alcohol       Malic         Ash  Alcalinity   Magnesium  \\\n",
              "count  178.000000  178.000000  178.000000  178.000000  178.000000  178.000000   \n",
              "mean     1.938202   13.000618    2.336348    2.366517   19.494944   99.741573   \n",
              "std      0.775035    0.811827    1.117146    0.274344    3.339564   14.282484   \n",
              "min      1.000000   11.030000    0.740000    1.360000   10.600000   70.000000   \n",
              "25%      1.000000   12.362500    1.602500    2.210000   17.200000   88.000000   \n",
              "50%      2.000000   13.050000    1.865000    2.360000   19.500000   98.000000   \n",
              "75%      3.000000   13.677500    3.082500    2.557500   21.500000  107.000000   \n",
              "max      3.000000   14.830000    5.800000    3.230000   30.000000  162.000000   \n",
              "\n",
              "          Phenols  Flavanoids  Nonflavanoids  Proanthocyanins       Color  \\\n",
              "count  178.000000  178.000000     178.000000       178.000000  178.000000   \n",
              "mean     2.295112    2.029270       0.361854         1.590899    5.058090   \n",
              "std      0.625851    0.998859       0.124453         0.572359    2.318286   \n",
              "min      0.980000    0.340000       0.130000         0.410000    1.280000   \n",
              "25%      1.742500    1.205000       0.270000         1.250000    3.220000   \n",
              "50%      2.355000    2.135000       0.340000         1.555000    4.690000   \n",
              "75%      2.800000    2.875000       0.437500         1.950000    6.200000   \n",
              "max      3.880000    5.080000       0.660000         3.580000   13.000000   \n",
              "\n",
              "              Hue    Dilution      Proline  \n",
              "count  178.000000  178.000000   178.000000  \n",
              "mean     0.957449    2.611685   746.893258  \n",
              "std      0.228572    0.709990   314.907474  \n",
              "min      0.480000    1.270000   278.000000  \n",
              "25%      0.782500    1.937500   500.500000  \n",
              "50%      0.965000    2.780000   673.500000  \n",
              "75%      1.120000    3.170000   985.000000  \n",
              "max      1.710000    4.000000  1680.000000  "
            ],
            "text/html": [
              "\n",
              "  <div id=\"df-5a1b9afb-af2a-47b4-8570-b85b16e1bb39\">\n",
              "    <div class=\"colab-df-container\">\n",
              "      <div>\n",
              "<style scoped>\n",
              "    .dataframe tbody tr th:only-of-type {\n",
              "        vertical-align: middle;\n",
              "    }\n",
              "\n",
              "    .dataframe tbody tr th {\n",
              "        vertical-align: top;\n",
              "    }\n",
              "\n",
              "    .dataframe thead th {\n",
              "        text-align: right;\n",
              "    }\n",
              "</style>\n",
              "<table border=\"1\" class=\"dataframe\">\n",
              "  <thead>\n",
              "    <tr style=\"text-align: right;\">\n",
              "      <th></th>\n",
              "      <th>Type</th>\n",
              "      <th>Alcohol</th>\n",
              "      <th>Malic</th>\n",
              "      <th>Ash</th>\n",
              "      <th>Alcalinity</th>\n",
              "      <th>Magnesium</th>\n",
              "      <th>Phenols</th>\n",
              "      <th>Flavanoids</th>\n",
              "      <th>Nonflavanoids</th>\n",
              "      <th>Proanthocyanins</th>\n",
              "      <th>Color</th>\n",
              "      <th>Hue</th>\n",
              "      <th>Dilution</th>\n",
              "      <th>Proline</th>\n",
              "    </tr>\n",
              "  </thead>\n",
              "  <tbody>\n",
              "    <tr>\n",
              "      <th>count</th>\n",
              "      <td>178.000000</td>\n",
              "      <td>178.000000</td>\n",
              "      <td>178.000000</td>\n",
              "      <td>178.000000</td>\n",
              "      <td>178.000000</td>\n",
              "      <td>178.000000</td>\n",
              "      <td>178.000000</td>\n",
              "      <td>178.000000</td>\n",
              "      <td>178.000000</td>\n",
              "      <td>178.000000</td>\n",
              "      <td>178.000000</td>\n",
              "      <td>178.000000</td>\n",
              "      <td>178.000000</td>\n",
              "      <td>178.000000</td>\n",
              "    </tr>\n",
              "    <tr>\n",
              "      <th>mean</th>\n",
              "      <td>1.938202</td>\n",
              "      <td>13.000618</td>\n",
              "      <td>2.336348</td>\n",
              "      <td>2.366517</td>\n",
              "      <td>19.494944</td>\n",
              "      <td>99.741573</td>\n",
              "      <td>2.295112</td>\n",
              "      <td>2.029270</td>\n",
              "      <td>0.361854</td>\n",
              "      <td>1.590899</td>\n",
              "      <td>5.058090</td>\n",
              "      <td>0.957449</td>\n",
              "      <td>2.611685</td>\n",
              "      <td>746.893258</td>\n",
              "    </tr>\n",
              "    <tr>\n",
              "      <th>std</th>\n",
              "      <td>0.775035</td>\n",
              "      <td>0.811827</td>\n",
              "      <td>1.117146</td>\n",
              "      <td>0.274344</td>\n",
              "      <td>3.339564</td>\n",
              "      <td>14.282484</td>\n",
              "      <td>0.625851</td>\n",
              "      <td>0.998859</td>\n",
              "      <td>0.124453</td>\n",
              "      <td>0.572359</td>\n",
              "      <td>2.318286</td>\n",
              "      <td>0.228572</td>\n",
              "      <td>0.709990</td>\n",
              "      <td>314.907474</td>\n",
              "    </tr>\n",
              "    <tr>\n",
              "      <th>min</th>\n",
              "      <td>1.000000</td>\n",
              "      <td>11.030000</td>\n",
              "      <td>0.740000</td>\n",
              "      <td>1.360000</td>\n",
              "      <td>10.600000</td>\n",
              "      <td>70.000000</td>\n",
              "      <td>0.980000</td>\n",
              "      <td>0.340000</td>\n",
              "      <td>0.130000</td>\n",
              "      <td>0.410000</td>\n",
              "      <td>1.280000</td>\n",
              "      <td>0.480000</td>\n",
              "      <td>1.270000</td>\n",
              "      <td>278.000000</td>\n",
              "    </tr>\n",
              "    <tr>\n",
              "      <th>25%</th>\n",
              "      <td>1.000000</td>\n",
              "      <td>12.362500</td>\n",
              "      <td>1.602500</td>\n",
              "      <td>2.210000</td>\n",
              "      <td>17.200000</td>\n",
              "      <td>88.000000</td>\n",
              "      <td>1.742500</td>\n",
              "      <td>1.205000</td>\n",
              "      <td>0.270000</td>\n",
              "      <td>1.250000</td>\n",
              "      <td>3.220000</td>\n",
              "      <td>0.782500</td>\n",
              "      <td>1.937500</td>\n",
              "      <td>500.500000</td>\n",
              "    </tr>\n",
              "    <tr>\n",
              "      <th>50%</th>\n",
              "      <td>2.000000</td>\n",
              "      <td>13.050000</td>\n",
              "      <td>1.865000</td>\n",
              "      <td>2.360000</td>\n",
              "      <td>19.500000</td>\n",
              "      <td>98.000000</td>\n",
              "      <td>2.355000</td>\n",
              "      <td>2.135000</td>\n",
              "      <td>0.340000</td>\n",
              "      <td>1.555000</td>\n",
              "      <td>4.690000</td>\n",
              "      <td>0.965000</td>\n",
              "      <td>2.780000</td>\n",
              "      <td>673.500000</td>\n",
              "    </tr>\n",
              "    <tr>\n",
              "      <th>75%</th>\n",
              "      <td>3.000000</td>\n",
              "      <td>13.677500</td>\n",
              "      <td>3.082500</td>\n",
              "      <td>2.557500</td>\n",
              "      <td>21.500000</td>\n",
              "      <td>107.000000</td>\n",
              "      <td>2.800000</td>\n",
              "      <td>2.875000</td>\n",
              "      <td>0.437500</td>\n",
              "      <td>1.950000</td>\n",
              "      <td>6.200000</td>\n",
              "      <td>1.120000</td>\n",
              "      <td>3.170000</td>\n",
              "      <td>985.000000</td>\n",
              "    </tr>\n",
              "    <tr>\n",
              "      <th>max</th>\n",
              "      <td>3.000000</td>\n",
              "      <td>14.830000</td>\n",
              "      <td>5.800000</td>\n",
              "      <td>3.230000</td>\n",
              "      <td>30.000000</td>\n",
              "      <td>162.000000</td>\n",
              "      <td>3.880000</td>\n",
              "      <td>5.080000</td>\n",
              "      <td>0.660000</td>\n",
              "      <td>3.580000</td>\n",
              "      <td>13.000000</td>\n",
              "      <td>1.710000</td>\n",
              "      <td>4.000000</td>\n",
              "      <td>1680.000000</td>\n",
              "    </tr>\n",
              "  </tbody>\n",
              "</table>\n",
              "</div>\n",
              "      <button class=\"colab-df-convert\" onclick=\"convertToInteractive('df-5a1b9afb-af2a-47b4-8570-b85b16e1bb39')\"\n",
              "              title=\"Convert this dataframe to an interactive table.\"\n",
              "              style=\"display:none;\">\n",
              "        \n",
              "  <svg xmlns=\"http://www.w3.org/2000/svg\" height=\"24px\"viewBox=\"0 0 24 24\"\n",
              "       width=\"24px\">\n",
              "    <path d=\"M0 0h24v24H0V0z\" fill=\"none\"/>\n",
              "    <path d=\"M18.56 5.44l.94 2.06.94-2.06 2.06-.94-2.06-.94-.94-2.06-.94 2.06-2.06.94zm-11 1L8.5 8.5l.94-2.06 2.06-.94-2.06-.94L8.5 2.5l-.94 2.06-2.06.94zm10 10l.94 2.06.94-2.06 2.06-.94-2.06-.94-.94-2.06-.94 2.06-2.06.94z\"/><path d=\"M17.41 7.96l-1.37-1.37c-.4-.4-.92-.59-1.43-.59-.52 0-1.04.2-1.43.59L10.3 9.45l-7.72 7.72c-.78.78-.78 2.05 0 2.83L4 21.41c.39.39.9.59 1.41.59.51 0 1.02-.2 1.41-.59l7.78-7.78 2.81-2.81c.8-.78.8-2.07 0-2.86zM5.41 20L4 18.59l7.72-7.72 1.47 1.35L5.41 20z\"/>\n",
              "  </svg>\n",
              "      </button>\n",
              "      \n",
              "  <style>\n",
              "    .colab-df-container {\n",
              "      display:flex;\n",
              "      flex-wrap:wrap;\n",
              "      gap: 12px;\n",
              "    }\n",
              "\n",
              "    .colab-df-convert {\n",
              "      background-color: #E8F0FE;\n",
              "      border: none;\n",
              "      border-radius: 50%;\n",
              "      cursor: pointer;\n",
              "      display: none;\n",
              "      fill: #1967D2;\n",
              "      height: 32px;\n",
              "      padding: 0 0 0 0;\n",
              "      width: 32px;\n",
              "    }\n",
              "\n",
              "    .colab-df-convert:hover {\n",
              "      background-color: #E2EBFA;\n",
              "      box-shadow: 0px 1px 2px rgba(60, 64, 67, 0.3), 0px 1px 3px 1px rgba(60, 64, 67, 0.15);\n",
              "      fill: #174EA6;\n",
              "    }\n",
              "\n",
              "    [theme=dark] .colab-df-convert {\n",
              "      background-color: #3B4455;\n",
              "      fill: #D2E3FC;\n",
              "    }\n",
              "\n",
              "    [theme=dark] .colab-df-convert:hover {\n",
              "      background-color: #434B5C;\n",
              "      box-shadow: 0px 1px 3px 1px rgba(0, 0, 0, 0.15);\n",
              "      filter: drop-shadow(0px 1px 2px rgba(0, 0, 0, 0.3));\n",
              "      fill: #FFFFFF;\n",
              "    }\n",
              "  </style>\n",
              "\n",
              "      <script>\n",
              "        const buttonEl =\n",
              "          document.querySelector('#df-5a1b9afb-af2a-47b4-8570-b85b16e1bb39 button.colab-df-convert');\n",
              "        buttonEl.style.display =\n",
              "          google.colab.kernel.accessAllowed ? 'block' : 'none';\n",
              "\n",
              "        async function convertToInteractive(key) {\n",
              "          const element = document.querySelector('#df-5a1b9afb-af2a-47b4-8570-b85b16e1bb39');\n",
              "          const dataTable =\n",
              "            await google.colab.kernel.invokeFunction('convertToInteractive',\n",
              "                                                     [key], {});\n",
              "          if (!dataTable) return;\n",
              "\n",
              "          const docLinkHtml = 'Like what you see? Visit the ' +\n",
              "            '<a target=\"_blank\" href=https://colab.research.google.com/notebooks/data_table.ipynb>data table notebook</a>'\n",
              "            + ' to learn more about interactive tables.';\n",
              "          element.innerHTML = '';\n",
              "          dataTable['output_type'] = 'display_data';\n",
              "          await google.colab.output.renderOutput(dataTable, element);\n",
              "          const docLink = document.createElement('div');\n",
              "          docLink.innerHTML = docLinkHtml;\n",
              "          element.appendChild(docLink);\n",
              "        }\n",
              "      </script>\n",
              "    </div>\n",
              "  </div>\n",
              "  "
            ]
          },
          "metadata": {},
          "execution_count": 5
        }
      ]
    },
    {
      "cell_type": "markdown",
      "source": [
        "# INDEPPENDENT AND DEPENDENT VARIABLES"
      ],
      "metadata": {
        "id": "Gk_XFWuomOGF"
      }
    },
    {
      "cell_type": "code",
      "source": [
        "X = dataset.iloc[:, [1,2,3,4,5,6,7,8,9,10,11,12,13]].values\n",
        "y = dataset.iloc[:, 0].values"
      ],
      "metadata": {
        "id": "iHpT9eYymJa7"
      },
      "execution_count": 6,
      "outputs": []
    },
    {
      "cell_type": "code",
      "source": [
        "X"
      ],
      "metadata": {
        "colab": {
          "base_uri": "https://localhost:8080/"
        },
        "id": "LqXy4s36nH3n",
        "outputId": "1f1e73e8-fd5f-4910-fc4e-5e85249d9959"
      },
      "execution_count": 7,
      "outputs": [
        {
          "output_type": "execute_result",
          "data": {
            "text/plain": [
              "array([[1.423e+01, 1.710e+00, 2.430e+00, ..., 1.040e+00, 3.920e+00,\n",
              "        1.065e+03],\n",
              "       [1.320e+01, 1.780e+00, 2.140e+00, ..., 1.050e+00, 3.400e+00,\n",
              "        1.050e+03],\n",
              "       [1.316e+01, 2.360e+00, 2.670e+00, ..., 1.030e+00, 3.170e+00,\n",
              "        1.185e+03],\n",
              "       ...,\n",
              "       [1.327e+01, 4.280e+00, 2.260e+00, ..., 5.900e-01, 1.560e+00,\n",
              "        8.350e+02],\n",
              "       [1.317e+01, 2.590e+00, 2.370e+00, ..., 6.000e-01, 1.620e+00,\n",
              "        8.400e+02],\n",
              "       [1.413e+01, 4.100e+00, 2.740e+00, ..., 6.100e-01, 1.600e+00,\n",
              "        5.600e+02]])"
            ]
          },
          "metadata": {},
          "execution_count": 7
        }
      ]
    },
    {
      "cell_type": "code",
      "source": [
        "y"
      ],
      "metadata": {
        "colab": {
          "base_uri": "https://localhost:8080/"
        },
        "id": "gqizuq1anMbK",
        "outputId": "6fdb515e-8695-40db-ed3f-0f2a90996dc6"
      },
      "execution_count": 8,
      "outputs": [
        {
          "output_type": "execute_result",
          "data": {
            "text/plain": [
              "array([1, 1, 1, 1, 1, 1, 1, 1, 1, 1, 1, 1, 1, 1, 1, 1, 1, 1, 1, 1, 1, 1,\n",
              "       1, 1, 1, 1, 1, 1, 1, 1, 1, 1, 1, 1, 1, 1, 1, 1, 1, 1, 1, 1, 1, 1,\n",
              "       1, 1, 1, 1, 1, 1, 1, 1, 1, 1, 1, 1, 1, 1, 1, 2, 2, 2, 2, 2, 2, 2,\n",
              "       2, 2, 2, 2, 2, 2, 2, 2, 2, 2, 2, 2, 2, 2, 2, 2, 2, 2, 2, 2, 2, 2,\n",
              "       2, 2, 2, 2, 2, 2, 2, 2, 2, 2, 2, 2, 2, 2, 2, 2, 2, 2, 2, 2, 2, 2,\n",
              "       2, 2, 2, 2, 2, 2, 2, 2, 2, 2, 2, 2, 2, 2, 2, 2, 2, 2, 2, 2, 3, 3,\n",
              "       3, 3, 3, 3, 3, 3, 3, 3, 3, 3, 3, 3, 3, 3, 3, 3, 3, 3, 3, 3, 3, 3,\n",
              "       3, 3, 3, 3, 3, 3, 3, 3, 3, 3, 3, 3, 3, 3, 3, 3, 3, 3, 3, 3, 3, 3,\n",
              "       3, 3])"
            ]
          },
          "metadata": {},
          "execution_count": 8
        }
      ]
    },
    {
      "cell_type": "markdown",
      "source": [
        "# SPLITTING THE DATASET"
      ],
      "metadata": {
        "id": "KRyX_EI_nNKx"
      }
    },
    {
      "cell_type": "code",
      "source": [
        "from sklearn.model_selection import train_test_split\n",
        "X_train, X_test, y_train, y_test = train_test_split(X, y, test_size = 0.25, random_state = 0)"
      ],
      "metadata": {
        "id": "gJlw29eYnMoS"
      },
      "execution_count": 9,
      "outputs": []
    },
    {
      "cell_type": "code",
      "source": [
        "X_test"
      ],
      "metadata": {
        "colab": {
          "base_uri": "https://localhost:8080/"
        },
        "id": "_QI7V1OznXHc",
        "outputId": "2e983858-17bd-4026-afeb-faddad2c7784"
      },
      "execution_count": 10,
      "outputs": [
        {
          "output_type": "execute_result",
          "data": {
            "text/plain": [
              "array([[1.374e+01, 1.670e+00, 2.250e+00, 1.640e+01, 1.180e+02, 2.600e+00,\n",
              "        2.900e+00, 2.100e-01, 1.620e+00, 5.850e+00, 9.200e-01, 3.200e+00,\n",
              "        1.060e+03],\n",
              "       [1.279e+01, 2.670e+00, 2.480e+00, 2.200e+01, 1.120e+02, 1.480e+00,\n",
              "        1.360e+00, 2.400e-01, 1.260e+00, 1.080e+01, 4.800e-01, 1.470e+00,\n",
              "        4.800e+02],\n",
              "       [1.237e+01, 1.130e+00, 2.160e+00, 1.900e+01, 8.700e+01, 3.500e+00,\n",
              "        3.100e+00, 1.900e-01, 1.870e+00, 4.450e+00, 1.220e+00, 2.870e+00,\n",
              "        4.200e+02],\n",
              "       [1.356e+01, 1.730e+00, 2.460e+00, 2.050e+01, 1.160e+02, 2.960e+00,\n",
              "        2.780e+00, 2.000e-01, 2.450e+00, 6.250e+00, 9.800e-01, 3.030e+00,\n",
              "        1.120e+03],\n",
              "       [1.305e+01, 5.800e+00, 2.130e+00, 2.150e+01, 8.600e+01, 2.620e+00,\n",
              "        2.650e+00, 3.000e-01, 2.010e+00, 2.600e+00, 7.300e-01, 3.100e+00,\n",
              "        3.800e+02],\n",
              "       [1.156e+01, 2.050e+00, 3.230e+00, 2.850e+01, 1.190e+02, 3.180e+00,\n",
              "        5.080e+00, 4.700e-01, 1.870e+00, 6.000e+00, 9.300e-01, 3.690e+00,\n",
              "        4.650e+02],\n",
              "       [1.406e+01, 2.150e+00, 2.610e+00, 1.760e+01, 1.210e+02, 2.600e+00,\n",
              "        2.510e+00, 3.100e-01, 1.250e+00, 5.050e+00, 1.060e+00, 3.580e+00,\n",
              "        1.295e+03],\n",
              "       [1.236e+01, 3.830e+00, 2.380e+00, 2.100e+01, 8.800e+01, 2.300e+00,\n",
              "        9.200e-01, 5.000e-01, 1.040e+00, 7.650e+00, 5.600e-01, 1.580e+00,\n",
              "        5.200e+02],\n",
              "       [1.225e+01, 1.730e+00, 2.120e+00, 1.900e+01, 8.000e+01, 1.650e+00,\n",
              "        2.030e+00, 3.700e-01, 1.630e+00, 3.400e+00, 1.000e+00, 3.170e+00,\n",
              "        5.100e+02],\n",
              "       [1.208e+01, 1.830e+00, 2.320e+00, 1.850e+01, 8.100e+01, 1.600e+00,\n",
              "        1.500e+00, 5.200e-01, 1.640e+00, 2.400e+00, 1.080e+00, 2.270e+00,\n",
              "        4.800e+02],\n",
              "       [1.336e+01, 2.560e+00, 2.350e+00, 2.000e+01, 8.900e+01, 1.400e+00,\n",
              "        5.000e-01, 3.700e-01, 6.400e-01, 5.600e+00, 7.000e-01, 2.470e+00,\n",
              "        7.800e+02],\n",
              "       [1.388e+01, 5.040e+00, 2.230e+00, 2.000e+01, 8.000e+01, 9.800e-01,\n",
              "        3.400e-01, 4.000e-01, 6.800e-01, 4.900e+00, 5.800e-01, 1.330e+00,\n",
              "        4.150e+02],\n",
              "       [1.420e+01, 1.760e+00, 2.450e+00, 1.520e+01, 1.120e+02, 3.270e+00,\n",
              "        3.390e+00, 3.400e-01, 1.970e+00, 6.750e+00, 1.050e+00, 2.850e+00,\n",
              "        1.450e+03],\n",
              "       [1.237e+01, 1.070e+00, 2.100e+00, 1.850e+01, 8.800e+01, 3.520e+00,\n",
              "        3.750e+00, 2.400e-01, 1.950e+00, 4.500e+00, 1.040e+00, 2.770e+00,\n",
              "        6.600e+02],\n",
              "       [1.358e+01, 2.580e+00, 2.690e+00, 2.450e+01, 1.050e+02, 1.550e+00,\n",
              "        8.400e-01, 3.900e-01, 1.540e+00, 8.660e+00, 7.400e-01, 1.800e+00,\n",
              "        7.500e+02],\n",
              "       [1.200e+01, 9.200e-01, 2.000e+00, 1.900e+01, 8.600e+01, 2.420e+00,\n",
              "        2.260e+00, 3.000e-01, 1.430e+00, 2.500e+00, 1.380e+00, 3.120e+00,\n",
              "        2.780e+02],\n",
              "       [1.376e+01, 1.530e+00, 2.700e+00, 1.950e+01, 1.320e+02, 2.950e+00,\n",
              "        2.740e+00, 5.000e-01, 1.350e+00, 5.400e+00, 1.250e+00, 3.000e+00,\n",
              "        1.235e+03],\n",
              "       [1.419e+01, 1.590e+00, 2.480e+00, 1.650e+01, 1.080e+02, 3.300e+00,\n",
              "        3.930e+00, 3.200e-01, 1.860e+00, 8.700e+00, 1.230e+00, 2.820e+00,\n",
              "        1.680e+03],\n",
              "       [1.264e+01, 1.360e+00, 2.020e+00, 1.680e+01, 1.000e+02, 2.020e+00,\n",
              "        1.410e+00, 5.300e-01, 6.200e-01, 5.750e+00, 9.800e-01, 1.590e+00,\n",
              "        4.500e+02],\n",
              "       [1.383e+01, 1.650e+00, 2.600e+00, 1.720e+01, 9.400e+01, 2.450e+00,\n",
              "        2.990e+00, 2.200e-01, 2.290e+00, 5.600e+00, 1.240e+00, 3.370e+00,\n",
              "        1.265e+03],\n",
              "       [1.311e+01, 1.010e+00, 1.700e+00, 1.500e+01, 7.800e+01, 2.980e+00,\n",
              "        3.180e+00, 2.600e-01, 2.280e+00, 5.300e+00, 1.120e+00, 3.180e+00,\n",
              "        5.020e+02],\n",
              "       [1.305e+01, 1.650e+00, 2.550e+00, 1.800e+01, 9.800e+01, 2.450e+00,\n",
              "        2.430e+00, 2.900e-01, 1.440e+00, 4.250e+00, 1.120e+00, 2.510e+00,\n",
              "        1.105e+03],\n",
              "       [1.324e+01, 2.590e+00, 2.870e+00, 2.100e+01, 1.180e+02, 2.800e+00,\n",
              "        2.690e+00, 3.900e-01, 1.820e+00, 4.320e+00, 1.040e+00, 2.930e+00,\n",
              "        7.350e+02],\n",
              "       [1.251e+01, 1.730e+00, 1.980e+00, 2.050e+01, 8.500e+01, 2.200e+00,\n",
              "        1.920e+00, 3.200e-01, 1.480e+00, 2.940e+00, 1.040e+00, 3.570e+00,\n",
              "        6.720e+02],\n",
              "       [1.233e+01, 1.100e+00, 2.280e+00, 1.600e+01, 1.010e+02, 2.050e+00,\n",
              "        1.090e+00, 6.300e-01, 4.100e-01, 3.270e+00, 1.250e+00, 1.670e+00,\n",
              "        6.800e+02],\n",
              "       [1.252e+01, 2.430e+00, 2.170e+00, 2.100e+01, 8.800e+01, 2.550e+00,\n",
              "        2.270e+00, 2.600e-01, 1.220e+00, 2.000e+00, 9.000e-01, 2.780e+00,\n",
              "        3.250e+02],\n",
              "       [1.243e+01, 1.530e+00, 2.290e+00, 2.150e+01, 8.600e+01, 2.740e+00,\n",
              "        3.150e+00, 3.900e-01, 1.770e+00, 3.940e+00, 6.900e-01, 2.840e+00,\n",
              "        3.520e+02],\n",
              "       [1.216e+01, 1.610e+00, 2.310e+00, 2.280e+01, 9.000e+01, 1.780e+00,\n",
              "        1.690e+00, 4.300e-01, 1.560e+00, 2.450e+00, 1.330e+00, 2.260e+00,\n",
              "        4.950e+02],\n",
              "       [1.176e+01, 2.680e+00, 2.920e+00, 2.000e+01, 1.030e+02, 1.750e+00,\n",
              "        2.030e+00, 6.000e-01, 1.050e+00, 3.800e+00, 1.230e+00, 2.500e+00,\n",
              "        6.070e+02],\n",
              "       [1.378e+01, 2.760e+00, 2.300e+00, 2.200e+01, 9.000e+01, 1.350e+00,\n",
              "        6.800e-01, 4.100e-01, 1.030e+00, 9.580e+00, 7.000e-01, 1.680e+00,\n",
              "        6.150e+02],\n",
              "       [1.339e+01, 1.770e+00, 2.620e+00, 1.610e+01, 9.300e+01, 2.850e+00,\n",
              "        2.940e+00, 3.400e-01, 1.450e+00, 4.800e+00, 9.200e-01, 3.220e+00,\n",
              "        1.195e+03],\n",
              "       [1.422e+01, 1.700e+00, 2.300e+00, 1.630e+01, 1.180e+02, 3.200e+00,\n",
              "        3.000e+00, 2.600e-01, 2.030e+00, 6.380e+00, 9.400e-01, 3.310e+00,\n",
              "        9.700e+02],\n",
              "       [1.204e+01, 4.300e+00, 2.380e+00, 2.200e+01, 8.000e+01, 2.100e+00,\n",
              "        1.750e+00, 4.200e-01, 1.350e+00, 2.600e+00, 7.900e-01, 2.570e+00,\n",
              "        5.800e+02],\n",
              "       [1.421e+01, 4.040e+00, 2.440e+00, 1.890e+01, 1.110e+02, 2.850e+00,\n",
              "        2.650e+00, 3.000e-01, 1.250e+00, 5.240e+00, 8.700e-01, 3.330e+00,\n",
              "        1.080e+03],\n",
              "       [1.483e+01, 1.640e+00, 2.170e+00, 1.400e+01, 9.700e+01, 2.800e+00,\n",
              "        2.980e+00, 2.900e-01, 1.980e+00, 5.200e+00, 1.080e+00, 2.850e+00,\n",
              "        1.045e+03],\n",
              "       [1.305e+01, 1.770e+00, 2.100e+00, 1.700e+01, 1.070e+02, 3.000e+00,\n",
              "        3.000e+00, 2.800e-01, 2.030e+00, 5.040e+00, 8.800e-01, 3.350e+00,\n",
              "        8.850e+02],\n",
              "       [1.369e+01, 3.260e+00, 2.540e+00, 2.000e+01, 1.070e+02, 1.830e+00,\n",
              "        5.600e-01, 5.000e-01, 8.000e-01, 5.880e+00, 9.600e-01, 1.820e+00,\n",
              "        6.800e+02],\n",
              "       [1.269e+01, 1.530e+00, 2.260e+00, 2.070e+01, 8.000e+01, 1.380e+00,\n",
              "        1.460e+00, 5.800e-01, 1.620e+00, 3.050e+00, 9.600e-01, 2.060e+00,\n",
              "        4.950e+02],\n",
              "       [1.162e+01, 1.990e+00, 2.280e+00, 1.800e+01, 9.800e+01, 3.020e+00,\n",
              "        2.260e+00, 1.700e-01, 1.350e+00, 3.250e+00, 1.160e+00, 2.960e+00,\n",
              "        3.450e+02],\n",
              "       [1.340e+01, 3.910e+00, 2.480e+00, 2.300e+01, 1.020e+02, 1.800e+00,\n",
              "        7.500e-01, 4.300e-01, 1.410e+00, 7.300e+00, 7.000e-01, 1.560e+00,\n",
              "        7.500e+02],\n",
              "       [1.350e+01, 1.810e+00, 2.610e+00, 2.000e+01, 9.600e+01, 2.530e+00,\n",
              "        2.610e+00, 2.800e-01, 1.660e+00, 3.520e+00, 1.120e+00, 3.820e+00,\n",
              "        8.450e+02],\n",
              "       [1.373e+01, 1.500e+00, 2.700e+00, 2.250e+01, 1.010e+02, 3.000e+00,\n",
              "        3.250e+00, 2.900e-01, 2.380e+00, 5.700e+00, 1.190e+00, 2.710e+00,\n",
              "        1.285e+03],\n",
              "       [1.229e+01, 2.830e+00, 2.220e+00, 1.800e+01, 8.800e+01, 2.450e+00,\n",
              "        2.250e+00, 2.500e-01, 1.990e+00, 2.150e+00, 1.150e+00, 3.300e+00,\n",
              "        2.900e+02],\n",
              "       [1.260e+01, 1.340e+00, 1.900e+00, 1.850e+01, 8.800e+01, 1.450e+00,\n",
              "        1.360e+00, 2.900e-01, 1.350e+00, 2.450e+00, 1.040e+00, 2.770e+00,\n",
              "        5.620e+02],\n",
              "       [1.141e+01, 7.400e-01, 2.500e+00, 2.100e+01, 8.800e+01, 2.480e+00,\n",
              "        2.010e+00, 4.200e-01, 1.440e+00, 3.080e+00, 1.100e+00, 2.310e+00,\n",
              "        4.340e+02]])"
            ]
          },
          "metadata": {},
          "execution_count": 10
        }
      ]
    },
    {
      "cell_type": "code",
      "source": [
        "y_test"
      ],
      "metadata": {
        "colab": {
          "base_uri": "https://localhost:8080/"
        },
        "id": "e_spFu80nZ1h",
        "outputId": "0f6fae0a-4e0c-4ff0-8896-65233afffd61"
      },
      "execution_count": 11,
      "outputs": [
        {
          "output_type": "execute_result",
          "data": {
            "text/plain": [
              "array([1, 3, 2, 1, 2, 2, 1, 3, 2, 2, 3, 3, 1, 2, 3, 2, 1, 1, 2, 1, 2, 1,\n",
              "       1, 2, 2, 2, 2, 2, 2, 3, 1, 1, 2, 1, 1, 1, 3, 2, 2, 3, 1, 1, 2, 2,\n",
              "       2])"
            ]
          },
          "metadata": {},
          "execution_count": 11
        }
      ]
    },
    {
      "cell_type": "markdown",
      "source": [
        "# FEATURE SCALING"
      ],
      "metadata": {
        "id": "ujjBlzwineUs"
      }
    },
    {
      "cell_type": "code",
      "source": [
        "from sklearn.preprocessing import StandardScaler\n",
        "sc = StandardScaler()\n",
        "X_train = sc.fit_transform(X_train)\n",
        "X_test = sc.transform(X_test)"
      ],
      "metadata": {
        "id": "i3Ah6sBunbRQ"
      },
      "execution_count": 12,
      "outputs": []
    },
    {
      "cell_type": "code",
      "source": [
        "X_test"
      ],
      "metadata": {
        "colab": {
          "base_uri": "https://localhost:8080/"
        },
        "id": "d6VpdipInjBl",
        "outputId": "7e1b01e3-2ae2-4587-c29b-61ba50300596"
      },
      "execution_count": 13,
      "outputs": [
        {
          "output_type": "execute_result",
          "data": {
            "text/plain": [
              "array([[ 9.24846426e-01, -6.44693605e-01, -4.26204768e-01,\n",
              "        -8.86102652e-01,  1.21559263e+00,  5.53902501e-01,\n",
              "         9.61289659e-01, -1.20875804e+00,  1.75792404e-02,\n",
              "         3.07541923e-01, -1.17577639e-01,  8.49860304e-01,\n",
              "         1.02650167e+00],\n",
              "       [-2.61492111e-01,  2.49500257e-01,  4.22597566e-01,\n",
              "         7.08411132e-01,  7.99800549e-01, -1.27923050e+00,\n",
              "        -6.08441250e-01, -9.73262700e-01, -5.83630781e-01,\n",
              "         2.37335381e+00, -2.00994383e+00, -1.54475588e+00,\n",
              "        -8.92886009e-01],\n",
              "       [-7.85978623e-01, -1.12755829e+00, -7.58344811e-01,\n",
              "        -1.45792681e-01, -9.32666438e-01,  2.02695581e+00,\n",
              "         1.16515082e+00, -1.36575493e+00,  4.35086200e-01,\n",
              "        -2.76728106e-01,  1.17267203e+00,  3.93083807e-01,\n",
              "        -1.09144335e+00],\n",
              "       [ 7.00066493e-01, -5.91041973e-01,  3.48788667e-01,\n",
              "         2.81309226e-01,  1.07699527e+00,  1.14312382e+00,\n",
              "         8.38972964e-01, -1.28725649e+00,  1.40370235e+00,\n",
              "         4.74476217e-01,  1.40472295e-01,  6.14551199e-01,\n",
              "         1.22505901e+00],\n",
              "       [ 6.31900147e-02,  3.04832705e+00, -8.69058159e-01,\n",
              "         5.66043830e-01, -1.00196512e+00,  5.86637019e-01,\n",
              "         7.06463212e-01, -5.02272018e-01,  6.68890097e-01,\n",
              "        -1.04879922e+00, -9.34735766e-01,  7.11443184e-01,\n",
              "        -1.22381492e+00],\n",
              "       [-1.79748832e+00, -3.04899937e-01,  3.19043126e+00,\n",
              "         2.55918606e+00,  1.28489130e+00,  1.50320352e+00,\n",
              "         3.18337627e+00,  8.32201581e-01,  4.35086200e-01,\n",
              "         3.70142283e-01, -7.45693170e-02,  1.52810419e+00,\n",
              "        -9.42525345e-01],\n",
              "       [ 1.32445520e+00, -2.15480551e-01,  9.02355406e-01,\n",
              "        -5.44421127e-01,  1.42348866e+00,  5.53902501e-01,\n",
              "         5.63760403e-01, -4.23773571e-01, -6.00331060e-01,\n",
              "        -2.63266646e-02,  4.84538875e-01,  1.37584536e+00,\n",
              "         1.80418460e+00],\n",
              "       [-7.98466397e-01,  1.28676514e+00,  5.35530730e-02,\n",
              "         4.23676528e-01, -8.63367758e-01,  6.28847319e-02,\n",
              "        -1.05693580e+00,  1.06769692e+00, -9.51036906e-01,\n",
              "         1.05874625e+00, -1.66587725e+00, -1.39249704e+00,\n",
              "        -7.60514445e-01],\n",
              "       [-9.35831912e-01, -5.91041973e-01, -9.05962608e-01,\n",
              "        -1.45792681e-01, -1.41775719e+00, -1.00098710e+00,\n",
              "         7.44936258e-02,  4.72171110e-02,  3.42795188e-02,\n",
              "        -7.14930627e-01,  2.26488940e-01,  8.08335168e-01,\n",
              "        -7.93607336e-01],\n",
              "       [-1.14812407e+00, -5.01622587e-01, -1.67873623e-01,\n",
              "        -2.88159983e-01, -1.34845851e+00, -1.08282340e+00,\n",
              "        -4.65738440e-01,  1.22469382e+00,  5.09797972e-02,\n",
              "        -1.13226636e+00,  5.70555520e-01, -4.37418915e-01,\n",
              "        -8.92886009e-01],\n",
              "       [ 4.50311011e-01,  1.51138933e-01, -5.71602748e-02,\n",
              "         1.38941923e-01, -7.94069079e-01, -1.41016858e+00,\n",
              "        -1.48504423e+00,  4.72171110e-02, -1.61904804e+00,\n",
              "         2.03207990e-01, -1.06376073e+00, -1.60584674e-01,\n",
              "         9.99007197e-02],\n",
              "       [ 1.09967526e+00,  2.36873971e+00, -5.00013666e-01,\n",
              "         1.38941923e-01, -1.41775719e+00, -2.09759345e+00,\n",
              "        -1.64813315e+00,  2.82712452e-01, -1.55224693e+00,\n",
              "        -8.89270249e-02, -1.57986060e+00, -1.73853985e+00,\n",
              "        -1.10798980e+00],\n",
              "       [ 1.49928403e+00, -5.64216157e-01,  3.11884218e-01,\n",
              "        -1.22778418e+00,  7.99800549e-01,  1.65050885e+00,\n",
              "         1.46074949e+00, -1.88278230e-01,  6.02088984e-01,\n",
              "         6.83144085e-01,  4.41530552e-01,  3.65400383e-01,\n",
              "         2.31712441e+00],\n",
              "       [-7.85978623e-01, -1.18120992e+00, -9.79771507e-01,\n",
              "        -2.88159983e-01, -8.63367758e-01,  2.05969033e+00,\n",
              "         1.82769958e+00, -9.73262700e-01,  5.68688427e-01,\n",
              "        -2.55861319e-01,  3.98522230e-01,  2.54666687e-01,\n",
              "        -2.97213972e-01],\n",
              "       [ 7.25042041e-01,  1.69022810e-01,  1.19759100e+00,\n",
              "         1.42024764e+00,  3.14709792e-01, -1.16465969e+00,\n",
              "        -1.13848026e+00,  2.04214005e-01, -1.16022987e-01,\n",
              "         1.48025534e+00, -8.91727443e-01, -1.08797938e+00,\n",
              "         6.22046822e-04],\n",
              "       [-1.24802626e+00, -1.31533900e+00, -1.34881600e+00,\n",
              "        -1.45792681e-01, -1.00196512e+00,  2.59291840e-01,\n",
              "         3.08933956e-01, -5.02272018e-01, -2.99726049e-01,\n",
              "        -1.09053279e+00,  1.86080519e+00,  7.39126608e-01,\n",
              "        -1.56136241e+00],\n",
              "       [ 9.49821974e-01, -7.69880746e-01,  1.23449545e+00,\n",
              "        -3.42537870e-03,  2.18577414e+00,  1.12675657e+00,\n",
              "         7.98200733e-01,  1.06769692e+00, -4.33328276e-01,\n",
              "         1.19740843e-01,  1.30169700e+00,  5.73026063e-01,\n",
              "         1.60562726e+00],\n",
              "       [ 1.48679626e+00, -7.16229114e-01,  4.22597566e-01,\n",
              "        -8.57629192e-01,  5.22605831e-01,  1.69961063e+00,\n",
              "         2.01117462e+00, -3.45275124e-01,  4.18385922e-01,\n",
              "         1.49694877e+00,  1.21568036e+00,  3.23875247e-01,\n",
              "         3.07826090e+00],\n",
              "       [-4.48808723e-01, -9.21893703e-01, -1.27500710e+00,\n",
              "        -7.72208810e-01, -3.17836049e-02, -3.95398519e-01,\n",
              "        -5.57475961e-01,  1.30319226e+00, -1.65244860e+00,\n",
              "         2.65808350e-01,  1.40472295e-01, -1.37865533e+00,\n",
              "        -9.92164682e-01],\n",
              "       [ 1.03723639e+00, -6.62577482e-01,  8.65450957e-01,\n",
              "        -6.58314969e-01, -4.47575682e-01,  3.08393616e-01,\n",
              "         1.05302718e+00, -1.13025959e+00,  1.13649789e+00,\n",
              "         2.03207990e-01,  1.25868868e+00,  1.08516941e+00,\n",
              "         1.70490593e+00],\n",
              "       [ 1.38116659e-01, -1.23486155e+00, -2.45594948e+00,\n",
              "        -1.28473110e+00, -1.55635455e+00,  1.17585834e+00,\n",
              "         1.24669528e+00, -8.16265806e-01,  1.11979761e+00,\n",
              "         7.80072691e-02,  7.42588810e-01,  8.22176880e-01,\n",
              "        -8.20081649e-01],\n",
              "       [ 6.31900147e-02, -6.62577482e-01,  6.80928711e-01,\n",
              "        -4.30527285e-01, -1.70380964e-01,  3.08393616e-01,\n",
              "         4.82215940e-01, -5.80770465e-01, -2.83025770e-01,\n",
              "        -3.60195253e-01,  7.42588810e-01, -1.05217826e-01,\n",
              "         1.17541968e+00],\n",
              "       [ 3.00457722e-01,  1.77964748e-01,  1.86187109e+00,\n",
              "         4.23676528e-01,  1.21559263e+00,  8.81247681e-01,\n",
              "         7.47235444e-01,  2.04214005e-01,  3.51584808e-01,\n",
              "        -3.30981751e-01,  3.98522230e-01,  4.76134079e-01,\n",
              "        -4.90172896e-02],\n",
              "       [-6.11149786e-01, -5.91041973e-01, -1.42262490e+00,\n",
              "         2.81309226e-01, -1.07126380e+00, -1.00787858e-01,\n",
              "        -3.76300106e-02, -3.45275124e-01, -2.16224657e-01,\n",
              "        -9.06905065e-01,  3.98522230e-01,  1.36200365e+00,\n",
              "        -2.57502503e-01],\n",
              "       [-8.35929719e-01, -1.15438411e+00, -3.15491420e-01,\n",
              "        -9.99996494e-01,  3.75150746e-02, -3.46296743e-01,\n",
              "        -8.83653812e-01,  2.08817673e+00, -2.00315444e+00,\n",
              "        -7.69184273e-01,  1.30169700e+00, -1.26792164e+00,\n",
              "        -2.31028190e-01],\n",
              "       [-5.98662011e-01,  3.48937304e-02, -7.21440362e-01,\n",
              "         4.23676528e-01, -8.63367758e-01,  4.72066206e-01,\n",
              "         3.19127014e-01, -8.16265806e-01, -6.50431895e-01,\n",
              "        -1.29920066e+00, -2.03594284e-01,  2.68508399e-01,\n",
              "        -1.40582582e+00],\n",
              "       [-7.11051978e-01, -7.69880746e-01, -2.78586970e-01,\n",
              "         5.66043830e-01, -1.00196512e+00,  7.83044127e-01,\n",
              "         1.21611610e+00,  2.04214005e-01,  2.68083416e-01,\n",
              "        -4.89569330e-01, -1.10676906e+00,  3.51558671e-01,\n",
              "        -1.31647501e+00],\n",
              "       [-1.04822188e+00, -6.98345237e-01, -2.04778072e-01,\n",
              "         9.36198816e-01, -7.24770399e-01, -7.88212735e-01,\n",
              "        -2.72070341e-01,  5.18207793e-01, -8.26224299e-02,\n",
              "        -1.11139958e+00,  1.64576358e+00, -4.51260627e-01,\n",
              "        -8.43246672e-01],\n",
              "       [-1.54773284e+00,  2.58442196e-01,  2.04639333e+00,\n",
              "         1.38941923e-01,  1.76112434e-01, -8.37314512e-01,\n",
              "         7.44936258e-02,  1.85268139e+00, -9.34336627e-01,\n",
              "        -5.47996333e-01,  1.21568036e+00, -1.19059538e-01,\n",
              "        -4.72606294e-01],\n",
              "       [ 9.74797522e-01,  3.29977705e-01, -2.41682521e-01,\n",
              "         7.08411132e-01, -7.24770399e-01, -1.49200487e+00,\n",
              "        -1.30156918e+00,  3.61210899e-01, -9.67737184e-01,\n",
              "         1.86420421e+00, -1.06376073e+00, -1.25407992e+00,\n",
              "        -4.46131981e-01],\n",
              "       [ 4.87774333e-01, -5.55274219e-01,  9.39259856e-01,\n",
              "        -9.71523033e-01, -5.16874361e-01,  9.63083976e-01,\n",
              "         1.00206189e+00, -1.88278230e-01, -2.66325492e-01,\n",
              "        -1.30660598e-01, -1.17577639e-01,  8.77543728e-01,\n",
              "         1.47325569e+00],\n",
              "       [ 1.52425958e+00, -6.17867789e-01, -2.41682521e-01,\n",
              "        -9.14576112e-01,  1.21559263e+00,  1.53593804e+00,\n",
              "         1.06322024e+00, -8.16265806e-01,  7.02290654e-01,\n",
              "         5.28729863e-01, -3.15609945e-02,  1.00211914e+00,\n",
              "         7.28665648e-01],\n",
              "       [-1.19807517e+00,  1.70703625e+00,  5.35530730e-02,\n",
              "         7.08411132e-01, -1.41775719e+00, -2.64460448e-01,\n",
              "        -2.10911994e-01,  4.39709346e-01, -4.33328276e-01,\n",
              "        -1.04879922e+00, -6.76685831e-01, -2.21675538e-02,\n",
              "        -5.61957099e-01],\n",
              "       [ 1.51177181e+00,  1.47454585e+00,  2.74979769e-01,\n",
              "        -1.74266141e-01,  7.30501869e-01,  9.63083976e-01,\n",
              "         7.06463212e-01, -5.02272018e-01, -6.00331060e-01,\n",
              "         5.29671250e-02, -3.32619252e-01,  1.02980256e+00,\n",
              "         1.09268745e+00],\n",
              "       [ 2.28601380e+00, -6.71519421e-01, -7.21440362e-01,\n",
              "        -1.56946570e+00, -2.39679643e-01,  8.81247681e-01,\n",
              "         1.04283412e+00, -5.80770465e-01,  6.18789262e-01,\n",
              "         3.62736956e-02,  5.70555520e-01,  3.65400383e-01,\n",
              "         9.76862330e-01],\n",
              "       [ 6.31900147e-02, -5.55274219e-01, -9.79771507e-01,\n",
              "        -7.15261889e-01,  4.53307151e-01,  1.20859286e+00,\n",
              "         1.06322024e+00, -6.59268912e-01,  7.02290654e-01,\n",
              "        -3.05000220e-02, -2.89610929e-01,  1.05748598e+00,\n",
              "         4.47376075e-01],\n",
              "       [ 8.62407556e-01,  7.77074636e-01,  6.44024261e-01,\n",
              "         1.38941923e-01,  4.53307151e-01, -7.06376440e-01,\n",
              "        -1.42388588e+00,  1.06769692e+00, -1.35184359e+00,\n",
              "         3.20061995e-01,  5.44556504e-02, -1.06029596e+00,\n",
              "        -2.31028190e-01],\n",
              "       [-3.86369852e-01, -7.69880746e-01, -3.89300318e-01,\n",
              "         3.38256146e-01, -1.41775719e+00, -1.44290309e+00,\n",
              "        -5.06510672e-01,  1.69568450e+00,  1.75792404e-02,\n",
              "        -8.60998134e-01,  5.44556504e-02, -7.28094867e-01,\n",
              "        -8.43246672e-01],\n",
              "       [-1.72256168e+00, -3.58551569e-01, -3.15491420e-01,\n",
              "        -4.30527285e-01, -1.70380964e-01,  1.24132738e+00,\n",
              "         3.08933956e-01, -1.52275183e+00, -4.33328276e-01,\n",
              "        -7.77530987e-01,  9.14622099e-01,  5.17659215e-01,\n",
              "        -1.33964004e+00],\n",
              "       [ 5.00262107e-01,  1.35830065e+00,  4.22597566e-01,\n",
              "         9.93145736e-01,  1.06813754e-01, -7.55478217e-01,\n",
              "        -1.23021778e+00,  5.18207793e-01, -3.33126606e-01,\n",
              "         9.12678739e-01, -1.06376073e+00, -1.42018047e+00,\n",
              "         6.22046822e-04],\n",
              "       [ 6.25139848e-01, -5.19506464e-01,  9.02355406e-01,\n",
              "         1.38941923e-01, -3.08978323e-01,  4.39331688e-01,\n",
              "         6.65690981e-01, -6.59268912e-01,  8.43803539e-02,\n",
              "        -6.64850339e-01,  7.42588810e-01,  1.70804645e+00,\n",
              "         3.15004511e-01],\n",
              "       [ 9.12358652e-01, -7.96706562e-01,  1.23449545e+00,\n",
              "         8.50778434e-01,  3.75150746e-02,  1.20859286e+00,\n",
              "         1.31804668e+00, -5.80770465e-01,  1.28680040e+00,\n",
              "         2.44941563e-01,  1.04364707e+00,  1.71616415e-01,\n",
              "         1.77109171e+00],\n",
              "       [-8.85880815e-01,  3.92571275e-01, -5.36918115e-01,\n",
              "        -4.30527285e-01, -8.63367758e-01,  3.08393616e-01,\n",
              "         2.98740898e-01, -8.94764253e-01,  6.35489541e-01,\n",
              "        -1.23660030e+00,  8.71613777e-01,  9.88277424e-01,\n",
              "        -1.52165094e+00],\n",
              "       [-4.98759819e-01, -9.39777580e-01, -1.71786049e+00,\n",
              "        -2.88159983e-01, -8.63367758e-01, -1.32833228e+00,\n",
              "        -6.08441250e-01, -5.80770465e-01, -4.33328276e-01,\n",
              "        -1.11139958e+00,  3.98522230e-01,  2.54666687e-01,\n",
              "        -6.21524303e-01],\n",
              "       [-1.98480493e+00, -1.47629390e+00,  4.96406464e-01,\n",
              "         4.23676528e-01, -8.63367758e-01,  3.57495393e-01,\n",
              "         5.41075101e-02,  4.39709346e-01, -2.83025770e-01,\n",
              "        -8.48478062e-01,  6.56572165e-01, -3.82052067e-01,\n",
              "        -1.04511331e+00]])"
            ]
          },
          "metadata": {},
          "execution_count": 13
        }
      ]
    },
    {
      "cell_type": "markdown",
      "source": [
        "# APPLYING PCA"
      ],
      "metadata": {
        "id": "ct6infJEnnfC"
      }
    },
    {
      "cell_type": "code",
      "source": [
        "from sklearn.decomposition import PCA\n",
        "pca = PCA(n_components = 2)\n",
        "X_train = pca.fit_transform(X_train)\n",
        "X_test = pca.transform(X_test)"
      ],
      "metadata": {
        "id": "52Cv7uwhnkba"
      },
      "execution_count": 14,
      "outputs": []
    },
    {
      "cell_type": "markdown",
      "source": [
        "# APPLYING KNN CLASSIFICATON TO THE TRAINING DATASET"
      ],
      "metadata": {
        "id": "T0aFYnPtntsH"
      }
    },
    {
      "cell_type": "code",
      "source": [
        "# Fitting KNN Classification to the Training set\n",
        "from sklearn.neighbors import KNeighborsClassifier\n",
        "classifier = KNeighborsClassifier(n_neighbors = 5, metric = 'minkowski', p = 2)\n",
        "classifier.fit(X_train, y_train)"
      ],
      "metadata": {
        "colab": {
          "base_uri": "https://localhost:8080/",
          "height": 74
        },
        "id": "U_TSe8dQnp5U",
        "outputId": "3b153d82-e2b1-4086-f61b-08d17e7e1692"
      },
      "execution_count": 15,
      "outputs": [
        {
          "output_type": "execute_result",
          "data": {
            "text/plain": [
              "KNeighborsClassifier()"
            ],
            "text/html": [
              "<style>#sk-container-id-1 {color: black;background-color: white;}#sk-container-id-1 pre{padding: 0;}#sk-container-id-1 div.sk-toggleable {background-color: white;}#sk-container-id-1 label.sk-toggleable__label {cursor: pointer;display: block;width: 100%;margin-bottom: 0;padding: 0.3em;box-sizing: border-box;text-align: center;}#sk-container-id-1 label.sk-toggleable__label-arrow:before {content: \"▸\";float: left;margin-right: 0.25em;color: #696969;}#sk-container-id-1 label.sk-toggleable__label-arrow:hover:before {color: black;}#sk-container-id-1 div.sk-estimator:hover label.sk-toggleable__label-arrow:before {color: black;}#sk-container-id-1 div.sk-toggleable__content {max-height: 0;max-width: 0;overflow: hidden;text-align: left;background-color: #f0f8ff;}#sk-container-id-1 div.sk-toggleable__content pre {margin: 0.2em;color: black;border-radius: 0.25em;background-color: #f0f8ff;}#sk-container-id-1 input.sk-toggleable__control:checked~div.sk-toggleable__content {max-height: 200px;max-width: 100%;overflow: auto;}#sk-container-id-1 input.sk-toggleable__control:checked~label.sk-toggleable__label-arrow:before {content: \"▾\";}#sk-container-id-1 div.sk-estimator input.sk-toggleable__control:checked~label.sk-toggleable__label {background-color: #d4ebff;}#sk-container-id-1 div.sk-label input.sk-toggleable__control:checked~label.sk-toggleable__label {background-color: #d4ebff;}#sk-container-id-1 input.sk-hidden--visually {border: 0;clip: rect(1px 1px 1px 1px);clip: rect(1px, 1px, 1px, 1px);height: 1px;margin: -1px;overflow: hidden;padding: 0;position: absolute;width: 1px;}#sk-container-id-1 div.sk-estimator {font-family: monospace;background-color: #f0f8ff;border: 1px dotted black;border-radius: 0.25em;box-sizing: border-box;margin-bottom: 0.5em;}#sk-container-id-1 div.sk-estimator:hover {background-color: #d4ebff;}#sk-container-id-1 div.sk-parallel-item::after {content: \"\";width: 100%;border-bottom: 1px solid gray;flex-grow: 1;}#sk-container-id-1 div.sk-label:hover label.sk-toggleable__label {background-color: #d4ebff;}#sk-container-id-1 div.sk-serial::before {content: \"\";position: absolute;border-left: 1px solid gray;box-sizing: border-box;top: 0;bottom: 0;left: 50%;z-index: 0;}#sk-container-id-1 div.sk-serial {display: flex;flex-direction: column;align-items: center;background-color: white;padding-right: 0.2em;padding-left: 0.2em;position: relative;}#sk-container-id-1 div.sk-item {position: relative;z-index: 1;}#sk-container-id-1 div.sk-parallel {display: flex;align-items: stretch;justify-content: center;background-color: white;position: relative;}#sk-container-id-1 div.sk-item::before, #sk-container-id-1 div.sk-parallel-item::before {content: \"\";position: absolute;border-left: 1px solid gray;box-sizing: border-box;top: 0;bottom: 0;left: 50%;z-index: -1;}#sk-container-id-1 div.sk-parallel-item {display: flex;flex-direction: column;z-index: 1;position: relative;background-color: white;}#sk-container-id-1 div.sk-parallel-item:first-child::after {align-self: flex-end;width: 50%;}#sk-container-id-1 div.sk-parallel-item:last-child::after {align-self: flex-start;width: 50%;}#sk-container-id-1 div.sk-parallel-item:only-child::after {width: 0;}#sk-container-id-1 div.sk-dashed-wrapped {border: 1px dashed gray;margin: 0 0.4em 0.5em 0.4em;box-sizing: border-box;padding-bottom: 0.4em;background-color: white;}#sk-container-id-1 div.sk-label label {font-family: monospace;font-weight: bold;display: inline-block;line-height: 1.2em;}#sk-container-id-1 div.sk-label-container {text-align: center;}#sk-container-id-1 div.sk-container {/* jupyter's `normalize.less` sets `[hidden] { display: none; }` but bootstrap.min.css set `[hidden] { display: none !important; }` so we also need the `!important` here to be able to override the default hidden behavior on the sphinx rendered scikit-learn.org. See: https://github.com/scikit-learn/scikit-learn/issues/21755 */display: inline-block !important;position: relative;}#sk-container-id-1 div.sk-text-repr-fallback {display: none;}</style><div id=\"sk-container-id-1\" class=\"sk-top-container\"><div class=\"sk-text-repr-fallback\"><pre>KNeighborsClassifier()</pre><b>In a Jupyter environment, please rerun this cell to show the HTML representation or trust the notebook. <br />On GitHub, the HTML representation is unable to render, please try loading this page with nbviewer.org.</b></div><div class=\"sk-container\" hidden><div class=\"sk-item\"><div class=\"sk-estimator sk-toggleable\"><input class=\"sk-toggleable__control sk-hidden--visually\" id=\"sk-estimator-id-1\" type=\"checkbox\" checked><label for=\"sk-estimator-id-1\" class=\"sk-toggleable__label sk-toggleable__label-arrow\">KNeighborsClassifier</label><div class=\"sk-toggleable__content\"><pre>KNeighborsClassifier()</pre></div></div></div></div></div>"
            ]
          },
          "metadata": {},
          "execution_count": 15
        }
      ]
    },
    {
      "cell_type": "markdown",
      "source": [
        "# MAKING CONFUSION MATRIX AND CALCULATING THE ACCURACY SCORE"
      ],
      "metadata": {
        "id": "56WebwUyn4Pw"
      }
    },
    {
      "cell_type": "code",
      "source": [
        "from sklearn.metrics import confusion_matrix, accuracy_score\n",
        "y_pred = classifier.predict(X_test)\n",
        "cm = confusion_matrix(y_test, y_pred)\n",
        "print(cm)"
      ],
      "metadata": {
        "colab": {
          "base_uri": "https://localhost:8080/"
        },
        "id": "ahBz9GUHn0LB",
        "outputId": "358c7691-4c45-451b-dbdd-615b41003470"
      },
      "execution_count": 16,
      "outputs": [
        {
          "output_type": "stream",
          "name": "stdout",
          "text": [
            "[[16  0  0]\n",
            " [ 1 20  0]\n",
            " [ 0  0  8]]\n"
          ]
        }
      ]
    },
    {
      "cell_type": "code",
      "source": [
        "from sklearn.metrics import accuracy_score\n",
        "sr = accuracy_score(y_test, y_pred)\n",
        "accuracy = sr*100\n",
        "accuracy "
      ],
      "metadata": {
        "colab": {
          "base_uri": "https://localhost:8080/"
        },
        "id": "3Gnl5MGNn-Tm",
        "outputId": "3c6b2b32-6465-448f-85f3-fd7da469c2ac"
      },
      "execution_count": 17,
      "outputs": [
        {
          "output_type": "execute_result",
          "data": {
            "text/plain": [
              "97.77777777777777"
            ]
          },
          "metadata": {},
          "execution_count": 17
        }
      ]
    },
    {
      "cell_type": "markdown",
      "source": [
        "# DATA VISUALIZATIONS"
      ],
      "metadata": {
        "id": "1bXiIUPGoF4E"
      }
    },
    {
      "cell_type": "code",
      "source": [
        "# Visualizing the training dataset\n",
        "\n",
        "from matplotlib.colors import ListedColormap\n",
        "X_set, y_set = X_train, y_train\n",
        "X1, X2 = np.meshgrid(np.arange(start = X_set[:, 0].min() - 1, stop = X_set[:, 0].max() + 1, step = 0.01),\n",
        "                     np.arange(start = X_set[:, 1].min() - 1, stop = X_set[:, 1].max() + 1, step = 0.01))\n",
        "plt.contourf(X1, X2, classifier.predict(np.array([X1.ravel(), X2.ravel()]).T).reshape(X1.shape),\n",
        "             alpha = 0.75, cmap = ListedColormap(('brown', 'pink', 'yellow')))\n",
        "plt.xlim(X1.min(), X1.max())\n",
        "plt.ylim(X2.min(), X2.max())\n",
        "for i, j in enumerate(np.unique(y_set)):\n",
        "    plt.scatter(X_set[y_set == j, 0], X_set[y_set == j, 1],\n",
        "                c = ListedColormap(('red', 'green', 'blue'))(i), label = j)\n",
        "plt.title('KNN Classification (Training set)')\n",
        "plt.xlabel('PC1')\n",
        "plt.ylabel('PC2')\n",
        "plt.legend()\n",
        "plt.show()"
      ],
      "metadata": {
        "colab": {
          "base_uri": "https://localhost:8080/",
          "height": 528
        },
        "id": "wi1pqFaxoDRq",
        "outputId": "e055538e-7e5b-487e-b1f2-c8d4a008ba0c"
      },
      "execution_count": 18,
      "outputs": [
        {
          "output_type": "stream",
          "name": "stderr",
          "text": [
            "<ipython-input-18-33e53e94a68e>:12: UserWarning: *c* argument looks like a single numeric RGB or RGBA sequence, which should be avoided as value-mapping will have precedence in case its length matches with *x* & *y*.  Please use the *color* keyword-argument or provide a 2D array with a single row if you intend to specify the same RGB or RGBA value for all points.\n",
            "  plt.scatter(X_set[y_set == j, 0], X_set[y_set == j, 1],\n"
          ]
        },
        {
          "output_type": "display_data",
          "data": {
            "text/plain": [
              "<Figure size 640x480 with 1 Axes>"
            ],
            "image/png": "[encoded data removed]"
          },
          "metadata": {}
        }
      ]
    },
    {
      "cell_type": "code",
      "source": [
        "# Visualizing the test dataset\n",
        "\n",
        "from matplotlib.colors import ListedColormap\n",
        "X_set, y_set = X_test, y_test\n",
        "X1, X2 = np.meshgrid(np.arange(start = X_set[:, 0].min() - 1, stop = X_set[:, 0].max() + 1, step = 0.01),\n",
        "                     np.arange(start = X_set[:, 1].min() - 1, stop = X_set[:, 1].max() + 1, step = 0.01))\n",
        "plt.contourf(X1, X2, classifier.predict(np.array([X1.ravel(), X2.ravel()]).T).reshape(X1.shape),\n",
        "             alpha = 0.75, cmap = ListedColormap(('brown', 'pink', 'yellow')))\n",
        "plt.xlim(X1.min(), X1.max())\n",
        "plt.ylim(X2.min(), X2.max())\n",
        "for i, j in enumerate(np.unique(y_set)):\n",
        "    plt.scatter(X_set[y_set == j, 0], X_set[y_set == j, 1],\n",
        "                c = ListedColormap(('red', 'green', 'blue'))(i), label = j)\n",
        "plt.title('KNN Classification (Test set)')\n",
        "plt.xlabel('PC1')\n",
        "plt.ylabel('PC2')\n",
        "plt.legend()\n",
        "plt.show()"
      ],
      "metadata": {
        "colab": {
          "base_uri": "https://localhost:8080/",
          "height": 528
        },
        "id": "KoZ9xUXBoKrB",
        "outputId": "c2adfdb4-88e8-4b37-e329-baa211ccf4a6"
      },
      "execution_count": 19,
      "outputs": [
        {
          "output_type": "stream",
          "name": "stderr",
          "text": [
            "<ipython-input-19-2fae1120195b>:12: UserWarning: *c* argument looks like a single numeric RGB or RGBA sequence, which should be avoided as value-mapping will have precedence in case its length matches with *x* & *y*.  Please use the *color* keyword-argument or provide a 2D array with a single row if you intend to specify the same RGB or RGBA value for all points.\n",
            "  plt.scatter(X_set[y_set == j, 0], X_set[y_set == j, 1],\n"
          ]
        },
        {
          "output_type": "display_data",
          "data": {
            "text/plain": [
              "<Figure size 640x480 with 1 Axes>"
            ],
            "image/png": "[encoded data removed]"
          },
          "metadata": {}
        }
      ]
    },
    {
      "cell_type": "markdown",
      "source": [
        "# ANOTHER METHOD "
      ],
      "metadata": {
        "id": "Ixxth7Q2ovFB"
      }
    },
    {
      "cell_type": "code",
      "source": [
        "wine = pd.read_csv(\"/content/wine.csv\")"
      ],
      "metadata": {
        "id": "itxWbOd3ow7m"
      },
      "execution_count": 20,
      "outputs": []
    },
    {
      "cell_type": "code",
      "source": [
        "wine"
      ],
      "metadata": {
        "colab": {
          "base_uri": "https://localhost:8080/",
          "height": 423
        },
        "id": "F7GgHrZMpQ0q",
        "outputId": "c0556f2b-9a17-47c8-874a-86c15a7cc371"
      },
      "execution_count": 21,
      "outputs": [
        {
          "output_type": "execute_result",
          "data": {
            "text/plain": [
              "     Type  Alcohol  Malic   Ash  Alcalinity  Magnesium  Phenols  Flavanoids  \\\n",
              "0       1    14.23   1.71  2.43        15.6        127     2.80        3.06   \n",
              "1       1    13.20   1.78  2.14        11.2        100     2.65        2.76   \n",
              "2       1    13.16   2.36  2.67        18.6        101     2.80        3.24   \n",
              "3       1    14.37   1.95  2.50        16.8        113     3.85        3.49   \n",
              "4       1    13.24   2.59  2.87        21.0        118     2.80        2.69   \n",
              "..    ...      ...    ...   ...         ...        ...      ...         ...   \n",
              "173     3    13.71   5.65  2.45        20.5         95     1.68        0.61   \n",
              "174     3    13.40   3.91  2.48        23.0        102     1.80        0.75   \n",
              "175     3    13.27   4.28  2.26        20.0        120     1.59        0.69   \n",
              "176     3    13.17   2.59  2.37        20.0        120     1.65        0.68   \n",
              "177     3    14.13   4.10  2.74        24.5         96     2.05        0.76   \n",
              "\n",
              "     Nonflavanoids  Proanthocyanins  Color   Hue  Dilution  Proline  \n",
              "0             0.28             2.29   5.64  1.04      3.92     1065  \n",
              "1             0.26             1.28   4.38  1.05      3.40     1050  \n",
              "2             0.30             2.81   5.68  1.03      3.17     1185  \n",
              "3             0.24             2.18   7.80  0.86      3.45     1480  \n",
              "4             0.39             1.82   4.32  1.04      2.93      735  \n",
              "..             ...              ...    ...   ...       ...      ...  \n",
              "173           0.52             1.06   7.70  0.64      1.74      740  \n",
              "174           0.43             1.41   7.30  0.70      1.56      750  \n",
              "175           0.43             1.35  10.20  0.59      1.56      835  \n",
              "176           0.53             1.46   9.30  0.60      1.62      840  \n",
              "177           0.56             1.35   9.20  0.61      1.60      560  \n",
              "\n",
              "[178 rows x 14 columns]"
            ],
            "text/html": [
              "\n",
              "  <div id=\"df-951b9543-775e-4553-a54b-629e2fc88300\">\n",
              "    <div class=\"colab-df-container\">\n",
              "      <div>\n",
              "<style scoped>\n",
              "    .dataframe tbody tr th:only-of-type {\n",
              "        vertical-align: middle;\n",
              "    }\n",
              "\n",
              "    .dataframe tbody tr th {\n",
              "        vertical-align: top;\n",
              "    }\n",
              "\n",
              "    .dataframe thead th {\n",
              "        text-align: right;\n",
              "    }\n",
              "</style>\n",
              "<table border=\"1\" class=\"dataframe\">\n",
              "  <thead>\n",
              "    <tr style=\"text-align: right;\">\n",
              "      <th></th>\n",
              "      <th>Type</th>\n",
              "      <th>Alcohol</th>\n",
              "      <th>Malic</th>\n",
              "      <th>Ash</th>\n",
              "      <th>Alcalinity</th>\n",
              "      <th>Magnesium</th>\n",
              "      <th>Phenols</th>\n",
              "      <th>Flavanoids</th>\n",
              "      <th>Nonflavanoids</th>\n",
              "      <th>Proanthocyanins</th>\n",
              "      <th>Color</th>\n",
              "      <th>Hue</th>\n",
              "      <th>Dilution</th>\n",
              "      <th>Proline</th>\n",
              "    </tr>\n",
              "  </thead>\n",
              "  <tbody>\n",
              "    <tr>\n",
              "      <th>0</th>\n",
              "      <td>1</td>\n",
              "      <td>14.23</td>\n",
              "      <td>1.71</td>\n",
              "      <td>2.43</td>\n",
              "      <td>15.6</td>\n",
              "      <td>127</td>\n",
              "      <td>2.80</td>\n",
              "      <td>3.06</td>\n",
              "      <td>0.28</td>\n",
              "      <td>2.29</td>\n",
              "      <td>5.64</td>\n",
              "      <td>1.04</td>\n",
              "      <td>3.92</td>\n",
              "      <td>1065</td>\n",
              "    </tr>\n",
              "    <tr>\n",
              "      <th>1</th>\n",
              "      <td>1</td>\n",
              "      <td>13.20</td>\n",
              "      <td>1.78</td>\n",
              "      <td>2.14</td>\n",
              "      <td>11.2</td>\n",
              "      <td>100</td>\n",
              "      <td>2.65</td>\n",
              "      <td>2.76</td>\n",
              "      <td>0.26</td>\n",
              "      <td>1.28</td>\n",
              "      <td>4.38</td>\n",
              "      <td>1.05</td>\n",
              "      <td>3.40</td>\n",
              "      <td>1050</td>\n",
              "    </tr>\n",
              "    <tr>\n",
              "      <th>2</th>\n",
              "      <td>1</td>\n",
              "      <td>13.16</td>\n",
              "      <td>2.36</td>\n",
              "      <td>2.67</td>\n",
              "      <td>18.6</td>\n",
              "      <td>101</td>\n",
              "      <td>2.80</td>\n",
              "      <td>3.24</td>\n",
              "      <td>0.30</td>\n",
              "      <td>2.81</td>\n",
              "      <td>5.68</td>\n",
              "      <td>1.03</td>\n",
              "      <td>3.17</td>\n",
              "      <td>1185</td>\n",
              "    </tr>\n",
              "    <tr>\n",
              "      <th>3</th>\n",
              "      <td>1</td>\n",
              "      <td>14.37</td>\n",
              "      <td>1.95</td>\n",
              "      <td>2.50</td>\n",
              "      <td>16.8</td>\n",
              "      <td>113</td>\n",
              "      <td>3.85</td>\n",
              "      <td>3.49</td>\n",
              "      <td>0.24</td>\n",
              "      <td>2.18</td>\n",
              "      <td>7.80</td>\n",
              "      <td>0.86</td>\n",
              "      <td>3.45</td>\n",
              "      <td>1480</td>\n",
              "    </tr>\n",
              "    <tr>\n",
              "      <th>4</th>\n",
              "      <td>1</td>\n",
              "      <td>13.24</td>\n",
              "      <td>2.59</td>\n",
              "      <td>2.87</td>\n",
              "      <td>21.0</td>\n",
              "      <td>118</td>\n",
              "      <td>2.80</td>\n",
              "      <td>2.69</td>\n",
              "      <td>0.39</td>\n",
              "      <td>1.82</td>\n",
              "      <td>4.32</td>\n",
              "      <td>1.04</td>\n",
              "      <td>2.93</td>\n",
              "      <td>735</td>\n",
              "    </tr>\n",
              "    <tr>\n",
              "      <th>...</th>\n",
              "      <td>...</td>\n",
              "      <td>...</td>\n",
              "      <td>...</td>\n",
              "      <td>...</td>\n",
              "      <td>...</td>\n",
              "      <td>...</td>\n",
              "      <td>...</td>\n",
              "      <td>...</td>\n",
              "      <td>...</td>\n",
              "      <td>...</td>\n",
              "      <td>...</td>\n",
              "      <td>...</td>\n",
              "      <td>...</td>\n",
              "      <td>...</td>\n",
              "    </tr>\n",
              "    <tr>\n",
              "      <th>173</th>\n",
              "      <td>3</td>\n",
              "      <td>13.71</td>\n",
              "      <td>5.65</td>\n",
              "      <td>2.45</td>\n",
              "      <td>20.5</td>\n",
              "      <td>95</td>\n",
              "      <td>1.68</td>\n",
              "      <td>0.61</td>\n",
              "      <td>0.52</td>\n",
              "      <td>1.06</td>\n",
              "      <td>7.70</td>\n",
              "      <td>0.64</td>\n",
              "      <td>1.74</td>\n",
              "      <td>740</td>\n",
              "    </tr>\n",
              "    <tr>\n",
              "      <th>174</th>\n",
              "      <td>3</td>\n",
              "      <td>13.40</td>\n",
              "      <td>3.91</td>\n",
              "      <td>2.48</td>\n",
              "      <td>23.0</td>\n",
              "      <td>102</td>\n",
              "      <td>1.80</td>\n",
              "      <td>0.75</td>\n",
              "      <td>0.43</td>\n",
              "      <td>1.41</td>\n",
              "      <td>7.30</td>\n",
              "      <td>0.70</td>\n",
              "      <td>1.56</td>\n",
              "      <td>750</td>\n",
              "    </tr>\n",
              "    <tr>\n",
              "      <th>175</th>\n",
              "      <td>3</td>\n",
              "      <td>13.27</td>\n",
              "      <td>4.28</td>\n",
              "      <td>2.26</td>\n",
              "      <td>20.0</td>\n",
              "      <td>120</td>\n",
              "      <td>1.59</td>\n",
              "      <td>0.69</td>\n",
              "      <td>0.43</td>\n",
              "      <td>1.35</td>\n",
              "      <td>10.20</td>\n",
              "      <td>0.59</td>\n",
              "      <td>1.56</td>\n",
              "      <td>835</td>\n",
              "    </tr>\n",
              "    <tr>\n",
              "      <th>176</th>\n",
              "      <td>3</td>\n",
              "      <td>13.17</td>\n",
              "      <td>2.59</td>\n",
              "      <td>2.37</td>\n",
              "      <td>20.0</td>\n",
              "      <td>120</td>\n",
              "      <td>1.65</td>\n",
              "      <td>0.68</td>\n",
              "      <td>0.53</td>\n",
              "      <td>1.46</td>\n",
              "      <td>9.30</td>\n",
              "      <td>0.60</td>\n",
              "      <td>1.62</td>\n",
              "      <td>840</td>\n",
              "    </tr>\n",
              "    <tr>\n",
              "      <th>177</th>\n",
              "      <td>3</td>\n",
              "      <td>14.13</td>\n",
              "      <td>4.10</td>\n",
              "      <td>2.74</td>\n",
              "      <td>24.5</td>\n",
              "      <td>96</td>\n",
              "      <td>2.05</td>\n",
              "      <td>0.76</td>\n",
              "      <td>0.56</td>\n",
              "      <td>1.35</td>\n",
              "      <td>9.20</td>\n",
              "      <td>0.61</td>\n",
              "      <td>1.60</td>\n",
              "      <td>560</td>\n",
              "    </tr>\n",
              "  </tbody>\n",
              "</table>\n",
              "<p>178 rows × 14 columns</p>\n",
              "</div>\n",
              "      <button class=\"colab-df-convert\" onclick=\"convertToInteractive('df-951b9543-775e-4553-a54b-629e2fc88300')\"\n",
              "              title=\"Convert this dataframe to an interactive table.\"\n",
              "              style=\"display:none;\">\n",
              "        \n",
              "  <svg xmlns=\"http://www.w3.org/2000/svg\" height=\"24px\"viewBox=\"0 0 24 24\"\n",
              "       width=\"24px\">\n",
              "    <path d=\"M0 0h24v24H0V0z\" fill=\"none\"/>\n",
              "    <path d=\"M18.56 5.44l.94 2.06.94-2.06 2.06-.94-2.06-.94-.94-2.06-.94 2.06-2.06.94zm-11 1L8.5 8.5l.94-2.06 2.06-.94-2.06-.94L8.5 2.5l-.94 2.06-2.06.94zm10 10l.94 2.06.94-2.06 2.06-.94-2.06-.94-.94-2.06-.94 2.06-2.06.94z\"/><path d=\"M17.41 7.96l-1.37-1.37c-.4-.4-.92-.59-1.43-.59-.52 0-1.04.2-1.43.59L10.3 9.45l-7.72 7.72c-.78.78-.78 2.05 0 2.83L4 21.41c.39.39.9.59 1.41.59.51 0 1.02-.2 1.41-.59l7.78-7.78 2.81-2.81c.8-.78.8-2.07 0-2.86zM5.41 20L4 18.59l7.72-7.72 1.47 1.35L5.41 20z\"/>\n",
              "  </svg>\n",
              "      </button>\n",
              "      \n",
              "  <style>\n",
              "    .colab-df-container {\n",
              "      display:flex;\n",
              "      flex-wrap:wrap;\n",
              "      gap: 12px;\n",
              "    }\n",
              "\n",
              "    .colab-df-convert {\n",
              "      background-color: #E8F0FE;\n",
              "      border: none;\n",
              "      border-radius: 50%;\n",
              "      cursor: pointer;\n",
              "      display: none;\n",
              "      fill: #1967D2;\n",
              "      height: 32px;\n",
              "      padding: 0 0 0 0;\n",
              "      width: 32px;\n",
              "    }\n",
              "\n",
              "    .colab-df-convert:hover {\n",
              "      background-color: #E2EBFA;\n",
              "      box-shadow: 0px 1px 2px rgba(60, 64, 67, 0.3), 0px 1px 3px 1px rgba(60, 64, 67, 0.15);\n",
              "      fill: #174EA6;\n",
              "    }\n",
              "\n",
              "    [theme=dark] .colab-df-convert {\n",
              "      background-color: #3B4455;\n",
              "      fill: #D2E3FC;\n",
              "    }\n",
              "\n",
              "    [theme=dark] .colab-df-convert:hover {\n",
              "      background-color: #434B5C;\n",
              "      box-shadow: 0px 1px 3px 1px rgba(0, 0, 0, 0.15);\n",
              "      filter: drop-shadow(0px 1px 2px rgba(0, 0, 0, 0.3));\n",
              "      fill: #FFFFFF;\n",
              "    }\n",
              "  </style>\n",
              "\n",
              "      <script>\n",
              "        const buttonEl =\n",
              "          document.querySelector('#df-951b9543-775e-4553-a54b-629e2fc88300 button.colab-df-convert');\n",
              "        buttonEl.style.display =\n",
              "          google.colab.kernel.accessAllowed ? 'block' : 'none';\n",
              "\n",
              "        async function convertToInteractive(key) {\n",
              "          const element = document.querySelector('#df-951b9543-775e-4553-a54b-629e2fc88300');\n",
              "          const dataTable =\n",
              "            await google.colab.kernel.invokeFunction('convertToInteractive',\n",
              "                                                     [key], {});\n",
              "          if (!dataTable) return;\n",
              "\n",
              "          const docLinkHtml = 'Like what you see? Visit the ' +\n",
              "            '<a target=\"_blank\" href=https://colab.research.google.com/notebooks/data_table.ipynb>data table notebook</a>'\n",
              "            + ' to learn more about interactive tables.';\n",
              "          element.innerHTML = '';\n",
              "          dataTable['output_type'] = 'display_data';\n",
              "          await google.colab.output.renderOutput(dataTable, element);\n",
              "          const docLink = document.createElement('div');\n",
              "          docLink.innerHTML = docLinkHtml;\n",
              "          element.appendChild(docLink);\n",
              "        }\n",
              "      </script>\n",
              "    </div>\n",
              "  </div>\n",
              "  "
            ]
          },
          "metadata": {},
          "execution_count": 21
        }
      ]
    },
    {
      "cell_type": "markdown",
      "source": [
        "# INDEPENDENT VARIABLE"
      ],
      "metadata": {
        "id": "hh4Cqbf2pUBj"
      }
    },
    {
      "cell_type": "code",
      "source": [
        "X = wine.iloc[:, 1:14].values"
      ],
      "metadata": {
        "id": "wNYrPLiUpRSZ"
      },
      "execution_count": 22,
      "outputs": []
    },
    {
      "cell_type": "code",
      "source": [
        "X"
      ],
      "metadata": {
        "colab": {
          "base_uri": "https://localhost:8080/"
        },
        "id": "MvvomNgxpcXv",
        "outputId": "44306acb-ba76-4864-bcb8-9e6af5d166f1"
      },
      "execution_count": 23,
      "outputs": [
        {
          "output_type": "execute_result",
          "data": {
            "text/plain": [
              "array([[1.423e+01, 1.710e+00, 2.430e+00, ..., 1.040e+00, 3.920e+00,\n",
              "        1.065e+03],\n",
              "       [1.320e+01, 1.780e+00, 2.140e+00, ..., 1.050e+00, 3.400e+00,\n",
              "        1.050e+03],\n",
              "       [1.316e+01, 2.360e+00, 2.670e+00, ..., 1.030e+00, 3.170e+00,\n",
              "        1.185e+03],\n",
              "       ...,\n",
              "       [1.327e+01, 4.280e+00, 2.260e+00, ..., 5.900e-01, 1.560e+00,\n",
              "        8.350e+02],\n",
              "       [1.317e+01, 2.590e+00, 2.370e+00, ..., 6.000e-01, 1.620e+00,\n",
              "        8.400e+02],\n",
              "       [1.413e+01, 4.100e+00, 2.740e+00, ..., 6.100e-01, 1.600e+00,\n",
              "        5.600e+02]])"
            ]
          },
          "metadata": {},
          "execution_count": 23
        }
      ]
    },
    {
      "cell_type": "markdown",
      "source": [
        "# APPLYING PCA"
      ],
      "metadata": {
        "id": "SXYlgI41poh9"
      }
    },
    {
      "cell_type": "code",
      "source": [
        "from sklearn.decomposition import PCA\n",
        "pca = PCA(n_components = 2)\n",
        "X = pca.fit_transform(X)"
      ],
      "metadata": {
        "id": "BQ8Ync4SpgV7"
      },
      "execution_count": 24,
      "outputs": []
    },
    {
      "cell_type": "code",
      "source": [
        "X"
      ],
      "metadata": {
        "colab": {
          "base_uri": "https://localhost:8080/"
        },
        "id": "bToLlp_nptZH",
        "outputId": "8bd47f08-784f-4a00-a4d9-ea1bd97b3f46"
      },
      "execution_count": 25,
      "outputs": [
        {
          "output_type": "execute_result",
          "data": {
            "text/plain": [
              "array([[ 3.18562979e+02,  2.14921307e+01],\n",
              "       [ 3.03097420e+02, -5.36471768e+00],\n",
              "       [ 4.38061133e+02, -6.53730945e+00],\n",
              "       [ 7.33240139e+02,  1.92729032e-01],\n",
              "       [-1.15714285e+01,  1.84899946e+01],\n",
              "       [ 7.03231192e+02, -3.32158674e-01],\n",
              "       [ 5.42971581e+02, -1.35189666e+01],\n",
              "       [ 5.48401860e+02,  1.14494324e+01],\n",
              "       [ 2.98036863e+02, -8.18015784e+00],\n",
              "       [ 2.98049553e+02, -7.10154294e+00],\n",
              "       [ 7.63079712e+02, -8.33431723e+00],\n",
              "       [ 5.32943228e+02, -1.42876338e+01],\n",
              "       [ 5.72834410e+02, -2.10050143e+01],\n",
              "       [ 4.02925358e+02, -1.61026352e+01],\n",
              "       [ 8.00053394e+02, -1.21184472e+01],\n",
              "       [ 5.63245578e+02,  2.21482866e+00],\n",
              "       [ 5.33379651e+02,  1.08048022e+01],\n",
              "       [ 3.83317591e+02,  8.47741982e+00],\n",
              "       [ 9.33118387e+02, -8.35447844e+00],\n",
              "       [ 9.84031775e+01,  1.43926594e+01],\n",
              "       [ 3.35935940e+01,  2.55679565e+01],\n",
              "       [ 2.31464375e+01,  1.81747309e+00],\n",
              "       [ 2.88093030e+02, -3.96304175e+00],\n",
              "       [ 2.67981513e+02, -9.57070401e+00],\n",
              "       [ 9.80198858e+01, -5.49584606e+00],\n",
              "       [ 8.34987440e+01,  2.28916215e+01],\n",
              "       [ 4.47925596e+02, -1.47973313e+01],\n",
              "       [ 5.37919165e+02, -1.53883461e+01],\n",
              "       [ 1.68210468e+02,  4.25531096e+00],\n",
              "       [ 2.88008247e+02, -8.95973155e+00],\n",
              "       [ 5.38026452e+02, -8.21273882e+00],\n",
              "       [ 7.68092939e+02, -7.37989737e+00],\n",
              "       [ 2.43150751e+02, -1.43914928e-01],\n",
              "       [ 4.88601280e+02,  2.35653250e+01],\n",
              "       [ 3.48231007e+02,  4.03808015e+00],\n",
              "       [ 1.73079957e+02, -2.79292165e+00],\n",
              "       [ 1.33286424e+02,  7.77272958e+00],\n",
              "       [ 3.58018559e+02, -8.15798412e+00],\n",
              "       [ 2.73044432e+02, -6.72507431e+00],\n",
              "       [ 1.36430021e+01,  2.78468321e+01],\n",
              "       [ 4.84296422e+01,  1.63219498e+01],\n",
              "       [ 2.87884092e+02, -1.48851185e+01],\n",
              "       [ 3.48095348e+02, -5.04342609e+00],\n",
              "       [-6.68146554e+01,  4.38482992e+00],\n",
              "       [ 1.38227010e+02,  4.73068836e+00],\n",
              "       [ 3.33254806e+02,  5.31933116e+00],\n",
              "       [ 3.18111848e+02, -3.48694494e+00],\n",
              "       [ 2.38111485e+02, -3.05152100e+00],\n",
              "       [ 3.13119915e+02, -2.30536316e+00],\n",
              "       [ 5.13187748e+02, -8.63759235e-01],\n",
              "       [ 4.02939017e+02, -1.50533028e+01],\n",
              "       [ 5.17928963e+02, -1.49975549e+01],\n",
              "       [ 4.43266411e+02,  3.26050204e+00],\n",
              "       [ 6.28286071e+02,  4.04114538e+00],\n",
              "       [ 3.13397613e+02,  1.26089135e+01],\n",
              "       [ 3.73333291e+02,  9.66419863e+00],\n",
              "       [ 2.23417106e+02,  1.42168924e+01],\n",
              "       [ 5.23072851e+02, -7.09662526e+00],\n",
              "       [ 5.38182097e+02, -1.35678013e+00],\n",
              "       [-2.27032690e+02, -7.99496797e+00],\n",
              "       [-6.68501220e+01,  2.31986654e+00],\n",
              "       [-2.96824437e+02,  5.46847570e+00],\n",
              "       [-1.16970473e+02, -3.72638342e+00],\n",
              "       [-3.27059126e+02, -6.94813081e+00],\n",
              "       [-3.91752486e+02,  1.11716783e+01],\n",
              "       [-6.89057604e+01, -5.58620537e-01],\n",
              "       [-2.45212524e+02, -1.74936393e+01],\n",
              "       [-2.37241410e+02, -1.75310256e+01],\n",
              "       [ 3.29615599e+00,  1.00958116e+01],\n",
              "       [-2.79661207e+01,  5.16301252e+01],\n",
              "       [ 1.23130138e+02,  1.05983451e+00],\n",
              "       [-3.37104122e+02, -7.62385512e+00],\n",
              "       [-2.75096026e+02, -7.75315213e+00],\n",
              "       [ 2.38716757e+02,  3.52518274e+01],\n",
              "       [ 1.39094057e+02, -1.20747620e+00],\n",
              "       [-3.18876329e+02,  2.81077113e+00],\n",
              "       [-3.55060253e+02, -7.53070183e+00],\n",
              "       [-2.46633597e+02,  1.65584367e+01],\n",
              "       [ 3.77168966e+00,  3.60310924e+01],\n",
              "       [-2.83842248e+02,  6.36186080e+00],\n",
              "       [-4.69059350e+02, -5.45892398e+00],\n",
              "       [-3.31313392e+01, -1.31871050e+01],\n",
              "       [-1.17290392e+02, -1.95786125e+01],\n",
              "       [-2.32132988e+02, -1.05301033e+01],\n",
              "       [-2.26953299e+02, -1.77605879e+00],\n",
              "       [-2.96852152e+02,  4.45280309e+00],\n",
              "       [-2.52046392e+02, -5.21261759e+00],\n",
              "       [-1.85108857e+02, -8.31858202e+00],\n",
              "       [-6.71807518e+01, -1.45246902e+01],\n",
              "       [-1.22431326e+02, -2.75040387e+01],\n",
              "       [-2.67185333e+02, -1.40538901e+01],\n",
              "       [-2.97104415e+02, -8.41503161e+00],\n",
              "       [-2.52213885e+02, -1.52515702e+01],\n",
              "       [-4.57022215e+02, -3.69733793e+00],\n",
              "       [-4.01851274e+02,  5.33140022e+00],\n",
              "       [ 1.91183397e+02,  5.87937624e+01],\n",
              "       [-1.21279178e+02,  3.64175149e+01],\n",
              "       [-3.19088273e+02, -9.19307820e+00],\n",
              "       [-8.70802926e+01, -1.02265727e+01],\n",
              "       [-3.41040900e+02, -5.75056559e+00],\n",
              "       [-3.69316146e+01, -2.17041593e+00],\n",
              "       [-1.85073713e+02, -8.52051902e+00],\n",
              "       [-3.08882387e+02,  3.75165655e+00],\n",
              "       [-3.32089296e+02, -7.88372875e+00],\n",
              "       [-7.51531378e+01, -1.34138279e+01],\n",
              "       [-4.32009742e+02, -2.03294673e+00],\n",
              "       [-2.37206697e+02, -1.55619679e+01],\n",
              "       [-2.59148368e+02, -1.10788163e+01],\n",
              "       [-4.34957780e+02, -5.95260295e-02],\n",
              "       [-6.69906958e+01, -4.57145764e+00],\n",
              "       [-1.84736439e+02,  1.05164632e+01],\n",
              "       [-4.22042874e+02, -4.24492194e+00],\n",
              "       [-1.39818663e+02,  5.73555207e+00],\n",
              "       [-3.13060948e+02, -6.16709401e+00],\n",
              "       [-3.62129633e+02, -9.25929540e+00],\n",
              "       [-3.40115006e+02, -8.68973443e+00],\n",
              "       [-2.52109472e+02, -9.27587015e+00],\n",
              "       [-4.01695973e+02,  1.54258903e+01],\n",
              "       [-3.75171092e+02, -1.31850503e+01],\n",
              "       [-1.83097929e+02, -9.55354432e+00],\n",
              "       [-1.21945241e+02, -1.58889428e+00],\n",
              "       [-2.81534569e+02,  2.45082612e+01],\n",
              "       [-3.81826778e+02,  9.18910976e+00],\n",
              "       [-3.67089380e+02, -7.18821589e+00],\n",
              "       [-3.67157175e+02, -1.11963202e+01],\n",
              "       [-3.69103601e+02, -8.17580491e+00],\n",
              "       [-3.95078836e+02, -6.67983187e+00],\n",
              "       [-2.81030369e+02, -2.53586007e+00],\n",
              "       [-4.05061288e+02, -4.45107367e+00],\n",
              "       [-1.67237642e+02, -1.67311857e+01],\n",
              "       [-1.16473000e+02,  2.42660201e+01],\n",
              "       [-2.16784540e+02,  8.13044956e+00],\n",
              "       [-1.86915112e+02,  1.71005736e+00],\n",
              "       [-1.46769530e+02,  8.92033411e+00],\n",
              "       [-9.71329736e+01, -1.30582838e+01],\n",
              "       [-5.19820469e+01, -4.81229310e+00],\n",
              "       [-2.70979307e+01, -1.02299962e+01],\n",
              "       [-2.31951534e+02,  5.34907410e-01],\n",
              "       [-1.67076246e+02, -8.75672311e+00],\n",
              "       [-1.56868045e+02,  4.16316249e+00],\n",
              "       [-1.46946490e+02, -1.09672896e+00],\n",
              "       [ 3.29042927e+01, -1.13053656e+01],\n",
              "       [-2.26926210e+02,  1.38827837e+00],\n",
              "       [-1.97004347e+02, -4.22842870e+00],\n",
              "       [ 1.08312677e+02,  1.03513304e+01],\n",
              "       [ 8.31182626e+01,  8.06869695e-01],\n",
              "       [-3.32195840e+02, -1.38132989e+01],\n",
              "       [-1.22126092e+02, -1.14699259e+01],\n",
              "       [-9.70193893e+01, -5.90644258e+00],\n",
              "       [-1.96624807e+02,  1.68731139e+01],\n",
              "       [-2.46449199e+02,  2.78100954e+01],\n",
              "       [-2.66628788e+02,  1.71502320e+01],\n",
              "       [-3.21570741e+02,  2.21643401e+01],\n",
              "       [-7.18976587e+01, -3.99656400e-01],\n",
              "       [-1.06816618e+02,  5.20612307e+00],\n",
              "       [-2.20202568e+01, -6.22943925e+00],\n",
              "       [-2.67031732e+02, -5.92308914e+00],\n",
              "       [ 1.32999841e+02, -4.86770544e+00],\n",
              "       [-8.69139986e+01,  7.96357772e-02],\n",
              "       [-1.27061290e+02, -8.29141684e+00],\n",
              "       [-2.27068836e+02, -7.61863030e+00],\n",
              "       [-6.67554312e+01,  8.47028990e+00],\n",
              "       [-1.76765098e+02,  9.47319000e+00],\n",
              "       [-7.17683979e+01,  7.51063784e+00],\n",
              "       [-1.32048248e+02, -7.25503031e+00],\n",
              "       [-2.27077845e+02, -7.59337930e+00],\n",
              "       [-5.16895065e+01,  1.23580850e+01],\n",
              "       [-6.20850111e+01, -1.05540153e+01],\n",
              "       [ 3.18276465e+00,  5.39136150e+00],\n",
              "       [-1.16674818e+02,  1.45333703e+01],\n",
              "       [-2.36921208e+02,  4.63036998e-01],\n",
              "       [-2.77083578e+02, -8.74033191e+00],\n",
              "       [-8.70274026e+01, -7.10459575e+00],\n",
              "       [-6.98021096e+00, -4.54113657e+00],\n",
              "       [ 3.13160468e+00,  2.33519051e+00],\n",
              "       [ 8.84580737e+01,  1.87762846e+01],\n",
              "       [ 9.34562419e+01,  1.86708191e+01],\n",
              "       [-1.86943190e+02, -2.13330803e-01]])"
            ]
          },
          "metadata": {},
          "execution_count": 25
        }
      ]
    },
    {
      "cell_type": "markdown",
      "source": [
        "# HIERARCHICAL CLUSTERING"
      ],
      "metadata": {
        "id": "pNNGiHbSrm1y"
      }
    },
    {
      "cell_type": "code",
      "source": [
        "from sklearn.preprocessing import normalize\n",
        "from sklearn.preprocessing import scale\n",
        "X=scale(X)"
      ],
      "metadata": {
        "id": "K8ZdJBzitYl0"
      },
      "execution_count": 26,
      "outputs": []
    },
    {
      "cell_type": "code",
      "source": [
        "# FITTING THE MODEL\n",
        "\n",
        "# FIND OPTIMAL NUMBER OF CLUSTERS\n",
        "import scipy.cluster.hierarchy as sch\n",
        "dendrogram = sch.dendrogram(sch.linkage(X, method = 'ward'))\n",
        "plt.title('Dendrogram')\n",
        "plt.xlabel('Wine')\n",
        "plt.ylabel('Euclidean Distances')\n",
        "plt.show()"
      ],
      "metadata": {
        "colab": {
          "base_uri": "https://localhost:8080/",
          "height": 471
        },
        "id": "o6WiGGZyrnPf",
        "outputId": "e4544f17-3713-4cc7-de54-bdfd0cbbf703"
      },
      "execution_count": 27,
      "outputs": [
        {
          "output_type": "display_data",
          "data": {
            "text/plain": [
              "<Figure size 640x480 with 1 Axes>"
            ],
            "image/png": "[encoded data removed]"
          },
          "metadata": {}
        }
      ]
    },
    {
      "cell_type": "code",
      "source": [
        "# FITTING THE HIERARCHICAL CLUSTERING TO THE DATASET\n",
        "\n",
        "from sklearn.cluster import AgglomerativeClustering\n",
        "hc = AgglomerativeClustering(n_clusters = 3, affinity = 'euclidean', linkage = 'ward')\n",
        "y_hc = hc.fit_predict(X)"
      ],
      "metadata": {
        "colab": {
          "base_uri": "https://localhost:8080/"
        },
        "id": "fcJkiQIqqVoJ",
        "outputId": "1ae47c21-c94b-4fe1-dc91-c53a73370438"
      },
      "execution_count": 28,
      "outputs": [
        {
          "output_type": "stream",
          "name": "stderr",
          "text": [
            "/usr/local/lib/python3.9/dist-packages/sklearn/cluster/_agglomerative.py:983: FutureWarning: Attribute `affinity` was deprecated in version 1.2 and will be removed in 1.4. Use `metric` instead\n",
            "  warnings.warn(\n"
          ]
        }
      ]
    },
    {
      "cell_type": "code",
      "source": [
        "y_hc"
      ],
      "metadata": {
        "colab": {
          "base_uri": "https://localhost:8080/"
        },
        "id": "_6RQLPi3r2wN",
        "outputId": "c549d332-4281-4fa1-b4f3-4e10a1051472"
      },
      "execution_count": 29,
      "outputs": [
        {
          "output_type": "execute_result",
          "data": {
            "text/plain": [
              "array([0, 0, 0, 0, 1, 0, 0, 0, 0, 0, 0, 0, 0, 0, 0, 0, 0, 0, 0, 1, 1, 0,\n",
              "       0, 0, 0, 1, 0, 0, 0, 0, 0, 0, 0, 0, 0, 0, 0, 0, 0, 1, 1, 0, 0, 0,\n",
              "       0, 0, 0, 0, 0, 0, 0, 0, 0, 0, 0, 0, 0, 0, 0, 2, 0, 1, 2, 2, 1, 2,\n",
              "       2, 2, 1, 1, 0, 2, 2, 1, 0, 1, 2, 1, 1, 1, 2, 2, 2, 2, 2, 1, 2, 2,\n",
              "       2, 2, 2, 2, 2, 2, 1, 1, 1, 2, 2, 2, 2, 2, 1, 2, 2, 2, 2, 2, 2, 2,\n",
              "       1, 2, 1, 2, 2, 2, 2, 1, 2, 2, 2, 1, 1, 2, 2, 2, 2, 2, 2, 2, 1, 1,\n",
              "       2, 1, 2, 2, 2, 2, 2, 1, 2, 2, 2, 2, 0, 0, 2, 2, 2, 1, 1, 1, 1, 2,\n",
              "       1, 2, 2, 0, 2, 2, 2, 1, 1, 1, 2, 2, 1, 2, 0, 1, 2, 2, 2, 2, 0, 1,\n",
              "       1, 2])"
            ]
          },
          "metadata": {},
          "execution_count": 29
        }
      ]
    },
    {
      "cell_type": "code",
      "source": [
        "plt.scatter(X[y_hc == 0, 0], X[y_hc == 0,1], s = 100, c = 'brown', label = 'Cluster1')\n",
        "plt.scatter(X[y_hc == 1, 0], X[y_hc == 1,1], s = 100, c = 'pink', label = 'Cluster2')\n",
        "plt.scatter(X[y_hc == 2, 0], X[y_hc == 2,1], s = 100, c = 'yellow', label = 'Cluster3')\n",
        "plt.title(\"Clusters of Type\")\n",
        "plt.xlabel(\"PC1\")\n",
        "plt.ylabel(\"PC2\")\n",
        "plt.legend()\n",
        "plt.show()"
      ],
      "metadata": {
        "colab": {
          "base_uri": "https://localhost:8080/",
          "height": 472
        },
        "id": "jUqA91Emr4_-",
        "outputId": "9ad84368-9143-4011-aaa4-b647f8347fa9"
      },
      "execution_count": 30,
      "outputs": [
        {
          "output_type": "display_data",
          "data": {
            "text/plain": [
              "<Figure size 640x480 with 1 Axes>"
            ],
            "image/png": "[encoded data removed]"
          },
          "metadata": {}
        }
      ]
    },
    {
      "cell_type": "markdown",
      "source": [
        "# K-MEANS CLUSTERING"
      ],
      "metadata": {
        "id": "eRcHmBD6b8TA"
      }
    },
    {
      "cell_type": "code",
      "source": [
        "from sklearn.preprocessing import normalize\n",
        "from sklearn.preprocessing import scale\n",
        "X=scale(X)"
      ],
      "metadata": {
        "id": "0epLocnocO9x"
      },
      "execution_count": 31,
      "outputs": []
    },
    {
      "cell_type": "code",
      "source": [
        "# FITTING OPTIMAL NUMBER OF CLUSTERS\n",
        "from sklearn.cluster import KMeans\n",
        "wcss = []\n",
        "for i in range (1, 11):\n",
        "  kmeans = KMeans(n_clusters = i, init= 'k-means++', max_iter = 300, n_init = 10, random_state = 0)\n",
        "  kmeans.fit(X)\n",
        "  wcss.append(kmeans.inertia_)\n",
        "plt.plot(range(1, 11), wcss)\n",
        "plt.title('The Elbow Method')\n",
        "plt.xlabel('Number of clusters')\n",
        "plt.ylabel('WCSS')\n",
        "plt.show()"
      ],
      "metadata": {
        "colab": {
          "base_uri": "https://localhost:8080/",
          "height": 472
        },
        "id": "v8UNYUT6bIWp",
        "outputId": "117bbdc6-ecc0-4d29-d4aa-669133652859"
      },
      "execution_count": 32,
      "outputs": [
        {
          "output_type": "display_data",
          "data": {
            "text/plain": [
              "<Figure size 640x480 with 1 Axes>"
            ],
            "image/png": "[encoded data removed]"
          },
          "metadata": {}
        }
      ]
    },
    {
      "cell_type": "code",
      "source": [
        "# FITTING THE K-MEANS CLUSTERING TO THE DATASET\n",
        "\n",
        "kmeans = KMeans(n_clusters = 3, init= 'k-means++', max_iter = 300, n_init = 10, random_state = 0)\n",
        "y_kmeans = kmeans.fit_predict(X)"
      ],
      "metadata": {
        "id": "ky6GbtstcG1U"
      },
      "execution_count": 33,
      "outputs": []
    },
    {
      "cell_type": "code",
      "source": [
        "y_kmeans"
      ],
      "metadata": {
        "colab": {
          "base_uri": "https://localhost:8080/"
        },
        "id": "_Cy2XkfQcXbb",
        "outputId": "e5bb4a4e-02cd-4232-efe2-f1564e183fea"
      },
      "execution_count": 34,
      "outputs": [
        {
          "output_type": "execute_result",
          "data": {
            "text/plain": [
              "array([1, 2, 2, 2, 1, 2, 2, 2, 2, 2, 2, 2, 2, 2, 2, 2, 2, 2, 2, 1, 1, 0,\n",
              "       2, 2, 0, 1, 2, 2, 2, 2, 2, 2, 2, 1, 2, 2, 1, 2, 2, 1, 1, 2, 2, 0,\n",
              "       2, 2, 2, 2, 2, 2, 2, 2, 2, 2, 1, 2, 1, 2, 2, 0, 0, 0, 0, 0, 1, 0,\n",
              "       0, 0, 1, 1, 2, 0, 0, 1, 2, 0, 0, 1, 1, 0, 0, 0, 0, 0, 0, 0, 0, 0,\n",
              "       0, 0, 0, 0, 0, 0, 0, 1, 1, 0, 0, 0, 0, 0, 0, 0, 0, 0, 0, 0, 0, 0,\n",
              "       1, 0, 0, 0, 0, 0, 0, 1, 0, 0, 0, 1, 0, 0, 0, 0, 0, 0, 0, 0, 1, 0,\n",
              "       0, 1, 0, 0, 0, 0, 0, 0, 0, 0, 0, 0, 1, 0, 0, 0, 0, 1, 1, 1, 1, 0,\n",
              "       0, 0, 0, 2, 0, 0, 0, 1, 1, 1, 0, 0, 1, 0, 0, 1, 0, 0, 0, 0, 0, 1,\n",
              "       1, 0], dtype=int32)"
            ]
          },
          "metadata": {},
          "execution_count": 34
        }
      ]
    },
    {
      "cell_type": "code",
      "source": [
        "#VISUALIZING THE CLUSTERS\n",
        "\n",
        "plt.scatter(X[y_kmeans == 0, 0], X[y_kmeans == 0,1], s = 100, c = 'brown', label = 'Cluster 1')\n",
        "plt.scatter(X[y_kmeans == 1, 0], X[y_kmeans == 1,1], s = 100, c = 'pink', label = 'Cluster 2')\n",
        "plt.scatter(X[y_kmeans == 2, 0], X[y_kmeans == 2,1], s = 100, c = 'yellow', label = 'Cluster 3')\n",
        "plt.scatter(kmeans.cluster_centers_[:, 0], kmeans.cluster_centers_[: , 1], s = 150, c = 'black', label = 'Centroids')\n",
        "plt.title(\"Clusters of Type\")\n",
        "plt.xlabel(\"PC1\")\n",
        "plt.ylabel(\"PC2\")\n",
        "plt.legend()\n",
        "plt.show()"
      ],
      "metadata": {
        "colab": {
          "base_uri": "https://localhost:8080/",
          "height": 472
        },
        "id": "ji-4krdlckMf",
        "outputId": "ab3c0cb2-7b35-4a23-c90e-777511f2e57e"
      },
      "execution_count": 35,
      "outputs": [
        {
          "output_type": "display_data",
          "data": {
            "text/plain": [
              "<Figure size 640x480 with 1 Axes>"
            ],
            "image/png": "[encoded data removed]"
          },
          "metadata": {}
        }
      ]
    },
    {
      "cell_type": "code",
      "source": [],
      "metadata": {
        "id": "-jZ7H1iVycKu"
      },
      "execution_count": 35,
      "outputs": []
    }
  ]
}